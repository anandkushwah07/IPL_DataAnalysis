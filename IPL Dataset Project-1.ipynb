<!DOCTYPE html>

<html lang="en">
<head><meta charset="utf-8"/>
<meta content="width=device-width, initial-scale=1.0" name="viewport"/>
<title>Untitled5</title><script src="https://cdnjs.cloudflare.com/ajax/libs/require.js/2.1.10/require.min.js"></script>
<style type="text/css">
    pre { line-height: 125%; }
td.linenos .normal { color: inherit; background-color: transparent; padding-left: 5px; padding-right: 5px; }
span.linenos { color: inherit; background-color: transparent; padding-left: 5px; padding-right: 5px; }
td.linenos .special { color: #000000; background-color: #ffffc0; padding-left: 5px; padding-right: 5px; }
span.linenos.special { color: #000000; background-color: #ffffc0; padding-left: 5px; padding-right: 5px; }
.highlight .hll { background-color: var(--jp-cell-editor-active-background) }
.highlight { background: var(--jp-cell-editor-background); color: var(--jp-mirror-editor-variable-color) }
.highlight .c { color: var(--jp-mirror-editor-comment-color); font-style: italic } /* Comment */
.highlight .err { color: var(--jp-mirror-editor-error-color) } /* Error */
.highlight .k { color: var(--jp-mirror-editor-keyword-color); font-weight: bold } /* Keyword */
.highlight .o { color: var(--jp-mirror-editor-operator-color); font-weight: bold } /* Operator */
.highlight .p { color: var(--jp-mirror-editor-punctuation-color) } /* Punctuation */
.highlight .ch { color: var(--jp-mirror-editor-comment-color); font-style: italic } /* Comment.Hashbang */
.highlight .cm { color: var(--jp-mirror-editor-comment-color); font-style: italic } /* Comment.Multiline */
.highlight .cp { color: var(--jp-mirror-editor-comment-color); font-style: italic } /* Comment.Preproc */
.highlight .cpf { color: var(--jp-mirror-editor-comment-color); font-style: italic } /* Comment.PreprocFile */
.highlight .c1 { color: var(--jp-mirror-editor-comment-color); font-style: italic } /* Comment.Single */
.highlight .cs { color: var(--jp-mirror-editor-comment-color); font-style: italic } /* Comment.Special */
.highlight .kc { color: var(--jp-mirror-editor-keyword-color); font-weight: bold } /* Keyword.Constant */
.highlight .kd { color: var(--jp-mirror-editor-keyword-color); font-weight: bold } /* Keyword.Declaration */
.highlight .kn { color: var(--jp-mirror-editor-keyword-color); font-weight: bold } /* Keyword.Namespace */
.highlight .kp { color: var(--jp-mirror-editor-keyword-color); font-weight: bold } /* Keyword.Pseudo */
.highlight .kr { color: var(--jp-mirror-editor-keyword-color); font-weight: bold } /* Keyword.Reserved */
.highlight .kt { color: var(--jp-mirror-editor-keyword-color); font-weight: bold } /* Keyword.Type */
.highlight .m { color: var(--jp-mirror-editor-number-color) } /* Literal.Number */
.highlight .s { color: var(--jp-mirror-editor-string-color) } /* Literal.String */
.highlight .ow { color: var(--jp-mirror-editor-operator-color); font-weight: bold } /* Operator.Word */
.highlight .pm { color: var(--jp-mirror-editor-punctuation-color) } /* Punctuation.Marker */
.highlight .w { color: var(--jp-mirror-editor-variable-color) } /* Text.Whitespace */
.highlight .mb { color: var(--jp-mirror-editor-number-color) } /* Literal.Number.Bin */
.highlight .mf { color: var(--jp-mirror-editor-number-color) } /* Literal.Number.Float */
.highlight .mh { color: var(--jp-mirror-editor-number-color) } /* Literal.Number.Hex */
.highlight .mi { color: var(--jp-mirror-editor-number-color) } /* Literal.Number.Integer */
.highlight .mo { color: var(--jp-mirror-editor-number-color) } /* Literal.Number.Oct */
.highlight .sa { color: var(--jp-mirror-editor-string-color) } /* Literal.String.Affix */
.highlight .sb { color: var(--jp-mirror-editor-string-color) } /* Literal.String.Backtick */
.highlight .sc { color: var(--jp-mirror-editor-string-color) } /* Literal.String.Char */
.highlight .dl { color: var(--jp-mirror-editor-string-color) } /* Literal.String.Delimiter */
.highlight .sd { color: var(--jp-mirror-editor-string-color) } /* Literal.String.Doc */
.highlight .s2 { color: var(--jp-mirror-editor-string-color) } /* Literal.String.Double */
.highlight .se { color: var(--jp-mirror-editor-string-color) } /* Literal.String.Escape */
.highlight .sh { color: var(--jp-mirror-editor-string-color) } /* Literal.String.Heredoc */
.highlight .si { color: var(--jp-mirror-editor-string-color) } /* Literal.String.Interpol */
.highlight .sx { color: var(--jp-mirror-editor-string-color) } /* Literal.String.Other */
.highlight .sr { color: var(--jp-mirror-editor-string-color) } /* Literal.String.Regex */
.highlight .s1 { color: var(--jp-mirror-editor-string-color) } /* Literal.String.Single */
.highlight .ss { color: var(--jp-mirror-editor-string-color) } /* Literal.String.Symbol */
.highlight .il { color: var(--jp-mirror-editor-number-color) } /* Literal.Number.Integer.Long */
  </style>
<style type="text/css">
/*-----------------------------------------------------------------------------
| Copyright (c) Jupyter Development Team.
| Distributed under the terms of the Modified BSD License.
|----------------------------------------------------------------------------*/

/*
 * Mozilla scrollbar styling
 */

/* use standard opaque scrollbars for most nodes */
[data-jp-theme-scrollbars='true'] {
  scrollbar-color: rgb(var(--jp-scrollbar-thumb-color))
    var(--jp-scrollbar-background-color);
}

/* for code nodes, use a transparent style of scrollbar. These selectors
 * will match lower in the tree, and so will override the above */
[data-jp-theme-scrollbars='true'] .CodeMirror-hscrollbar,
[data-jp-theme-scrollbars='true'] .CodeMirror-vscrollbar {
  scrollbar-color: rgba(var(--jp-scrollbar-thumb-color), 0.5) transparent;
}

/* tiny scrollbar */

.jp-scrollbar-tiny {
  scrollbar-color: rgba(var(--jp-scrollbar-thumb-color), 0.5) transparent;
  scrollbar-width: thin;
}

/* tiny scrollbar */

.jp-scrollbar-tiny::-webkit-scrollbar,
.jp-scrollbar-tiny::-webkit-scrollbar-corner {
  background-color: transparent;
  height: 4px;
  width: 4px;
}

.jp-scrollbar-tiny::-webkit-scrollbar-thumb {
  background: rgba(var(--jp-scrollbar-thumb-color), 0.5);
}

.jp-scrollbar-tiny::-webkit-scrollbar-track:horizontal {
  border-left: 0 solid transparent;
  border-right: 0 solid transparent;
}

.jp-scrollbar-tiny::-webkit-scrollbar-track:vertical {
  border-top: 0 solid transparent;
  border-bottom: 0 solid transparent;
}

/*
 * Lumino
 */

.lm-ScrollBar[data-orientation='horizontal'] {
  min-height: 16px;
  max-height: 16px;
  min-width: 45px;
  border-top: 1px solid #a0a0a0;
}

.lm-ScrollBar[data-orientation='vertical'] {
  min-width: 16px;
  max-width: 16px;
  min-height: 45px;
  border-left: 1px solid #a0a0a0;
}

.lm-ScrollBar-button {
  background-color: #f0f0f0;
  background-position: center center;
  min-height: 15px;
  max-height: 15px;
  min-width: 15px;
  max-width: 15px;
}

.lm-ScrollBar-button:hover {
  background-color: #dadada;
}

.lm-ScrollBar-button.lm-mod-active {
  background-color: #cdcdcd;
}

.lm-ScrollBar-track {
  background: #f0f0f0;
}

.lm-ScrollBar-thumb {
  background: #cdcdcd;
}

.lm-ScrollBar-thumb:hover {
  background: #bababa;
}

.lm-ScrollBar-thumb.lm-mod-active {
  background: #a0a0a0;
}

.lm-ScrollBar[data-orientation='horizontal'] .lm-ScrollBar-thumb {
  height: 100%;
  min-width: 15px;
  border-left: 1px solid #a0a0a0;
  border-right: 1px solid #a0a0a0;
}

.lm-ScrollBar[data-orientation='vertical'] .lm-ScrollBar-thumb {
  width: 100%;
  min-height: 15px;
  border-top: 1px solid #a0a0a0;
  border-bottom: 1px solid #a0a0a0;
}

.lm-ScrollBar[data-orientation='horizontal']
  .lm-ScrollBar-button[data-action='decrement'] {
  background-image: var(--jp-icon-caret-left);
  background-size: 17px;
}

.lm-ScrollBar[data-orientation='horizontal']
  .lm-ScrollBar-button[data-action='increment'] {
  background-image: var(--jp-icon-caret-right);
  background-size: 17px;
}

.lm-ScrollBar[data-orientation='vertical']
  .lm-ScrollBar-button[data-action='decrement'] {
  background-image: var(--jp-icon-caret-up);
  background-size: 17px;
}

.lm-ScrollBar[data-orientation='vertical']
  .lm-ScrollBar-button[data-action='increment'] {
  background-image: var(--jp-icon-caret-down);
  background-size: 17px;
}

/*
 * Copyright (c) Jupyter Development Team.
 * Distributed under the terms of the Modified BSD License.
 */

/*-----------------------------------------------------------------------------
| Copyright (c) Jupyter Development Team.
| Copyright (c) 2014-2017, PhosphorJS Contributors
|
| Distributed under the terms of the BSD 3-Clause License.
|
| The full license is in the file LICENSE, distributed with this software.
|----------------------------------------------------------------------------*/

.lm-Widget {
  box-sizing: border-box;
  position: relative;
  overflow: hidden;
}

.lm-Widget.lm-mod-hidden {
  display: none !important;
}

/*
 * Copyright (c) Jupyter Development Team.
 * Distributed under the terms of the Modified BSD License.
 */

.lm-AccordionPanel[data-orientation='horizontal'] > .lm-AccordionPanel-title {
  /* Title is rotated for horizontal accordion panel using CSS */
  display: block;
  transform-origin: top left;
  transform: rotate(-90deg) translate(-100%);
}

/*
 * Copyright (c) Jupyter Development Team.
 * Distributed under the terms of the Modified BSD License.
 */

/*-----------------------------------------------------------------------------
| Copyright (c) Jupyter Development Team.
| Copyright (c) 2014-2017, PhosphorJS Contributors
|
| Distributed under the terms of the BSD 3-Clause License.
|
| The full license is in the file LICENSE, distributed with this software.
|----------------------------------------------------------------------------*/

.lm-CommandPalette {
  display: flex;
  flex-direction: column;
  -webkit-user-select: none;
  -moz-user-select: none;
  -ms-user-select: none;
  user-select: none;
}

.lm-CommandPalette-search {
  flex: 0 0 auto;
}

.lm-CommandPalette-content {
  flex: 1 1 auto;
  margin: 0;
  padding: 0;
  min-height: 0;
  overflow: auto;
  list-style-type: none;
}

.lm-CommandPalette-header {
  overflow: hidden;
  white-space: nowrap;
  text-overflow: ellipsis;
}

.lm-CommandPalette-item {
  display: flex;
  flex-direction: row;
}

.lm-CommandPalette-itemIcon {
  flex: 0 0 auto;
}

.lm-CommandPalette-itemContent {
  flex: 1 1 auto;
  overflow: hidden;
}

.lm-CommandPalette-itemShortcut {
  flex: 0 0 auto;
}

.lm-CommandPalette-itemLabel {
  overflow: hidden;
  white-space: nowrap;
  text-overflow: ellipsis;
}

.lm-close-icon {
  border: 1px solid transparent;
  background-color: transparent;
  position: absolute;
  z-index: 1;
  right: 3%;
  top: 0;
  bottom: 0;
  margin: auto;
  padding: 7px 0;
  display: none;
  vertical-align: middle;
  outline: 0;
  cursor: pointer;
}
.lm-close-icon:after {
  content: 'X';
  display: block;
  width: 15px;
  height: 15px;
  text-align: center;
  color: #000;
  font-weight: normal;
  font-size: 12px;
  cursor: pointer;
}

/*
 * Copyright (c) Jupyter Development Team.
 * Distributed under the terms of the Modified BSD License.
 */

/*-----------------------------------------------------------------------------
| Copyright (c) Jupyter Development Team.
| Copyright (c) 2014-2017, PhosphorJS Contributors
|
| Distributed under the terms of the BSD 3-Clause License.
|
| The full license is in the file LICENSE, distributed with this software.
|----------------------------------------------------------------------------*/

.lm-DockPanel {
  z-index: 0;
}

.lm-DockPanel-widget {
  z-index: 0;
}

.lm-DockPanel-tabBar {
  z-index: 1;
}

.lm-DockPanel-handle {
  z-index: 2;
}

.lm-DockPanel-handle.lm-mod-hidden {
  display: none !important;
}

.lm-DockPanel-handle:after {
  position: absolute;
  top: 0;
  left: 0;
  width: 100%;
  height: 100%;
  content: '';
}

.lm-DockPanel-handle[data-orientation='horizontal'] {
  cursor: ew-resize;
}

.lm-DockPanel-handle[data-orientation='vertical'] {
  cursor: ns-resize;
}

.lm-DockPanel-handle[data-orientation='horizontal']:after {
  left: 50%;
  min-width: 8px;
  transform: translateX(-50%);
}

.lm-DockPanel-handle[data-orientation='vertical']:after {
  top: 50%;
  min-height: 8px;
  transform: translateY(-50%);
}

.lm-DockPanel-overlay {
  z-index: 3;
  box-sizing: border-box;
  pointer-events: none;
}

.lm-DockPanel-overlay.lm-mod-hidden {
  display: none !important;
}

/*
 * Copyright (c) Jupyter Development Team.
 * Distributed under the terms of the Modified BSD License.
 */

/*-----------------------------------------------------------------------------
| Copyright (c) Jupyter Development Team.
| Copyright (c) 2014-2017, PhosphorJS Contributors
|
| Distributed under the terms of the BSD 3-Clause License.
|
| The full license is in the file LICENSE, distributed with this software.
|----------------------------------------------------------------------------*/

.lm-Menu {
  z-index: 10000;
  position: absolute;
  white-space: nowrap;
  overflow-x: hidden;
  overflow-y: auto;
  outline: none;
  -webkit-user-select: none;
  -moz-user-select: none;
  -ms-user-select: none;
  user-select: none;
}

.lm-Menu-content {
  margin: 0;
  padding: 0;
  display: table;
  list-style-type: none;
}

.lm-Menu-item {
  display: table-row;
}

.lm-Menu-item.lm-mod-hidden,
.lm-Menu-item.lm-mod-collapsed {
  display: none !important;
}

.lm-Menu-itemIcon,
.lm-Menu-itemSubmenuIcon {
  display: table-cell;
  text-align: center;
}

.lm-Menu-itemLabel {
  display: table-cell;
  text-align: left;
}

.lm-Menu-itemShortcut {
  display: table-cell;
  text-align: right;
}

/*
 * Copyright (c) Jupyter Development Team.
 * Distributed under the terms of the Modified BSD License.
 */

/*-----------------------------------------------------------------------------
| Copyright (c) Jupyter Development Team.
| Copyright (c) 2014-2017, PhosphorJS Contributors
|
| Distributed under the terms of the BSD 3-Clause License.
|
| The full license is in the file LICENSE, distributed with this software.
|----------------------------------------------------------------------------*/

.lm-MenuBar {
  outline: none;
  -webkit-user-select: none;
  -moz-user-select: none;
  -ms-user-select: none;
  user-select: none;
}

.lm-MenuBar-content {
  margin: 0;
  padding: 0;
  display: flex;
  flex-direction: row;
  list-style-type: none;
}

.lm-MenuBar-item {
  box-sizing: border-box;
}

.lm-MenuBar-itemIcon,
.lm-MenuBar-itemLabel {
  display: inline-block;
}

/*
 * Copyright (c) Jupyter Development Team.
 * Distributed under the terms of the Modified BSD License.
 */

/*-----------------------------------------------------------------------------
| Copyright (c) Jupyter Development Team.
| Copyright (c) 2014-2017, PhosphorJS Contributors
|
| Distributed under the terms of the BSD 3-Clause License.
|
| The full license is in the file LICENSE, distributed with this software.
|----------------------------------------------------------------------------*/

.lm-ScrollBar {
  display: flex;
  -webkit-user-select: none;
  -moz-user-select: none;
  -ms-user-select: none;
  user-select: none;
}

.lm-ScrollBar[data-orientation='horizontal'] {
  flex-direction: row;
}

.lm-ScrollBar[data-orientation='vertical'] {
  flex-direction: column;
}

.lm-ScrollBar-button {
  box-sizing: border-box;
  flex: 0 0 auto;
}

.lm-ScrollBar-track {
  box-sizing: border-box;
  position: relative;
  overflow: hidden;
  flex: 1 1 auto;
}

.lm-ScrollBar-thumb {
  box-sizing: border-box;
  position: absolute;
}

/*
 * Copyright (c) Jupyter Development Team.
 * Distributed under the terms of the Modified BSD License.
 */

/*-----------------------------------------------------------------------------
| Copyright (c) Jupyter Development Team.
| Copyright (c) 2014-2017, PhosphorJS Contributors
|
| Distributed under the terms of the BSD 3-Clause License.
|
| The full license is in the file LICENSE, distributed with this software.
|----------------------------------------------------------------------------*/

.lm-SplitPanel-child {
  z-index: 0;
}

.lm-SplitPanel-handle {
  z-index: 1;
}

.lm-SplitPanel-handle.lm-mod-hidden {
  display: none !important;
}

.lm-SplitPanel-handle:after {
  position: absolute;
  top: 0;
  left: 0;
  width: 100%;
  height: 100%;
  content: '';
}

.lm-SplitPanel[data-orientation='horizontal'] > .lm-SplitPanel-handle {
  cursor: ew-resize;
}

.lm-SplitPanel[data-orientation='vertical'] > .lm-SplitPanel-handle {
  cursor: ns-resize;
}

.lm-SplitPanel[data-orientation='horizontal'] > .lm-SplitPanel-handle:after {
  left: 50%;
  min-width: 8px;
  transform: translateX(-50%);
}

.lm-SplitPanel[data-orientation='vertical'] > .lm-SplitPanel-handle:after {
  top: 50%;
  min-height: 8px;
  transform: translateY(-50%);
}

/*
 * Copyright (c) Jupyter Development Team.
 * Distributed under the terms of the Modified BSD License.
 */

/*-----------------------------------------------------------------------------
| Copyright (c) Jupyter Development Team.
| Copyright (c) 2014-2017, PhosphorJS Contributors
|
| Distributed under the terms of the BSD 3-Clause License.
|
| The full license is in the file LICENSE, distributed with this software.
|----------------------------------------------------------------------------*/

.lm-TabBar {
  display: flex;
  -webkit-user-select: none;
  -moz-user-select: none;
  -ms-user-select: none;
  user-select: none;
}

.lm-TabBar[data-orientation='horizontal'] {
  flex-direction: row;
  align-items: flex-end;
}

.lm-TabBar[data-orientation='vertical'] {
  flex-direction: column;
  align-items: flex-end;
}

.lm-TabBar-content {
  margin: 0;
  padding: 0;
  display: flex;
  flex: 1 1 auto;
  list-style-type: none;
}

.lm-TabBar[data-orientation='horizontal'] > .lm-TabBar-content {
  flex-direction: row;
}

.lm-TabBar[data-orientation='vertical'] > .lm-TabBar-content {
  flex-direction: column;
}

.lm-TabBar-tab {
  display: flex;
  flex-direction: row;
  box-sizing: border-box;
  overflow: hidden;
  touch-action: none; /* Disable native Drag/Drop */
}

.lm-TabBar-tabIcon,
.lm-TabBar-tabCloseIcon {
  flex: 0 0 auto;
}

.lm-TabBar-tabLabel {
  flex: 1 1 auto;
  overflow: hidden;
  white-space: nowrap;
}

.lm-TabBar-tabInput {
  user-select: all;
  width: 100%;
  box-sizing: border-box;
}

.lm-TabBar-tab.lm-mod-hidden {
  display: none !important;
}

.lm-TabBar-addButton.lm-mod-hidden {
  display: none !important;
}

.lm-TabBar.lm-mod-dragging .lm-TabBar-tab {
  position: relative;
}

.lm-TabBar.lm-mod-dragging[data-orientation='horizontal'] .lm-TabBar-tab {
  left: 0;
  transition: left 150ms ease;
}

.lm-TabBar.lm-mod-dragging[data-orientation='vertical'] .lm-TabBar-tab {
  top: 0;
  transition: top 150ms ease;
}

.lm-TabBar.lm-mod-dragging .lm-TabBar-tab.lm-mod-dragging {
  transition: none;
}

.lm-TabBar-tabLabel .lm-TabBar-tabInput {
  user-select: all;
  width: 100%;
  box-sizing: border-box;
  background: inherit;
}

/*
 * Copyright (c) Jupyter Development Team.
 * Distributed under the terms of the Modified BSD License.
 */

/*-----------------------------------------------------------------------------
| Copyright (c) Jupyter Development Team.
| Copyright (c) 2014-2017, PhosphorJS Contributors
|
| Distributed under the terms of the BSD 3-Clause License.
|
| The full license is in the file LICENSE, distributed with this software.
|----------------------------------------------------------------------------*/

.lm-TabPanel-tabBar {
  z-index: 1;
}

.lm-TabPanel-stackedPanel {
  z-index: 0;
}

/*
 * Copyright (c) Jupyter Development Team.
 * Distributed under the terms of the Modified BSD License.
 */

/*-----------------------------------------------------------------------------
| Copyright (c) Jupyter Development Team.
| Copyright (c) 2014-2017, PhosphorJS Contributors
|
| Distributed under the terms of the BSD 3-Clause License.
|
| The full license is in the file LICENSE, distributed with this software.
|----------------------------------------------------------------------------*/

/*-----------------------------------------------------------------------------
| Copyright (c) Jupyter Development Team.
| Distributed under the terms of the Modified BSD License.
|----------------------------------------------------------------------------*/

.jp-Collapse {
  display: flex;
  flex-direction: column;
  align-items: stretch;
}

.jp-Collapse-header {
  padding: 1px 12px;
  background-color: var(--jp-layout-color1);
  border-bottom: solid var(--jp-border-width) var(--jp-border-color2);
  color: var(--jp-ui-font-color1);
  cursor: pointer;
  display: flex;
  align-items: center;
  font-size: var(--jp-ui-font-size0);
  font-weight: 600;
  text-transform: uppercase;
  user-select: none;
}

.jp-Collapser-icon {
  height: 16px;
}

.jp-Collapse-header-collapsed .jp-Collapser-icon {
  transform: rotate(-90deg);
  margin: auto 0;
}

.jp-Collapser-title {
  line-height: 25px;
}

.jp-Collapse-contents {
  padding: 0 12px;
  background-color: var(--jp-layout-color1);
  color: var(--jp-ui-font-color1);
  overflow: auto;
}

/*-----------------------------------------------------------------------------
| Copyright (c) Jupyter Development Team.
| Distributed under the terms of the Modified BSD License.
|----------------------------------------------------------------------------*/

/* This file was auto-generated by ensureUiComponents() in @jupyterlab/buildutils */

/**
 * (DEPRECATED) Support for consuming icons as CSS background images
 */

/* Icons urls */

:root {
  --jp-icon-add-above: url(data:image/svg+xml;base64,PHN2ZyB3aWR0aD0iMTQiIGhlaWdodD0iMTQiIHZpZXdCb3g9IjAgMCAxNCAxNCIgZmlsbD0ibm9uZSIgeG1sbnM9Imh0dHA6Ly93d3cudzMub3JnLzIwMDAvc3ZnIj4KPGcgY2xpcC1wYXRoPSJ1cmwoI2NsaXAwXzEzN18xOTQ5MikiPgo8cGF0aCBjbGFzcz0ianAtaWNvbjMiIGQ9Ik00Ljc1IDQuOTMwNjZINi42MjVWNi44MDU2NkM2LjYyNSA3LjAxMTkxIDYuNzkzNzUgNy4xODA2NiA3IDcuMTgwNjZDNy4yMDYyNSA3LjE4MDY2IDcuMzc1IDcuMDExOTEgNy4zNzUgNi44MDU2NlY0LjkzMDY2SDkuMjVDOS40NTYyNSA0LjkzMDY2IDkuNjI1IDQuNzYxOTEgOS42MjUgNC41NTU2NkM5LjYyNSA0LjM0OTQxIDkuNDU2MjUgNC4xODA2NiA5LjI1IDQuMTgwNjZINy4zNzVWMi4zMDU2NkM3LjM3NSAyLjA5OTQxIDcuMjA2MjUgMS45MzA2NiA3IDEuOTMwNjZDNi43OTM3NSAxLjkzMDY2IDYuNjI1IDIuMDk5NDEgNi42MjUgMi4zMDU2NlY0LjE4MDY2SDQuNzVDNC41NDM3NSA0LjE4MDY2IDQuMzc1IDQuMzQ5NDEgNC4zNzUgNC41NTU2NkM0LjM3NSA0Ljc2MTkxIDQuNTQzNzUgNC45MzA2NiA0Ljc1IDQuOTMwNjZaIiBmaWxsPSIjNjE2MTYxIiBzdHJva2U9IiM2MTYxNjEiIHN0cm9rZS13aWR0aD0iMC43Ii8+CjwvZz4KPHBhdGggY2xhc3M9ImpwLWljb24zIiBmaWxsLXJ1bGU9ImV2ZW5vZGQiIGNsaXAtcnVsZT0iZXZlbm9kZCIgZD0iTTExLjUgOS41VjExLjVMMi41IDExLjVWOS41TDExLjUgOS41Wk0xMiA4QzEyLjU1MjMgOCAxMyA4LjQ0NzcyIDEzIDlWMTJDMTMgMTIuNTUyMyAxMi41NTIzIDEzIDEyIDEzTDIgMTNDMS40NDc3MiAxMyAxIDEyLjU1MjMgMSAxMlY5QzEgOC40NDc3MiAxLjQ0NzcxIDggMiA4TDEyIDhaIiBmaWxsPSIjNjE2MTYxIi8+CjxkZWZzPgo8Y2xpcFBhdGggaWQ9ImNsaXAwXzEzN18xOTQ5MiI+CjxyZWN0IGNsYXNzPSJqcC1pY29uMyIgd2lkdGg9IjYiIGhlaWdodD0iNiIgZmlsbD0id2hpdGUiIHRyYW5zZm9ybT0ibWF0cml4KC0xIDAgMCAxIDEwIDEuNTU1NjYpIi8+CjwvY2xpcFBhdGg+CjwvZGVmcz4KPC9zdmc+Cg==);
  --jp-icon-add-below: url(data:image/svg+xml;base64,PHN2ZyB3aWR0aD0iMTQiIGhlaWdodD0iMTQiIHZpZXdCb3g9IjAgMCAxNCAxNCIgZmlsbD0ibm9uZSIgeG1sbnM9Imh0dHA6Ly93d3cudzMub3JnLzIwMDAvc3ZnIj4KPGcgY2xpcC1wYXRoPSJ1cmwoI2NsaXAwXzEzN18xOTQ5OCkiPgo8cGF0aCBjbGFzcz0ianAtaWNvbjMiIGQ9Ik05LjI1IDEwLjA2OTNMNy4zNzUgMTAuMDY5M0w3LjM3NSA4LjE5NDM0QzcuMzc1IDcuOTg4MDkgNy4yMDYyNSA3LjgxOTM0IDcgNy44MTkzNEM2Ljc5Mzc1IDcuODE5MzQgNi42MjUgNy45ODgwOSA2LjYyNSA4LjE5NDM0TDYuNjI1IDEwLjA2OTNMNC43NSAxMC4wNjkzQzQuNTQzNzUgMTAuMDY5MyA0LjM3NSAxMC4yMzgxIDQuMzc1IDEwLjQ0NDNDNC4zNzUgMTAuNjUwNiA0LjU0Mzc1IDEwLjgxOTMgNC43NSAxMC44MTkzTDYuNjI1IDEwLjgxOTNMNi42MjUgMTIuNjk0M0M2LjYyNSAxMi45MDA2IDYuNzkzNzUgMTMuMDY5MyA3IDEzLjA2OTNDNy4yMDYyNSAxMy4wNjkzIDcuMzc1IDEyLjkwMDYgNy4zNzUgMTIuNjk0M0w3LjM3NSAxMC44MTkzTDkuMjUgMTAuODE5M0M5LjQ1NjI1IDEwLjgxOTMgOS42MjUgMTAuNjUwNiA5LjYyNSAxMC40NDQzQzkuNjI1IDEwLjIzODEgOS40NTYyNSAxMC4wNjkzIDkuMjUgMTAuMDY5M1oiIGZpbGw9IiM2MTYxNjEiIHN0cm9rZT0iIzYxNjE2MSIgc3Ryb2tlLXdpZHRoPSIwLjciLz4KPC9nPgo8cGF0aCBjbGFzcz0ianAtaWNvbjMiIGZpbGwtcnVsZT0iZXZlbm9kZCIgY2xpcC1ydWxlPSJldmVub2RkIiBkPSJNMi41IDUuNUwyLjUgMy41TDExLjUgMy41TDExLjUgNS41TDIuNSA1LjVaTTIgN0MxLjQ0NzcyIDcgMSA2LjU1MjI4IDEgNkwxIDNDMSAyLjQ0NzcyIDEuNDQ3NzIgMiAyIDJMMTIgMkMxMi41NTIzIDIgMTMgMi40NDc3MiAxMyAzTDEzIDZDMTMgNi41NTIyOSAxMi41NTIzIDcgMTIgN0wyIDdaIiBmaWxsPSIjNjE2MTYxIi8+CjxkZWZzPgo8Y2xpcFBhdGggaWQ9ImNsaXAwXzEzN18xOTQ5OCI+CjxyZWN0IGNsYXNzPSJqcC1pY29uMyIgd2lkdGg9IjYiIGhlaWdodD0iNiIgZmlsbD0id2hpdGUiIHRyYW5zZm9ybT0ibWF0cml4KDEgMS43NDg0NmUtMDcgMS43NDg0NmUtMDcgLTEgNCAxMy40NDQzKSIvPgo8L2NsaXBQYXRoPgo8L2RlZnM+Cjwvc3ZnPgo=);
  --jp-icon-add: url(data:image/svg+xml;base64,PHN2ZyB4bWxucz0iaHR0cDovL3d3dy53My5vcmcvMjAwMC9zdmciIHdpZHRoPSIxNiIgdmlld0JveD0iMCAwIDI0IDI0Ij4KICA8ZyBjbGFzcz0ianAtaWNvbjMiIGZpbGw9IiM2MTYxNjEiPgogICAgPHBhdGggZD0iTTE5IDEzaC02djZoLTJ2LTZINXYtMmg2VjVoMnY2aDZ2MnoiLz4KICA8L2c+Cjwvc3ZnPgo=);
  --jp-icon-bell: url(data:image/svg+xml;base64,PHN2ZyB4bWxucz0iaHR0cDovL3d3dy53My5vcmcvMjAwMC9zdmciIHdpZHRoPSIxNiIgdmlld0JveD0iMCAwIDE2IDE2IiB2ZXJzaW9uPSIxLjEiPgogICA8cGF0aCBjbGFzcz0ianAtaWNvbjIganAtaWNvbi1zZWxlY3RhYmxlIiBmaWxsPSIjMzMzMzMzIgogICAgICBkPSJtOCAwLjI5Yy0xLjQgMC0yLjcgMC43My0zLjYgMS44LTEuMiAxLjUtMS40IDMuNC0xLjUgNS4yLTAuMTggMi4yLTAuNDQgNC0yLjMgNS4zbDAuMjggMS4zaDVjMC4wMjYgMC42NiAwLjMyIDEuMSAwLjcxIDEuNSAwLjg0IDAuNjEgMiAwLjYxIDIuOCAwIDAuNTItMC40IDAuNi0xIDAuNzEtMS41aDVsMC4yOC0xLjNjLTEuOS0wLjk3LTIuMi0zLjMtMi4zLTUuMy0wLjEzLTEuOC0wLjI2LTMuNy0xLjUtNS4yLTAuODUtMS0yLjItMS44LTMuNi0xLjh6bTAgMS40YzAuODggMCAxLjkgMC41NSAyLjUgMS4zIDAuODggMS4xIDEuMSAyLjcgMS4yIDQuNCAwLjEzIDEuNyAwLjIzIDMuNiAxLjMgNS4yaC0xMGMxLjEtMS42IDEuMi0zLjQgMS4zLTUuMiAwLjEzLTEuNyAwLjMtMy4zIDEuMi00LjQgMC41OS0wLjcyIDEuNi0xLjMgMi41LTEuM3ptLTAuNzQgMTJoMS41Yy0wLjAwMTUgMC4yOCAwLjAxNSAwLjc5LTAuNzQgMC43OS0wLjczIDAuMDAxNi0wLjcyLTAuNTMtMC43NC0wLjc5eiIgLz4KPC9zdmc+Cg==);
  --jp-icon-bug-dot: url(data:image/svg+xml;base64,PHN2ZyB3aWR0aD0iMjQiIGhlaWdodD0iMjQiIHZpZXdCb3g9IjAgMCAyNCAyNCIgZmlsbD0ibm9uZSIgeG1sbnM9Imh0dHA6Ly93d3cudzMub3JnLzIwMDAvc3ZnIj4KICAgIDxnIGNsYXNzPSJqcC1pY29uMyBqcC1pY29uLXNlbGVjdGFibGUiIGZpbGw9IiM2MTYxNjEiPgogICAgICAgIDxwYXRoIGZpbGwtcnVsZT0iZXZlbm9kZCIgY2xpcC1ydWxlPSJldmVub2RkIiBkPSJNMTcuMTkgOEgyMFYxMEgxNy45MUMxNy45NiAxMC4zMyAxOCAxMC42NiAxOCAxMVYxMkgyMFYxNEgxOC41SDE4VjE0LjAyNzVDMTUuNzUgMTQuMjc2MiAxNCAxNi4xODM3IDE0IDE4LjVDMTQgMTkuMjA4IDE0LjE2MzUgMTkuODc3OSAxNC40NTQ5IDIwLjQ3MzlDMTMuNzA2MyAyMC44MTE3IDEyLjg3NTcgMjEgMTIgMjFDOS43OCAyMSA3Ljg1IDE5Ljc5IDYuODEgMThINFYxNkg2LjA5QzYuMDQgMTUuNjcgNiAxNS4zNCA2IDE1VjE0SDRWMTJINlYxMUM2IDEwLjY2IDYuMDQgMTAuMzMgNi4wOSAxMEg0VjhINi44MUM3LjI2IDcuMjIgNy44OCA2LjU1IDguNjIgNi4wNEw3IDQuNDFMOC40MSAzTDEwLjU5IDUuMTdDMTEuMDQgNS4wNiAxMS41MSA1IDEyIDVDMTIuNDkgNSAxMi45NiA1LjA2IDEzLjQyIDUuMTdMMTUuNTkgM0wxNyA0LjQxTDE1LjM3IDYuMDRDMTYuMTIgNi41NSAxNi43NCA3LjIyIDE3LjE5IDhaTTEwIDE2SDE0VjE0SDEwVjE2Wk0xMCAxMkgxNFYxMEgxMFYxMloiIGZpbGw9IiM2MTYxNjEiLz4KICAgICAgICA8cGF0aCBkPSJNMjIgMTguNUMyMiAyMC40MzMgMjAuNDMzIDIyIDE4LjUgMjJDMTYuNTY3IDIyIDE1IDIwLjQzMyAxNSAxOC41QzE1IDE2LjU2NyAxNi41NjcgMTUgMTguNSAxNUMyMC40MzMgMTUgMjIgMTYuNTY3IDIyIDE4LjVaIiBmaWxsPSIjNjE2MTYxIi8+CiAgICA8L2c+Cjwvc3ZnPgo=);
  --jp-icon-bug: url(data:image/svg+xml;base64,PHN2ZyB2aWV3Qm94PSIwIDAgMjQgMjQiIHdpZHRoPSIxNiIgeG1sbnM9Imh0dHA6Ly93d3cudzMub3JnLzIwMDAvc3ZnIj4KICA8ZyBjbGFzcz0ianAtaWNvbjMganAtaWNvbi1zZWxlY3RhYmxlIiBmaWxsPSIjNjE2MTYxIj4KICAgIDxwYXRoIGQ9Ik0yMCA4aC0yLjgxYy0uNDUtLjc4LTEuMDctMS40NS0xLjgyLTEuOTZMMTcgNC40MSAxNS41OSAzbC0yLjE3IDIuMTdDMTIuOTYgNS4wNiAxMi40OSA1IDEyIDVjLS40OSAwLS45Ni4wNi0xLjQxLjE3TDguNDEgMyA3IDQuNDFsMS42MiAxLjYzQzcuODggNi41NSA3LjI2IDcuMjIgNi44MSA4SDR2MmgyLjA5Yy0uMDUuMzMtLjA5LjY2LS4wOSAxdjFINHYyaDJ2MWMwIC4zNC4wNC42Ny4wOSAxSDR2MmgyLjgxYzEuMDQgMS43OSAyLjk3IDMgNS4xOSAzczQuMTUtMS4yMSA1LjE5LTNIMjB2LTJoLTIuMDljLjA1LS4zMy4wOS0uNjYuMDktMXYtMWgydi0yaC0ydi0xYzAtLjM0LS4wNC0uNjctLjA5LTFIMjBWOHptLTYgOGgtNHYtMmg0djJ6bTAtNGgtNHYtMmg0djJ6Ii8+CiAgPC9nPgo8L3N2Zz4K);
  --jp-icon-build: url(data:image/svg+xml;base64,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);
  --jp-icon-caret-down-empty-thin: url(data:image/svg+xml;base64,PHN2ZyB4bWxucz0iaHR0cDovL3d3dy53My5vcmcvMjAwMC9zdmciIHdpZHRoPSIxNiIgdmlld0JveD0iMCAwIDIwIDIwIj4KCTxnIGNsYXNzPSJqcC1pY29uMyIgZmlsbD0iIzYxNjE2MSIgc2hhcGUtcmVuZGVyaW5nPSJnZW9tZXRyaWNQcmVjaXNpb24iPgoJCTxwb2x5Z29uIGNsYXNzPSJzdDEiIHBvaW50cz0iOS45LDEzLjYgMy42LDcuNCA0LjQsNi42IDkuOSwxMi4yIDE1LjQsNi43IDE2LjEsNy40ICIvPgoJPC9nPgo8L3N2Zz4K);
  --jp-icon-caret-down-empty: url(data:image/svg+xml;base64,PHN2ZyB4bWxucz0iaHR0cDovL3d3dy53My5vcmcvMjAwMC9zdmciIHdpZHRoPSIxNiIgdmlld0JveD0iMCAwIDE4IDE4Ij4KICA8ZyBjbGFzcz0ianAtaWNvbjMiIGZpbGw9IiM2MTYxNjEiIHNoYXBlLXJlbmRlcmluZz0iZ2VvbWV0cmljUHJlY2lzaW9uIj4KICAgIDxwYXRoIGQ9Ik01LjIsNS45TDksOS43bDMuOC0zLjhsMS4yLDEuMmwtNC45LDVsLTQuOS01TDUuMiw1Ljl6Ii8+CiAgPC9nPgo8L3N2Zz4K);
  --jp-icon-caret-down: url(data:image/svg+xml;base64,PHN2ZyB4bWxucz0iaHR0cDovL3d3dy53My5vcmcvMjAwMC9zdmciIHdpZHRoPSIxNiIgdmlld0JveD0iMCAwIDE4IDE4Ij4KICA8ZyBjbGFzcz0ianAtaWNvbjMiIGZpbGw9IiM2MTYxNjEiIHNoYXBlLXJlbmRlcmluZz0iZ2VvbWV0cmljUHJlY2lzaW9uIj4KICAgIDxwYXRoIGQ9Ik01LjIsNy41TDksMTEuMmwzLjgtMy44SDUuMnoiLz4KICA8L2c+Cjwvc3ZnPgo=);
  --jp-icon-caret-left: url(data:image/svg+xml;base64,PHN2ZyB4bWxucz0iaHR0cDovL3d3dy53My5vcmcvMjAwMC9zdmciIHdpZHRoPSIxNiIgdmlld0JveD0iMCAwIDE4IDE4Ij4KCTxnIGNsYXNzPSJqcC1pY29uMyIgZmlsbD0iIzYxNjE2MSIgc2hhcGUtcmVuZGVyaW5nPSJnZW9tZXRyaWNQcmVjaXNpb24iPgoJCTxwYXRoIGQ9Ik0xMC44LDEyLjhMNy4xLDlsMy44LTMuOGwwLDcuNkgxMC44eiIvPgogIDwvZz4KPC9zdmc+Cg==);
  --jp-icon-caret-right: url(data:image/svg+xml;base64,PHN2ZyB4bWxucz0iaHR0cDovL3d3dy53My5vcmcvMjAwMC9zdmciIHdpZHRoPSIxNiIgdmlld0JveD0iMCAwIDE4IDE4Ij4KICA8ZyBjbGFzcz0ianAtaWNvbjMiIGZpbGw9IiM2MTYxNjEiIHNoYXBlLXJlbmRlcmluZz0iZ2VvbWV0cmljUHJlY2lzaW9uIj4KICAgIDxwYXRoIGQ9Ik03LjIsNS4yTDEwLjksOWwtMy44LDMuOFY1LjJINy4yeiIvPgogIDwvZz4KPC9zdmc+Cg==);
  --jp-icon-caret-up-empty-thin: url(data:image/svg+xml;base64,PHN2ZyB4bWxucz0iaHR0cDovL3d3dy53My5vcmcvMjAwMC9zdmciIHdpZHRoPSIxNiIgdmlld0JveD0iMCAwIDIwIDIwIj4KCTxnIGNsYXNzPSJqcC1pY29uMyIgZmlsbD0iIzYxNjE2MSIgc2hhcGUtcmVuZGVyaW5nPSJnZW9tZXRyaWNQcmVjaXNpb24iPgoJCTxwb2x5Z29uIGNsYXNzPSJzdDEiIHBvaW50cz0iMTUuNCwxMy4zIDkuOSw3LjcgNC40LDEzLjIgMy42LDEyLjUgOS45LDYuMyAxNi4xLDEyLjYgIi8+Cgk8L2c+Cjwvc3ZnPgo=);
  --jp-icon-caret-up: url(data:image/svg+xml;base64,PHN2ZyB4bWxucz0iaHR0cDovL3d3dy53My5vcmcvMjAwMC9zdmciIHdpZHRoPSIxNiIgdmlld0JveD0iMCAwIDE4IDE4Ij4KCTxnIGNsYXNzPSJqcC1pY29uMyIgZmlsbD0iIzYxNjE2MSIgc2hhcGUtcmVuZGVyaW5nPSJnZW9tZXRyaWNQcmVjaXNpb24iPgoJCTxwYXRoIGQ9Ik01LjIsMTAuNUw5LDYuOGwzLjgsMy44SDUuMnoiLz4KICA8L2c+Cjwvc3ZnPgo=);
  --jp-icon-case-sensitive: url(data:image/svg+xml;base64,PHN2ZyB4bWxucz0iaHR0cDovL3d3dy53My5vcmcvMjAwMC9zdmciIHdpZHRoPSIxNiIgdmlld0JveD0iMCAwIDIwIDIwIj4KICA8ZyBjbGFzcz0ianAtaWNvbjIiIGZpbGw9IiM0MTQxNDEiPgogICAgPHJlY3QgeD0iMiIgeT0iMiIgd2lkdGg9IjE2IiBoZWlnaHQ9IjE2Ii8+CiAgPC9nPgogIDxnIGNsYXNzPSJqcC1pY29uLWFjY2VudDIiIGZpbGw9IiNGRkYiPgogICAgPHBhdGggZD0iTTcuNiw4aDAuOWwzLjUsOGgtMS4xTDEwLDE0SDZsLTAuOSwySDRMNy42LDh6IE04LDkuMUw2LjQsMTNoMy4yTDgsOS4xeiIvPgogICAgPHBhdGggZD0iTTE2LjYsOS44Yy0wLjIsMC4xLTAuNCwwLjEtMC43LDAuMWMtMC4yLDAtMC40LTAuMS0wLjYtMC4yYy0wLjEtMC4xLTAuMi0wLjQtMC4yLTAuNyBjLTAuMywwLjMtMC42LDAuNS0wLjksMC43Yy0wLjMsMC4xLTAuNywwLjItMS4xLDAuMmMtMC4zLDAtMC41LDAtMC43LTAuMWMtMC4yLTAuMS0wLjQtMC4yLTAuNi0wLjNjLTAuMi0wLjEtMC4zLTAuMy0wLjQtMC41IGMtMC4xLTAuMi0wLjEtMC40LTAuMS0wLjdjMC0wLjMsMC4xLTAuNiwwLjItMC44YzAuMS0wLjIsMC4zLTAuNCwwLjQtMC41QzEyLDcsMTIuMiw2LjksMTIuNSw2LjhjMC4yLTAuMSwwLjUtMC4xLDAuNy0wLjIgYzAuMy0wLjEsMC41LTAuMSwwLjctMC4xYzAuMiwwLDAuNC0wLjEsMC42LTAuMWMwLjIsMCwwLjMtMC4xLDAuNC0wLjJjMC4xLTAuMSwwLjItMC4yLDAuMi0wLjRjMC0xLTEuMS0xLTEuMy0xIGMtMC40LDAtMS40LDAtMS40LDEuMmgtMC45YzAtMC40LDAuMS0wLjcsMC4yLTFjMC4xLTAuMiwwLjMtMC40LDAuNS0wLjZjMC4yLTAuMiwwLjUtMC4zLDAuOC0wLjNDMTMuMyw0LDEzLjYsNCwxMy45LDQgYzAuMywwLDAuNSwwLDAuOCwwLjFjMC4zLDAsMC41LDAuMSwwLjcsMC4yYzAuMiwwLjEsMC40LDAuMywwLjUsMC41QzE2LDUsMTYsNS4yLDE2LDUuNnYyLjljMCwwLjIsMCwwLjQsMCwwLjUgYzAsMC4xLDAuMSwwLjIsMC4zLDAuMmMwLjEsMCwwLjIsMCwwLjMsMFY5Ljh6IE0xNS4yLDYuOWMtMS4yLDAuNi0zLjEsMC4yLTMuMSwxLjRjMCwxLjQsMy4xLDEsMy4xLTAuNVY2Ljl6Ii8+CiAgPC9nPgo8L3N2Zz4K);
  --jp-icon-check: url(data:image/svg+xml;base64,PHN2ZyB4bWxucz0iaHR0cDovL3d3dy53My5vcmcvMjAwMC9zdmciIHdpZHRoPSIxNiIgdmlld0JveD0iMCAwIDI0IDI0Ij4KICA8ZyBjbGFzcz0ianAtaWNvbjMganAtaWNvbi1zZWxlY3RhYmxlIiBmaWxsPSIjNjE2MTYxIj4KICAgIDxwYXRoIGQ9Ik05IDE2LjE3TDQuODMgMTJsLTEuNDIgMS40MUw5IDE5IDIxIDdsLTEuNDEtMS40MXoiLz4KICA8L2c+Cjwvc3ZnPgo=);
  --jp-icon-circle-empty: url(data:image/svg+xml;base64,PHN2ZyB4bWxucz0iaHR0cDovL3d3dy53My5vcmcvMjAwMC9zdmciIHdpZHRoPSIxNiIgdmlld0JveD0iMCAwIDI0IDI0Ij4KICA8ZyBjbGFzcz0ianAtaWNvbjMiIGZpbGw9IiM2MTYxNjEiPgogICAgPHBhdGggZD0iTTEyIDJDNi40NyAyIDIgNi40NyAyIDEyczQuNDcgMTAgMTAgMTAgMTAtNC40NyAxMC0xMFMxNy41MyAyIDEyIDJ6bTAgMThjLTQuNDEgMC04LTMuNTktOC04czMuNTktOCA4LTggOCAzLjU5IDggOC0zLjU5IDgtOCA4eiIvPgogIDwvZz4KPC9zdmc+Cg==);
  --jp-icon-circle: url(data:image/svg+xml;base64,PHN2ZyB2aWV3Qm94PSIwIDAgMTggMTgiIHdpZHRoPSIxNiIgeG1sbnM9Imh0dHA6Ly93d3cudzMub3JnLzIwMDAvc3ZnIj4KICA8ZyBjbGFzcz0ianAtaWNvbjMiIGZpbGw9IiM2MTYxNjEiPgogICAgPGNpcmNsZSBjeD0iOSIgY3k9IjkiIHI9IjgiLz4KICA8L2c+Cjwvc3ZnPgo=);
  --jp-icon-clear: url(data:image/svg+xml;base64,PHN2ZyB4bWxucz0iaHR0cDovL3d3dy53My5vcmcvMjAwMC9zdmciIHdpZHRoPSIxNiIgdmlld0JveD0iMCAwIDI0IDI0Ij4KICA8bWFzayBpZD0iZG9udXRIb2xlIj4KICAgIDxyZWN0IHdpZHRoPSIyNCIgaGVpZ2h0PSIyNCIgZmlsbD0id2hpdGUiIC8+CiAgICA8Y2lyY2xlIGN4PSIxMiIgY3k9IjEyIiByPSI4IiBmaWxsPSJibGFjayIvPgogIDwvbWFzaz4KCiAgPGcgY2xhc3M9ImpwLWljb24zIiBmaWxsPSIjNjE2MTYxIj4KICAgIDxyZWN0IGhlaWdodD0iMTgiIHdpZHRoPSIyIiB4PSIxMSIgeT0iMyIgdHJhbnNmb3JtPSJyb3RhdGUoMzE1LCAxMiwgMTIpIi8+CiAgICA8Y2lyY2xlIGN4PSIxMiIgY3k9IjEyIiByPSIxMCIgbWFzaz0idXJsKCNkb251dEhvbGUpIi8+CiAgPC9nPgo8L3N2Zz4K);
  --jp-icon-close: url(data:image/svg+xml;base64,PHN2ZyB2aWV3Qm94PSIwIDAgMjQgMjQiIHdpZHRoPSIxNiIgeG1sbnM9Imh0dHA6Ly93d3cudzMub3JnLzIwMDAvc3ZnIj4KICA8ZyBjbGFzcz0ianAtaWNvbi1ub25lIGpwLWljb24tc2VsZWN0YWJsZS1pbnZlcnNlIGpwLWljb24zLWhvdmVyIiBmaWxsPSJub25lIj4KICAgIDxjaXJjbGUgY3g9IjEyIiBjeT0iMTIiIHI9IjExIi8+CiAgPC9nPgoKICA8ZyBjbGFzcz0ianAtaWNvbjMganAtaWNvbi1zZWxlY3RhYmxlIGpwLWljb24tYWNjZW50Mi1ob3ZlciIgZmlsbD0iIzYxNjE2MSI+CiAgICA8cGF0aCBkPSJNMTkgNi40MUwxNy41OSA1IDEyIDEwLjU5IDYuNDEgNSA1IDYuNDEgMTAuNTkgMTIgNSAxNy41OSA2LjQxIDE5IDEyIDEzLjQxIDE3LjU5IDE5IDE5IDE3LjU5IDEzLjQxIDEyeiIvPgogIDwvZz4KCiAgPGcgY2xhc3M9ImpwLWljb24tbm9uZSBqcC1pY29uLWJ1c3kiIGZpbGw9Im5vbmUiPgogICAgPGNpcmNsZSBjeD0iMTIiIGN5PSIxMiIgcj0iNyIvPgogIDwvZz4KPC9zdmc+Cg==);
  --jp-icon-code-check: url(data:image/svg+xml;base64,PHN2ZyB4bWxucz0iaHR0cDovL3d3dy53My5vcmcvMjAwMC9zdmciIHdpZHRoPSIyNCIgdmlld0JveD0iMCAwIDI0IDI0Ij4KICA8ZyBjbGFzcz0ianAtaWNvbjMganAtaWNvbi1zZWxlY3RhYmxlIiBmaWxsPSIjNjE2MTYxIiBzaGFwZS1yZW5kZXJpbmc9Imdlb21ldHJpY1ByZWNpc2lvbiI+CiAgICA8cGF0aCBkPSJNNi41OSwzLjQxTDIsOEw2LjU5LDEyLjZMOCwxMS4xOEw0LjgyLDhMOCw0LjgyTDYuNTksMy40MU0xMi40MSwzLjQxTDExLDQuODJMMTQuMTgsOEwxMSwxMS4xOEwxMi40MSwxMi42TDE3LDhMMTIuNDEsMy40MU0yMS41OSwxMS41OUwxMy41LDE5LjY4TDkuODMsMTZMOC40MiwxNy40MUwxMy41LDIyLjVMMjMsMTNMMjEuNTksMTEuNTlaIiAvPgogIDwvZz4KPC9zdmc+Cg==);
  --jp-icon-code: url(data:image/svg+xml;base64,PHN2ZyB3aWR0aD0iMjIiIGhlaWdodD0iMjIiIHZpZXdCb3g9IjAgMCAyOCAyOCIgeG1sbnM9Imh0dHA6Ly93d3cudzMub3JnLzIwMDAvc3ZnIj4KCTxnIGNsYXNzPSJqcC1pY29uMyIgZmlsbD0iIzYxNjE2MSI+CgkJPHBhdGggZD0iTTExLjQgMTguNkw2LjggMTRMMTEuNCA5LjRMMTAgOEw0IDE0TDEwIDIwTDExLjQgMTguNlpNMTYuNiAxOC42TDIxLjIgMTRMMTYuNiA5LjRMMTggOEwyNCAxNEwxOCAyMEwxNi42IDE4LjZWMTguNloiLz4KCTwvZz4KPC9zdmc+Cg==);
  --jp-icon-collapse-all: url(data:image/svg+xml;base64,PHN2ZyB4bWxucz0iaHR0cDovL3d3dy53My5vcmcvMjAwMC9zdmciIHdpZHRoPSIxNiIgdmlld0JveD0iMCAwIDI0IDI0Ij4KICAgIDxnIGNsYXNzPSJqcC1pY29uMyIgZmlsbD0iIzYxNjE2MSI+CiAgICAgICAgPHBhdGgKICAgICAgICAgICAgZD0iTTggMmMxIDAgMTEgMCAxMiAwczIgMSAyIDJjMCAxIDAgMTEgMCAxMnMwIDItMiAyQzIwIDE0IDIwIDQgMjAgNFMxMCA0IDYgNGMwLTIgMS0yIDItMnoiIC8+CiAgICAgICAgPHBhdGgKICAgICAgICAgICAgZD0iTTE4IDhjMC0xLTEtMi0yLTJTNSA2IDQgNnMtMiAxLTIgMmMwIDEgMCAxMSAwIDEyczEgMiAyIDJjMSAwIDExIDAgMTIgMHMyLTEgMi0yYzAtMSAwLTExIDAtMTJ6bS0yIDB2MTJINFY4eiIgLz4KICAgICAgICA8cGF0aCBkPSJNNiAxM3YyaDh2LTJ6IiAvPgogICAgPC9nPgo8L3N2Zz4K);
  --jp-icon-console: url(data:image/svg+xml;base64,PHN2ZyB4bWxucz0iaHR0cDovL3d3dy53My5vcmcvMjAwMC9zdmciIHdpZHRoPSIxNiIgdmlld0JveD0iMCAwIDIwMCAyMDAiPgogIDxnIGNsYXNzPSJqcC1jb25zb2xlLWljb24tYmFja2dyb3VuZC1jb2xvciBqcC1pY29uLXNlbGVjdGFibGUiIGZpbGw9IiMwMjg4RDEiPgogICAgPHBhdGggZD0iTTIwIDE5LjhoMTYwdjE1OS45SDIweiIvPgogIDwvZz4KICA8ZyBjbGFzcz0ianAtY29uc29sZS1pY29uLWNvbG9yIGpwLWljb24tc2VsZWN0YWJsZS1pbnZlcnNlIiBmaWxsPSIjZmZmIj4KICAgIDxwYXRoIGQ9Ik0xMDUgMTI3LjNoNDB2MTIuOGgtNDB6TTUxLjEgNzdMNzQgOTkuOWwtMjMuMyAyMy4zIDEwLjUgMTAuNSAyMy4zLTIzLjNMOTUgOTkuOSA4NC41IDg5LjQgNjEuNiA2Ni41eiIvPgogIDwvZz4KPC9zdmc+Cg==);
  --jp-icon-copy: url(data:image/svg+xml;base64,PHN2ZyB2aWV3Qm94PSIwIDAgMTggMTgiIHdpZHRoPSIxNiIgeG1sbnM9Imh0dHA6Ly93d3cudzMub3JnLzIwMDAvc3ZnIj4KICA8ZyBjbGFzcz0ianAtaWNvbjMiIGZpbGw9IiM2MTYxNjEiPgogICAgPHBhdGggZD0iTTExLjksMUgzLjJDMi40LDEsMS43LDEuNywxLjcsMi41djEwLjJoMS41VjIuNWg4LjdWMXogTTE0LjEsMy45aC04Yy0wLjgsMC0xLjUsMC43LTEuNSwxLjV2MTAuMmMwLDAuOCwwLjcsMS41LDEuNSwxLjVoOCBjMC44LDAsMS41LTAuNywxLjUtMS41VjUuNEMxNS41LDQuNiwxNC45LDMuOSwxNC4xLDMuOXogTTE0LjEsMTUuNWgtOFY1LjRoOFYxNS41eiIvPgogIDwvZz4KPC9zdmc+Cg==);
  --jp-icon-copyright: url(data:image/svg+xml;base64,PHN2ZyB4bWxucz0iaHR0cDovL3d3dy53My5vcmcvMjAwMC9zdmciIGVuYWJsZS1iYWNrZ3JvdW5kPSJuZXcgMCAwIDI0IDI0IiBoZWlnaHQ9IjI0IiB2aWV3Qm94PSIwIDAgMjQgMjQiIHdpZHRoPSIyNCI+CiAgPGcgY2xhc3M9ImpwLWljb24zIiBmaWxsPSIjNjE2MTYxIj4KICAgIDxwYXRoIGQ9Ik0xMS44OCw5LjE0YzEuMjgsMC4wNiwxLjYxLDEuMTUsMS42MywxLjY2aDEuNzljLTAuMDgtMS45OC0xLjQ5LTMuMTktMy40NS0zLjE5QzkuNjQsNy42MSw4LDksOCwxMi4xNCBjMCwxLjk0LDAuOTMsNC4yNCwzLjg0LDQuMjRjMi4yMiwwLDMuNDEtMS42NSwzLjQ0LTIuOTVoLTEuNzljLTAuMDMsMC41OS0wLjQ1LDEuMzgtMS42MywxLjQ0QzEwLjU1LDE0LjgzLDEwLDEzLjgxLDEwLDEyLjE0IEMxMCw5LjI1LDExLjI4LDkuMTYsMTEuODgsOS4xNHogTTEyLDJDNi40OCwyLDIsNi40OCwyLDEyczQuNDgsMTAsMTAsMTBzMTAtNC40OCwxMC0xMFMxNy41MiwyLDEyLDJ6IE0xMiwyMGMtNC40MSwwLTgtMy41OS04LTggczMuNTktOCw4LThzOCwzLjU5LDgsOFMxNi40MSwyMCwxMiwyMHoiLz4KICA8L2c+Cjwvc3ZnPgo=);
  --jp-icon-cut: url(data:image/svg+xml;base64,PHN2ZyB2aWV3Qm94PSIwIDAgMjQgMjQiIHdpZHRoPSIxNiIgeG1sbnM9Imh0dHA6Ly93d3cudzMub3JnLzIwMDAvc3ZnIj4KICA8ZyBjbGFzcz0ianAtaWNvbjMiIGZpbGw9IiM2MTYxNjEiPgogICAgPHBhdGggZD0iTTkuNjQgNy42NGMuMjMtLjUuMzYtMS4wNS4zNi0xLjY0IDAtMi4yMS0xLjc5LTQtNC00UzIgMy43OSAyIDZzMS43OSA0IDQgNGMuNTkgMCAxLjE0LS4xMyAxLjY0LS4zNkwxMCAxMmwtMi4zNiAyLjM2QzcuMTQgMTQuMTMgNi41OSAxNCA2IDE0Yy0yLjIxIDAtNCAxLjc5LTQgNHMxLjc5IDQgNCA0IDQtMS43OSA0LTRjMC0uNTktLjEzLTEuMTQtLjM2LTEuNjRMMTIgMTRsNyA3aDN2LTFMOS42NCA3LjY0ek02IDhjLTEuMSAwLTItLjg5LTItMnMuOS0yIDItMiAyIC44OSAyIDItLjkgMi0yIDJ6bTAgMTJjLTEuMSAwLTItLjg5LTItMnMuOS0yIDItMiAyIC44OSAyIDItLjkgMi0yIDJ6bTYtNy41Yy0uMjggMC0uNS0uMjItLjUtLjVzLjIyLS41LjUtLjUuNS4yMi41LjUtLjIyLjUtLjUuNXpNMTkgM2wtNiA2IDIgMiA3LTdWM3oiLz4KICA8L2c+Cjwvc3ZnPgo=);
  --jp-icon-delete: url(data:image/svg+xml;base64,PHN2ZyB4bWxucz0iaHR0cDovL3d3dy53My5vcmcvMjAwMC9zdmciIHZpZXdCb3g9IjAgMCAyNCAyNCIgd2lkdGg9IjE2cHgiIGhlaWdodD0iMTZweCI+CiAgICA8cGF0aCBkPSJNMCAwaDI0djI0SDB6IiBmaWxsPSJub25lIiAvPgogICAgPHBhdGggY2xhc3M9ImpwLWljb24zIiBmaWxsPSIjNjI2MjYyIiBkPSJNNiAxOWMwIDEuMS45IDIgMiAyaDhjMS4xIDAgMi0uOSAyLTJWN0g2djEyek0xOSA0aC0zLjVsLTEtMWgtNWwtMSAxSDV2MmgxNFY0eiIgLz4KPC9zdmc+Cg==);
  --jp-icon-download: url(data:image/svg+xml;base64,PHN2ZyB2aWV3Qm94PSIwIDAgMjQgMjQiIHdpZHRoPSIxNiIgeG1sbnM9Imh0dHA6Ly93d3cudzMub3JnLzIwMDAvc3ZnIj4KICA8ZyBjbGFzcz0ianAtaWNvbjMiIGZpbGw9IiM2MTYxNjEiPgogICAgPHBhdGggZD0iTTE5IDloLTRWM0g5djZINWw3IDcgNy03ek01IDE4djJoMTR2LTJINXoiLz4KICA8L2c+Cjwvc3ZnPgo=);
  --jp-icon-duplicate: url(data:image/svg+xml;base64,PHN2ZyB3aWR0aD0iMTQiIGhlaWdodD0iMTQiIHZpZXdCb3g9IjAgMCAxNCAxNCIgZmlsbD0ibm9uZSIgeG1sbnM9Imh0dHA6Ly93d3cudzMub3JnLzIwMDAvc3ZnIj4KPHBhdGggY2xhc3M9ImpwLWljb24zIiBmaWxsLXJ1bGU9ImV2ZW5vZGQiIGNsaXAtcnVsZT0iZXZlbm9kZCIgZD0iTTIuNzk5OTggMC44NzVIOC44OTU4MkM5LjIwMDYxIDAuODc1IDkuNDQ5OTggMS4xMzkxNCA5LjQ0OTk4IDEuNDYxOThDOS40NDk5OCAxLjc4NDgyIDkuMjAwNjEgMi4wNDg5NiA4Ljg5NTgyIDIuMDQ4OTZIMy4zNTQxNUMzLjA0OTM2IDIuMDQ4OTYgMi43OTk5OCAyLjMxMzEgMi43OTk5OCAyLjYzNTk0VjkuNjc5NjlDMi43OTk5OCAxMC4wMDI1IDIuNTUwNjEgMTAuMjY2NyAyLjI0NTgyIDEwLjI2NjdDMS45NDEwMyAxMC4yNjY3IDEuNjkxNjUgMTAuMDAyNSAxLjY5MTY1IDkuNjc5NjlWMi4wNDg5NkMxLjY5MTY1IDEuNDAzMjggMi4xOTA0IDAuODc1IDIuNzk5OTggMC44NzVaTTUuMzY2NjUgMTEuOVY0LjU1SDExLjA4MzNWMTEuOUg1LjM2NjY1Wk00LjE0MTY1IDQuMTQxNjdDNC4xNDE2NSAzLjY5MDYzIDQuNTA3MjggMy4zMjUgNC45NTgzMiAzLjMyNUgxMS40OTE3QzExLjk0MjcgMy4zMjUgMTIuMzA4MyAzLjY5MDYzIDEyLjMwODMgNC4xNDE2N1YxMi4zMDgzQzEyLjMwODMgMTIuNzU5NCAxMS45NDI3IDEzLjEyNSAxMS40OTE3IDEzLjEyNUg0Ljk1ODMyQzQuNTA3MjggMTMuMTI1IDQuMTQxNjUgMTIuNzU5NCA0LjE0MTY1IDEyLjMwODNWNC4xNDE2N1oiIGZpbGw9IiM2MTYxNjEiLz4KPHBhdGggY2xhc3M9ImpwLWljb24zIiBkPSJNOS40MzU3NCA4LjI2NTA3SDguMzY0MzFWOS4zMzY1QzguMzY0MzEgOS40NTQzNSA4LjI2Nzg4IDkuNTUwNzggOC4xNTAwMiA5LjU1MDc4QzguMDMyMTcgOS41NTA3OCA3LjkzNTc0IDkuNDU0MzUgNy45MzU3NCA5LjMzNjVWOC4yNjUwN0g2Ljg2NDMxQzYuNzQ2NDUgOC4yNjUwNyA2LjY1MDAyIDguMTY4NjQgNi42NTAwMiA4LjA1MDc4QzYuNjUwMDIgNy45MzI5MiA2Ljc0NjQ1IDcuODM2NSA2Ljg2NDMxIDcuODM2NUg3LjkzNTc0VjYuNzY1MDdDNy45MzU3NCA2LjY0NzIxIDguMDMyMTcgNi41NTA3OCA4LjE1MDAyIDYuNTUwNzhDOC4yNjc4OCA2LjU1MDc4IDguMzY0MzEgNi42NDcyMSA4LjM2NDMxIDYuNzY1MDdWNy44MzY1SDkuNDM1NzRDOS41NTM2IDcuODM2NSA5LjY1MDAyIDcuOTMyOTIgOS42NTAwMiA4LjA1MDc4QzkuNjUwMDIgOC4xNjg2NCA5LjU1MzYgOC4yNjUwNyA5LjQzNTc0IDguMjY1MDdaIiBmaWxsPSIjNjE2MTYxIiBzdHJva2U9IiM2MTYxNjEiIHN0cm9rZS13aWR0aD0iMC41Ii8+Cjwvc3ZnPgo=);
  --jp-icon-edit: url(data:image/svg+xml;base64,PHN2ZyB2aWV3Qm94PSIwIDAgMjQgMjQiIHdpZHRoPSIxNiIgeG1sbnM9Imh0dHA6Ly93d3cudzMub3JnLzIwMDAvc3ZnIj4KICA8ZyBjbGFzcz0ianAtaWNvbjMiIGZpbGw9IiM2MTYxNjEiPgogICAgPHBhdGggZD0iTTMgMTcuMjVWMjFoMy43NUwxNy44MSA5Ljk0bC0zLjc1LTMuNzVMMyAxNy4yNXpNMjAuNzEgNy4wNGMuMzktLjM5LjM5LTEuMDIgMC0xLjQxbC0yLjM0LTIuMzRjLS4zOS0uMzktMS4wMi0uMzktMS40MSAwbC0xLjgzIDEuODMgMy43NSAzLjc1IDEuODMtMS44M3oiLz4KICA8L2c+Cjwvc3ZnPgo=);
  --jp-icon-ellipses: url(data:image/svg+xml;base64,PHN2ZyB2aWV3Qm94PSIwIDAgMjQgMjQiIHdpZHRoPSIxNiIgeG1sbnM9Imh0dHA6Ly93d3cudzMub3JnLzIwMDAvc3ZnIj4KICA8ZyBjbGFzcz0ianAtaWNvbjMiIGZpbGw9IiM2MTYxNjEiPgogICAgPGNpcmNsZSBjeD0iNSIgY3k9IjEyIiByPSIyIi8+CiAgICA8Y2lyY2xlIGN4PSIxMiIgY3k9IjEyIiByPSIyIi8+CiAgICA8Y2lyY2xlIGN4PSIxOSIgY3k9IjEyIiByPSIyIi8+CiAgPC9nPgo8L3N2Zz4K);
  --jp-icon-error: url(data:image/svg+xml;base64,PHN2ZyB4bWxucz0iaHR0cDovL3d3dy53My5vcmcvMjAwMC9zdmciIHdpZHRoPSIxNiIgdmlld0JveD0iMCAwIDI0IDI0Ij4KPGcgY2xhc3M9ImpwLWljb24zIiBmaWxsPSIjNjE2MTYxIj48Y2lyY2xlIGN4PSIxMiIgY3k9IjE5IiByPSIyIi8+PHBhdGggZD0iTTEwIDNoNHYxMmgtNHoiLz48L2c+CjxwYXRoIGZpbGw9Im5vbmUiIGQ9Ik0wIDBoMjR2MjRIMHoiLz4KPC9zdmc+Cg==);
  --jp-icon-expand-all: url(data:image/svg+xml;base64,PHN2ZyB4bWxucz0iaHR0cDovL3d3dy53My5vcmcvMjAwMC9zdmciIHdpZHRoPSIxNiIgdmlld0JveD0iMCAwIDI0IDI0Ij4KICAgIDxnIGNsYXNzPSJqcC1pY29uMyIgZmlsbD0iIzYxNjE2MSI+CiAgICAgICAgPHBhdGgKICAgICAgICAgICAgZD0iTTggMmMxIDAgMTEgMCAxMiAwczIgMSAyIDJjMCAxIDAgMTEgMCAxMnMwIDItMiAyQzIwIDE0IDIwIDQgMjAgNFMxMCA0IDYgNGMwLTIgMS0yIDItMnoiIC8+CiAgICAgICAgPHBhdGgKICAgICAgICAgICAgZD0iTTE4IDhjMC0xLTEtMi0yLTJTNSA2IDQgNnMtMiAxLTIgMmMwIDEgMCAxMSAwIDEyczEgMiAyIDJjMSAwIDExIDAgMTIgMHMyLTEgMi0yYzAtMSAwLTExIDAtMTJ6bS0yIDB2MTJINFY4eiIgLz4KICAgICAgICA8cGF0aCBkPSJNMTEgMTBIOXYzSDZ2MmgzdjNoMnYtM2gzdi0yaC0zeiIgLz4KICAgIDwvZz4KPC9zdmc+Cg==);
  --jp-icon-extension: url(data:image/svg+xml;base64,PHN2ZyB4bWxucz0iaHR0cDovL3d3dy53My5vcmcvMjAwMC9zdmciIHdpZHRoPSIxNiIgdmlld0JveD0iMCAwIDI0IDI0Ij4KICA8ZyBjbGFzcz0ianAtaWNvbjMiIGZpbGw9IiM2MTYxNjEiPgogICAgPHBhdGggZD0iTTIwLjUgMTFIMTlWN2MwLTEuMS0uOS0yLTItMmgtNFYzLjVDMTMgMi4xMiAxMS44OCAxIDEwLjUgMVM4IDIuMTIgOCAzLjVWNUg0Yy0xLjEgMC0xLjk5LjktMS45OSAydjMuOEgzLjVjMS40OSAwIDIuNyAxLjIxIDIuNyAyLjdzLTEuMjEgMi43LTIuNyAyLjdIMlYyMGMwIDEuMS45IDIgMiAyaDMuOHYtMS41YzAtMS40OSAxLjIxLTIuNyAyLjctMi43IDEuNDkgMCAyLjcgMS4yMSAyLjcgMi43VjIySDE3YzEuMSAwIDItLjkgMi0ydi00aDEuNWMxLjM4IDAgMi41LTEuMTIgMi41LTIuNVMyMS44OCAxMSAyMC41IDExeiIvPgogIDwvZz4KPC9zdmc+Cg==);
  --jp-icon-fast-forward: url(data:image/svg+xml;base64,PHN2ZyB4bWxucz0iaHR0cDovL3d3dy53My5vcmcvMjAwMC9zdmciIHdpZHRoPSIyNCIgaGVpZ2h0PSIyNCIgdmlld0JveD0iMCAwIDI0IDI0Ij4KICAgIDxnIGNsYXNzPSJqcC1pY29uMyIgZmlsbD0iIzYxNjE2MSI+CiAgICAgICAgPHBhdGggZD0iTTQgMThsOC41LTZMNCA2djEyem05LTEydjEybDguNS02TDEzIDZ6Ii8+CiAgICA8L2c+Cjwvc3ZnPgo=);
  --jp-icon-file-upload: url(data:image/svg+xml;base64,PHN2ZyB4bWxucz0iaHR0cDovL3d3dy53My5vcmcvMjAwMC9zdmciIHdpZHRoPSIxNiIgdmlld0JveD0iMCAwIDI0IDI0Ij4KICA8ZyBjbGFzcz0ianAtaWNvbjMiIGZpbGw9IiM2MTYxNjEiPgogICAgPHBhdGggZD0iTTkgMTZoNnYtNmg0bC03LTctNyA3aDR6bS00IDJoMTR2Mkg1eiIvPgogIDwvZz4KPC9zdmc+Cg==);
  --jp-icon-file: url(data:image/svg+xml;base64,PHN2ZyB4bWxucz0iaHR0cDovL3d3dy53My5vcmcvMjAwMC9zdmciIHdpZHRoPSIxNiIgdmlld0JveD0iMCAwIDIyIDIyIj4KICA8cGF0aCBjbGFzcz0ianAtaWNvbjMganAtaWNvbi1zZWxlY3RhYmxlIiBmaWxsPSIjNjE2MTYxIiBkPSJNMTkuMyA4LjJsLTUuNS01LjVjLS4zLS4zLS43LS41LTEuMi0uNUgzLjljLS44LjEtMS42LjktMS42IDEuOHYxNC4xYzAgLjkuNyAxLjYgMS42IDEuNmgxNC4yYy45IDAgMS42LS43IDEuNi0xLjZWOS40Yy4xLS41LS4xLS45LS40LTEuMnptLTUuOC0zLjNsMy40IDMuNmgtMy40VjQuOXptMy45IDEyLjdINC43Yy0uMSAwLS4yIDAtLjItLjJWNC43YzAtLjIuMS0uMy4yLS4zaDcuMnY0LjRzMCAuOC4zIDEuMWMuMy4zIDEuMS4zIDEuMS4zaDQuM3Y3LjJzLS4xLjItLjIuMnoiLz4KPC9zdmc+Cg==);
  --jp-icon-filter-dot: url(data:image/svg+xml;base64,PHN2ZyB4bWxucz0iaHR0cDovL3d3dy53My5vcmcvMjAwMC9zdmciIHdpZHRoPSIxNiIgdmlld0JveD0iMCAwIDI0IDI0Ij4KICA8ZyBjbGFzcz0ianAtaWNvbjMiIGZpbGw9IiNGRkYiPgogICAgPHBhdGggZD0iTTE0LDEyVjE5Ljg4QzE0LjA0LDIwLjE4IDEzLjk0LDIwLjUgMTMuNzEsMjAuNzFDMTMuMzIsMjEuMSAxMi42OSwyMS4xIDEyLjMsMjAuNzFMMTAuMjksMTguN0MxMC4wNiwxOC40NyA5Ljk2LDE4LjE2IDEwLDE3Ljg3VjEySDkuOTdMNC4yMSw0LjYyQzMuODcsNC4xOSAzLjk1LDMuNTYgNC4zOCwzLjIyQzQuNTcsMy4wOCA0Ljc4LDMgNSwzVjNIMTlWM0MxOS4yMiwzIDE5LjQzLDMuMDggMTkuNjIsMy4yMkMyMC4wNSwzLjU2IDIwLjEzLDQuMTkgMTkuNzksNC42MkwxNC4wMywxMkgxNFoiIC8+CiAgPC9nPgogIDxnIGNsYXNzPSJqcC1pY29uLWRvdCIgZmlsbD0iI0ZGRiI+CiAgICA8Y2lyY2xlIGN4PSIxOCIgY3k9IjE3IiByPSIzIj48L2NpcmNsZT4KICA8L2c+Cjwvc3ZnPgo=);
  --jp-icon-filter-list: url(data:image/svg+xml;base64,PHN2ZyB4bWxucz0iaHR0cDovL3d3dy53My5vcmcvMjAwMC9zdmciIHdpZHRoPSIxNiIgdmlld0JveD0iMCAwIDI0IDI0Ij4KICA8ZyBjbGFzcz0ianAtaWNvbjMiIGZpbGw9IiM2MTYxNjEiPgogICAgPHBhdGggZD0iTTEwIDE4aDR2LTJoLTR2MnpNMyA2djJoMThWNkgzem0zIDdoMTJ2LTJINnYyeiIvPgogIDwvZz4KPC9zdmc+Cg==);
  --jp-icon-filter: url(data:image/svg+xml;base64,PHN2ZyB4bWxucz0iaHR0cDovL3d3dy53My5vcmcvMjAwMC9zdmciIHdpZHRoPSIxNiIgdmlld0JveD0iMCAwIDI0IDI0Ij4KICA8ZyBjbGFzcz0ianAtaWNvbjMiIGZpbGw9IiNGRkYiPgogICAgPHBhdGggZD0iTTE0LDEyVjE5Ljg4QzE0LjA0LDIwLjE4IDEzLjk0LDIwLjUgMTMuNzEsMjAuNzFDMTMuMzIsMjEuMSAxMi42OSwyMS4xIDEyLjMsMjAuNzFMMTAuMjksMTguN0MxMC4wNiwxOC40NyA5Ljk2LDE4LjE2IDEwLDE3Ljg3VjEySDkuOTdMNC4yMSw0LjYyQzMuODcsNC4xOSAzLjk1LDMuNTYgNC4zOCwzLjIyQzQuNTcsMy4wOCA0Ljc4LDMgNSwzVjNIMTlWM0MxOS4yMiwzIDE5LjQzLDMuMDggMTkuNjIsMy4yMkMyMC4wNSwzLjU2IDIwLjEzLDQuMTkgMTkuNzksNC42MkwxNC4wMywxMkgxNFoiIC8+CiAgPC9nPgo8L3N2Zz4K);
  --jp-icon-folder-favorite: url(data:image/svg+xml;base64,PHN2ZyB4bWxucz0iaHR0cDovL3d3dy53My5vcmcvMjAwMC9zdmciIGhlaWdodD0iMjRweCIgdmlld0JveD0iMCAwIDI0IDI0IiB3aWR0aD0iMjRweCIgZmlsbD0iIzAwMDAwMCI+CiAgPHBhdGggZD0iTTAgMGgyNHYyNEgwVjB6IiBmaWxsPSJub25lIi8+PHBhdGggY2xhc3M9ImpwLWljb24zIGpwLWljb24tc2VsZWN0YWJsZSIgZmlsbD0iIzYxNjE2MSIgZD0iTTIwIDZoLThsLTItMkg0Yy0xLjEgMC0yIC45LTIgMnYxMmMwIDEuMS45IDIgMiAyaDE2YzEuMSAwIDItLjkgMi0yVjhjMC0xLjEtLjktMi0yLTJ6bS0yLjA2IDExTDE1IDE1LjI4IDEyLjA2IDE3bC43OC0zLjMzLTIuNTktMi4yNCAzLjQxLS4yOUwxNSA4bDEuMzQgMy4xNCAzLjQxLjI5LTIuNTkgMi4yNC43OCAzLjMzeiIvPgo8L3N2Zz4K);
  --jp-icon-folder: url(data:image/svg+xml;base64,PHN2ZyB4bWxucz0iaHR0cDovL3d3dy53My5vcmcvMjAwMC9zdmciIHdpZHRoPSIxNiIgdmlld0JveD0iMCAwIDI0IDI0Ij4KICA8cGF0aCBjbGFzcz0ianAtaWNvbjMganAtaWNvbi1zZWxlY3RhYmxlIiBmaWxsPSIjNjE2MTYxIiBkPSJNMTAgNEg0Yy0xLjEgMC0xLjk5LjktMS45OSAyTDIgMThjMCAxLjEuOSAyIDIgMmgxNmMxLjEgMCAyLS45IDItMlY4YzAtMS4xLS45LTItMi0yaC04bC0yLTJ6Ii8+Cjwvc3ZnPgo=);
  --jp-icon-home: url(data:image/svg+xml;base64,PHN2ZyB4bWxucz0iaHR0cDovL3d3dy53My5vcmcvMjAwMC9zdmciIGhlaWdodD0iMjRweCIgdmlld0JveD0iMCAwIDI0IDI0IiB3aWR0aD0iMjRweCIgZmlsbD0iIzAwMDAwMCI+CiAgPHBhdGggZD0iTTAgMGgyNHYyNEgweiIgZmlsbD0ibm9uZSIvPjxwYXRoIGNsYXNzPSJqcC1pY29uMyBqcC1pY29uLXNlbGVjdGFibGUiIGZpbGw9IiM2MTYxNjEiIGQ9Ik0xMCAyMHYtNmg0djZoNXYtOGgzTDEyIDMgMiAxMmgzdjh6Ii8+Cjwvc3ZnPgo=);
  --jp-icon-html5: url(data:image/svg+xml;base64,PHN2ZyB4bWxucz0iaHR0cDovL3d3dy53My5vcmcvMjAwMC9zdmciIHdpZHRoPSIxNiIgdmlld0JveD0iMCAwIDUxMiA1MTIiPgogIDxwYXRoIGNsYXNzPSJqcC1pY29uMCBqcC1pY29uLXNlbGVjdGFibGUiIGZpbGw9IiMwMDAiIGQ9Ik0xMDguNCAwaDIzdjIyLjhoMjEuMlYwaDIzdjY5aC0yM1Y0NmgtMjF2MjNoLTIzLjJNMjA2IDIzaC0yMC4zVjBoNjMuN3YyM0gyMjl2NDZoLTIzbTUzLjUtNjloMjQuMWwxNC44IDI0LjNMMzEzLjIgMGgyNC4xdjY5aC0yM1YzNC44bC0xNi4xIDI0LjgtMTYuMS0yNC44VjY5aC0yMi42bTg5LjItNjloMjN2NDYuMmgzMi42VjY5aC01NS42Ii8+CiAgPHBhdGggY2xhc3M9ImpwLWljb24tc2VsZWN0YWJsZSIgZmlsbD0iI2U0NGQyNiIgZD0iTTEwNy42IDQ3MWwtMzMtMzcwLjRoMzYyLjhsLTMzIDM3MC4yTDI1NS43IDUxMiIvPgogIDxwYXRoIGNsYXNzPSJqcC1pY29uLXNlbGVjdGFibGUiIGZpbGw9IiNmMTY1MjkiIGQ9Ik0yNTYgNDgwLjVWMTMxaDE0OC4zTDM3NiA0NDciLz4KICA8cGF0aCBjbGFzcz0ianAtaWNvbi1zZWxlY3RhYmxlLWludmVyc2UiIGZpbGw9IiNlYmViZWIiIGQ9Ik0xNDIgMTc2LjNoMTE0djQ1LjRoLTY0LjJsNC4yIDQ2LjVoNjB2NDUuM0gxNTQuNG0yIDIyLjhIMjAybDMuMiAzNi4zIDUwLjggMTMuNnY0Ny40bC05My4yLTI2Ii8+CiAgPHBhdGggY2xhc3M9ImpwLWljb24tc2VsZWN0YWJsZS1pbnZlcnNlIiBmaWxsPSIjZmZmIiBkPSJNMzY5LjYgMTc2LjNIMjU1Ljh2NDUuNGgxMDkuNm0tNC4xIDQ2LjVIMjU1Ljh2NDUuNGg1NmwtNS4zIDU5LTUwLjcgMTMuNnY0Ny4ybDkzLTI1LjgiLz4KPC9zdmc+Cg==);
  --jp-icon-image: url(data:image/svg+xml;base64,PHN2ZyB4bWxucz0iaHR0cDovL3d3dy53My5vcmcvMjAwMC9zdmciIHdpZHRoPSIxNiIgdmlld0JveD0iMCAwIDIyIDIyIj4KICA8cGF0aCBjbGFzcz0ianAtaWNvbi1icmFuZDQganAtaWNvbi1zZWxlY3RhYmxlLWludmVyc2UiIGZpbGw9IiNGRkYiIGQ9Ik0yLjIgMi4yaDE3LjV2MTcuNUgyLjJ6Ii8+CiAgPHBhdGggY2xhc3M9ImpwLWljb24tYnJhbmQwIGpwLWljb24tc2VsZWN0YWJsZSIgZmlsbD0iIzNGNTFCNSIgZD0iTTIuMiAyLjJ2MTcuNWgxNy41bC4xLTE3LjVIMi4yem0xMi4xIDIuMmMxLjIgMCAyLjIgMSAyLjIgMi4ycy0xIDIuMi0yLjIgMi4yLTIuMi0xLTIuMi0yLjIgMS0yLjIgMi4yLTIuMnpNNC40IDE3LjZsMy4zLTguOCAzLjMgNi42IDIuMi0zLjIgNC40IDUuNEg0LjR6Ii8+Cjwvc3ZnPgo=);
  --jp-icon-info: url(data:image/svg+xml;base64,PHN2ZyB4bWxucz0iaHR0cDovL3d3dy53My5vcmcvMjAwMC9zdmciIHdpZHRoPSIxNiIgdmlld0JveD0iMCAwIDUwLjk3OCA1MC45NzgiPgoJPGcgY2xhc3M9ImpwLWljb24zIiBmaWxsPSIjNjE2MTYxIj4KCQk8cGF0aCBkPSJNNDMuNTIsNy40NThDMzguNzExLDIuNjQ4LDMyLjMwNywwLDI1LjQ4OSwwQzE4LjY3LDAsMTIuMjY2LDIuNjQ4LDcuNDU4LDcuNDU4CgkJCWMtOS45NDMsOS45NDEtOS45NDMsMjYuMTE5LDAsMzYuMDYyYzQuODA5LDQuODA5LDExLjIxMiw3LjQ1NiwxOC4wMzEsNy40NThjMCwwLDAuMDAxLDAsMC4wMDIsMAoJCQljNi44MTYsMCwxMy4yMjEtMi42NDgsMTguMDI5LTcuNDU4YzQuODA5LTQuODA5LDcuNDU3LTExLjIxMiw3LjQ1Ny0xOC4wM0M1MC45NzcsMTguNjcsNDguMzI4LDEyLjI2Niw0My41Miw3LjQ1OHoKCQkJIE00Mi4xMDYsNDIuMTA1Yy00LjQzMiw0LjQzMS0xMC4zMzIsNi44NzItMTYuNjE1LDYuODcyaC0wLjAwMmMtNi4yODUtMC4wMDEtMTIuMTg3LTIuNDQxLTE2LjYxNy02Ljg3MgoJCQljLTkuMTYyLTkuMTYzLTkuMTYyLTI0LjA3MSwwLTMzLjIzM0MxMy4zMDMsNC40NCwxOS4yMDQsMiwyNS40ODksMmM2LjI4NCwwLDEyLjE4NiwyLjQ0LDE2LjYxNyw2Ljg3MgoJCQljNC40MzEsNC40MzEsNi44NzEsMTAuMzMyLDYuODcxLDE2LjYxN0M0OC45NzcsMzEuNzcyLDQ2LjUzNiwzNy42NzUsNDIuMTA2LDQyLjEwNXoiLz4KCQk8cGF0aCBkPSJNMjMuNTc4LDMyLjIxOGMtMC4wMjMtMS43MzQsMC4xNDMtMy4wNTksMC40OTYtMy45NzJjMC4zNTMtMC45MTMsMS4xMS0xLjk5NywyLjI3Mi0zLjI1MwoJCQljMC40NjgtMC41MzYsMC45MjMtMS4wNjIsMS4zNjctMS41NzVjMC42MjYtMC43NTMsMS4xMDQtMS40NzgsMS40MzYtMi4xNzVjMC4zMzEtMC43MDcsMC40OTUtMS41NDEsMC40OTUtMi41CgkJCWMwLTEuMDk2LTAuMjYtMi4wODgtMC43NzktMi45NzljLTAuNTY1LTAuODc5LTEuNTAxLTEuMzM2LTIuODA2LTEuMzY5Yy0xLjgwMiwwLjA1Ny0yLjk4NSwwLjY2Ny0zLjU1LDEuODMyCgkJCWMtMC4zMDEsMC41MzUtMC41MDMsMS4xNDEtMC42MDcsMS44MTRjLTAuMTM5LDAuNzA3LTAuMjA3LDEuNDMyLTAuMjA3LDIuMTc0aC0yLjkzN2MtMC4wOTEtMi4yMDgsMC40MDctNC4xMTQsMS40OTMtNS43MTkKCQkJYzEuMDYyLTEuNjQsMi44NTUtMi40ODEsNS4zNzgtMi41MjdjMi4xNiwwLjAyMywzLjg3NCwwLjYwOCw1LjE0MSwxLjc1OGMxLjI3OCwxLjE2LDEuOTI5LDIuNzY0LDEuOTUsNC44MTEKCQkJYzAsMS4xNDItMC4xMzcsMi4xMTEtMC40MSwyLjkxMWMtMC4zMDksMC44NDUtMC43MzEsMS41OTMtMS4yNjgsMi4yNDNjLTAuNDkyLDAuNjUtMS4wNjgsMS4zMTgtMS43MywyLjAwMgoJCQljLTAuNjUsMC42OTctMS4zMTMsMS40NzktMS45ODcsMi4zNDZjLTAuMjM5LDAuMzc3LTAuNDI5LDAuNzc3LTAuNTY1LDEuMTk5Yy0wLjE2LDAuOTU5LTAuMjE3LDEuOTUxLTAuMTcxLDIuOTc5CgkJCUMyNi41ODksMzIuMjE4LDIzLjU3OCwzMi4yMTgsMjMuNTc4LDMyLjIxOHogTTIzLjU3OCwzOC4yMnYtMy40ODRoMy4wNzZ2My40ODRIMjMuNTc4eiIvPgoJPC9nPgo8L3N2Zz4K);
  --jp-icon-inspector: url(data:image/svg+xml;base64,PHN2ZyB4bWxucz0iaHR0cDovL3d3dy53My5vcmcvMjAwMC9zdmciIHdpZHRoPSIxNiIgdmlld0JveD0iMCAwIDI0IDI0Ij4KICA8cGF0aCBjbGFzcz0ianAtaW5zcGVjdG9yLWljb24tY29sb3IganAtaWNvbi1zZWxlY3RhYmxlIiBmaWxsPSIjNjE2MTYxIiBkPSJNMjAgNEg0Yy0xLjEgMC0xLjk5LjktMS45OSAyTDIgMThjMCAxLjEuOSAyIDIgMmgxNmMxLjEgMCAyLS45IDItMlY2YzAtMS4xLS45LTItMi0yem0tNSAxNEg0di00aDExdjR6bTAtNUg0VjloMTF2NHptNSA1aC00VjloNHY5eiIvPgo8L3N2Zz4K);
  --jp-icon-json: url(data:image/svg+xml;base64,PHN2ZyB4bWxucz0iaHR0cDovL3d3dy53My5vcmcvMjAwMC9zdmciIHdpZHRoPSIxNiIgdmlld0JveD0iMCAwIDIyIDIyIj4KICA8ZyBjbGFzcz0ianAtanNvbi1pY29uLWNvbG9yIGpwLWljb24tc2VsZWN0YWJsZSIgZmlsbD0iI0Y5QTgyNSI+CiAgICA8cGF0aCBkPSJNMjAuMiAxMS44Yy0xLjYgMC0xLjcuNS0xLjcgMSAwIC40LjEuOS4xIDEuMy4xLjUuMS45LjEgMS4zIDAgMS43LTEuNCAyLjMtMy41IDIuM2gtLjl2LTEuOWguNWMxLjEgMCAxLjQgMCAxLjQtLjggMC0uMyAwLS42LS4xLTEgMC0uNC0uMS0uOC0uMS0xLjIgMC0xLjMgMC0xLjggMS4zLTItMS4zLS4yLTEuMy0uNy0xLjMtMiAwLS40LjEtLjguMS0xLjIuMS0uNC4xLS43LjEtMSAwLS44LS40LS43LTEuNC0uOGgtLjVWNC4xaC45YzIuMiAwIDMuNS43IDMuNSAyLjMgMCAuNC0uMS45LS4xIDEuMy0uMS41LS4xLjktLjEgMS4zIDAgLjUuMiAxIDEuNyAxdjEuOHpNMS44IDEwLjFjMS42IDAgMS43LS41IDEuNy0xIDAtLjQtLjEtLjktLjEtMS4zLS4xLS41LS4xLS45LS4xLTEuMyAwLTEuNiAxLjQtMi4zIDMuNS0yLjNoLjl2MS45aC0uNWMtMSAwLTEuNCAwLTEuNC44IDAgLjMgMCAuNi4xIDEgMCAuMi4xLjYuMSAxIDAgMS4zIDAgMS44LTEuMyAyQzYgMTEuMiA2IDExLjcgNiAxM2MwIC40LS4xLjgtLjEgMS4yLS4xLjMtLjEuNy0uMSAxIDAgLjguMy44IDEuNC44aC41djEuOWgtLjljLTIuMSAwLTMuNS0uNi0zLjUtMi4zIDAtLjQuMS0uOS4xLTEuMy4xLS41LjEtLjkuMS0xLjMgMC0uNS0uMi0xLTEuNy0xdi0xLjl6Ii8+CiAgICA8Y2lyY2xlIGN4PSIxMSIgY3k9IjEzLjgiIHI9IjIuMSIvPgogICAgPGNpcmNsZSBjeD0iMTEiIGN5PSI4LjIiIHI9IjIuMSIvPgogIDwvZz4KPC9zdmc+Cg==);
  --jp-icon-julia: url(data:image/svg+xml;base64,PHN2ZyB4bWxucz0iaHR0cDovL3d3dy53My5vcmcvMjAwMC9zdmciIHdpZHRoPSIxNiIgdmlld0JveD0iMCAwIDMyNSAzMDAiPgogIDxnIGNsYXNzPSJqcC1icmFuZDAganAtaWNvbi1zZWxlY3RhYmxlIiBmaWxsPSIjY2IzYzMzIj4KICAgIDxwYXRoIGQ9Ik0gMTUwLjg5ODQzOCAyMjUgQyAxNTAuODk4NDM4IDI2Ni40MjE4NzUgMTE3LjMyMDMxMiAzMDAgNzUuODk4NDM4IDMwMCBDIDM0LjQ3NjU2MiAzMDAgMC44OTg0MzggMjY2LjQyMTg3NSAwLjg5ODQzOCAyMjUgQyAwLjg5ODQzOCAxODMuNTc4MTI1IDM0LjQ3NjU2MiAxNTAgNzUuODk4NDM4IDE1MCBDIDExNy4zMjAzMTIgMTUwIDE1MC44OTg0MzggMTgzLjU3ODEyNSAxNTAuODk4NDM4IDIyNSIvPgogIDwvZz4KICA8ZyBjbGFzcz0ianAtYnJhbmQwIGpwLWljb24tc2VsZWN0YWJsZSIgZmlsbD0iIzM4OTgyNiI+CiAgICA8cGF0aCBkPSJNIDIzNy41IDc1IEMgMjM3LjUgMTE2LjQyMTg3NSAyMDMuOTIxODc1IDE1MCAxNjIuNSAxNTAgQyAxMjEuMDc4MTI1IDE1MCA4Ny41IDExNi40MjE4NzUgODcuNSA3NSBDIDg3LjUgMzMuNTc4MTI1IDEyMS4wNzgxMjUgMCAxNjIuNSAwIEMgMjAzLjkyMTg3NSAwIDIzNy41IDMzLjU3ODEyNSAyMzcuNSA3NSIvPgogIDwvZz4KICA8ZyBjbGFzcz0ianAtYnJhbmQwIGpwLWljb24tc2VsZWN0YWJsZSIgZmlsbD0iIzk1NThiMiI+CiAgICA8cGF0aCBkPSJNIDMyNC4xMDE1NjIgMjI1IEMgMzI0LjEwMTU2MiAyNjYuNDIxODc1IDI5MC41MjM0MzggMzAwIDI0OS4xMDE1NjIgMzAwIEMgMjA3LjY3OTY4OCAzMDAgMTc0LjEwMTU2MiAyNjYuNDIxODc1IDE3NC4xMDE1NjIgMjI1IEMgMTc0LjEwMTU2MiAxODMuNTc4MTI1IDIwNy42Nzk2ODggMTUwIDI0OS4xMDE1NjIgMTUwIEMgMjkwLjUyMzQzOCAxNTAgMzI0LjEwMTU2MiAxODMuNTc4MTI1IDMyNC4xMDE1NjIgMjI1Ii8+CiAgPC9nPgo8L3N2Zz4K);
  --jp-icon-jupyter-favicon: url(data:image/svg+xml;base64,PHN2ZyB3aWR0aD0iMTUyIiBoZWlnaHQ9IjE2NSIgdmlld0JveD0iMCAwIDE1MiAxNjUiIHZlcnNpb249IjEuMSIgeG1sbnM9Imh0dHA6Ly93d3cudzMub3JnLzIwMDAvc3ZnIj4KICAgPGcgY2xhc3M9ImpwLWp1cHl0ZXItaWNvbi1jb2xvciIgZmlsbD0iI0YzNzcyNiI+CiAgICA8cGF0aCB0cmFuc2Zvcm09InRyYW5zbGF0ZSgwLjA3ODk0NywgMTEwLjU4MjkyNykiIGQ9Ik03NS45NDIyODQyLDI5LjU4MDQ1NjEgQzQzLjMwMjM5NDcsMjkuNTgwNDU2MSAxNC43OTY3ODMyLDE3LjY1MzQ2MzQgMCwwIEM1LjUxMDgzMjExLDE1Ljg0MDY4MjkgMTUuNzgxNTM4OSwyOS41NjY3NzMyIDI5LjM5MDQ5NDcsMzkuMjc4NDE3MSBDNDIuOTk5Nyw0OC45ODk4NTM3IDU5LjI3MzcsNTQuMjA2NzgwNSA3NS45NjA1Nzg5LDU0LjIwNjc4MDUgQzkyLjY0NzQ1NzksNTQuMjA2NzgwNSAxMDguOTIxNDU4LDQ4Ljk4OTg1MzcgMTIyLjUzMDY2MywzOS4yNzg0MTcxIEMxMzYuMTM5NDUzLDI5LjU2Njc3MzIgMTQ2LjQxMDI4NCwxNS44NDA2ODI5IDE1MS45MjExNTgsMCBDMTM3LjA4Nzg2OCwxNy42NTM0NjM0IDEwOC41ODI1ODksMjkuNTgwNDU2MSA3NS45NDIyODQyLDI5LjU4MDQ1NjEgTDc1Ljk0MjI4NDIsMjkuNTgwNDU2MSBaIiAvPgogICAgPHBhdGggdHJhbnNmb3JtPSJ0cmFuc2xhdGUoMC4wMzczNjgsIDAuNzA0ODc4KSIgZD0iTTc1Ljk3ODQ1NzksMjQuNjI2NDA3MyBDMTA4LjYxODc2MywyNC42MjY0MDczIDEzNy4xMjQ0NTgsMzYuNTUzNDQxNSAxNTEuOTIxMTU4LDU0LjIwNjc4MDUgQzE0Ni40MTAyODQsMzguMzY2MjIyIDEzNi4xMzk0NTMsMjQuNjQwMTMxNyAxMjIuNTMwNjYzLDE0LjkyODQ4NzggQzEwOC45MjE0NTgsNS4yMTY4NDM5IDkyLjY0NzQ1NzksMCA3NS45NjA1Nzg5LDAgQzU5LjI3MzcsMCA0Mi45OTk3LDUuMjE2ODQzOSAyOS4zOTA0OTQ3LDE0LjkyODQ4NzggQzE1Ljc4MTUzODksMjQuNjQwMTMxNyA1LjUxMDgzMjExLDM4LjM2NjIyMiAwLDU0LjIwNjc4MDUgQzE0LjgzMzA4MTYsMzYuNTg5OTI5MyA0My4zMzg1Njg0LDI0LjYyNjQwNzMgNzUuOTc4NDU3OSwyNC42MjY0MDczIEw3NS45Nzg0NTc5LDI0LjYyNjQwNzMgWiIgLz4KICA8L2c+Cjwvc3ZnPgo=);
  --jp-icon-jupyter: url(data:image/svg+xml;base64,PHN2ZyB3aWR0aD0iMzkiIGhlaWdodD0iNTEiIHZpZXdCb3g9IjAgMCAzOSA1MSIgeG1sbnM9Imh0dHA6Ly93d3cudzMub3JnLzIwMDAvc3ZnIj4KICA8ZyB0cmFuc2Zvcm09InRyYW5zbGF0ZSgtMTYzOCAtMjI4MSkiPgogICAgIDxnIGNsYXNzPSJqcC1qdXB5dGVyLWljb24tY29sb3IiIGZpbGw9IiNGMzc3MjYiPgogICAgICA8cGF0aCB0cmFuc2Zvcm09InRyYW5zbGF0ZSgxNjM5Ljc0IDIzMTEuOTgpIiBkPSJNIDE4LjI2NDYgNy4xMzQxMUMgMTAuNDE0NSA3LjEzNDExIDMuNTU4NzIgNC4yNTc2IDAgMEMgMS4zMjUzOSAzLjgyMDQgMy43OTU1NiA3LjEzMDgxIDcuMDY4NiA5LjQ3MzAzQyAxMC4zNDE3IDExLjgxNTIgMTQuMjU1NyAxMy4wNzM0IDE4LjI2OSAxMy4wNzM0QyAyMi4yODIzIDEzLjA3MzQgMjYuMTk2MyAxMS44MTUyIDI5LjQ2OTQgOS40NzMwM0MgMzIuNzQyNCA3LjEzMDgxIDM1LjIxMjYgMy44MjA0IDM2LjUzOCAwQyAzMi45NzA1IDQuMjU3NiAyNi4xMTQ4IDcuMTM0MTEgMTguMjY0NiA3LjEzNDExWiIvPgogICAgICA8cGF0aCB0cmFuc2Zvcm09InRyYW5zbGF0ZSgxNjM5LjczIDIyODUuNDgpIiBkPSJNIDE4LjI3MzMgNS45MzkzMUMgMjYuMTIzNSA1LjkzOTMxIDMyLjk3OTMgOC44MTU4MyAzNi41MzggMTMuMDczNEMgMzUuMjEyNiA5LjI1MzAzIDMyLjc0MjQgNS45NDI2MiAyOS40Njk0IDMuNjAwNEMgMjYuMTk2MyAxLjI1ODE4IDIyLjI4MjMgMCAxOC4yNjkgMEMgMTQuMjU1NyAwIDEwLjM0MTcgMS4yNTgxOCA3LjA2ODYgMy42MDA0QyAzLjc5NTU2IDUuOTQyNjIgMS4zMjUzOSA5LjI1MzAzIDAgMTMuMDczNEMgMy41Njc0NSA4LjgyNDYzIDEwLjQyMzIgNS45MzkzMSAxOC4yNzMzIDUuOTM5MzFaIi8+CiAgICA8L2c+CiAgICA8ZyBjbGFzcz0ianAtaWNvbjMiIGZpbGw9IiM2MTYxNjEiPgogICAgICA8cGF0aCB0cmFuc2Zvcm09InRyYW5zbGF0ZSgxNjY5LjMgMjI4MS4zMSkiIGQ9Ik0gNS44OTM1MyAyLjg0NEMgNS45MTg4OSAzLjQzMTY1IDUuNzcwODUgNC4wMTM2NyA1LjQ2ODE1IDQuNTE2NDVDIDUuMTY1NDUgNS4wMTkyMiA0LjcyMTY4IDUuNDIwMTUgNC4xOTI5OSA1LjY2ODUxQyAzLjY2NDMgNS45MTY4OCAzLjA3NDQ0IDYuMDAxNTEgMi40OTgwNSA1LjkxMTcxQyAxLjkyMTY2IDUuODIxOSAxLjM4NDYzIDUuNTYxNyAwLjk1NDg5OCA1LjE2NDAxQyAwLjUyNTE3IDQuNzY2MzMgMC4yMjIwNTYgNC4yNDkwMyAwLjA4MzkwMzcgMy42Nzc1N0MgLTAuMDU0MjQ4MyAzLjEwNjExIC0wLjAyMTIzIDIuNTA2MTcgMC4xNzg3ODEgMS45NTM2NEMgMC4zNzg3OTMgMS40MDExIDAuNzM2ODA5IDAuOTIwODE3IDEuMjA3NTQgMC41NzM1MzhDIDEuNjc4MjYgMC4yMjYyNTkgMi4yNDA1NSAwLjAyNzU5MTkgMi44MjMyNiAwLjAwMjY3MjI5QyAzLjYwMzg5IC0wLjAzMDcxMTUgNC4zNjU3MyAwLjI0OTc4OSA0Ljk0MTQyIDAuNzgyNTUxQyA1LjUxNzExIDEuMzE1MzEgNS44NTk1NiAyLjA1Njc2IDUuODkzNTMgMi44NDRaIi8+CiAgICAgIDxwYXRoIHRyYW5zZm9ybT0idHJhbnNsYXRlKDE2MzkuOCAyMzIzLjgxKSIgZD0iTSA3LjQyNzg5IDMuNTgzMzhDIDcuNDYwMDggNC4zMjQzIDcuMjczNTUgNS4wNTgxOSA2Ljg5MTkzIDUuNjkyMTNDIDYuNTEwMzEgNi4zMjYwNyA1Ljk1MDc1IDYuODMxNTYgNS4yODQxMSA3LjE0NDZDIDQuNjE3NDcgNy40NTc2MyAzLjg3MzcxIDcuNTY0MTQgMy4xNDcwMiA3LjQ1MDYzQyAyLjQyMDMyIDcuMzM3MTIgMS43NDMzNiA3LjAwODcgMS4yMDE4NCA2LjUwNjk1QyAwLjY2MDMyOCA2LjAwNTIgMC4yNzg2MSA1LjM1MjY4IDAuMTA1MDE3IDQuNjMyMDJDIC0wLjA2ODU3NTcgMy45MTEzNSAtMC4wMjYyMzYxIDMuMTU0OTQgMC4yMjY2NzUgMi40NTg1NkMgMC40Nzk1ODcgMS43NjIxNyAwLjkzMTY5NyAxLjE1NzEzIDEuNTI1NzYgMC43MjAwMzNDIDIuMTE5ODMgMC4yODI5MzUgMi44MjkxNCAwLjAzMzQzOTUgMy41NjM4OSAwLjAwMzEzMzQ0QyA0LjU0NjY3IC0wLjAzNzQwMzMgNS41MDUyOSAwLjMxNjcwNiA2LjIyOTYxIDAuOTg3ODM1QyA2Ljk1MzkzIDEuNjU4OTYgNy4zODQ4NCAyLjU5MjM1IDcuNDI3ODkgMy41ODMzOEwgNy40Mjc4OSAzLjU4MzM4WiIvPgogICAgICA8cGF0aCB0cmFuc2Zvcm09InRyYW5zbGF0ZSgxNjM4LjM2IDIyODYuMDYpIiBkPSJNIDIuMjc0NzEgNC4zOTYyOUMgMS44NDM2MyA0LjQxNTA4IDEuNDE2NzEgNC4zMDQ0NSAxLjA0Nzk5IDQuMDc4NDNDIDAuNjc5MjY4IDMuODUyNCAwLjM4NTMyOCAzLjUyMTE0IDAuMjAzMzcxIDMuMTI2NTZDIDAuMDIxNDEzNiAyLjczMTk4IC0wLjA0MDM3OTggMi4yOTE4MyAwLjAyNTgxMTYgMS44NjE4MUMgMC4wOTIwMDMxIDEuNDMxOCAwLjI4MzIwNCAxLjAzMTI2IDAuNTc1MjEzIDAuNzEwODgzQyAwLjg2NzIyMiAwLjM5MDUxIDEuMjQ2OTEgMC4xNjQ3MDggMS42NjYyMiAwLjA2MjA1OTJDIDIuMDg1NTMgLTAuMDQwNTg5NyAyLjUyNTYxIC0wLjAxNTQ3MTQgMi45MzA3NiAwLjEzNDIzNUMgMy4zMzU5MSAwLjI4Mzk0MSAzLjY4NzkyIDAuNTUxNTA1IDMuOTQyMjIgMC45MDMwNkMgNC4xOTY1MiAxLjI1NDYyIDQuMzQxNjkgMS42NzQzNiA0LjM1OTM1IDIuMTA5MTZDIDQuMzgyOTkgMi42OTEwNyA0LjE3Njc4IDMuMjU4NjkgMy43ODU5NyAzLjY4NzQ2QyAzLjM5NTE2IDQuMTE2MjQgMi44NTE2NiA0LjM3MTE2IDIuMjc0NzEgNC4zOTYyOUwgMi4yNzQ3MSA0LjM5NjI5WiIvPgogICAgPC9nPgogIDwvZz4+Cjwvc3ZnPgo=);
  --jp-icon-jupyterlab-wordmark: url(data:image/svg+xml;base64,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);
  --jp-icon-kernel: url(data:image/svg+xml;base64,PHN2ZyB4bWxucz0iaHR0cDovL3d3dy53My5vcmcvMjAwMC9zdmciIHdpZHRoPSIxNiIgdmlld0JveD0iMCAwIDI0IDI0Ij4KICAgIDxwYXRoIGNsYXNzPSJqcC1pY29uMiIgZmlsbD0iIzYxNjE2MSIgZD0iTTE1IDlIOXY2aDZWOXptLTIgNGgtMnYtMmgydjJ6bTgtMlY5aC0yVjdjMC0xLjEtLjktMi0yLTJoLTJWM2gtMnYyaC0yVjNIOXYySDdjLTEuMSAwLTIgLjktMiAydjJIM3YyaDJ2MkgzdjJoMnYyYzAgMS4xLjkgMiAyIDJoMnYyaDJ2LTJoMnYyaDJ2LTJoMmMxLjEgMCAyLS45IDItMnYtMmgydi0yaC0ydi0yaDJ6bS00IDZIN1Y3aDEwdjEweiIvPgo8L3N2Zz4K);
  --jp-icon-keyboard: url(data:image/svg+xml;base64,PHN2ZyB4bWxucz0iaHR0cDovL3d3dy53My5vcmcvMjAwMC9zdmciIHdpZHRoPSIxNiIgdmlld0JveD0iMCAwIDI0IDI0Ij4KICA8cGF0aCBjbGFzcz0ianAtaWNvbjMganAtaWNvbi1zZWxlY3RhYmxlIiBmaWxsPSIjNjE2MTYxIiBkPSJNMjAgNUg0Yy0xLjEgMC0xLjk5LjktMS45OSAyTDIgMTdjMCAxLjEuOSAyIDIgMmgxNmMxLjEgMCAyLS45IDItMlY3YzAtMS4xLS45LTItMi0yem0tOSAzaDJ2MmgtMlY4em0wIDNoMnYyaC0ydi0yek04IDhoMnYySDhWOHptMCAzaDJ2Mkg4di0yem0tMSAySDV2LTJoMnYyem0wLTNINVY4aDJ2MnptOSA3SDh2LTJoOHYyem0wLTRoLTJ2LTJoMnYyem0wLTNoLTJWOGgydjJ6bTMgM2gtMnYtMmgydjJ6bTAtM2gtMlY4aDJ2MnoiLz4KPC9zdmc+Cg==);
  --jp-icon-launch: url(data:image/svg+xml;base64,PHN2ZyB2aWV3Qm94PSIwIDAgMzIgMzIiIHdpZHRoPSIzMiIgeG1sbnM9Imh0dHA6Ly93d3cudzMub3JnLzIwMDAvc3ZnIj4KICA8ZyBjbGFzcz0ianAtaWNvbjMganAtaWNvbi1zZWxlY3RhYmxlIiBmaWxsPSIjNjE2MTYxIj4KICAgIDxwYXRoIGQ9Ik0yNiwyOEg2YTIuMDAyNywyLjAwMjcsMCwwLDEtMi0yVjZBMi4wMDI3LDIuMDAyNywwLDAsMSw2LDRIMTZWNkg2VjI2SDI2VjE2aDJWMjZBMi4wMDI3LDIuMDAyNywwLDAsMSwyNiwyOFoiLz4KICAgIDxwb2x5Z29uIHBvaW50cz0iMjAgMiAyMCA0IDI2LjU4NiA0IDE4IDEyLjU4NiAxOS40MTQgMTQgMjggNS40MTQgMjggMTIgMzAgMTIgMzAgMiAyMCAyIi8+CiAgPC9nPgo8L3N2Zz4K);
  --jp-icon-launcher: url(data:image/svg+xml;base64,PHN2ZyB4bWxucz0iaHR0cDovL3d3dy53My5vcmcvMjAwMC9zdmciIHdpZHRoPSIxNiIgdmlld0JveD0iMCAwIDI0IDI0Ij4KICA8cGF0aCBjbGFzcz0ianAtaWNvbjMganAtaWNvbi1zZWxlY3RhYmxlIiBmaWxsPSIjNjE2MTYxIiBkPSJNMTkgMTlINVY1aDdWM0g1YTIgMiAwIDAwLTIgMnYxNGEyIDIgMCAwMDIgMmgxNGMxLjEgMCAyLS45IDItMnYtN2gtMnY3ek0xNCAzdjJoMy41OWwtOS44MyA5LjgzIDEuNDEgMS40MUwxOSA2LjQxVjEwaDJWM2gtN3oiLz4KPC9zdmc+Cg==);
  --jp-icon-line-form: url(data:image/svg+xml;base64,PHN2ZyB4bWxucz0iaHR0cDovL3d3dy53My5vcmcvMjAwMC9zdmciIHdpZHRoPSIxNiIgdmlld0JveD0iMCAwIDI0IDI0Ij4KICAgIDxwYXRoIGZpbGw9IndoaXRlIiBkPSJNNS44OCA0LjEyTDEzLjc2IDEybC03Ljg4IDcuODhMOCAyMmwxMC0xMEw4IDJ6Ii8+Cjwvc3ZnPgo=);
  --jp-icon-link: url(data:image/svg+xml;base64,PHN2ZyB2aWV3Qm94PSIwIDAgMjQgMjQiIHdpZHRoPSIxNiIgeG1sbnM9Imh0dHA6Ly93d3cudzMub3JnLzIwMDAvc3ZnIj4KICA8ZyBjbGFzcz0ianAtaWNvbjMiIGZpbGw9IiM2MTYxNjEiPgogICAgPHBhdGggZD0iTTMuOSAxMmMwLTEuNzEgMS4zOS0zLjEgMy4xLTMuMWg0VjdIN2MtMi43NiAwLTUgMi4yNC01IDVzMi4yNCA1IDUgNWg0di0xLjlIN2MtMS43MSAwLTMuMS0xLjM5LTMuMS0zLjF6TTggMTNoOHYtMkg4djJ6bTktNmgtNHYxLjloNGMxLjcxIDAgMy4xIDEuMzkgMy4xIDMuMXMtMS4zOSAzLjEtMy4xIDMuMWgtNFYxN2g0YzIuNzYgMCA1LTIuMjQgNS01cy0yLjI0LTUtNS01eiIvPgogIDwvZz4KPC9zdmc+Cg==);
  --jp-icon-list: url(data:image/svg+xml;base64,PHN2ZyB4bWxucz0iaHR0cDovL3d3dy53My5vcmcvMjAwMC9zdmciIHdpZHRoPSIxNiIgdmlld0JveD0iMCAwIDI0IDI0Ij4KICAgIDxwYXRoIGNsYXNzPSJqcC1pY29uMiBqcC1pY29uLXNlbGVjdGFibGUiIGZpbGw9IiM2MTYxNjEiIGQ9Ik0xOSA1djE0SDVWNWgxNG0xLjEtMkgzLjljLS41IDAtLjkuNC0uOS45djE2LjJjMCAuNC40LjkuOS45aDE2LjJjLjQgMCAuOS0uNS45LS45VjMuOWMwLS41LS41LS45LS45LS45ek0xMSA3aDZ2MmgtNlY3em0wIDRoNnYyaC02di0yem0wIDRoNnYyaC02ek03IDdoMnYySDd6bTAgNGgydjJIN3ptMCA0aDJ2Mkg3eiIvPgo8L3N2Zz4K);
  --jp-icon-markdown: url(data:image/svg+xml;base64,PHN2ZyB4bWxucz0iaHR0cDovL3d3dy53My5vcmcvMjAwMC9zdmciIHdpZHRoPSIxNiIgdmlld0JveD0iMCAwIDIyIDIyIj4KICA8cGF0aCBjbGFzcz0ianAtaWNvbi1jb250cmFzdDAganAtaWNvbi1zZWxlY3RhYmxlIiBmaWxsPSIjN0IxRkEyIiBkPSJNNSAxNC45aDEybC02LjEgNnptOS40LTYuOGMwLTEuMy0uMS0yLjktLjEtNC41LS40IDEuNC0uOSAyLjktMS4zIDQuM2wtMS4zIDQuM2gtMkw4LjUgNy45Yy0uNC0xLjMtLjctMi45LTEtNC4zLS4xIDEuNi0uMSAzLjItLjIgNC42TDcgMTIuNEg0LjhsLjctMTFoMy4zTDEwIDVjLjQgMS4yLjcgMi43IDEgMy45LjMtMS4yLjctMi42IDEtMy45bDEuMi0zLjdoMy4zbC42IDExaC0yLjRsLS4zLTQuMnoiLz4KPC9zdmc+Cg==);
  --jp-icon-move-down: url(data:image/svg+xml;base64,PHN2ZyB3aWR0aD0iMTQiIGhlaWdodD0iMTQiIHZpZXdCb3g9IjAgMCAxNCAxNCIgZmlsbD0ibm9uZSIgeG1sbnM9Imh0dHA6Ly93d3cudzMub3JnLzIwMDAvc3ZnIj4KPHBhdGggY2xhc3M9ImpwLWljb24zIiBkPSJNMTIuNDcxIDcuNTI4OTlDMTIuNzYzMiA3LjIzNjg0IDEyLjc2MzIgNi43NjMxNiAxMi40NzEgNi40NzEwMVY2LjQ3MTAxQzEyLjE3OSA2LjE3OTA1IDExLjcwNTcgNi4xNzg4NCAxMS40MTM1IDYuNDcwNTRMNy43NSAxMC4xMjc1VjEuNzVDNy43NSAxLjMzNTc5IDcuNDE0MjEgMSA3IDFWMUM2LjU4NTc5IDEgNi4yNSAxLjMzNTc5IDYuMjUgMS43NVYxMC4xMjc1TDIuNTk3MjYgNi40NjgyMkMyLjMwMzM4IDYuMTczODEgMS44MjY0MSA2LjE3MzU5IDEuNTMyMjYgNi40Njc3NFY2LjQ2Nzc0QzEuMjM4MyA2Ljc2MTcgMS4yMzgzIDcuMjM4MyAxLjUzMjI2IDcuNTMyMjZMNi4yOTI4OSAxMi4yOTI5QzYuNjgzNDIgMTIuNjgzNCA3LjMxNjU4IDEyLjY4MzQgNy43MDcxMSAxMi4yOTI5TDEyLjQ3MSA3LjUyODk5WiIgZmlsbD0iIzYxNjE2MSIvPgo8L3N2Zz4K);
  --jp-icon-move-up: url(data:image/svg+xml;base64,PHN2ZyB3aWR0aD0iMTQiIGhlaWdodD0iMTQiIHZpZXdCb3g9IjAgMCAxNCAxNCIgZmlsbD0ibm9uZSIgeG1sbnM9Imh0dHA6Ly93d3cudzMub3JnLzIwMDAvc3ZnIj4KPHBhdGggY2xhc3M9ImpwLWljb24zIiBkPSJNMS41Mjg5OSA2LjQ3MTAxQzEuMjM2ODQgNi43NjMxNiAxLjIzNjg0IDcuMjM2ODQgMS41Mjg5OSA3LjUyODk5VjcuNTI4OTlDMS44MjA5NSA3LjgyMDk1IDIuMjk0MjYgNy44MjExNiAyLjU4NjQ5IDcuNTI5NDZMNi4yNSAzLjg3MjVWMTIuMjVDNi4yNSAxMi42NjQyIDYuNTg1NzkgMTMgNyAxM1YxM0M3LjQxNDIxIDEzIDcuNzUgMTIuNjY0MiA3Ljc1IDEyLjI1VjMuODcyNUwxMS40MDI3IDcuNTMxNzhDMTEuNjk2NiA3LjgyNjE5IDEyLjE3MzYgNy44MjY0MSAxMi40Njc3IDcuNTMyMjZWNy41MzIyNkMxMi43NjE3IDcuMjM4MyAxMi43NjE3IDYuNzYxNyAxMi40Njc3IDYuNDY3NzRMNy43MDcxMSAxLjcwNzExQzcuMzE2NTggMS4zMTY1OCA2LjY4MzQyIDEuMzE2NTggNi4yOTI4OSAxLjcwNzExTDEuNTI4OTkgNi40NzEwMVoiIGZpbGw9IiM2MTYxNjEiLz4KPC9zdmc+Cg==);
  --jp-icon-new-folder: url(data:image/svg+xml;base64,PHN2ZyB4bWxucz0iaHR0cDovL3d3dy53My5vcmcvMjAwMC9zdmciIHdpZHRoPSIxNiIgdmlld0JveD0iMCAwIDI0IDI0Ij4KICA8ZyBjbGFzcz0ianAtaWNvbjMiIGZpbGw9IiM2MTYxNjEiPgogICAgPHBhdGggZD0iTTIwIDZoLThsLTItMkg0Yy0xLjExIDAtMS45OS44OS0xLjk5IDJMMiAxOGMwIDEuMTEuODkgMiAyIDJoMTZjMS4xMSAwIDItLjg5IDItMlY4YzAtMS4xMS0uODktMi0yLTJ6bS0xIDhoLTN2M2gtMnYtM2gtM3YtMmgzVjloMnYzaDN2MnoiLz4KICA8L2c+Cjwvc3ZnPgo=);
  --jp-icon-not-trusted: url(data:image/svg+xml;base64,PHN2ZyBmaWxsPSJub25lIiB4bWxucz0iaHR0cDovL3d3dy53My5vcmcvMjAwMC9zdmciIHdpZHRoPSIxNiIgdmlld0JveD0iMCAwIDI1IDI1Ij4KICAgIDxwYXRoIGNsYXNzPSJqcC1pY29uMiIgc3Ryb2tlPSIjMzMzMzMzIiBzdHJva2Utd2lkdGg9IjIiIHRyYW5zZm9ybT0idHJhbnNsYXRlKDMgMykiIGQ9Ik0xLjg2MDk0IDExLjQ0MDlDMC44MjY0NDggOC43NzAyNyAwLjg2Mzc3OSA2LjA1NzY0IDEuMjQ5MDcgNC4xOTkzMkMyLjQ4MjA2IDMuOTMzNDcgNC4wODA2OCAzLjQwMzQ3IDUuNjAxMDIgMi44NDQ5QzcuMjM1NDkgMi4yNDQ0IDguODU2NjYgMS41ODE1IDkuOTg3NiAxLjA5NTM5QzExLjA1OTcgMS41ODM0MSAxMi42MDk0IDIuMjQ0NCAxNC4yMTggMi44NDMzOUMxNS43NTAzIDMuNDEzOTQgMTcuMzk5NSAzLjk1MjU4IDE4Ljc1MzkgNC4yMTM4NUMxOS4xMzY0IDYuMDcxNzcgMTkuMTcwOSA4Ljc3NzIyIDE4LjEzOSAxMS40NDA5QzE3LjAzMDMgMTQuMzAzMiAxNC42NjY4IDE3LjE4NDQgOS45OTk5OSAxOC45MzU0QzUuMzMzMTkgMTcuMTg0NCAyLjk2OTY4IDE0LjMwMzIgMS44NjA5NCAxMS40NDA5WiIvPgogICAgPHBhdGggY2xhc3M9ImpwLWljb24yIiBzdHJva2U9IiMzMzMzMzMiIHN0cm9rZS13aWR0aD0iMiIgdHJhbnNmb3JtPSJ0cmFuc2xhdGUoOS4zMTU5MiA5LjMyMDMxKSIgZD0iTTcuMzY4NDIgMEwwIDcuMzY0NzkiLz4KICAgIDxwYXRoIGNsYXNzPSJqcC1pY29uMiIgc3Ryb2tlPSIjMzMzMzMzIiBzdHJva2Utd2lkdGg9IjIiIHRyYW5zZm9ybT0idHJhbnNsYXRlKDkuMzE1OTIgMTYuNjgzNikgc2NhbGUoMSAtMSkiIGQ9Ik03LjM2ODQyIDBMMCA3LjM2NDc5Ii8+Cjwvc3ZnPgo=);
  --jp-icon-notebook: url(data:image/svg+xml;base64,PHN2ZyB4bWxucz0iaHR0cDovL3d3dy53My5vcmcvMjAwMC9zdmciIHdpZHRoPSIxNiIgdmlld0JveD0iMCAwIDIyIDIyIj4KICA8ZyBjbGFzcz0ianAtbm90ZWJvb2staWNvbi1jb2xvciBqcC1pY29uLXNlbGVjdGFibGUiIGZpbGw9IiNFRjZDMDAiPgogICAgPHBhdGggZD0iTTE4LjcgMy4zdjE1LjRIMy4zVjMuM2gxNS40bTEuNS0xLjVIMS44djE4LjNoMTguM2wuMS0xOC4zeiIvPgogICAgPHBhdGggZD0iTTE2LjUgMTYuNWwtNS40LTQuMy01LjYgNC4zdi0xMWgxMXoiLz4KICA8L2c+Cjwvc3ZnPgo=);
  --jp-icon-numbering: url(data:image/svg+xml;base64,PHN2ZyB3aWR0aD0iMjIiIGhlaWdodD0iMjIiIHZpZXdCb3g9IjAgMCAyOCAyOCIgeG1sbnM9Imh0dHA6Ly93d3cudzMub3JnLzIwMDAvc3ZnIj4KCTxnIGNsYXNzPSJqcC1pY29uMyIgZmlsbD0iIzYxNjE2MSI+CgkJPHBhdGggZD0iTTQgMTlINlYxOS41SDVWMjAuNUg2VjIxSDRWMjJIN1YxOEg0VjE5Wk01IDEwSDZWNkg0VjdINVYxMFpNNCAxM0g1LjhMNCAxNS4xVjE2SDdWMTVINS4yTDcgMTIuOVYxMkg0VjEzWk05IDdWOUgyM1Y3SDlaTTkgMjFIMjNWMTlIOVYyMVpNOSAxNUgyM1YxM0g5VjE1WiIvPgoJPC9nPgo8L3N2Zz4K);
  --jp-icon-offline-bolt: url(data:image/svg+xml;base64,PHN2ZyB4bWxucz0iaHR0cDovL3d3dy53My5vcmcvMjAwMC9zdmciIHZpZXdCb3g9IjAgMCAyNCAyNCIgd2lkdGg9IjE2Ij4KICA8ZyBjbGFzcz0ianAtaWNvbjMiIGZpbGw9IiM2MTYxNjEiPgogICAgPHBhdGggZD0iTTEyIDIuMDJjLTUuNTEgMC05Ljk4IDQuNDctOS45OCA5Ljk4czQuNDcgOS45OCA5Ljk4IDkuOTggOS45OC00LjQ3IDkuOTgtOS45OFMxNy41MSAyLjAyIDEyIDIuMDJ6TTExLjQ4IDIwdi02LjI2SDhMMTMgNHY2LjI2aDMuMzVMMTEuNDggMjB6Ii8+CiAgPC9nPgo8L3N2Zz4K);
  --jp-icon-palette: url(data:image/svg+xml;base64,PHN2ZyB4bWxucz0iaHR0cDovL3d3dy53My5vcmcvMjAwMC9zdmciIHdpZHRoPSIxNiIgdmlld0JveD0iMCAwIDI0IDI0Ij4KICA8ZyBjbGFzcz0ianAtaWNvbjMiIGZpbGw9IiM2MTYxNjEiPgogICAgPHBhdGggZD0iTTE4IDEzVjIwSDRWNkg5LjAyQzkuMDcgNS4yOSA5LjI0IDQuNjIgOS41IDRINEMyLjkgNCAyIDQuOSAyIDZWMjBDMiAyMS4xIDIuOSAyMiA0IDIySDE4QzE5LjEgMjIgMjAgMjEuMSAyMCAyMFYxNUwxOCAxM1pNMTkuMyA4Ljg5QzE5Ljc0IDguMTkgMjAgNy4zOCAyMCA2LjVDMjAgNC4wMSAxNy45OSAyIDE1LjUgMkMxMy4wMSAyIDExIDQuMDEgMTEgNi41QzExIDguOTkgMTMuMDEgMTEgMTUuNDkgMTFDMTYuMzcgMTEgMTcuMTkgMTAuNzQgMTcuODggMTAuM0wyMSAxMy40MkwyMi40MiAxMkwxOS4zIDguODlaTTE1LjUgOUMxNC4xMiA5IDEzIDcuODggMTMgNi41QzEzIDUuMTIgMTQuMTIgNCAxNS41IDRDMTYuODggNCAxOCA1LjEyIDE4IDYuNUMxOCA3Ljg4IDE2Ljg4IDkgMTUuNSA5WiIvPgogICAgPHBhdGggZmlsbC1ydWxlPSJldmVub2RkIiBjbGlwLXJ1bGU9ImV2ZW5vZGQiIGQ9Ik00IDZIOS4wMTg5NEM5LjAwNjM5IDYuMTY1MDIgOSA2LjMzMTc2IDkgNi41QzkgOC44MTU3NyAxMC4yMTEgMTAuODQ4NyAxMi4wMzQzIDEySDlWMTRIMTZWMTIuOTgxMUMxNi41NzAzIDEyLjkzNzcgMTcuMTIgMTIuODIwNyAxNy42Mzk2IDEyLjYzOTZMMTggMTNWMjBINFY2Wk04IDhINlYxMEg4VjhaTTYgMTJIOFYxNEg2VjEyWk04IDE2SDZWMThIOFYxNlpNOSAxNkgxNlYxOEg5VjE2WiIvPgogIDwvZz4KPC9zdmc+Cg==);
  --jp-icon-paste: url(data:image/svg+xml;base64,PHN2ZyBoZWlnaHQ9IjI0IiB2aWV3Qm94PSIwIDAgMjQgMjQiIHdpZHRoPSIyNCIgeG1sbnM9Imh0dHA6Ly93d3cudzMub3JnLzIwMDAvc3ZnIj4KICAgIDxnIGNsYXNzPSJqcC1pY29uMyIgZmlsbD0iIzYxNjE2MSI+CiAgICAgICAgPHBhdGggZD0iTTE5IDJoLTQuMThDMTQuNC44NCAxMy4zIDAgMTIgMGMtMS4zIDAtMi40Ljg0LTIuODIgMkg1Yy0xLjEgMC0yIC45LTIgMnYxNmMwIDEuMS45IDIgMiAyaDE0YzEuMSAwIDItLjkgMi0yVjRjMC0xLjEtLjktMi0yLTJ6bS03IDBjLjU1IDAgMSAuNDUgMSAxcy0uNDUgMS0xIDEtMS0uNDUtMS0xIC40NS0xIDEtMXptNyAxOEg1VjRoMnYzaDEwVjRoMnYxNnoiLz4KICAgIDwvZz4KPC9zdmc+Cg==);
  --jp-icon-pdf: url(data:image/svg+xml;base64,PHN2ZwogICB4bWxucz0iaHR0cDovL3d3dy53My5vcmcvMjAwMC9zdmciIHZpZXdCb3g9IjAgMCAyMiAyMiIgd2lkdGg9IjE2Ij4KICAgIDxwYXRoIHRyYW5zZm9ybT0icm90YXRlKDQ1KSIgY2xhc3M9ImpwLWljb24tc2VsZWN0YWJsZSIgZmlsbD0iI0ZGMkEyQSIKICAgICAgIGQ9Im0gMjIuMzQ0MzY5LC0zLjAxNjM2NDIgaCA1LjYzODYwNCB2IDEuNTc5MjQzMyBoIC0zLjU0OTIyNyB2IDEuNTA4NjkyOTkgaCAzLjMzNzU3NiBWIDEuNjUwODE1NCBoIC0zLjMzNzU3NiB2IDMuNDM1MjYxMyBoIC0yLjA4OTM3NyB6IG0gLTcuMTM2NDQ0LDEuNTc5MjQzMyB2IDQuOTQzOTU0MyBoIDAuNzQ4OTIgcSAxLjI4MDc2MSwwIDEuOTUzNzAzLC0wLjYzNDk1MzUgMC42NzgzNjksLTAuNjM0OTUzNSAwLjY3ODM2OSwtMS44NDUxNjQxIDAsLTEuMjA0NzgzNTUgLTAuNjcyOTQyLC0xLjgzNDMxMDExIC0wLjY3Mjk0MiwtMC42Mjk1MjY1OSAtMS45NTkxMywtMC42Mjk1MjY1OSB6IG0gLTIuMDg5Mzc3LC0xLjU3OTI0MzMgaCAyLjIwMzM0MyBxIDEuODQ1MTY0LDAgMi43NDYwMzksMC4yNjU5MjA3IDAuOTA2MzAxLDAuMjYwNDkzNyAxLjU1MjEwOCwwLjg5MDAyMDMgMC41Njk4MywwLjU0ODEyMjMgMC44NDY2MDUsMS4yNjQ0ODAwNiAwLjI3Njc3NCwwLjcxNjM1NzgxIDAuMjc2Nzc0LDEuNjIyNjU4OTQgMCwwLjkxNzE1NTEgLTAuMjc2Nzc0LDEuNjM4OTM5OSAtMC4yNzY3NzUsMC43MTYzNTc4IC0wLjg0NjYwNSwxLjI2NDQ4IC0wLjY1MTIzNCwwLjYyOTUyNjYgLTEuNTYyOTYyLDAuODk1NDQ3MyAtMC45MTE3MjgsMC4yNjA0OTM3IC0yLjczNTE4NSwwLjI2MDQ5MzcgaCAtMi4yMDMzNDMgeiBtIC04LjE0NTg1NjUsMCBoIDMuNDY3ODIzIHEgMS41NDY2ODE2LDAgMi4zNzE1Nzg1LDAuNjg5MjIzIDAuODMwMzI0LDAuNjgzNzk2MSAwLjgzMDMyNCwxLjk1MzcwMzE0IDAsMS4yNzUzMzM5NyAtMC44MzAzMjQsMS45NjQ1NTcwNiBRIDkuOTg3MTk2MSwyLjI3NDkxNSA4LjQ0MDUxNDUsMi4yNzQ5MTUgSCA3LjA2MjA2ODQgViA1LjA4NjA3NjcgSCA0Ljk3MjY5MTUgWiBtIDIuMDg5Mzc2OSwxLjUxNDExOTkgdiAyLjI2MzAzOTQzIGggMS4xNTU5NDEgcSAwLjYwNzgxODgsMCAwLjkzODg2MjksLTAuMjkzMDU1NDcgMC4zMzEwNDQxLC0wLjI5ODQ4MjQxIDAuMzMxMDQ0MSwtMC44NDExNzc3MiAwLC0wLjU0MjY5NTMxIC0wLjMzMTA0NDEsLTAuODM1NzUwNzQgLTAuMzMxMDQ0MSwtMC4yOTMwNTU1IC0wLjkzODg2MjksLTAuMjkzMDU1NSB6IgovPgo8L3N2Zz4K);
  --jp-icon-python: url(data:image/svg+xml;base64,PHN2ZyB4bWxucz0iaHR0cDovL3d3dy53My5vcmcvMjAwMC9zdmciIHdpZHRoPSIxNiIgdmlld0JveD0iLTEwIC0xMCAxMzEuMTYxMzYxNjk0MzM1OTQgMTMyLjM4ODk5OTkzODk2NDg0Ij4KICA8cGF0aCBjbGFzcz0ianAtaWNvbi1zZWxlY3RhYmxlIiBmaWxsPSIjMzA2OTk4IiBkPSJNIDU0LjkxODc4NSw5LjE5Mjc0MjFlLTQgQyA1MC4zMzUxMzIsMC4wMjIyMTcyNyA0NS45NTc4NDYsMC40MTMxMzY5NyA0Mi4xMDYyODUsMS4wOTQ2NjkzIDMwLjc2MDA2OSwzLjA5OTE3MzEgMjguNzAwMDM2LDcuMjk0NzcxNCAyOC43MDAwMzUsMTUuMDMyMTY5IHYgMTAuMjE4NzUgaCAyNi44MTI1IHYgMy40MDYyNSBoIC0yNi44MTI1IC0xMC4wNjI1IGMgLTcuNzkyNDU5LDAgLTE0LjYxNTc1ODgsNC42ODM3MTcgLTE2Ljc0OTk5OTgsMTMuNTkzNzUgLTIuNDYxODE5OTgsMTAuMjEyOTY2IC0yLjU3MTAxNTA4LDE2LjU4NjAyMyAwLDI3LjI1IDEuOTA1OTI4Myw3LjkzNzg1MiA2LjQ1NzU0MzIsMTMuNTkzNzQ4IDE0LjI0OTk5OTgsMTMuNTkzNzUgaCA5LjIxODc1IHYgLTEyLjI1IGMgMCwtOC44NDk5MDIgNy42NTcxNDQsLTE2LjY1NjI0OCAxNi43NSwtMTYuNjU2MjUgaCAyNi43ODEyNSBjIDcuNDU0OTUxLDAgMTMuNDA2MjUzLC02LjEzODE2NCAxMy40MDYyNSwtMTMuNjI1IHYgLTI1LjUzMTI1IGMgMCwtNy4yNjYzMzg2IC02LjEyOTk4LC0xMi43MjQ3NzcxIC0xMy40MDYyNSwtMTMuOTM3NDk5NyBDIDY0LjI4MTU0OCwwLjMyNzk0Mzk3IDU5LjUwMjQzOCwtMC4wMjAzNzkwMyA1NC45MTg3ODUsOS4xOTI3NDIxZS00IFogbSAtMTQuNSw4LjIxODc1MDEyNTc5IGMgMi43Njk1NDcsMCA1LjAzMTI1LDIuMjk4NjQ1NiA1LjAzMTI1LDUuMTI0OTk5NiAtMmUtNiwyLjgxNjMzNiAtMi4yNjE3MDMsNS4wOTM3NSAtNS4wMzEyNSw1LjA5Mzc1IC0yLjc3OTQ3NiwtMWUtNiAtNS4wMzEyNSwtMi4yNzc0MTUgLTUuMDMxMjUsLTUuMDkzNzUgLTEwZS03LC0yLjgyNjM1MyAyLjI1MTc3NCwtNS4xMjQ5OTk2IDUuMDMxMjUsLTUuMTI0OTk5NiB6Ii8+CiAgPHBhdGggY2xhc3M9ImpwLWljb24tc2VsZWN0YWJsZSIgZmlsbD0iI2ZmZDQzYiIgZD0ibSA4NS42Mzc1MzUsMjguNjU3MTY5IHYgMTEuOTA2MjUgYyAwLDkuMjMwNzU1IC03LjgyNTg5NSwxNi45OTk5OTkgLTE2Ljc1LDE3IGggLTI2Ljc4MTI1IGMgLTcuMzM1ODMzLDAgLTEzLjQwNjI0OSw2LjI3ODQ4MyAtMTMuNDA2MjUsMTMuNjI1IHYgMjUuNTMxMjQ3IGMgMCw3LjI2NjM0NCA2LjMxODU4OCwxMS41NDAzMjQgMTMuNDA2MjUsMTMuNjI1MDA0IDguNDg3MzMxLDIuNDk1NjEgMTYuNjI2MjM3LDIuOTQ2NjMgMjYuNzgxMjUsMCA2Ljc1MDE1NSwtMS45NTQzOSAxMy40MDYyNTMsLTUuODg3NjEgMTMuNDA2MjUsLTEzLjYyNTAwNCBWIDg2LjUwMDkxOSBoIC0yNi43ODEyNSB2IC0zLjQwNjI1IGggMjYuNzgxMjUgMTMuNDA2MjU0IGMgNy43OTI0NjEsMCAxMC42OTYyNTEsLTUuNDM1NDA4IDEzLjQwNjI0MSwtMTMuNTkzNzUgMi43OTkzMywtOC4zOTg4ODYgMi42ODAyMiwtMTYuNDc1Nzc2IDAsLTI3LjI1IC0xLjkyNTc4LC03Ljc1NzQ0MSAtNS42MDM4NywtMTMuNTkzNzUgLTEzLjQwNjI0MSwtMTMuNTkzNzUgeiBtIC0xNS4wNjI1LDY0LjY1NjI1IGMgMi43Nzk0NzgsM2UtNiA1LjAzMTI1LDIuMjc3NDE3IDUuMDMxMjUsNS4wOTM3NDcgLTJlLTYsMi44MjYzNTQgLTIuMjUxNzc1LDUuMTI1MDA0IC01LjAzMTI1LDUuMTI1MDA0IC0yLjc2OTU1LDAgLTUuMDMxMjUsLTIuMjk4NjUgLTUuMDMxMjUsLTUuMTI1MDA0IDJlLTYsLTIuODE2MzMgMi4yNjE2OTcsLTUuMDkzNzQ3IDUuMDMxMjUsLTUuMDkzNzQ3IHoiLz4KPC9zdmc+Cg==);
  --jp-icon-r-kernel: url(data:image/svg+xml;base64,PHN2ZyB4bWxucz0iaHR0cDovL3d3dy53My5vcmcvMjAwMC9zdmciIHdpZHRoPSIxNiIgdmlld0JveD0iMCAwIDIyIDIyIj4KICA8cGF0aCBjbGFzcz0ianAtaWNvbi1jb250cmFzdDMganAtaWNvbi1zZWxlY3RhYmxlIiBmaWxsPSIjMjE5NkYzIiBkPSJNNC40IDIuNWMxLjItLjEgMi45LS4zIDQuOS0uMyAyLjUgMCA0LjEuNCA1LjIgMS4zIDEgLjcgMS41IDEuOSAxLjUgMy41IDAgMi0xLjQgMy41LTIuOSA0LjEgMS4yLjQgMS43IDEuNiAyLjIgMyAuNiAxLjkgMSAzLjkgMS4zIDQuNmgtMy44Yy0uMy0uNC0uOC0xLjctMS4yLTMuN3MtMS4yLTIuNi0yLjYtMi42aC0uOXY2LjRINC40VjIuNXptMy43IDYuOWgxLjRjMS45IDAgMi45LS45IDIuOS0yLjNzLTEtMi4zLTIuOC0yLjNjLS43IDAtMS4zIDAtMS42LjJ2NC41aC4xdi0uMXoiLz4KPC9zdmc+Cg==);
  --jp-icon-react: url(data:image/svg+xml;base64,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);
  --jp-icon-redo: url(data:image/svg+xml;base64,PHN2ZyB4bWxucz0iaHR0cDovL3d3dy53My5vcmcvMjAwMC9zdmciIGhlaWdodD0iMjQiIHZpZXdCb3g9IjAgMCAyNCAyNCIgd2lkdGg9IjE2Ij4KICA8ZyBjbGFzcz0ianAtaWNvbjMiIGZpbGw9IiM2MTYxNjEiPgogICAgICA8cGF0aCBkPSJNMCAwaDI0djI0SDB6IiBmaWxsPSJub25lIi8+PHBhdGggZD0iTTE4LjQgMTAuNkMxNi41NSA4Ljk5IDE0LjE1IDggMTEuNSA4Yy00LjY1IDAtOC41OCAzLjAzLTkuOTYgNy4yMkwzLjkgMTZjMS4wNS0zLjE5IDQuMDUtNS41IDcuNi01LjUgMS45NSAwIDMuNzMuNzIgNS4xMiAxLjg4TDEzIDE2aDlWN2wtMy42IDMuNnoiLz4KICA8L2c+Cjwvc3ZnPgo=);
  --jp-icon-refresh: url(data:image/svg+xml;base64,PHN2ZyB4bWxucz0iaHR0cDovL3d3dy53My5vcmcvMjAwMC9zdmciIHdpZHRoPSIxNiIgdmlld0JveD0iMCAwIDE4IDE4Ij4KICAgIDxnIGNsYXNzPSJqcC1pY29uMyIgZmlsbD0iIzYxNjE2MSI+CiAgICAgICAgPHBhdGggZD0iTTkgMTMuNWMtMi40OSAwLTQuNS0yLjAxLTQuNS00LjVTNi41MSA0LjUgOSA0LjVjMS4yNCAwIDIuMzYuNTIgMy4xNyAxLjMzTDEwIDhoNVYzbC0xLjc2IDEuNzZDMTIuMTUgMy42OCAxMC42NiAzIDkgMyA1LjY5IDMgMy4wMSA1LjY5IDMuMDEgOVM1LjY5IDE1IDkgMTVjMi45NyAwIDUuNDMtMi4xNiA1LjktNWgtMS41MmMtLjQ2IDItMi4yNCAzLjUtNC4zOCAzLjV6Ii8+CiAgICA8L2c+Cjwvc3ZnPgo=);
  --jp-icon-regex: url(data:image/svg+xml;base64,PHN2ZyB4bWxucz0iaHR0cDovL3d3dy53My5vcmcvMjAwMC9zdmciIHdpZHRoPSIxNiIgdmlld0JveD0iMCAwIDIwIDIwIj4KICA8ZyBjbGFzcz0ianAtaWNvbjIiIGZpbGw9IiM0MTQxNDEiPgogICAgPHJlY3QgeD0iMiIgeT0iMiIgd2lkdGg9IjE2IiBoZWlnaHQ9IjE2Ii8+CiAgPC9nPgoKICA8ZyBjbGFzcz0ianAtaWNvbi1hY2NlbnQyIiBmaWxsPSIjRkZGIj4KICAgIDxjaXJjbGUgY2xhc3M9InN0MiIgY3g9IjUuNSIgY3k9IjE0LjUiIHI9IjEuNSIvPgogICAgPHJlY3QgeD0iMTIiIHk9IjQiIGNsYXNzPSJzdDIiIHdpZHRoPSIxIiBoZWlnaHQ9IjgiLz4KICAgIDxyZWN0IHg9IjguNSIgeT0iNy41IiB0cmFuc2Zvcm09Im1hdHJpeCgwLjg2NiAtMC41IDAuNSAwLjg2NiAtMi4zMjU1IDcuMzIxOSkiIGNsYXNzPSJzdDIiIHdpZHRoPSI4IiBoZWlnaHQ9IjEiLz4KICAgIDxyZWN0IHg9IjEyIiB5PSI0IiB0cmFuc2Zvcm09Im1hdHJpeCgwLjUgLTAuODY2IDAuODY2IDAuNSAtMC42Nzc5IDE0LjgyNTIpIiBjbGFzcz0ic3QyIiB3aWR0aD0iMSIgaGVpZ2h0PSI4Ii8+CiAgPC9nPgo8L3N2Zz4K);
  --jp-icon-run: url(data:image/svg+xml;base64,PHN2ZyBoZWlnaHQ9IjI0IiB2aWV3Qm94PSIwIDAgMjQgMjQiIHdpZHRoPSIyNCIgeG1sbnM9Imh0dHA6Ly93d3cudzMub3JnLzIwMDAvc3ZnIj4KICAgIDxnIGNsYXNzPSJqcC1pY29uMyIgZmlsbD0iIzYxNjE2MSI+CiAgICAgICAgPHBhdGggZD0iTTggNXYxNGwxMS03eiIvPgogICAgPC9nPgo8L3N2Zz4K);
  --jp-icon-running: url(data:image/svg+xml;base64,PHN2ZyB4bWxucz0iaHR0cDovL3d3dy53My5vcmcvMjAwMC9zdmciIHdpZHRoPSIxNiIgdmlld0JveD0iMCAwIDUxMiA1MTIiPgogIDxnIGNsYXNzPSJqcC1pY29uMyIgZmlsbD0iIzYxNjE2MSI+CiAgICA8cGF0aCBkPSJNMjU2IDhDMTE5IDggOCAxMTkgOCAyNTZzMTExIDI0OCAyNDggMjQ4IDI0OC0xMTEgMjQ4LTI0OFMzOTMgOCAyNTYgOHptOTYgMzI4YzAgOC44LTcuMiAxNi0xNiAxNkgxNzZjLTguOCAwLTE2LTcuMi0xNi0xNlYxNzZjMC04LjggNy4yLTE2IDE2LTE2aDE2MGM4LjggMCAxNiA3LjIgMTYgMTZ2MTYweiIvPgogIDwvZz4KPC9zdmc+Cg==);
  --jp-icon-save: url(data:image/svg+xml;base64,PHN2ZyBoZWlnaHQ9IjI0IiB2aWV3Qm94PSIwIDAgMjQgMjQiIHdpZHRoPSIyNCIgeG1sbnM9Imh0dHA6Ly93d3cudzMub3JnLzIwMDAvc3ZnIj4KICAgIDxnIGNsYXNzPSJqcC1pY29uMyIgZmlsbD0iIzYxNjE2MSI+CiAgICAgICAgPHBhdGggZD0iTTE3IDNINWMtMS4xMSAwLTIgLjktMiAydjE0YzAgMS4xLjg5IDIgMiAyaDE0YzEuMSAwIDItLjkgMi0yVjdsLTQtNHptLTUgMTZjLTEuNjYgMC0zLTEuMzQtMy0zczEuMzQtMyAzLTMgMyAxLjM0IDMgMy0xLjM0IDMtMyAzem0zLTEwSDVWNWgxMHY0eiIvPgogICAgPC9nPgo8L3N2Zz4K);
  --jp-icon-search: url(data:image/svg+xml;base64,PHN2ZyB2aWV3Qm94PSIwIDAgMTggMTgiIHdpZHRoPSIxNiIgeG1sbnM9Imh0dHA6Ly93d3cudzMub3JnLzIwMDAvc3ZnIj4KICA8ZyBjbGFzcz0ianAtaWNvbjMiIGZpbGw9IiM2MTYxNjEiPgogICAgPHBhdGggZD0iTTEyLjEsMTAuOWgtMC43bC0wLjItMC4yYzAuOC0wLjksMS4zLTIuMiwxLjMtMy41YzAtMy0yLjQtNS40LTUuNC01LjRTMS44LDQuMiwxLjgsNy4xczIuNCw1LjQsNS40LDUuNCBjMS4zLDAsMi41LTAuNSwzLjUtMS4zbDAuMiwwLjJ2MC43bDQuMSw0LjFsMS4yLTEuMkwxMi4xLDEwLjl6IE03LjEsMTAuOWMtMi4xLDAtMy43LTEuNy0zLjctMy43czEuNy0zLjcsMy43LTMuN3MzLjcsMS43LDMuNywzLjcgUzkuMiwxMC45LDcuMSwxMC45eiIvPgogIDwvZz4KPC9zdmc+Cg==);
  --jp-icon-settings: url(data:image/svg+xml;base64,PHN2ZyB4bWxucz0iaHR0cDovL3d3dy53My5vcmcvMjAwMC9zdmciIHdpZHRoPSIxNiIgdmlld0JveD0iMCAwIDI0IDI0Ij4KICA8cGF0aCBjbGFzcz0ianAtaWNvbjMganAtaWNvbi1zZWxlY3RhYmxlIiBmaWxsPSIjNjE2MTYxIiBkPSJNMTkuNDMgMTIuOThjLjA0LS4zMi4wNy0uNjQuMDctLjk4cy0uMDMtLjY2LS4wNy0uOThsMi4xMS0xLjY1Yy4xOS0uMTUuMjQtLjQyLjEyLS42NGwtMi0zLjQ2Yy0uMTItLjIyLS4zOS0uMy0uNjEtLjIybC0yLjQ5IDFjLS41Mi0uNC0xLjA4LS43My0xLjY5LS45OGwtLjM4LTIuNjVBLjQ4OC40ODggMCAwMDE0IDJoLTRjLS4yNSAwLS40Ni4xOC0uNDkuNDJsLS4zOCAyLjY1Yy0uNjEuMjUtMS4xNy41OS0xLjY5Ljk4bC0yLjQ5LTFjLS4yMy0uMDktLjQ5IDAtLjYxLjIybC0yIDMuNDZjLS4xMy4yMi0uMDcuNDkuMTIuNjRsMi4xMSAxLjY1Yy0uMDQuMzItLjA3LjY1LS4wNy45OHMuMDMuNjYuMDcuOThsLTIuMTEgMS42NWMtLjE5LjE1LS4yNC40Mi0uMTIuNjRsMiAzLjQ2Yy4xMi4yMi4zOS4zLjYxLjIybDIuNDktMWMuNTIuNCAxLjA4LjczIDEuNjkuOThsLjM4IDIuNjVjLjAzLjI0LjI0LjQyLjQ5LjQyaDRjLjI1IDAgLjQ2LS4xOC40OS0uNDJsLjM4LTIuNjVjLjYxLS4yNSAxLjE3LS41OSAxLjY5LS45OGwyLjQ5IDFjLjIzLjA5LjQ5IDAgLjYxLS4yMmwyLTMuNDZjLjEyLS4yMi4wNy0uNDktLjEyLS42NGwtMi4xMS0xLjY1ek0xMiAxNS41Yy0xLjkzIDAtMy41LTEuNTctMy41LTMuNXMxLjU3LTMuNSAzLjUtMy41IDMuNSAxLjU3IDMuNSAzLjUtMS41NyAzLjUtMy41IDMuNXoiLz4KPC9zdmc+Cg==);
  --jp-icon-share: url(data:image/svg+xml;base64,PHN2ZyB3aWR0aD0iMTYiIHZpZXdCb3g9IjAgMCAyNCAyNCIgeG1sbnM9Imh0dHA6Ly93d3cudzMub3JnLzIwMDAvc3ZnIj4KICA8ZyBjbGFzcz0ianAtaWNvbjMiIGZpbGw9IiM2MTYxNjEiPgogICAgPHBhdGggZD0iTSAxOCAyIEMgMTYuMzU0OTkgMiAxNSAzLjM1NDk5MDQgMTUgNSBDIDE1IDUuMTkwOTUyOSAxNS4wMjE3OTEgNS4zNzcxMjI0IDE1LjA1NjY0MSA1LjU1ODU5MzggTCA3LjkyMTg3NSA5LjcyMDcwMzEgQyA3LjM5ODUzOTkgOS4yNzc4NTM5IDYuNzMyMDc3MSA5IDYgOSBDIDQuMzU0OTkwNCA5IDMgMTAuMzU0OTkgMyAxMiBDIDMgMTMuNjQ1MDEgNC4zNTQ5OTA0IDE1IDYgMTUgQyA2LjczMjA3NzEgMTUgNy4zOTg1Mzk5IDE0LjcyMjE0NiA3LjkyMTg3NSAxNC4yNzkyOTcgTCAxNS4wNTY2NDEgMTguNDM5NDUzIEMgMTUuMDIxNTU1IDE4LjYyMTUxNCAxNSAxOC44MDgzODYgMTUgMTkgQyAxNSAyMC42NDUwMSAxNi4zNTQ5OSAyMiAxOCAyMiBDIDE5LjY0NTAxIDIyIDIxIDIwLjY0NTAxIDIxIDE5IEMgMjEgMTcuMzU0OTkgMTkuNjQ1MDEgMTYgMTggMTYgQyAxNy4yNjc0OCAxNiAxNi42MDE1OTMgMTYuMjc5MzI4IDE2LjA3ODEyNSAxNi43MjI2NTYgTCA4Ljk0MzM1OTQgMTIuNTU4NTk0IEMgOC45NzgyMDk1IDEyLjM3NzEyMiA5IDEyLjE5MDk1MyA5IDEyIEMgOSAxMS44MDkwNDcgOC45NzgyMDk1IDExLjYyMjg3OCA4Ljk0MzM1OTQgMTEuNDQxNDA2IEwgMTYuMDc4MTI1IDcuMjc5Mjk2OSBDIDE2LjYwMTQ2IDcuNzIyMTQ2MSAxNy4yNjc5MjMgOCAxOCA4IEMgMTkuNjQ1MDEgOCAyMSA2LjY0NTAwOTYgMjEgNSBDIDIxIDMuMzU0OTkwNCAxOS42NDUwMSAyIDE4IDIgeiBNIDE4IDQgQyAxOC41NjQxMjkgNCAxOSA0LjQzNTg3MDYgMTkgNSBDIDE5IDUuNTY0MTI5NCAxOC41NjQxMjkgNiAxOCA2IEMgMTcuNDM1ODcxIDYgMTcgNS41NjQxMjk0IDE3IDUgQyAxNyA0LjQzNTg3MDYgMTcuNDM1ODcxIDQgMTggNCB6IE0gNiAxMSBDIDYuNTY0MTI5NCAxMSA3IDExLjQzNTg3MSA3IDEyIEMgNyAxMi41NjQxMjkgNi41NjQxMjk0IDEzIDYgMTMgQyA1LjQzNTg3MDYgMTMgNSAxMi41NjQxMjkgNSAxMiBDIDUgMTEuNDM1ODcxIDUuNDM1ODcwNiAxMSA2IDExIHogTSAxOCAxOCBDIDE4LjU2NDEyOSAxOCAxOSAxOC40MzU4NzEgMTkgMTkgQyAxOSAxOS41NjQxMjkgMTguNTY0MTI5IDIwIDE4IDIwIEMgMTcuNDM1ODcxIDIwIDE3IDE5LjU2NDEyOSAxNyAxOSBDIDE3IDE4LjQzNTg3MSAxNy40MzU4NzEgMTggMTggMTggeiIvPgogIDwvZz4KPC9zdmc+Cg==);
  --jp-icon-spreadsheet: url(data:image/svg+xml;base64,PHN2ZyB4bWxucz0iaHR0cDovL3d3dy53My5vcmcvMjAwMC9zdmciIHdpZHRoPSIxNiIgdmlld0JveD0iMCAwIDIyIDIyIj4KICA8cGF0aCBjbGFzcz0ianAtaWNvbi1jb250cmFzdDEganAtaWNvbi1zZWxlY3RhYmxlIiBmaWxsPSIjNENBRjUwIiBkPSJNMi4yIDIuMnYxNy42aDE3LjZWMi4ySDIuMnptMTUuNCA3LjdoLTUuNVY0LjRoNS41djUuNXpNOS45IDQuNHY1LjVINC40VjQuNGg1LjV6bS01LjUgNy43aDUuNXY1LjVINC40di01LjV6bTcuNyA1LjV2LTUuNWg1LjV2NS41aC01LjV6Ii8+Cjwvc3ZnPgo=);
  --jp-icon-stop: url(data:image/svg+xml;base64,PHN2ZyBoZWlnaHQ9IjI0IiB2aWV3Qm94PSIwIDAgMjQgMjQiIHdpZHRoPSIyNCIgeG1sbnM9Imh0dHA6Ly93d3cudzMub3JnLzIwMDAvc3ZnIj4KICAgIDxnIGNsYXNzPSJqcC1pY29uMyIgZmlsbD0iIzYxNjE2MSI+CiAgICAgICAgPHBhdGggZD0iTTAgMGgyNHYyNEgweiIgZmlsbD0ibm9uZSIvPgogICAgICAgIDxwYXRoIGQ9Ik02IDZoMTJ2MTJINnoiLz4KICAgIDwvZz4KPC9zdmc+Cg==);
  --jp-icon-tab: url(data:image/svg+xml;base64,PHN2ZyB4bWxucz0iaHR0cDovL3d3dy53My5vcmcvMjAwMC9zdmciIHdpZHRoPSIxNiIgdmlld0JveD0iMCAwIDI0IDI0Ij4KICA8ZyBjbGFzcz0ianAtaWNvbjMiIGZpbGw9IiM2MTYxNjEiPgogICAgPHBhdGggZD0iTTIxIDNIM2MtMS4xIDAtMiAuOS0yIDJ2MTRjMCAxLjEuOSAyIDIgMmgxOGMxLjEgMCAyLS45IDItMlY1YzAtMS4xLS45LTItMi0yem0wIDE2SDNWNWgxMHY0aDh2MTB6Ii8+CiAgPC9nPgo8L3N2Zz4K);
  --jp-icon-table-rows: url(data:image/svg+xml;base64,PHN2ZyBoZWlnaHQ9IjI0IiB2aWV3Qm94PSIwIDAgMjQgMjQiIHdpZHRoPSIyNCIgeG1sbnM9Imh0dHA6Ly93d3cudzMub3JnLzIwMDAvc3ZnIj4KICAgIDxnIGNsYXNzPSJqcC1pY29uMyIgZmlsbD0iIzYxNjE2MSI+CiAgICAgICAgPHBhdGggZD0iTTAgMGgyNHYyNEgweiIgZmlsbD0ibm9uZSIvPgogICAgICAgIDxwYXRoIGQ9Ik0yMSw4SDNWNGgxOFY4eiBNMjEsMTBIM3Y0aDE4VjEweiBNMjEsMTZIM3Y0aDE4VjE2eiIvPgogICAgPC9nPgo8L3N2Zz4K);
  --jp-icon-tag: url(data:image/svg+xml;base64,PHN2ZyB3aWR0aD0iMjgiIGhlaWdodD0iMjgiIHZpZXdCb3g9IjAgMCA0MyAyOCIgeG1sbnM9Imh0dHA6Ly93d3cudzMub3JnLzIwMDAvc3ZnIj4KCTxnIGNsYXNzPSJqcC1pY29uMyIgZmlsbD0iIzYxNjE2MSI+CgkJPHBhdGggZD0iTTI4LjgzMzIgMTIuMzM0TDMyLjk5OTggMTYuNTAwN0wzNy4xNjY1IDEyLjMzNEgyOC44MzMyWiIvPgoJCTxwYXRoIGQ9Ik0xNi4yMDk1IDIxLjYxMDRDMTUuNjg3MyAyMi4xMjk5IDE0Ljg0NDMgMjIuMTI5OSAxNC4zMjQ4IDIxLjYxMDRMNi45ODI5IDE0LjcyNDVDNi41NzI0IDE0LjMzOTQgNi4wODMxMyAxMy42MDk4IDYuMDQ3ODYgMTMuMDQ4MkM1Ljk1MzQ3IDExLjUyODggNi4wMjAwMiA4LjYxOTQ0IDYuMDY2MjEgNy4wNzY5NUM2LjA4MjgxIDYuNTE0NzcgNi41NTU0OCA2LjA0MzQ3IDcuMTE4MDQgNi4wMzA1NUM5LjA4ODYzIDUuOTg0NzMgMTMuMjYzOCA1LjkzNTc5IDEzLjY1MTggNi4zMjQyNUwyMS43MzY5IDEzLjYzOUMyMi4yNTYgMTQuMTU4NSAyMS43ODUxIDE1LjQ3MjQgMjEuMjYyIDE1Ljk5NDZMMTYuMjA5NSAyMS42MTA0Wk05Ljc3NTg1IDguMjY1QzkuMzM1NTEgNy44MjU2NiA4LjYyMzUxIDcuODI1NjYgOC4xODI4IDguMjY1QzcuNzQzNDYgOC43MDU3MSA3Ljc0MzQ2IDkuNDE3MzMgOC4xODI4IDkuODU2NjdDOC42MjM4MiAxMC4yOTY0IDkuMzM1ODIgMTAuMjk2NCA5Ljc3NTg1IDkuODU2NjdDMTAuMjE1NiA5LjQxNzMzIDEwLjIxNTYgOC43MDUzMyA5Ljc3NTg1IDguMjY1WiIvPgoJPC9nPgo8L3N2Zz4K);
  --jp-icon-terminal: url(data:image/svg+xml;base64,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);
  --jp-icon-text-editor: url(data:image/svg+xml;base64,PHN2ZyB4bWxucz0iaHR0cDovL3d3dy53My5vcmcvMjAwMC9zdmciIHdpZHRoPSIxNiIgdmlld0JveD0iMCAwIDI0IDI0Ij4KICA8cGF0aCBjbGFzcz0ianAtdGV4dC1lZGl0b3ItaWNvbi1jb2xvciBqcC1pY29uLXNlbGVjdGFibGUiIGZpbGw9IiM2MTYxNjEiIGQ9Ik0xNSAxNUgzdjJoMTJ2LTJ6bTAtOEgzdjJoMTJWN3pNMyAxM2gxOHYtMkgzdjJ6bTAgOGgxOHYtMkgzdjJ6TTMgM3YyaDE4VjNIM3oiLz4KPC9zdmc+Cg==);
  --jp-icon-toc: url(data:image/svg+xml;base64,PHN2ZyB4bWxucz0iaHR0cDovL3d3dy53My5vcmcvMjAwMC9zdmciIHdpZHRoPSIyNCIgaGVpZ2h0PSIyNCIgdmlld0JveD0iMCAwIDI0IDI0Ij4KICA8ZyBjbGFzcz0ianAtaWNvbjMganAtaWNvbi1zZWxlY3RhYmxlIiBmaWxsPSIjNjE2MTYxIj4KICAgIDxwYXRoIGQ9Ik03LDVIMjFWN0g3VjVNNywxM1YxMUgyMVYxM0g3TTQsNC41QTEuNSwxLjUgMCAwLDEgNS41LDZBMS41LDEuNSAwIDAsMSA0LDcuNUExLjUsMS41IDAgMCwxIDIuNSw2QTEuNSwxLjUgMCAwLDEgNCw0LjVNNCwxMC41QTEuNSwxLjUgMCAwLDEgNS41LDEyQTEuNSwxLjUgMCAwLDEgNCwxMy41QTEuNSwxLjUgMCAwLDEgMi41LDEyQTEuNSwxLjUgMCAwLDEgNCwxMC41TTcsMTlWMTdIMjFWMTlIN000LDE2LjVBMS41LDEuNSAwIDAsMSA1LjUsMThBMS41LDEuNSAwIDAsMSA0LDE5LjVBMS41LDEuNSAwIDAsMSAyLjUsMThBMS41LDEuNSAwIDAsMSA0LDE2LjVaIiAvPgogIDwvZz4KPC9zdmc+Cg==);
  --jp-icon-tree-view: url(data:image/svg+xml;base64,PHN2ZyBoZWlnaHQ9IjI0IiB2aWV3Qm94PSIwIDAgMjQgMjQiIHdpZHRoPSIyNCIgeG1sbnM9Imh0dHA6Ly93d3cudzMub3JnLzIwMDAvc3ZnIj4KICAgIDxnIGNsYXNzPSJqcC1pY29uMyIgZmlsbD0iIzYxNjE2MSI+CiAgICAgICAgPHBhdGggZD0iTTAgMGgyNHYyNEgweiIgZmlsbD0ibm9uZSIvPgogICAgICAgIDxwYXRoIGQ9Ik0yMiAxMVYzaC03djNIOVYzSDJ2OGg3VjhoMnYxMGg0djNoN3YtOGgtN3YzaC0yVjhoMnYzeiIvPgogICAgPC9nPgo8L3N2Zz4K);
  --jp-icon-trusted: url(data:image/svg+xml;base64,PHN2ZyBmaWxsPSJub25lIiB4bWxucz0iaHR0cDovL3d3dy53My5vcmcvMjAwMC9zdmciIHdpZHRoPSIxNiIgdmlld0JveD0iMCAwIDI0IDI1Ij4KICAgIDxwYXRoIGNsYXNzPSJqcC1pY29uMiIgc3Ryb2tlPSIjMzMzMzMzIiBzdHJva2Utd2lkdGg9IjIiIHRyYW5zZm9ybT0idHJhbnNsYXRlKDIgMykiIGQ9Ik0xLjg2MDk0IDExLjQ0MDlDMC44MjY0NDggOC43NzAyNyAwLjg2Mzc3OSA2LjA1NzY0IDEuMjQ5MDcgNC4xOTkzMkMyLjQ4MjA2IDMuOTMzNDcgNC4wODA2OCAzLjQwMzQ3IDUuNjAxMDIgMi44NDQ5QzcuMjM1NDkgMi4yNDQ0IDguODU2NjYgMS41ODE1IDkuOTg3NiAxLjA5NTM5QzExLjA1OTcgMS41ODM0MSAxMi42MDk0IDIuMjQ0NCAxNC4yMTggMi44NDMzOUMxNS43NTAzIDMuNDEzOTQgMTcuMzk5NSAzLjk1MjU4IDE4Ljc1MzkgNC4yMTM4NUMxOS4xMzY0IDYuMDcxNzcgMTkuMTcwOSA4Ljc3NzIyIDE4LjEzOSAxMS40NDA5QzE3LjAzMDMgMTQuMzAzMiAxNC42NjY4IDE3LjE4NDQgOS45OTk5OSAxOC45MzU0QzUuMzMzMiAxNy4xODQ0IDIuOTY5NjggMTQuMzAzMiAxLjg2MDk0IDExLjQ0MDlaIi8+CiAgICA8cGF0aCBjbGFzcz0ianAtaWNvbjIiIGZpbGw9IiMzMzMzMzMiIHN0cm9rZT0iIzMzMzMzMyIgdHJhbnNmb3JtPSJ0cmFuc2xhdGUoOCA5Ljg2NzE5KSIgZD0iTTIuODYwMTUgNC44NjUzNUwwLjcyNjU0OSAyLjk5OTU5TDAgMy42MzA0NUwyLjg2MDE1IDYuMTMxNTdMOCAwLjYzMDg3Mkw3LjI3ODU3IDBMMi44NjAxNSA0Ljg2NTM1WiIvPgo8L3N2Zz4K);
  --jp-icon-undo: url(data:image/svg+xml;base64,PHN2ZyB2aWV3Qm94PSIwIDAgMjQgMjQiIHdpZHRoPSIxNiIgeG1sbnM9Imh0dHA6Ly93d3cudzMub3JnLzIwMDAvc3ZnIj4KICA8ZyBjbGFzcz0ianAtaWNvbjMiIGZpbGw9IiM2MTYxNjEiPgogICAgPHBhdGggZD0iTTEyLjUgOGMtMi42NSAwLTUuMDUuOTktNi45IDIuNkwyIDd2OWg5bC0zLjYyLTMuNjJjMS4zOS0xLjE2IDMuMTYtMS44OCA1LjEyLTEuODggMy41NCAwIDYuNTUgMi4zMSA3LjYgNS41bDIuMzctLjc4QzIxLjA4IDExLjAzIDE3LjE1IDggMTIuNSA4eiIvPgogIDwvZz4KPC9zdmc+Cg==);
  --jp-icon-user: url(data:image/svg+xml;base64,PHN2ZyB3aWR0aD0iMTYiIHZpZXdCb3g9IjAgMCAyNCAyNCIgeG1sbnM9Imh0dHA6Ly93d3cudzMub3JnLzIwMDAvc3ZnIj4KICA8ZyBjbGFzcz0ianAtaWNvbjMiIGZpbGw9IiM2MTYxNjEiPgogICAgPHBhdGggZD0iTTE2IDdhNCA0IDAgMTEtOCAwIDQgNCAwIDAxOCAwek0xMiAxNGE3IDcgMCAwMC03IDdoMTRhNyA3IDAgMDAtNy03eiIvPgogIDwvZz4KPC9zdmc+Cg==);
  --jp-icon-users: url(data:image/svg+xml;base64,PHN2ZyB3aWR0aD0iMjQiIGhlaWdodD0iMjQiIHZlcnNpb249IjEuMSIgdmlld0JveD0iMCAwIDM2IDI0IiB4bWxucz0iaHR0cDovL3d3dy53My5vcmcvMjAwMC9zdmciPgogPGcgY2xhc3M9ImpwLWljb24zIiB0cmFuc2Zvcm09Im1hdHJpeCgxLjczMjcgMCAwIDEuNzMyNyAtMy42MjgyIC4wOTk1NzcpIiBmaWxsPSIjNjE2MTYxIj4KICA8cGF0aCB0cmFuc2Zvcm09Im1hdHJpeCgxLjUsMCwwLDEuNSwwLC02KSIgZD0ibTEyLjE4NiA3LjUwOThjLTEuMDUzNSAwLTEuOTc1NyAwLjU2NjUtMi40Nzg1IDEuNDEwMiAwLjc1MDYxIDAuMzEyNzcgMS4zOTc0IDAuODI2NDggMS44NzMgMS40NzI3aDMuNDg2M2MwLTEuNTkyLTEuMjg4OS0yLjg4MjgtMi44ODA5LTIuODgyOHoiLz4KICA8cGF0aCBkPSJtMjAuNDY1IDIuMzg5NWEyLjE4ODUgMi4xODg1IDAgMCAxLTIuMTg4NCAyLjE4ODUgMi4xODg1IDIuMTg4NSAwIDAgMS0yLjE4ODUtMi4xODg1IDIuMTg4NSAyLjE4ODUgMCAwIDEgMi4xODg1LTIuMTg4NSAyLjE4ODUgMi4xODg1IDAgMCAxIDIuMTg4NCAyLjE4ODV6Ii8+CiAgPHBhdGggdHJhbnNmb3JtPSJtYXRyaXgoMS41LDAsMCwxLjUsMCwtNikiIGQ9Im0zLjU4OTggOC40MjE5Yy0xLjExMjYgMC0yLjAxMzcgMC45MDExMS0yLjAxMzcgMi4wMTM3aDIuODE0NWMwLjI2Nzk3LTAuMzczMDkgMC41OTA3LTAuNzA0MzUgMC45NTg5OC0wLjk3ODUyLTAuMzQ0MzMtMC42MTY4OC0xLjAwMzEtMS4wMzUyLTEuNzU5OC0xLjAzNTJ6Ii8+CiAgPHBhdGggZD0ibTYuOTE1NCA0LjYyM2ExLjUyOTQgMS41Mjk0IDAgMCAxLTEuNTI5NCAxLjUyOTQgMS41Mjk0IDEuNTI5NCAwIDAgMS0xLjUyOTQtMS41Mjk0IDEuNTI5NCAxLjUyOTQgMCAwIDEgMS41Mjk0LTEuNTI5NCAxLjUyOTQgMS41Mjk0IDAgMCAxIDEuNTI5NCAxLjUyOTR6Ii8+CiAgPHBhdGggZD0ibTYuMTM1IDEzLjUzNWMwLTMuMjM5MiAyLjYyNTktNS44NjUgNS44NjUtNS44NjUgMy4yMzkyIDAgNS44NjUgMi42MjU5IDUuODY1IDUuODY1eiIvPgogIDxjaXJjbGUgY3g9IjEyIiBjeT0iMy43Njg1IiByPSIyLjk2ODUiLz4KIDwvZz4KPC9zdmc+Cg==);
  --jp-icon-vega: url(data:image/svg+xml;base64,PHN2ZyB4bWxucz0iaHR0cDovL3d3dy53My5vcmcvMjAwMC9zdmciIHdpZHRoPSIxNiIgdmlld0JveD0iMCAwIDIyIDIyIj4KICA8ZyBjbGFzcz0ianAtaWNvbjEganAtaWNvbi1zZWxlY3RhYmxlIiBmaWxsPSIjMjEyMTIxIj4KICAgIDxwYXRoIGQ9Ik0xMC42IDUuNGwyLjItMy4ySDIuMnY3LjNsNC02LjZ6Ii8+CiAgICA8cGF0aCBkPSJNMTUuOCAyLjJsLTQuNCA2LjZMNyA2LjNsLTQuOCA4djUuNWgxNy42VjIuMmgtNHptLTcgMTUuNEg1LjV2LTQuNGgzLjN2NC40em00LjQgMEg5LjhWOS44aDMuNHY3Ljh6bTQuNCAwaC0zLjRWNi41aDMuNHYxMS4xeiIvPgogIDwvZz4KPC9zdmc+Cg==);
  --jp-icon-word: url(data:image/svg+xml;base64,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);
  --jp-icon-yaml: url(data:image/svg+xml;base64,PHN2ZyB4bWxucz0iaHR0cDovL3d3dy53My5vcmcvMjAwMC9zdmciIHdpZHRoPSIxNiIgdmlld0JveD0iMCAwIDIyIDIyIj4KICA8ZyBjbGFzcz0ianAtaWNvbi1jb250cmFzdDIganAtaWNvbi1zZWxlY3RhYmxlIiBmaWxsPSIjRDgxQjYwIj4KICAgIDxwYXRoIGQ9Ik03LjIgMTguNnYtNS40TDMgNS42aDMuM2wxLjQgMy4xYy4zLjkuNiAxLjYgMSAyLjUuMy0uOC42LTEuNiAxLTIuNWwxLjQtMy4xaDMuNGwtNC40IDcuNnY1LjVsLTIuOS0uMXoiLz4KICAgIDxjaXJjbGUgY2xhc3M9InN0MCIgY3g9IjE3LjYiIGN5PSIxNi41IiByPSIyLjEiLz4KICAgIDxjaXJjbGUgY2xhc3M9InN0MCIgY3g9IjE3LjYiIGN5PSIxMSIgcj0iMi4xIi8+CiAgPC9nPgo8L3N2Zz4K);
}

/* Icon CSS class declarations */

.jp-AddAboveIcon {
  background-image: var(--jp-icon-add-above);
}

.jp-AddBelowIcon {
  background-image: var(--jp-icon-add-below);
}

.jp-AddIcon {
  background-image: var(--jp-icon-add);
}

.jp-BellIcon {
  background-image: var(--jp-icon-bell);
}

.jp-BugDotIcon {
  background-image: var(--jp-icon-bug-dot);
}

.jp-BugIcon {
  background-image: var(--jp-icon-bug);
}

.jp-BuildIcon {
  background-image: var(--jp-icon-build);
}

.jp-CaretDownEmptyIcon {
  background-image: var(--jp-icon-caret-down-empty);
}

.jp-CaretDownEmptyThinIcon {
  background-image: var(--jp-icon-caret-down-empty-thin);
}

.jp-CaretDownIcon {
  background-image: var(--jp-icon-caret-down);
}

.jp-CaretLeftIcon {
  background-image: var(--jp-icon-caret-left);
}

.jp-CaretRightIcon {
  background-image: var(--jp-icon-caret-right);
}

.jp-CaretUpEmptyThinIcon {
  background-image: var(--jp-icon-caret-up-empty-thin);
}

.jp-CaretUpIcon {
  background-image: var(--jp-icon-caret-up);
}

.jp-CaseSensitiveIcon {
  background-image: var(--jp-icon-case-sensitive);
}

.jp-CheckIcon {
  background-image: var(--jp-icon-check);
}

.jp-CircleEmptyIcon {
  background-image: var(--jp-icon-circle-empty);
}

.jp-CircleIcon {
  background-image: var(--jp-icon-circle);
}

.jp-ClearIcon {
  background-image: var(--jp-icon-clear);
}

.jp-CloseIcon {
  background-image: var(--jp-icon-close);
}

.jp-CodeCheckIcon {
  background-image: var(--jp-icon-code-check);
}

.jp-CodeIcon {
  background-image: var(--jp-icon-code);
}

.jp-CollapseAllIcon {
  background-image: var(--jp-icon-collapse-all);
}

.jp-ConsoleIcon {
  background-image: var(--jp-icon-console);
}

.jp-CopyIcon {
  background-image: var(--jp-icon-copy);
}

.jp-CopyrightIcon {
  background-image: var(--jp-icon-copyright);
}

.jp-CutIcon {
  background-image: var(--jp-icon-cut);
}

.jp-DeleteIcon {
  background-image: var(--jp-icon-delete);
}

.jp-DownloadIcon {
  background-image: var(--jp-icon-download);
}

.jp-DuplicateIcon {
  background-image: var(--jp-icon-duplicate);
}

.jp-EditIcon {
  background-image: var(--jp-icon-edit);
}

.jp-EllipsesIcon {
  background-image: var(--jp-icon-ellipses);
}

.jp-ErrorIcon {
  background-image: var(--jp-icon-error);
}

.jp-ExpandAllIcon {
  background-image: var(--jp-icon-expand-all);
}

.jp-ExtensionIcon {
  background-image: var(--jp-icon-extension);
}

.jp-FastForwardIcon {
  background-image: var(--jp-icon-fast-forward);
}

.jp-FileIcon {
  background-image: var(--jp-icon-file);
}

.jp-FileUploadIcon {
  background-image: var(--jp-icon-file-upload);
}

.jp-FilterDotIcon {
  background-image: var(--jp-icon-filter-dot);
}

.jp-FilterIcon {
  background-image: var(--jp-icon-filter);
}

.jp-FilterListIcon {
  background-image: var(--jp-icon-filter-list);
}

.jp-FolderFavoriteIcon {
  background-image: var(--jp-icon-folder-favorite);
}

.jp-FolderIcon {
  background-image: var(--jp-icon-folder);
}

.jp-HomeIcon {
  background-image: var(--jp-icon-home);
}

.jp-Html5Icon {
  background-image: var(--jp-icon-html5);
}

.jp-ImageIcon {
  background-image: var(--jp-icon-image);
}

.jp-InfoIcon {
  background-image: var(--jp-icon-info);
}

.jp-InspectorIcon {
  background-image: var(--jp-icon-inspector);
}

.jp-JsonIcon {
  background-image: var(--jp-icon-json);
}

.jp-JuliaIcon {
  background-image: var(--jp-icon-julia);
}

.jp-JupyterFaviconIcon {
  background-image: var(--jp-icon-jupyter-favicon);
}

.jp-JupyterIcon {
  background-image: var(--jp-icon-jupyter);
}

.jp-JupyterlabWordmarkIcon {
  background-image: var(--jp-icon-jupyterlab-wordmark);
}

.jp-KernelIcon {
  background-image: var(--jp-icon-kernel);
}

.jp-KeyboardIcon {
  background-image: var(--jp-icon-keyboard);
}

.jp-LaunchIcon {
  background-image: var(--jp-icon-launch);
}

.jp-LauncherIcon {
  background-image: var(--jp-icon-launcher);
}

.jp-LineFormIcon {
  background-image: var(--jp-icon-line-form);
}

.jp-LinkIcon {
  background-image: var(--jp-icon-link);
}

.jp-ListIcon {
  background-image: var(--jp-icon-list);
}

.jp-MarkdownIcon {
  background-image: var(--jp-icon-markdown);
}

.jp-MoveDownIcon {
  background-image: var(--jp-icon-move-down);
}

.jp-MoveUpIcon {
  background-image: var(--jp-icon-move-up);
}

.jp-NewFolderIcon {
  background-image: var(--jp-icon-new-folder);
}

.jp-NotTrustedIcon {
  background-image: var(--jp-icon-not-trusted);
}

.jp-NotebookIcon {
  background-image: var(--jp-icon-notebook);
}

.jp-NumberingIcon {
  background-image: var(--jp-icon-numbering);
}

.jp-OfflineBoltIcon {
  background-image: var(--jp-icon-offline-bolt);
}

.jp-PaletteIcon {
  background-image: var(--jp-icon-palette);
}

.jp-PasteIcon {
  background-image: var(--jp-icon-paste);
}

.jp-PdfIcon {
  background-image: var(--jp-icon-pdf);
}

.jp-PythonIcon {
  background-image: var(--jp-icon-python);
}

.jp-RKernelIcon {
  background-image: var(--jp-icon-r-kernel);
}

.jp-ReactIcon {
  background-image: var(--jp-icon-react);
}

.jp-RedoIcon {
  background-image: var(--jp-icon-redo);
}

.jp-RefreshIcon {
  background-image: var(--jp-icon-refresh);
}

.jp-RegexIcon {
  background-image: var(--jp-icon-regex);
}

.jp-RunIcon {
  background-image: var(--jp-icon-run);
}

.jp-RunningIcon {
  background-image: var(--jp-icon-running);
}

.jp-SaveIcon {
  background-image: var(--jp-icon-save);
}

.jp-SearchIcon {
  background-image: var(--jp-icon-search);
}

.jp-SettingsIcon {
  background-image: var(--jp-icon-settings);
}

.jp-ShareIcon {
  background-image: var(--jp-icon-share);
}

.jp-SpreadsheetIcon {
  background-image: var(--jp-icon-spreadsheet);
}

.jp-StopIcon {
  background-image: var(--jp-icon-stop);
}

.jp-TabIcon {
  background-image: var(--jp-icon-tab);
}

.jp-TableRowsIcon {
  background-image: var(--jp-icon-table-rows);
}

.jp-TagIcon {
  background-image: var(--jp-icon-tag);
}

.jp-TerminalIcon {
  background-image: var(--jp-icon-terminal);
}

.jp-TextEditorIcon {
  background-image: var(--jp-icon-text-editor);
}

.jp-TocIcon {
  background-image: var(--jp-icon-toc);
}

.jp-TreeViewIcon {
  background-image: var(--jp-icon-tree-view);
}

.jp-TrustedIcon {
  background-image: var(--jp-icon-trusted);
}

.jp-UndoIcon {
  background-image: var(--jp-icon-undo);
}

.jp-UserIcon {
  background-image: var(--jp-icon-user);
}

.jp-UsersIcon {
  background-image: var(--jp-icon-users);
}

.jp-VegaIcon {
  background-image: var(--jp-icon-vega);
}

.jp-WordIcon {
  background-image: var(--jp-icon-word);
}

.jp-YamlIcon {
  background-image: var(--jp-icon-yaml);
}

/*-----------------------------------------------------------------------------
| Copyright (c) Jupyter Development Team.
| Distributed under the terms of the Modified BSD License.
|----------------------------------------------------------------------------*/

/**
 * (DEPRECATED) Support for consuming icons as CSS background images
 */

.jp-Icon,
.jp-MaterialIcon {
  background-position: center;
  background-repeat: no-repeat;
  background-size: 16px;
  min-width: 16px;
  min-height: 16px;
}

.jp-Icon-cover {
  background-position: center;
  background-repeat: no-repeat;
  background-size: cover;
}

/**
 * (DEPRECATED) Support for specific CSS icon sizes
 */

.jp-Icon-16 {
  background-size: 16px;
  min-width: 16px;
  min-height: 16px;
}

.jp-Icon-18 {
  background-size: 18px;
  min-width: 18px;
  min-height: 18px;
}

.jp-Icon-20 {
  background-size: 20px;
  min-width: 20px;
  min-height: 20px;
}

/*-----------------------------------------------------------------------------
| Copyright (c) Jupyter Development Team.
| Distributed under the terms of the Modified BSD License.
|----------------------------------------------------------------------------*/

.lm-TabBar .lm-TabBar-addButton {
  align-items: center;
  display: flex;
  padding: 4px;
  padding-bottom: 5px;
  margin-right: 1px;
  background-color: var(--jp-layout-color2);
}

.lm-TabBar .lm-TabBar-addButton:hover {
  background-color: var(--jp-layout-color1);
}

.lm-DockPanel-tabBar .lm-TabBar-tab {
  width: var(--jp-private-horizontal-tab-width);
}

.lm-DockPanel-tabBar .lm-TabBar-content {
  flex: unset;
}

.lm-DockPanel-tabBar[data-orientation='horizontal'] {
  flex: 1 1 auto;
}

/*-----------------------------------------------------------------------------
| Copyright (c) Jupyter Development Team.
| Distributed under the terms of the Modified BSD License.
|----------------------------------------------------------------------------*/

/**
 * Support for icons as inline SVG HTMLElements
 */

/* recolor the primary elements of an icon */
.jp-icon0[fill] {
  fill: var(--jp-inverse-layout-color0);
}

.jp-icon1[fill] {
  fill: var(--jp-inverse-layout-color1);
}

.jp-icon2[fill] {
  fill: var(--jp-inverse-layout-color2);
}

.jp-icon3[fill] {
  fill: var(--jp-inverse-layout-color3);
}

.jp-icon4[fill] {
  fill: var(--jp-inverse-layout-color4);
}

.jp-icon0[stroke] {
  stroke: var(--jp-inverse-layout-color0);
}

.jp-icon1[stroke] {
  stroke: var(--jp-inverse-layout-color1);
}

.jp-icon2[stroke] {
  stroke: var(--jp-inverse-layout-color2);
}

.jp-icon3[stroke] {
  stroke: var(--jp-inverse-layout-color3);
}

.jp-icon4[stroke] {
  stroke: var(--jp-inverse-layout-color4);
}

/* recolor the accent elements of an icon */
.jp-icon-accent0[fill] {
  fill: var(--jp-layout-color0);
}

.jp-icon-accent1[fill] {
  fill: var(--jp-layout-color1);
}

.jp-icon-accent2[fill] {
  fill: var(--jp-layout-color2);
}

.jp-icon-accent3[fill] {
  fill: var(--jp-layout-color3);
}

.jp-icon-accent4[fill] {
  fill: var(--jp-layout-color4);
}

.jp-icon-accent0[stroke] {
  stroke: var(--jp-layout-color0);
}

.jp-icon-accent1[stroke] {
  stroke: var(--jp-layout-color1);
}

.jp-icon-accent2[stroke] {
  stroke: var(--jp-layout-color2);
}

.jp-icon-accent3[stroke] {
  stroke: var(--jp-layout-color3);
}

.jp-icon-accent4[stroke] {
  stroke: var(--jp-layout-color4);
}

/* set the color of an icon to transparent */
.jp-icon-none[fill] {
  fill: none;
}

.jp-icon-none[stroke] {
  stroke: none;
}

/* brand icon colors. Same for light and dark */
.jp-icon-brand0[fill] {
  fill: var(--jp-brand-color0);
}

.jp-icon-brand1[fill] {
  fill: var(--jp-brand-color1);
}

.jp-icon-brand2[fill] {
  fill: var(--jp-brand-color2);
}

.jp-icon-brand3[fill] {
  fill: var(--jp-brand-color3);
}

.jp-icon-brand4[fill] {
  fill: var(--jp-brand-color4);
}

.jp-icon-brand0[stroke] {
  stroke: var(--jp-brand-color0);
}

.jp-icon-brand1[stroke] {
  stroke: var(--jp-brand-color1);
}

.jp-icon-brand2[stroke] {
  stroke: var(--jp-brand-color2);
}

.jp-icon-brand3[stroke] {
  stroke: var(--jp-brand-color3);
}

.jp-icon-brand4[stroke] {
  stroke: var(--jp-brand-color4);
}

/* warn icon colors. Same for light and dark */
.jp-icon-warn0[fill] {
  fill: var(--jp-warn-color0);
}

.jp-icon-warn1[fill] {
  fill: var(--jp-warn-color1);
}

.jp-icon-warn2[fill] {
  fill: var(--jp-warn-color2);
}

.jp-icon-warn3[fill] {
  fill: var(--jp-warn-color3);
}

.jp-icon-warn0[stroke] {
  stroke: var(--jp-warn-color0);
}

.jp-icon-warn1[stroke] {
  stroke: var(--jp-warn-color1);
}

.jp-icon-warn2[stroke] {
  stroke: var(--jp-warn-color2);
}

.jp-icon-warn3[stroke] {
  stroke: var(--jp-warn-color3);
}

/* icon colors that contrast well with each other and most backgrounds */
.jp-icon-contrast0[fill] {
  fill: var(--jp-icon-contrast-color0);
}

.jp-icon-contrast1[fill] {
  fill: var(--jp-icon-contrast-color1);
}

.jp-icon-contrast2[fill] {
  fill: var(--jp-icon-contrast-color2);
}

.jp-icon-contrast3[fill] {
  fill: var(--jp-icon-contrast-color3);
}

.jp-icon-contrast0[stroke] {
  stroke: var(--jp-icon-contrast-color0);
}

.jp-icon-contrast1[stroke] {
  stroke: var(--jp-icon-contrast-color1);
}

.jp-icon-contrast2[stroke] {
  stroke: var(--jp-icon-contrast-color2);
}

.jp-icon-contrast3[stroke] {
  stroke: var(--jp-icon-contrast-color3);
}

.jp-icon-dot[fill] {
  fill: var(--jp-warn-color0);
}

.jp-jupyter-icon-color[fill] {
  fill: var(--jp-jupyter-icon-color, var(--jp-warn-color0));
}

.jp-notebook-icon-color[fill] {
  fill: var(--jp-notebook-icon-color, var(--jp-warn-color0));
}

.jp-json-icon-color[fill] {
  fill: var(--jp-json-icon-color, var(--jp-warn-color1));
}

.jp-console-icon-color[fill] {
  fill: var(--jp-console-icon-color, white);
}

.jp-console-icon-background-color[fill] {
  fill: var(--jp-console-icon-background-color, var(--jp-brand-color1));
}

.jp-terminal-icon-color[fill] {
  fill: var(--jp-terminal-icon-color, var(--jp-layout-color2));
}

.jp-terminal-icon-background-color[fill] {
  fill: var(
    --jp-terminal-icon-background-color,
    var(--jp-inverse-layout-color2)
  );
}

.jp-text-editor-icon-color[fill] {
  fill: var(--jp-text-editor-icon-color, var(--jp-inverse-layout-color3));
}

.jp-inspector-icon-color[fill] {
  fill: var(--jp-inspector-icon-color, var(--jp-inverse-layout-color3));
}

/* CSS for icons in selected filebrowser listing items */
.jp-DirListing-item.jp-mod-selected .jp-icon-selectable[fill] {
  fill: #fff;
}

.jp-DirListing-item.jp-mod-selected .jp-icon-selectable-inverse[fill] {
  fill: var(--jp-brand-color1);
}

/* stylelint-disable selector-max-class, selector-max-compound-selectors */

/**
* TODO: come up with non css-hack solution for showing the busy icon on top
*  of the close icon
* CSS for complex behavior of close icon of tabs in the main area tabbar
*/
.lm-DockPanel-tabBar
  .lm-TabBar-tab.lm-mod-closable.jp-mod-dirty
  > .lm-TabBar-tabCloseIcon
  > :not(:hover)
  > .jp-icon3[fill] {
  fill: none;
}

.lm-DockPanel-tabBar
  .lm-TabBar-tab.lm-mod-closable.jp-mod-dirty
  > .lm-TabBar-tabCloseIcon
  > :not(:hover)
  > .jp-icon-busy[fill] {
  fill: var(--jp-inverse-layout-color3);
}

/* stylelint-enable selector-max-class, selector-max-compound-selectors */

/* CSS for icons in status bar */
#jp-main-statusbar .jp-mod-selected .jp-icon-selectable[fill] {
  fill: #fff;
}

#jp-main-statusbar .jp-mod-selected .jp-icon-selectable-inverse[fill] {
  fill: var(--jp-brand-color1);
}

/* special handling for splash icon CSS. While the theme CSS reloads during
   splash, the splash icon can loose theming. To prevent that, we set a
   default for its color variable */
:root {
  --jp-warn-color0: var(--md-orange-700);
}

/* not sure what to do with this one, used in filebrowser listing */
.jp-DragIcon {
  margin-right: 4px;
}

/*-----------------------------------------------------------------------------
| Copyright (c) Jupyter Development Team.
| Distributed under the terms of the Modified BSD License.
|----------------------------------------------------------------------------*/

/**
 * Support for alt colors for icons as inline SVG HTMLElements
 */

/* alt recolor the primary elements of an icon */
.jp-icon-alt .jp-icon0[fill] {
  fill: var(--jp-layout-color0);
}

.jp-icon-alt .jp-icon1[fill] {
  fill: var(--jp-layout-color1);
}

.jp-icon-alt .jp-icon2[fill] {
  fill: var(--jp-layout-color2);
}

.jp-icon-alt .jp-icon3[fill] {
  fill: var(--jp-layout-color3);
}

.jp-icon-alt .jp-icon4[fill] {
  fill: var(--jp-layout-color4);
}

.jp-icon-alt .jp-icon0[stroke] {
  stroke: var(--jp-layout-color0);
}

.jp-icon-alt .jp-icon1[stroke] {
  stroke: var(--jp-layout-color1);
}

.jp-icon-alt .jp-icon2[stroke] {
  stroke: var(--jp-layout-color2);
}

.jp-icon-alt .jp-icon3[stroke] {
  stroke: var(--jp-layout-color3);
}

.jp-icon-alt .jp-icon4[stroke] {
  stroke: var(--jp-layout-color4);
}

/* alt recolor the accent elements of an icon */
.jp-icon-alt .jp-icon-accent0[fill] {
  fill: var(--jp-inverse-layout-color0);
}

.jp-icon-alt .jp-icon-accent1[fill] {
  fill: var(--jp-inverse-layout-color1);
}

.jp-icon-alt .jp-icon-accent2[fill] {
  fill: var(--jp-inverse-layout-color2);
}

.jp-icon-alt .jp-icon-accent3[fill] {
  fill: var(--jp-inverse-layout-color3);
}

.jp-icon-alt .jp-icon-accent4[fill] {
  fill: var(--jp-inverse-layout-color4);
}

.jp-icon-alt .jp-icon-accent0[stroke] {
  stroke: var(--jp-inverse-layout-color0);
}

.jp-icon-alt .jp-icon-accent1[stroke] {
  stroke: var(--jp-inverse-layout-color1);
}

.jp-icon-alt .jp-icon-accent2[stroke] {
  stroke: var(--jp-inverse-layout-color2);
}

.jp-icon-alt .jp-icon-accent3[stroke] {
  stroke: var(--jp-inverse-layout-color3);
}

.jp-icon-alt .jp-icon-accent4[stroke] {
  stroke: var(--jp-inverse-layout-color4);
}

/*-----------------------------------------------------------------------------
| Copyright (c) Jupyter Development Team.
| Distributed under the terms of the Modified BSD License.
|----------------------------------------------------------------------------*/

.jp-icon-hoverShow:not(:hover) .jp-icon-hoverShow-content {
  display: none !important;
}

/**
 * Support for hover colors for icons as inline SVG HTMLElements
 */

/**
 * regular colors
 */

/* recolor the primary elements of an icon */
.jp-icon-hover :hover .jp-icon0-hover[fill] {
  fill: var(--jp-inverse-layout-color0);
}

.jp-icon-hover :hover .jp-icon1-hover[fill] {
  fill: var(--jp-inverse-layout-color1);
}

.jp-icon-hover :hover .jp-icon2-hover[fill] {
  fill: var(--jp-inverse-layout-color2);
}

.jp-icon-hover :hover .jp-icon3-hover[fill] {
  fill: var(--jp-inverse-layout-color3);
}

.jp-icon-hover :hover .jp-icon4-hover[fill] {
  fill: var(--jp-inverse-layout-color4);
}

.jp-icon-hover :hover .jp-icon0-hover[stroke] {
  stroke: var(--jp-inverse-layout-color0);
}

.jp-icon-hover :hover .jp-icon1-hover[stroke] {
  stroke: var(--jp-inverse-layout-color1);
}

.jp-icon-hover :hover .jp-icon2-hover[stroke] {
  stroke: var(--jp-inverse-layout-color2);
}

.jp-icon-hover :hover .jp-icon3-hover[stroke] {
  stroke: var(--jp-inverse-layout-color3);
}

.jp-icon-hover :hover .jp-icon4-hover[stroke] {
  stroke: var(--jp-inverse-layout-color4);
}

/* recolor the accent elements of an icon */
.jp-icon-hover :hover .jp-icon-accent0-hover[fill] {
  fill: var(--jp-layout-color0);
}

.jp-icon-hover :hover .jp-icon-accent1-hover[fill] {
  fill: var(--jp-layout-color1);
}

.jp-icon-hover :hover .jp-icon-accent2-hover[fill] {
  fill: var(--jp-layout-color2);
}

.jp-icon-hover :hover .jp-icon-accent3-hover[fill] {
  fill: var(--jp-layout-color3);
}

.jp-icon-hover :hover .jp-icon-accent4-hover[fill] {
  fill: var(--jp-layout-color4);
}

.jp-icon-hover :hover .jp-icon-accent0-hover[stroke] {
  stroke: var(--jp-layout-color0);
}

.jp-icon-hover :hover .jp-icon-accent1-hover[stroke] {
  stroke: var(--jp-layout-color1);
}

.jp-icon-hover :hover .jp-icon-accent2-hover[stroke] {
  stroke: var(--jp-layout-color2);
}

.jp-icon-hover :hover .jp-icon-accent3-hover[stroke] {
  stroke: var(--jp-layout-color3);
}

.jp-icon-hover :hover .jp-icon-accent4-hover[stroke] {
  stroke: var(--jp-layout-color4);
}

/* set the color of an icon to transparent */
.jp-icon-hover :hover .jp-icon-none-hover[fill] {
  fill: none;
}

.jp-icon-hover :hover .jp-icon-none-hover[stroke] {
  stroke: none;
}

/**
 * inverse colors
 */

/* inverse recolor the primary elements of an icon */
.jp-icon-hover.jp-icon-alt :hover .jp-icon0-hover[fill] {
  fill: var(--jp-layout-color0);
}

.jp-icon-hover.jp-icon-alt :hover .jp-icon1-hover[fill] {
  fill: var(--jp-layout-color1);
}

.jp-icon-hover.jp-icon-alt :hover .jp-icon2-hover[fill] {
  fill: var(--jp-layout-color2);
}

.jp-icon-hover.jp-icon-alt :hover .jp-icon3-hover[fill] {
  fill: var(--jp-layout-color3);
}

.jp-icon-hover.jp-icon-alt :hover .jp-icon4-hover[fill] {
  fill: var(--jp-layout-color4);
}

.jp-icon-hover.jp-icon-alt :hover .jp-icon0-hover[stroke] {
  stroke: var(--jp-layout-color0);
}

.jp-icon-hover.jp-icon-alt :hover .jp-icon1-hover[stroke] {
  stroke: var(--jp-layout-color1);
}

.jp-icon-hover.jp-icon-alt :hover .jp-icon2-hover[stroke] {
  stroke: var(--jp-layout-color2);
}

.jp-icon-hover.jp-icon-alt :hover .jp-icon3-hover[stroke] {
  stroke: var(--jp-layout-color3);
}

.jp-icon-hover.jp-icon-alt :hover .jp-icon4-hover[stroke] {
  stroke: var(--jp-layout-color4);
}

/* inverse recolor the accent elements of an icon */
.jp-icon-hover.jp-icon-alt :hover .jp-icon-accent0-hover[fill] {
  fill: var(--jp-inverse-layout-color0);
}

.jp-icon-hover.jp-icon-alt :hover .jp-icon-accent1-hover[fill] {
  fill: var(--jp-inverse-layout-color1);
}

.jp-icon-hover.jp-icon-alt :hover .jp-icon-accent2-hover[fill] {
  fill: var(--jp-inverse-layout-color2);
}

.jp-icon-hover.jp-icon-alt :hover .jp-icon-accent3-hover[fill] {
  fill: var(--jp-inverse-layout-color3);
}

.jp-icon-hover.jp-icon-alt :hover .jp-icon-accent4-hover[fill] {
  fill: var(--jp-inverse-layout-color4);
}

.jp-icon-hover.jp-icon-alt :hover .jp-icon-accent0-hover[stroke] {
  stroke: var(--jp-inverse-layout-color0);
}

.jp-icon-hover.jp-icon-alt :hover .jp-icon-accent1-hover[stroke] {
  stroke: var(--jp-inverse-layout-color1);
}

.jp-icon-hover.jp-icon-alt :hover .jp-icon-accent2-hover[stroke] {
  stroke: var(--jp-inverse-layout-color2);
}

.jp-icon-hover.jp-icon-alt :hover .jp-icon-accent3-hover[stroke] {
  stroke: var(--jp-inverse-layout-color3);
}

.jp-icon-hover.jp-icon-alt :hover .jp-icon-accent4-hover[stroke] {
  stroke: var(--jp-inverse-layout-color4);
}

/*-----------------------------------------------------------------------------
| Copyright (c) Jupyter Development Team.
| Distributed under the terms of the Modified BSD License.
|----------------------------------------------------------------------------*/

.jp-IFrame {
  width: 100%;
  height: 100%;
}

.jp-IFrame > iframe {
  border: none;
}

/*
When drag events occur, `lm-mod-override-cursor` is added to the body.
Because iframes steal all cursor events, the following two rules are necessary
to suppress pointer events while resize drags are occurring. There may be a
better solution to this problem.
*/
body.lm-mod-override-cursor .jp-IFrame {
  position: relative;
}

body.lm-mod-override-cursor .jp-IFrame::before {
  content: '';
  position: absolute;
  top: 0;
  left: 0;
  right: 0;
  bottom: 0;
  background: transparent;
}

/*-----------------------------------------------------------------------------
| Copyright (c) 2014-2016, Jupyter Development Team.
|
| Distributed under the terms of the Modified BSD License.
|----------------------------------------------------------------------------*/

.jp-HoverBox {
  position: fixed;
}

/*-----------------------------------------------------------------------------
| Copyright (c) Jupyter Development Team.
| Distributed under the terms of the Modified BSD License.
|----------------------------------------------------------------------------*/

.jp-FormGroup-content fieldset {
  border: none;
  padding: 0;
  min-width: 0;
  width: 100%;
}

/* stylelint-disable selector-max-type */

.jp-FormGroup-content fieldset .jp-inputFieldWrapper input,
.jp-FormGroup-content fieldset .jp-inputFieldWrapper select,
.jp-FormGroup-content fieldset .jp-inputFieldWrapper textarea {
  font-size: var(--jp-content-font-size2);
  border-color: var(--jp-input-border-color);
  border-style: solid;
  border-radius: var(--jp-border-radius);
  border-width: 1px;
  padding: 6px 8px;
  background: none;
  color: var(--jp-ui-font-color0);
  height: inherit;
}

.jp-FormGroup-content fieldset input[type='checkbox'] {
  position: relative;
  top: 2px;
  margin-left: 0;
}

.jp-FormGroup-content button.jp-mod-styled {
  cursor: pointer;
}

.jp-FormGroup-content .checkbox label {
  cursor: pointer;
  font-size: var(--jp-content-font-size1);
}

.jp-FormGroup-content .jp-root > fieldset > legend {
  display: none;
}

.jp-FormGroup-content .jp-root > fieldset > p {
  display: none;
}

/** copy of `input.jp-mod-styled:focus` style */
.jp-FormGroup-content fieldset input:focus,
.jp-FormGroup-content fieldset select:focus {
  -moz-outline-radius: unset;
  outline: var(--jp-border-width) solid var(--md-blue-500);
  outline-offset: -1px;
  box-shadow: inset 0 0 4px var(--md-blue-300);
}

.jp-FormGroup-content fieldset input:hover:not(:focus),
.jp-FormGroup-content fieldset select:hover:not(:focus) {
  background-color: var(--jp-border-color2);
}

/* stylelint-enable selector-max-type */

.jp-FormGroup-content .checkbox .field-description {
  /* Disable default description field for checkbox:
   because other widgets do not have description fields,
   we add descriptions to each widget on the field level.
  */
  display: none;
}

.jp-FormGroup-content #root__description {
  display: none;
}

.jp-FormGroup-content .jp-modifiedIndicator {
  width: 5px;
  background-color: var(--jp-brand-color2);
  margin-top: 0;
  margin-left: calc(var(--jp-private-settingeditor-modifier-indent) * -1);
  flex-shrink: 0;
}

.jp-FormGroup-content .jp-modifiedIndicator.jp-errorIndicator {
  background-color: var(--jp-error-color0);
  margin-right: 0.5em;
}

/* RJSF ARRAY style */

.jp-arrayFieldWrapper legend {
  font-size: var(--jp-content-font-size2);
  color: var(--jp-ui-font-color0);
  flex-basis: 100%;
  padding: 4px 0;
  font-weight: var(--jp-content-heading-font-weight);
  border-bottom: 1px solid var(--jp-border-color2);
}

.jp-arrayFieldWrapper .field-description {
  padding: 4px 0;
  white-space: pre-wrap;
}

.jp-arrayFieldWrapper .array-item {
  width: 100%;
  border: 1px solid var(--jp-border-color2);
  border-radius: 4px;
  margin: 4px;
}

.jp-ArrayOperations {
  display: flex;
  margin-left: 8px;
}

.jp-ArrayOperationsButton {
  margin: 2px;
}

.jp-ArrayOperationsButton .jp-icon3[fill] {
  fill: var(--jp-ui-font-color0);
}

button.jp-ArrayOperationsButton.jp-mod-styled:disabled {
  cursor: not-allowed;
  opacity: 0.5;
}

/* RJSF form validation error */

.jp-FormGroup-content .validationErrors {
  color: var(--jp-error-color0);
}

/* Hide panel level error as duplicated the field level error */
.jp-FormGroup-content .panel.errors {
  display: none;
}

/* RJSF normal content (settings-editor) */

.jp-FormGroup-contentNormal {
  display: flex;
  align-items: center;
  flex-wrap: wrap;
}

.jp-FormGroup-contentNormal .jp-FormGroup-contentItem {
  margin-left: 7px;
  color: var(--jp-ui-font-color0);
}

.jp-FormGroup-contentNormal .jp-FormGroup-description {
  flex-basis: 100%;
  padding: 4px 7px;
}

.jp-FormGroup-contentNormal .jp-FormGroup-default {
  flex-basis: 100%;
  padding: 4px 7px;
}

.jp-FormGroup-contentNormal .jp-FormGroup-fieldLabel {
  font-size: var(--jp-content-font-size1);
  font-weight: normal;
  min-width: 120px;
}

.jp-FormGroup-contentNormal fieldset:not(:first-child) {
  margin-left: 7px;
}

.jp-FormGroup-contentNormal .field-array-of-string .array-item {
  /* Display `jp-ArrayOperations` buttons side-by-side with content except
    for small screens where flex-wrap will place them one below the other.
  */
  display: flex;
  align-items: center;
  flex-wrap: wrap;
}

.jp-FormGroup-contentNormal .jp-objectFieldWrapper .form-group {
  padding: 2px 8px 2px var(--jp-private-settingeditor-modifier-indent);
  margin-top: 2px;
}

/* RJSF compact content (metadata-form) */

.jp-FormGroup-content.jp-FormGroup-contentCompact {
  width: 100%;
}

.jp-FormGroup-contentCompact .form-group {
  display: flex;
  padding: 0.5em 0.2em 0.5em 0;
}

.jp-FormGroup-contentCompact
  .jp-FormGroup-compactTitle
  .jp-FormGroup-description {
  font-size: var(--jp-ui-font-size1);
  color: var(--jp-ui-font-color2);
}

.jp-FormGroup-contentCompact .jp-FormGroup-fieldLabel {
  padding-bottom: 0.3em;
}

.jp-FormGroup-contentCompact .jp-inputFieldWrapper .form-control {
  width: 100%;
  box-sizing: border-box;
}

.jp-FormGroup-contentCompact .jp-arrayFieldWrapper .jp-FormGroup-compactTitle {
  padding-bottom: 7px;
}

.jp-FormGroup-contentCompact
  .jp-objectFieldWrapper
  .jp-objectFieldWrapper
  .form-group {
  padding: 2px 8px 2px var(--jp-private-settingeditor-modifier-indent);
  margin-top: 2px;
}

.jp-FormGroup-contentCompact ul.error-detail {
  margin-block-start: 0.5em;
  margin-block-end: 0.5em;
  padding-inline-start: 1em;
}

/*
 * Copyright (c) Jupyter Development Team.
 * Distributed under the terms of the Modified BSD License.
 */

.jp-SidePanel {
  display: flex;
  flex-direction: column;
  min-width: var(--jp-sidebar-min-width);
  overflow-y: auto;
  color: var(--jp-ui-font-color1);
  background: var(--jp-layout-color1);
  font-size: var(--jp-ui-font-size1);
}

.jp-SidePanel-header {
  flex: 0 0 auto;
  display: flex;
  border-bottom: var(--jp-border-width) solid var(--jp-border-color2);
  font-size: var(--jp-ui-font-size0);
  font-weight: 600;
  letter-spacing: 1px;
  margin: 0;
  padding: 2px;
  text-transform: uppercase;
}

.jp-SidePanel-toolbar {
  flex: 0 0 auto;
}

.jp-SidePanel-content {
  flex: 1 1 auto;
}

.jp-SidePanel-toolbar,
.jp-AccordionPanel-toolbar {
  height: var(--jp-private-toolbar-height);
}

.jp-SidePanel-toolbar.jp-Toolbar-micro {
  display: none;
}

.lm-AccordionPanel .jp-AccordionPanel-title {
  box-sizing: border-box;
  line-height: 25px;
  margin: 0;
  display: flex;
  align-items: center;
  background: var(--jp-layout-color1);
  color: var(--jp-ui-font-color1);
  border-bottom: var(--jp-border-width) solid var(--jp-toolbar-border-color);
  box-shadow: var(--jp-toolbar-box-shadow);
  font-size: var(--jp-ui-font-size0);
}

.jp-AccordionPanel-title {
  cursor: pointer;
  user-select: none;
  -moz-user-select: none;
  -webkit-user-select: none;
  text-transform: uppercase;
}

.lm-AccordionPanel[data-orientation='horizontal'] > .jp-AccordionPanel-title {
  /* Title is rotated for horizontal accordion panel using CSS */
  display: block;
  transform-origin: top left;
  transform: rotate(-90deg) translate(-100%);
}

.jp-AccordionPanel-title .lm-AccordionPanel-titleLabel {
  user-select: none;
  text-overflow: ellipsis;
  white-space: nowrap;
  overflow: hidden;
}

.jp-AccordionPanel-title .lm-AccordionPanel-titleCollapser {
  transform: rotate(-90deg);
  margin: auto 0;
  height: 16px;
}

.jp-AccordionPanel-title.lm-mod-expanded .lm-AccordionPanel-titleCollapser {
  transform: rotate(0deg);
}

.lm-AccordionPanel .jp-AccordionPanel-toolbar {
  background: none;
  box-shadow: none;
  border: none;
  margin-left: auto;
}

.lm-AccordionPanel .lm-SplitPanel-handle:hover {
  background: var(--jp-layout-color3);
}

.jp-text-truncated {
  overflow: hidden;
  text-overflow: ellipsis;
  white-space: nowrap;
}

/*-----------------------------------------------------------------------------
| Copyright (c) 2017, Jupyter Development Team.
|
| Distributed under the terms of the Modified BSD License.
|----------------------------------------------------------------------------*/

.jp-Spinner {
  position: absolute;
  display: flex;
  justify-content: center;
  align-items: center;
  z-index: 10;
  left: 0;
  top: 0;
  width: 100%;
  height: 100%;
  background: var(--jp-layout-color0);
  outline: none;
}

.jp-SpinnerContent {
  font-size: 10px;
  margin: 50px auto;
  text-indent: -9999em;
  width: 3em;
  height: 3em;
  border-radius: 50%;
  background: var(--jp-brand-color3);
  background: linear-gradient(
    to right,
    #f37626 10%,
    rgba(255, 255, 255, 0) 42%
  );
  position: relative;
  animation: load3 1s infinite linear, fadeIn 1s;
}

.jp-SpinnerContent::before {
  width: 50%;
  height: 50%;
  background: #f37626;
  border-radius: 100% 0 0;
  position: absolute;
  top: 0;
  left: 0;
  content: '';
}

.jp-SpinnerContent::after {
  background: var(--jp-layout-color0);
  width: 75%;
  height: 75%;
  border-radius: 50%;
  content: '';
  margin: auto;
  position: absolute;
  top: 0;
  left: 0;
  bottom: 0;
  right: 0;
}

@keyframes fadeIn {
  0% {
    opacity: 0;
  }

  100% {
    opacity: 1;
  }
}

@keyframes load3 {
  0% {
    transform: rotate(0deg);
  }

  100% {
    transform: rotate(360deg);
  }
}

/*-----------------------------------------------------------------------------
| Copyright (c) 2014-2017, Jupyter Development Team.
|
| Distributed under the terms of the Modified BSD License.
|----------------------------------------------------------------------------*/

button.jp-mod-styled {
  font-size: var(--jp-ui-font-size1);
  color: var(--jp-ui-font-color0);
  border: none;
  box-sizing: border-box;
  text-align: center;
  line-height: 32px;
  height: 32px;
  padding: 0 12px;
  letter-spacing: 0.8px;
  outline: none;
  appearance: none;
  -webkit-appearance: none;
  -moz-appearance: none;
}

input.jp-mod-styled {
  background: var(--jp-input-background);
  height: 28px;
  box-sizing: border-box;
  border: var(--jp-border-width) solid var(--jp-border-color1);
  padding-left: 7px;
  padding-right: 7px;
  font-size: var(--jp-ui-font-size2);
  color: var(--jp-ui-font-color0);
  outline: none;
  appearance: none;
  -webkit-appearance: none;
  -moz-appearance: none;
}

input[type='checkbox'].jp-mod-styled {
  appearance: checkbox;
  -webkit-appearance: checkbox;
  -moz-appearance: checkbox;
  height: auto;
}

input.jp-mod-styled:focus {
  border: var(--jp-border-width) solid var(--md-blue-500);
  box-shadow: inset 0 0 4px var(--md-blue-300);
}

.jp-select-wrapper {
  display: flex;
  position: relative;
  flex-direction: column;
  padding: 1px;
  background-color: var(--jp-layout-color1);
  box-sizing: border-box;
  margin-bottom: 12px;
}

.jp-select-wrapper:not(.multiple) {
  height: 28px;
}

.jp-select-wrapper.jp-mod-focused select.jp-mod-styled {
  border: var(--jp-border-width) solid var(--jp-input-active-border-color);
  box-shadow: var(--jp-input-box-shadow);
  background-color: var(--jp-input-active-background);
}

select.jp-mod-styled:hover {
  cursor: pointer;
  color: var(--jp-ui-font-color0);
  background-color: var(--jp-input-hover-background);
  box-shadow: inset 0 0 1px rgba(0, 0, 0, 0.5);
}

select.jp-mod-styled {
  flex: 1 1 auto;
  width: 100%;
  font-size: var(--jp-ui-font-size2);
  background: var(--jp-input-background);
  color: var(--jp-ui-font-color0);
  padding: 0 25px 0 8px;
  border: var(--jp-border-width) solid var(--jp-input-border-color);
  border-radius: 0;
  outline: none;
  appearance: none;
  -webkit-appearance: none;
  -moz-appearance: none;
}

select.jp-mod-styled:not([multiple]) {
  height: 32px;
}

select.jp-mod-styled[multiple] {
  max-height: 200px;
  overflow-y: auto;
}

/*-----------------------------------------------------------------------------
| Copyright (c) Jupyter Development Team.
| Distributed under the terms of the Modified BSD License.
|----------------------------------------------------------------------------*/

.jp-switch {
  display: flex;
  align-items: center;
  padding-left: 4px;
  padding-right: 4px;
  font-size: var(--jp-ui-font-size1);
  background-color: transparent;
  color: var(--jp-ui-font-color1);
  border: none;
  height: 20px;
}

.jp-switch:hover {
  background-color: var(--jp-layout-color2);
}

.jp-switch-label {
  margin-right: 5px;
  font-family: var(--jp-ui-font-family);
}

.jp-switch-track {
  cursor: pointer;
  background-color: var(--jp-switch-color, var(--jp-border-color1));
  -webkit-transition: 0.4s;
  transition: 0.4s;
  border-radius: 34px;
  height: 16px;
  width: 35px;
  position: relative;
}

.jp-switch-track::before {
  content: '';
  position: absolute;
  height: 10px;
  width: 10px;
  margin: 3px;
  left: 0;
  background-color: var(--jp-ui-inverse-font-color1);
  -webkit-transition: 0.4s;
  transition: 0.4s;
  border-radius: 50%;
}

.jp-switch[aria-checked='true'] .jp-switch-track {
  background-color: var(--jp-switch-true-position-color, var(--jp-warn-color0));
}

.jp-switch[aria-checked='true'] .jp-switch-track::before {
  /* track width (35) - margins (3 + 3) - thumb width (10) */
  left: 19px;
}

/*-----------------------------------------------------------------------------
| Copyright (c) 2014-2016, Jupyter Development Team.
|
| Distributed under the terms of the Modified BSD License.
|----------------------------------------------------------------------------*/

:root {
  --jp-private-toolbar-height: calc(
    28px + var(--jp-border-width)
  ); /* leave 28px for content */
}

.jp-Toolbar {
  color: var(--jp-ui-font-color1);
  flex: 0 0 auto;
  display: flex;
  flex-direction: row;
  border-bottom: var(--jp-border-width) solid var(--jp-toolbar-border-color);
  box-shadow: var(--jp-toolbar-box-shadow);
  background: var(--jp-toolbar-background);
  min-height: var(--jp-toolbar-micro-height);
  padding: 2px;
  z-index: 8;
  overflow-x: hidden;
}

/* Toolbar items */

.jp-Toolbar > .jp-Toolbar-item.jp-Toolbar-spacer {
  flex-grow: 1;
  flex-shrink: 1;
}

.jp-Toolbar-item.jp-Toolbar-kernelStatus {
  display: inline-block;
  width: 32px;
  background-repeat: no-repeat;
  background-position: center;
  background-size: 16px;
}

.jp-Toolbar > .jp-Toolbar-item {
  flex: 0 0 auto;
  display: flex;
  padding-left: 1px;
  padding-right: 1px;
  font-size: var(--jp-ui-font-size1);
  line-height: var(--jp-private-toolbar-height);
  height: 100%;
}

/* Toolbar buttons */

/* This is the div we use to wrap the react component into a Widget */
div.jp-ToolbarButton {
  color: transparent;
  border: none;
  box-sizing: border-box;
  outline: none;
  appearance: none;
  -webkit-appearance: none;
  -moz-appearance: none;
  padding: 0;
  margin: 0;
}

button.jp-ToolbarButtonComponent {
  background: var(--jp-layout-color1);
  border: none;
  box-sizing: border-box;
  outline: none;
  appearance: none;
  -webkit-appearance: none;
  -moz-appearance: none;
  padding: 0 6px;
  margin: 0;
  height: 24px;
  border-radius: var(--jp-border-radius);
  display: flex;
  align-items: center;
  text-align: center;
  font-size: 14px;
  min-width: unset;
  min-height: unset;
}

button.jp-ToolbarButtonComponent:disabled {
  opacity: 0.4;
}

button.jp-ToolbarButtonComponent > span {
  padding: 0;
  flex: 0 0 auto;
}

button.jp-ToolbarButtonComponent .jp-ToolbarButtonComponent-label {
  font-size: var(--jp-ui-font-size1);
  line-height: 100%;
  padding-left: 2px;
  color: var(--jp-ui-font-color1);
  font-family: var(--jp-ui-font-family);
}

#jp-main-dock-panel[data-mode='single-document']
  .jp-MainAreaWidget
  > .jp-Toolbar.jp-Toolbar-micro {
  padding: 0;
  min-height: 0;
}

#jp-main-dock-panel[data-mode='single-document']
  .jp-MainAreaWidget
  > .jp-Toolbar {
  border: none;
  box-shadow: none;
}

/*
 * Copyright (c) Jupyter Development Team.
 * Distributed under the terms of the Modified BSD License.
 */

.jp-WindowedPanel-outer {
  position: relative;
  overflow-y: auto;
}

.jp-WindowedPanel-inner {
  position: relative;
}

.jp-WindowedPanel-window {
  position: absolute;
  left: 0;
  right: 0;
  overflow: visible;
}

/*-----------------------------------------------------------------------------
| Copyright (c) Jupyter Development Team.
| Distributed under the terms of the Modified BSD License.
|----------------------------------------------------------------------------*/

/* Sibling imports */

body {
  color: var(--jp-ui-font-color1);
  font-size: var(--jp-ui-font-size1);
}

/* Disable native link decoration styles everywhere outside of dialog boxes */
a {
  text-decoration: unset;
  color: unset;
}

a:hover {
  text-decoration: unset;
  color: unset;
}

/* Accessibility for links inside dialog box text */
.jp-Dialog-content a {
  text-decoration: revert;
  color: var(--jp-content-link-color);
}

.jp-Dialog-content a:hover {
  text-decoration: revert;
}

/* Styles for ui-components */
.jp-Button {
  color: var(--jp-ui-font-color2);
  border-radius: var(--jp-border-radius);
  padding: 0 12px;
  font-size: var(--jp-ui-font-size1);

  /* Copy from blueprint 3 */
  display: inline-flex;
  flex-direction: row;
  border: none;
  cursor: pointer;
  align-items: center;
  justify-content: center;
  text-align: left;
  vertical-align: middle;
  min-height: 30px;
  min-width: 30px;
}

.jp-Button:disabled {
  cursor: not-allowed;
}

.jp-Button:empty {
  padding: 0 !important;
}

.jp-Button.jp-mod-small {
  min-height: 24px;
  min-width: 24px;
  font-size: 12px;
  padding: 0 7px;
}

/* Use our own theme for hover styles */
.jp-Button.jp-mod-minimal:hover {
  background-color: var(--jp-layout-color2);
}

.jp-Button.jp-mod-minimal {
  background: none;
}

.jp-InputGroup {
  display: block;
  position: relative;
}

.jp-InputGroup input {
  box-sizing: border-box;
  border: none;
  border-radius: 0;
  background-color: transparent;
  color: var(--jp-ui-font-color0);
  box-shadow: inset 0 0 0 var(--jp-border-width) var(--jp-input-border-color);
  padding-bottom: 0;
  padding-top: 0;
  padding-left: 10px;
  padding-right: 28px;
  position: relative;
  width: 100%;
  -webkit-appearance: none;
  -moz-appearance: none;
  appearance: none;
  font-size: 14px;
  font-weight: 400;
  height: 30px;
  line-height: 30px;
  outline: none;
  vertical-align: middle;
}

.jp-InputGroup input:focus {
  box-shadow: inset 0 0 0 var(--jp-border-width)
      var(--jp-input-active-box-shadow-color),
    inset 0 0 0 3px var(--jp-input-active-box-shadow-color);
}

.jp-InputGroup input:disabled {
  cursor: not-allowed;
  resize: block;
  background-color: var(--jp-layout-color2);
  color: var(--jp-ui-font-color2);
}

.jp-InputGroup input:disabled ~ span {
  cursor: not-allowed;
  color: var(--jp-ui-font-color2);
}

.jp-InputGroup input::placeholder,
input::placeholder {
  color: var(--jp-ui-font-color2);
}

.jp-InputGroupAction {
  position: absolute;
  bottom: 1px;
  right: 0;
  padding: 6px;
}

.jp-HTMLSelect.jp-DefaultStyle select {
  background-color: initial;
  border: none;
  border-radius: 0;
  box-shadow: none;
  color: var(--jp-ui-font-color0);
  display: block;
  font-size: var(--jp-ui-font-size1);
  font-family: var(--jp-ui-font-family);
  height: 24px;
  line-height: 14px;
  padding: 0 25px 0 10px;
  text-align: left;
  -moz-appearance: none;
  -webkit-appearance: none;
}

.jp-HTMLSelect.jp-DefaultStyle select:disabled {
  background-color: var(--jp-layout-color2);
  color: var(--jp-ui-font-color2);
  cursor: not-allowed;
  resize: block;
}

.jp-HTMLSelect.jp-DefaultStyle select:disabled ~ span {
  cursor: not-allowed;
}

/* Use our own theme for hover and option styles */
/* stylelint-disable-next-line selector-max-type */
.jp-HTMLSelect.jp-DefaultStyle select:hover,
.jp-HTMLSelect.jp-DefaultStyle select > option {
  background-color: var(--jp-layout-color2);
  color: var(--jp-ui-font-color0);
}

select {
  box-sizing: border-box;
}

/*-----------------------------------------------------------------------------
| Copyright (c) Jupyter Development Team.
| Distributed under the terms of the Modified BSD License.
|----------------------------------------------------------------------------*/

/*-----------------------------------------------------------------------------
| Styles
|----------------------------------------------------------------------------*/

.jp-StatusBar-Widget {
  display: flex;
  align-items: center;
  background: var(--jp-layout-color2);
  min-height: var(--jp-statusbar-height);
  justify-content: space-between;
  padding: 0 10px;
}

.jp-StatusBar-Left {
  display: flex;
  align-items: center;
  flex-direction: row;
}

.jp-StatusBar-Middle {
  display: flex;
  align-items: center;
}

.jp-StatusBar-Right {
  display: flex;
  align-items: center;
  flex-direction: row-reverse;
}

.jp-StatusBar-Item {
  max-height: var(--jp-statusbar-height);
  margin: 0 2px;
  height: var(--jp-statusbar-height);
  white-space: nowrap;
  text-overflow: ellipsis;
  color: var(--jp-ui-font-color1);
  padding: 0 6px;
}

.jp-mod-highlighted:hover {
  background-color: var(--jp-layout-color3);
}

.jp-mod-clicked {
  background-color: var(--jp-brand-color1);
}

.jp-mod-clicked:hover {
  background-color: var(--jp-brand-color0);
}

.jp-mod-clicked .jp-StatusBar-TextItem {
  color: var(--jp-ui-inverse-font-color1);
}

.jp-StatusBar-HoverItem {
  box-shadow: '0px 4px 4px rgba(0, 0, 0, 0.25)';
}

.jp-StatusBar-TextItem {
  font-size: var(--jp-ui-font-size1);
  font-family: var(--jp-ui-font-family);
  line-height: 24px;
  color: var(--jp-ui-font-color1);
}

.jp-StatusBar-GroupItem {
  display: flex;
  align-items: center;
  flex-direction: row;
}

.jp-Statusbar-ProgressCircle svg {
  display: block;
  margin: 0 auto;
  width: 16px;
  height: 24px;
  align-self: normal;
}

.jp-Statusbar-ProgressCircle path {
  fill: var(--jp-inverse-layout-color3);
}

.jp-Statusbar-ProgressBar-progress-bar {
  height: 10px;
  width: 100px;
  border: solid 0.25px var(--jp-brand-color2);
  border-radius: 3px;
  overflow: hidden;
  align-self: center;
}

.jp-Statusbar-ProgressBar-progress-bar > div {
  background-color: var(--jp-brand-color2);
  background-image: linear-gradient(
    -45deg,
    rgba(255, 255, 255, 0.2) 25%,
    transparent 25%,
    transparent 50%,
    rgba(255, 255, 255, 0.2) 50%,
    rgba(255, 255, 255, 0.2) 75%,
    transparent 75%,
    transparent
  );
  background-size: 40px 40px;
  float: left;
  width: 0%;
  height: 100%;
  font-size: 12px;
  line-height: 14px;
  color: #fff;
  text-align: center;
  animation: jp-Statusbar-ExecutionTime-progress-bar 2s linear infinite;
}

.jp-Statusbar-ProgressBar-progress-bar p {
  color: var(--jp-ui-font-color1);
  font-family: var(--jp-ui-font-family);
  font-size: var(--jp-ui-font-size1);
  line-height: 10px;
  width: 100px;
}

@keyframes jp-Statusbar-ExecutionTime-progress-bar {
  0% {
    background-position: 0 0;
  }

  100% {
    background-position: 40px 40px;
  }
}

/*-----------------------------------------------------------------------------
| Copyright (c) Jupyter Development Team.
| Distributed under the terms of the Modified BSD License.
|----------------------------------------------------------------------------*/

/*-----------------------------------------------------------------------------
| Variables
|----------------------------------------------------------------------------*/

:root {
  --jp-private-commandpalette-search-height: 28px;
}

/*-----------------------------------------------------------------------------
| Overall styles
|----------------------------------------------------------------------------*/

.lm-CommandPalette {
  padding-bottom: 0;
  color: var(--jp-ui-font-color1);
  background: var(--jp-layout-color1);

  /* This is needed so that all font sizing of children done in ems is
   * relative to this base size */
  font-size: var(--jp-ui-font-size1);
}

/*-----------------------------------------------------------------------------
| Modal variant
|----------------------------------------------------------------------------*/

.jp-ModalCommandPalette {
  position: absolute;
  z-index: 10000;
  top: 38px;
  left: 30%;
  margin: 0;
  padding: 4px;
  width: 40%;
  box-shadow: var(--jp-elevation-z4);
  border-radius: 4px;
  background: var(--jp-layout-color0);
}

.jp-ModalCommandPalette .lm-CommandPalette {
  max-height: 40vh;
}

.jp-ModalCommandPalette .lm-CommandPalette .lm-close-icon::after {
  display: none;
}

.jp-ModalCommandPalette .lm-CommandPalette .lm-CommandPalette-header {
  display: none;
}

.jp-ModalCommandPalette .lm-CommandPalette .lm-CommandPalette-item {
  margin-left: 4px;
  margin-right: 4px;
}

.jp-ModalCommandPalette
  .lm-CommandPalette
  .lm-CommandPalette-item.lm-mod-disabled {
  display: none;
}

/*-----------------------------------------------------------------------------
| Search
|----------------------------------------------------------------------------*/

.lm-CommandPalette-search {
  padding: 4px;
  background-color: var(--jp-layout-color1);
  z-index: 2;
}

.lm-CommandPalette-wrapper {
  overflow: overlay;
  padding: 0 9px;
  background-color: var(--jp-input-active-background);
  height: 30px;
  box-shadow: inset 0 0 0 var(--jp-border-width) var(--jp-input-border-color);
}

.lm-CommandPalette.lm-mod-focused .lm-CommandPalette-wrapper {
  box-shadow: inset 0 0 0 1px var(--jp-input-active-box-shadow-color),
    inset 0 0 0 3px var(--jp-input-active-box-shadow-color);
}

.jp-SearchIconGroup {
  color: white;
  background-color: var(--jp-brand-color1);
  position: absolute;
  top: 4px;
  right: 4px;
  padding: 5px 5px 1px;
}

.jp-SearchIconGroup svg {
  height: 20px;
  width: 20px;
}

.jp-SearchIconGroup .jp-icon3[fill] {
  fill: var(--jp-layout-color0);
}

.lm-CommandPalette-input {
  background: transparent;
  width: calc(100% - 18px);
  float: left;
  border: none;
  outline: none;
  font-size: var(--jp-ui-font-size1);
  color: var(--jp-ui-font-color0);
  line-height: var(--jp-private-commandpalette-search-height);
}

.lm-CommandPalette-input::-webkit-input-placeholder,
.lm-CommandPalette-input::-moz-placeholder,
.lm-CommandPalette-input:-ms-input-placeholder {
  color: var(--jp-ui-font-color2);
  font-size: var(--jp-ui-font-size1);
}

/*-----------------------------------------------------------------------------
| Results
|----------------------------------------------------------------------------*/

.lm-CommandPalette-header:first-child {
  margin-top: 0;
}

.lm-CommandPalette-header {
  border-bottom: solid var(--jp-border-width) var(--jp-border-color2);
  color: var(--jp-ui-font-color1);
  cursor: pointer;
  display: flex;
  font-size: var(--jp-ui-font-size0);
  font-weight: 600;
  letter-spacing: 1px;
  margin-top: 8px;
  padding: 8px 0 8px 12px;
  text-transform: uppercase;
}

.lm-CommandPalette-header.lm-mod-active {
  background: var(--jp-layout-color2);
}

.lm-CommandPalette-header > mark {
  background-color: transparent;
  font-weight: bold;
  color: var(--jp-ui-font-color1);
}

.lm-CommandPalette-item {
  padding: 4px 12px 4px 4px;
  color: var(--jp-ui-font-color1);
  font-size: var(--jp-ui-font-size1);
  font-weight: 400;
  display: flex;
}

.lm-CommandPalette-item.lm-mod-disabled {
  color: var(--jp-ui-font-color2);
}

.lm-CommandPalette-item.lm-mod-active {
  color: var(--jp-ui-inverse-font-color1);
  background: var(--jp-brand-color1);
}

.lm-CommandPalette-item.lm-mod-active .lm-CommandPalette-itemLabel > mark {
  color: var(--jp-ui-inverse-font-color0);
}

.lm-CommandPalette-item.lm-mod-active .jp-icon-selectable[fill] {
  fill: var(--jp-layout-color0);
}

.lm-CommandPalette-item.lm-mod-active:hover:not(.lm-mod-disabled) {
  color: var(--jp-ui-inverse-font-color1);
  background: var(--jp-brand-color1);
}

.lm-CommandPalette-item:hover:not(.lm-mod-active):not(.lm-mod-disabled) {
  background: var(--jp-layout-color2);
}

.lm-CommandPalette-itemContent {
  overflow: hidden;
}

.lm-CommandPalette-itemLabel > mark {
  color: var(--jp-ui-font-color0);
  background-color: transparent;
  font-weight: bold;
}

.lm-CommandPalette-item.lm-mod-disabled mark {
  color: var(--jp-ui-font-color2);
}

.lm-CommandPalette-item .lm-CommandPalette-itemIcon {
  margin: 0 4px 0 0;
  position: relative;
  width: 16px;
  top: 2px;
  flex: 0 0 auto;
}

.lm-CommandPalette-item.lm-mod-disabled .lm-CommandPalette-itemIcon {
  opacity: 0.6;
}

.lm-CommandPalette-item .lm-CommandPalette-itemShortcut {
  flex: 0 0 auto;
}

.lm-CommandPalette-itemCaption {
  display: none;
}

.lm-CommandPalette-content {
  background-color: var(--jp-layout-color1);
}

.lm-CommandPalette-content:empty::after {
  content: 'No results';
  margin: auto;
  margin-top: 20px;
  width: 100px;
  display: block;
  font-size: var(--jp-ui-font-size2);
  font-family: var(--jp-ui-font-family);
  font-weight: lighter;
}

.lm-CommandPalette-emptyMessage {
  text-align: center;
  margin-top: 24px;
  line-height: 1.32;
  padding: 0 8px;
  color: var(--jp-content-font-color3);
}

/*-----------------------------------------------------------------------------
| Copyright (c) 2014-2017, Jupyter Development Team.
|
| Distributed under the terms of the Modified BSD License.
|----------------------------------------------------------------------------*/

.jp-Dialog {
  position: absolute;
  z-index: 10000;
  display: flex;
  flex-direction: column;
  align-items: center;
  justify-content: center;
  top: 0;
  left: 0;
  margin: 0;
  padding: 0;
  width: 100%;
  height: 100%;
  background: var(--jp-dialog-background);
}

.jp-Dialog-content {
  display: flex;
  flex-direction: column;
  margin-left: auto;
  margin-right: auto;
  background: var(--jp-layout-color1);
  padding: 24px 24px 12px;
  min-width: 300px;
  min-height: 150px;
  max-width: 1000px;
  max-height: 500px;
  box-sizing: border-box;
  box-shadow: var(--jp-elevation-z20);
  word-wrap: break-word;
  border-radius: var(--jp-border-radius);

  /* This is needed so that all font sizing of children done in ems is
   * relative to this base size */
  font-size: var(--jp-ui-font-size1);
  color: var(--jp-ui-font-color1);
  resize: both;
}

.jp-Dialog-content.jp-Dialog-content-small {
  max-width: 500px;
}

.jp-Dialog-button {
  overflow: visible;
}

button.jp-Dialog-button:focus {
  outline: 1px solid var(--jp-brand-color1);
  outline-offset: 4px;
  -moz-outline-radius: 0;
}

button.jp-Dialog-button:focus::-moz-focus-inner {
  border: 0;
}

button.jp-Dialog-button.jp-mod-styled.jp-mod-accept:focus,
button.jp-Dialog-button.jp-mod-styled.jp-mod-warn:focus,
button.jp-Dialog-button.jp-mod-styled.jp-mod-reject:focus {
  outline-offset: 4px;
  -moz-outline-radius: 0;
}

button.jp-Dialog-button.jp-mod-styled.jp-mod-accept:focus {
  outline: 1px solid var(--jp-accept-color-normal, var(--jp-brand-color1));
}

button.jp-Dialog-button.jp-mod-styled.jp-mod-warn:focus {
  outline: 1px solid var(--jp-warn-color-normal, var(--jp-error-color1));
}

button.jp-Dialog-button.jp-mod-styled.jp-mod-reject:focus {
  outline: 1px solid var(--jp-reject-color-normal, var(--md-grey-600));
}

button.jp-Dialog-close-button {
  padding: 0;
  height: 100%;
  min-width: unset;
  min-height: unset;
}

.jp-Dialog-header {
  display: flex;
  justify-content: space-between;
  flex: 0 0 auto;
  padding-bottom: 12px;
  font-size: var(--jp-ui-font-size3);
  font-weight: 400;
  color: var(--jp-ui-font-color1);
}

.jp-Dialog-body {
  display: flex;
  flex-direction: column;
  flex: 1 1 auto;
  font-size: var(--jp-ui-font-size1);
  background: var(--jp-layout-color1);
  color: var(--jp-ui-font-color1);
  overflow: auto;
}

.jp-Dialog-footer {
  display: flex;
  flex-direction: row;
  justify-content: flex-end;
  align-items: center;
  flex: 0 0 auto;
  margin-left: -12px;
  margin-right: -12px;
  padding: 12px;
}

.jp-Dialog-checkbox {
  padding-right: 5px;
}

.jp-Dialog-checkbox > input:focus-visible {
  outline: 1px solid var(--jp-input-active-border-color);
  outline-offset: 1px;
}

.jp-Dialog-spacer {
  flex: 1 1 auto;
}

.jp-Dialog-title {
  overflow: hidden;
  white-space: nowrap;
  text-overflow: ellipsis;
}

.jp-Dialog-body > .jp-select-wrapper {
  width: 100%;
}

.jp-Dialog-body > button {
  padding: 0 16px;
}

.jp-Dialog-body > label {
  line-height: 1.4;
  color: var(--jp-ui-font-color0);
}

.jp-Dialog-button.jp-mod-styled:not(:last-child) {
  margin-right: 12px;
}

/*
 * Copyright (c) Jupyter Development Team.
 * Distributed under the terms of the Modified BSD License.
 */

.jp-Input-Boolean-Dialog {
  flex-direction: row-reverse;
  align-items: end;
  width: 100%;
}

.jp-Input-Boolean-Dialog > label {
  flex: 1 1 auto;
}

/*-----------------------------------------------------------------------------
| Copyright (c) 2014-2016, Jupyter Development Team.
|
| Distributed under the terms of the Modified BSD License.
|----------------------------------------------------------------------------*/

.jp-MainAreaWidget > :focus {
  outline: none;
}

.jp-MainAreaWidget .jp-MainAreaWidget-error {
  padding: 6px;
}

.jp-MainAreaWidget .jp-MainAreaWidget-error > pre {
  width: auto;
  padding: 10px;
  background: var(--jp-error-color3);
  border: var(--jp-border-width) solid var(--jp-error-color1);
  border-radius: var(--jp-border-radius);
  color: var(--jp-ui-font-color1);
  font-size: var(--jp-ui-font-size1);
  white-space: pre-wrap;
  word-wrap: break-word;
}

/*
 * Copyright (c) Jupyter Development Team.
 * Distributed under the terms of the Modified BSD License.
 */

/**
 * google-material-color v1.2.6
 * https://github.com/danlevan/google-material-color
 */
:root {
  --md-red-50: #ffebee;
  --md-red-100: #ffcdd2;
  --md-red-200: #ef9a9a;
  --md-red-300: #e57373;
  --md-red-400: #ef5350;
  --md-red-500: #f44336;
  --md-red-600: #e53935;
  --md-red-700: #d32f2f;
  --md-red-800: #c62828;
  --md-red-900: #b71c1c;
  --md-red-A100: #ff8a80;
  --md-red-A200: #ff5252;
  --md-red-A400: #ff1744;
  --md-red-A700: #d50000;
  --md-pink-50: #fce4ec;
  --md-pink-100: #f8bbd0;
  --md-pink-200: #f48fb1;
  --md-pink-300: #f06292;
  --md-pink-400: #ec407a;
  --md-pink-500: #e91e63;
  --md-pink-600: #d81b60;
  --md-pink-700: #c2185b;
  --md-pink-800: #ad1457;
  --md-pink-900: #880e4f;
  --md-pink-A100: #ff80ab;
  --md-pink-A200: #ff4081;
  --md-pink-A400: #f50057;
  --md-pink-A700: #c51162;
  --md-purple-50: #f3e5f5;
  --md-purple-100: #e1bee7;
  --md-purple-200: #ce93d8;
  --md-purple-300: #ba68c8;
  --md-purple-400: #ab47bc;
  --md-purple-500: #9c27b0;
  --md-purple-600: #8e24aa;
  --md-purple-700: #7b1fa2;
  --md-purple-800: #6a1b9a;
  --md-purple-900: #4a148c;
  --md-purple-A100: #ea80fc;
  --md-purple-A200: #e040fb;
  --md-purple-A400: #d500f9;
  --md-purple-A700: #a0f;
  --md-deep-purple-50: #ede7f6;
  --md-deep-purple-100: #d1c4e9;
  --md-deep-purple-200: #b39ddb;
  --md-deep-purple-300: #9575cd;
  --md-deep-purple-400: #7e57c2;
  --md-deep-purple-500: #673ab7;
  --md-deep-purple-600: #5e35b1;
  --md-deep-purple-700: #512da8;
  --md-deep-purple-800: #4527a0;
  --md-deep-purple-900: #311b92;
  --md-deep-purple-A100: #b388ff;
  --md-deep-purple-A200: #7c4dff;
  --md-deep-purple-A400: #651fff;
  --md-deep-purple-A700: #6200ea;
  --md-indigo-50: #e8eaf6;
  --md-indigo-100: #c5cae9;
  --md-indigo-200: #9fa8da;
  --md-indigo-300: #7986cb;
  --md-indigo-400: #5c6bc0;
  --md-indigo-500: #3f51b5;
  --md-indigo-600: #3949ab;
  --md-indigo-700: #303f9f;
  --md-indigo-800: #283593;
  --md-indigo-900: #1a237e;
  --md-indigo-A100: #8c9eff;
  --md-indigo-A200: #536dfe;
  --md-indigo-A400: #3d5afe;
  --md-indigo-A700: #304ffe;
  --md-blue-50: #e3f2fd;
  --md-blue-100: #bbdefb;
  --md-blue-200: #90caf9;
  --md-blue-300: #64b5f6;
  --md-blue-400: #42a5f5;
  --md-blue-500: #2196f3;
  --md-blue-600: #1e88e5;
  --md-blue-700: #1976d2;
  --md-blue-800: #1565c0;
  --md-blue-900: #0d47a1;
  --md-blue-A100: #82b1ff;
  --md-blue-A200: #448aff;
  --md-blue-A400: #2979ff;
  --md-blue-A700: #2962ff;
  --md-light-blue-50: #e1f5fe;
  --md-light-blue-100: #b3e5fc;
  --md-light-blue-200: #81d4fa;
  --md-light-blue-300: #4fc3f7;
  --md-light-blue-400: #29b6f6;
  --md-light-blue-500: #03a9f4;
  --md-light-blue-600: #039be5;
  --md-light-blue-700: #0288d1;
  --md-light-blue-800: #0277bd;
  --md-light-blue-900: #01579b;
  --md-light-blue-A100: #80d8ff;
  --md-light-blue-A200: #40c4ff;
  --md-light-blue-A400: #00b0ff;
  --md-light-blue-A700: #0091ea;
  --md-cyan-50: #e0f7fa;
  --md-cyan-100: #b2ebf2;
  --md-cyan-200: #80deea;
  --md-cyan-300: #4dd0e1;
  --md-cyan-400: #26c6da;
  --md-cyan-500: #00bcd4;
  --md-cyan-600: #00acc1;
  --md-cyan-700: #0097a7;
  --md-cyan-800: #00838f;
  --md-cyan-900: #006064;
  --md-cyan-A100: #84ffff;
  --md-cyan-A200: #18ffff;
  --md-cyan-A400: #00e5ff;
  --md-cyan-A700: #00b8d4;
  --md-teal-50: #e0f2f1;
  --md-teal-100: #b2dfdb;
  --md-teal-200: #80cbc4;
  --md-teal-300: #4db6ac;
  --md-teal-400: #26a69a;
  --md-teal-500: #009688;
  --md-teal-600: #00897b;
  --md-teal-700: #00796b;
  --md-teal-800: #00695c;
  --md-teal-900: #004d40;
  --md-teal-A100: #a7ffeb;
  --md-teal-A200: #64ffda;
  --md-teal-A400: #1de9b6;
  --md-teal-A700: #00bfa5;
  --md-green-50: #e8f5e9;
  --md-green-100: #c8e6c9;
  --md-green-200: #a5d6a7;
  --md-green-300: #81c784;
  --md-green-400: #66bb6a;
  --md-green-500: #4caf50;
  --md-green-600: #43a047;
  --md-green-700: #388e3c;
  --md-green-800: #2e7d32;
  --md-green-900: #1b5e20;
  --md-green-A100: #b9f6ca;
  --md-green-A200: #69f0ae;
  --md-green-A400: #00e676;
  --md-green-A700: #00c853;
  --md-light-green-50: #f1f8e9;
  --md-light-green-100: #dcedc8;
  --md-light-green-200: #c5e1a5;
  --md-light-green-300: #aed581;
  --md-light-green-400: #9ccc65;
  --md-light-green-500: #8bc34a;
  --md-light-green-600: #7cb342;
  --md-light-green-700: #689f38;
  --md-light-green-800: #558b2f;
  --md-light-green-900: #33691e;
  --md-light-green-A100: #ccff90;
  --md-light-green-A200: #b2ff59;
  --md-light-green-A400: #76ff03;
  --md-light-green-A700: #64dd17;
  --md-lime-50: #f9fbe7;
  --md-lime-100: #f0f4c3;
  --md-lime-200: #e6ee9c;
  --md-lime-300: #dce775;
  --md-lime-400: #d4e157;
  --md-lime-500: #cddc39;
  --md-lime-600: #c0ca33;
  --md-lime-700: #afb42b;
  --md-lime-800: #9e9d24;
  --md-lime-900: #827717;
  --md-lime-A100: #f4ff81;
  --md-lime-A200: #eeff41;
  --md-lime-A400: #c6ff00;
  --md-lime-A700: #aeea00;
  --md-yellow-50: #fffde7;
  --md-yellow-100: #fff9c4;
  --md-yellow-200: #fff59d;
  --md-yellow-300: #fff176;
  --md-yellow-400: #ffee58;
  --md-yellow-500: #ffeb3b;
  --md-yellow-600: #fdd835;
  --md-yellow-700: #fbc02d;
  --md-yellow-800: #f9a825;
  --md-yellow-900: #f57f17;
  --md-yellow-A100: #ffff8d;
  --md-yellow-A200: #ff0;
  --md-yellow-A400: #ffea00;
  --md-yellow-A700: #ffd600;
  --md-amber-50: #fff8e1;
  --md-amber-100: #ffecb3;
  --md-amber-200: #ffe082;
  --md-amber-300: #ffd54f;
  --md-amber-400: #ffca28;
  --md-amber-500: #ffc107;
  --md-amber-600: #ffb300;
  --md-amber-700: #ffa000;
  --md-amber-800: #ff8f00;
  --md-amber-900: #ff6f00;
  --md-amber-A100: #ffe57f;
  --md-amber-A200: #ffd740;
  --md-amber-A400: #ffc400;
  --md-amber-A700: #ffab00;
  --md-orange-50: #fff3e0;
  --md-orange-100: #ffe0b2;
  --md-orange-200: #ffcc80;
  --md-orange-300: #ffb74d;
  --md-orange-400: #ffa726;
  --md-orange-500: #ff9800;
  --md-orange-600: #fb8c00;
  --md-orange-700: #f57c00;
  --md-orange-800: #ef6c00;
  --md-orange-900: #e65100;
  --md-orange-A100: #ffd180;
  --md-orange-A200: #ffab40;
  --md-orange-A400: #ff9100;
  --md-orange-A700: #ff6d00;
  --md-deep-orange-50: #fbe9e7;
  --md-deep-orange-100: #ffccbc;
  --md-deep-orange-200: #ffab91;
  --md-deep-orange-300: #ff8a65;
  --md-deep-orange-400: #ff7043;
  --md-deep-orange-500: #ff5722;
  --md-deep-orange-600: #f4511e;
  --md-deep-orange-700: #e64a19;
  --md-deep-orange-800: #d84315;
  --md-deep-orange-900: #bf360c;
  --md-deep-orange-A100: #ff9e80;
  --md-deep-orange-A200: #ff6e40;
  --md-deep-orange-A400: #ff3d00;
  --md-deep-orange-A700: #dd2c00;
  --md-brown-50: #efebe9;
  --md-brown-100: #d7ccc8;
  --md-brown-200: #bcaaa4;
  --md-brown-300: #a1887f;
  --md-brown-400: #8d6e63;
  --md-brown-500: #795548;
  --md-brown-600: #6d4c41;
  --md-brown-700: #5d4037;
  --md-brown-800: #4e342e;
  --md-brown-900: #3e2723;
  --md-grey-50: #fafafa;
  --md-grey-100: #f5f5f5;
  --md-grey-200: #eee;
  --md-grey-300: #e0e0e0;
  --md-grey-400: #bdbdbd;
  --md-grey-500: #9e9e9e;
  --md-grey-600: #757575;
  --md-grey-700: #616161;
  --md-grey-800: #424242;
  --md-grey-900: #212121;
  --md-blue-grey-50: #eceff1;
  --md-blue-grey-100: #cfd8dc;
  --md-blue-grey-200: #b0bec5;
  --md-blue-grey-300: #90a4ae;
  --md-blue-grey-400: #78909c;
  --md-blue-grey-500: #607d8b;
  --md-blue-grey-600: #546e7a;
  --md-blue-grey-700: #455a64;
  --md-blue-grey-800: #37474f;
  --md-blue-grey-900: #263238;
}

/*-----------------------------------------------------------------------------
| Copyright (c) 2014-2017, Jupyter Development Team.
|
| Distributed under the terms of the Modified BSD License.
|----------------------------------------------------------------------------*/

/*-----------------------------------------------------------------------------
| Copyright (c) Jupyter Development Team.
| Distributed under the terms of the Modified BSD License.
|----------------------------------------------------------------------------*/

/*-----------------------------------------------------------------------------
| RenderedText
|----------------------------------------------------------------------------*/

:root {
  /* This is the padding value to fill the gaps between lines containing spans with background color. */
  --jp-private-code-span-padding: calc(
    (var(--jp-code-line-height) - 1) * var(--jp-code-font-size) / 2
  );
}

.jp-RenderedText {
  text-align: left;
  padding-left: var(--jp-code-padding);
  line-height: var(--jp-code-line-height);
  font-family: var(--jp-code-font-family);
}

.jp-RenderedText pre,
.jp-RenderedJavaScript pre,
.jp-RenderedHTMLCommon pre {
  color: var(--jp-content-font-color1);
  font-size: var(--jp-code-font-size);
  border: none;
  margin: 0;
  padding: 0;
}

.jp-RenderedText pre a:link {
  text-decoration: none;
  color: var(--jp-content-link-color);
}

.jp-RenderedText pre a:hover {
  text-decoration: underline;
  color: var(--jp-content-link-color);
}

.jp-RenderedText pre a:visited {
  text-decoration: none;
  color: var(--jp-content-link-color);
}

/* console foregrounds and backgrounds */
.jp-RenderedText pre .ansi-black-fg {
  color: #3e424d;
}

.jp-RenderedText pre .ansi-red-fg {
  color: #e75c58;
}

.jp-RenderedText pre .ansi-green-fg {
  color: #00a250;
}

.jp-RenderedText pre .ansi-yellow-fg {
  color: #ddb62b;
}

.jp-RenderedText pre .ansi-blue-fg {
  color: #208ffb;
}

.jp-RenderedText pre .ansi-magenta-fg {
  color: #d160c4;
}

.jp-RenderedText pre .ansi-cyan-fg {
  color: #60c6c8;
}

.jp-RenderedText pre .ansi-white-fg {
  color: #c5c1b4;
}

.jp-RenderedText pre .ansi-black-bg {
  background-color: #3e424d;
  padding: var(--jp-private-code-span-padding) 0;
}

.jp-RenderedText pre .ansi-red-bg {
  background-color: #e75c58;
  padding: var(--jp-private-code-span-padding) 0;
}

.jp-RenderedText pre .ansi-green-bg {
  background-color: #00a250;
  padding: var(--jp-private-code-span-padding) 0;
}

.jp-RenderedText pre .ansi-yellow-bg {
  background-color: #ddb62b;
  padding: var(--jp-private-code-span-padding) 0;
}

.jp-RenderedText pre .ansi-blue-bg {
  background-color: #208ffb;
  padding: var(--jp-private-code-span-padding) 0;
}

.jp-RenderedText pre .ansi-magenta-bg {
  background-color: #d160c4;
  padding: var(--jp-private-code-span-padding) 0;
}

.jp-RenderedText pre .ansi-cyan-bg {
  background-color: #60c6c8;
  padding: var(--jp-private-code-span-padding) 0;
}

.jp-RenderedText pre .ansi-white-bg {
  background-color: #c5c1b4;
  padding: var(--jp-private-code-span-padding) 0;
}

.jp-RenderedText pre .ansi-black-intense-fg {
  color: #282c36;
}

.jp-RenderedText pre .ansi-red-intense-fg {
  color: #b22b31;
}

.jp-RenderedText pre .ansi-green-intense-fg {
  color: #007427;
}

.jp-RenderedText pre .ansi-yellow-intense-fg {
  color: #b27d12;
}

.jp-RenderedText pre .ansi-blue-intense-fg {
  color: #0065ca;
}

.jp-RenderedText pre .ansi-magenta-intense-fg {
  color: #a03196;
}

.jp-RenderedText pre .ansi-cyan-intense-fg {
  color: #258f8f;
}

.jp-RenderedText pre .ansi-white-intense-fg {
  color: #a1a6b2;
}

.jp-RenderedText pre .ansi-black-intense-bg {
  background-color: #282c36;
  padding: var(--jp-private-code-span-padding) 0;
}

.jp-RenderedText pre .ansi-red-intense-bg {
  background-color: #b22b31;
  padding: var(--jp-private-code-span-padding) 0;
}

.jp-RenderedText pre .ansi-green-intense-bg {
  background-color: #007427;
  padding: var(--jp-private-code-span-padding) 0;
}

.jp-RenderedText pre .ansi-yellow-intense-bg {
  background-color: #b27d12;
  padding: var(--jp-private-code-span-padding) 0;
}

.jp-RenderedText pre .ansi-blue-intense-bg {
  background-color: #0065ca;
  padding: var(--jp-private-code-span-padding) 0;
}

.jp-RenderedText pre .ansi-magenta-intense-bg {
  background-color: #a03196;
  padding: var(--jp-private-code-span-padding) 0;
}

.jp-RenderedText pre .ansi-cyan-intense-bg {
  background-color: #258f8f;
  padding: var(--jp-private-code-span-padding) 0;
}

.jp-RenderedText pre .ansi-white-intense-bg {
  background-color: #a1a6b2;
  padding: var(--jp-private-code-span-padding) 0;
}

.jp-RenderedText pre .ansi-default-inverse-fg {
  color: var(--jp-ui-inverse-font-color0);
}

.jp-RenderedText pre .ansi-default-inverse-bg {
  background-color: var(--jp-inverse-layout-color0);
  padding: var(--jp-private-code-span-padding) 0;
}

.jp-RenderedText pre .ansi-bold {
  font-weight: bold;
}

.jp-RenderedText pre .ansi-underline {
  text-decoration: underline;
}

.jp-RenderedText[data-mime-type='application/vnd.jupyter.stderr'] {
  background: var(--jp-rendermime-error-background);
  padding-top: var(--jp-code-padding);
}

/*-----------------------------------------------------------------------------
| RenderedLatex
|----------------------------------------------------------------------------*/

.jp-RenderedLatex {
  color: var(--jp-content-font-color1);
  font-size: var(--jp-content-font-size1);
  line-height: var(--jp-content-line-height);
}

/* Left-justify outputs.*/
.jp-OutputArea-output.jp-RenderedLatex {
  padding: var(--jp-code-padding);
  text-align: left;
}

/*-----------------------------------------------------------------------------
| RenderedHTML
|----------------------------------------------------------------------------*/

.jp-RenderedHTMLCommon {
  color: var(--jp-content-font-color1);
  font-family: var(--jp-content-font-family);
  font-size: var(--jp-content-font-size1);
  line-height: var(--jp-content-line-height);

  /* Give a bit more R padding on Markdown text to keep line lengths reasonable */
  padding-right: 20px;
}

.jp-RenderedHTMLCommon em {
  font-style: italic;
}

.jp-RenderedHTMLCommon strong {
  font-weight: bold;
}

.jp-RenderedHTMLCommon u {
  text-decoration: underline;
}

.jp-RenderedHTMLCommon a:link {
  text-decoration: none;
  color: var(--jp-content-link-color);
}

.jp-RenderedHTMLCommon a:hover {
  text-decoration: underline;
  color: var(--jp-content-link-color);
}

.jp-RenderedHTMLCommon a:visited {
  text-decoration: none;
  color: var(--jp-content-link-color);
}

/* Headings */

.jp-RenderedHTMLCommon h1,
.jp-RenderedHTMLCommon h2,
.jp-RenderedHTMLCommon h3,
.jp-RenderedHTMLCommon h4,
.jp-RenderedHTMLCommon h5,
.jp-RenderedHTMLCommon h6 {
  line-height: var(--jp-content-heading-line-height);
  font-weight: var(--jp-content-heading-font-weight);
  font-style: normal;
  margin: var(--jp-content-heading-margin-top) 0
    var(--jp-content-heading-margin-bottom) 0;
}

.jp-RenderedHTMLCommon h1:first-child,
.jp-RenderedHTMLCommon h2:first-child,
.jp-RenderedHTMLCommon h3:first-child,
.jp-RenderedHTMLCommon h4:first-child,
.jp-RenderedHTMLCommon h5:first-child,
.jp-RenderedHTMLCommon h6:first-child {
  margin-top: calc(0.5 * var(--jp-content-heading-margin-top));
}

.jp-RenderedHTMLCommon h1:last-child,
.jp-RenderedHTMLCommon h2:last-child,
.jp-RenderedHTMLCommon h3:last-child,
.jp-RenderedHTMLCommon h4:last-child,
.jp-RenderedHTMLCommon h5:last-child,
.jp-RenderedHTMLCommon h6:last-child {
  margin-bottom: calc(0.5 * var(--jp-content-heading-margin-bottom));
}

.jp-RenderedHTMLCommon h1 {
  font-size: var(--jp-content-font-size5);
}

.jp-RenderedHTMLCommon h2 {
  font-size: var(--jp-content-font-size4);
}

.jp-RenderedHTMLCommon h3 {
  font-size: var(--jp-content-font-size3);
}

.jp-RenderedHTMLCommon h4 {
  font-size: var(--jp-content-font-size2);
}

.jp-RenderedHTMLCommon h5 {
  font-size: var(--jp-content-font-size1);
}

.jp-RenderedHTMLCommon h6 {
  font-size: var(--jp-content-font-size0);
}

/* Lists */

/* stylelint-disable selector-max-type, selector-max-compound-selectors */

.jp-RenderedHTMLCommon ul:not(.list-inline),
.jp-RenderedHTMLCommon ol:not(.list-inline) {
  padding-left: 2em;
}

.jp-RenderedHTMLCommon ul {
  list-style: disc;
}

.jp-RenderedHTMLCommon ul ul {
  list-style: square;
}

.jp-RenderedHTMLCommon ul ul ul {
  list-style: circle;
}

.jp-RenderedHTMLCommon ol {
  list-style: decimal;
}

.jp-RenderedHTMLCommon ol ol {
  list-style: upper-alpha;
}

.jp-RenderedHTMLCommon ol ol ol {
  list-style: lower-alpha;
}

.jp-RenderedHTMLCommon ol ol ol ol {
  list-style: lower-roman;
}

.jp-RenderedHTMLCommon ol ol ol ol ol {
  list-style: decimal;
}

.jp-RenderedHTMLCommon ol,
.jp-RenderedHTMLCommon ul {
  margin-bottom: 1em;
}

.jp-RenderedHTMLCommon ul ul,
.jp-RenderedHTMLCommon ul ol,
.jp-RenderedHTMLCommon ol ul,
.jp-RenderedHTMLCommon ol ol {
  margin-bottom: 0;
}

/* stylelint-enable selector-max-type, selector-max-compound-selectors */

.jp-RenderedHTMLCommon hr {
  color: var(--jp-border-color2);
  background-color: var(--jp-border-color1);
  margin-top: 1em;
  margin-bottom: 1em;
}

.jp-RenderedHTMLCommon > pre {
  margin: 1.5em 2em;
}

.jp-RenderedHTMLCommon pre,
.jp-RenderedHTMLCommon code {
  border: 0;
  background-color: var(--jp-layout-color0);
  color: var(--jp-content-font-color1);
  font-family: var(--jp-code-font-family);
  font-size: inherit;
  line-height: var(--jp-code-line-height);
  padding: 0;
  white-space: pre-wrap;
}

.jp-RenderedHTMLCommon :not(pre) > code {
  background-color: var(--jp-layout-color2);
  padding: 1px 5px;
}

/* Tables */

.jp-RenderedHTMLCommon table {
  border-collapse: collapse;
  border-spacing: 0;
  border: none;
  color: var(--jp-ui-font-color1);
  font-size: var(--jp-ui-font-size1);
  table-layout: fixed;
  margin-left: auto;
  margin-bottom: 1em;
  margin-right: auto;
}

.jp-RenderedHTMLCommon thead {
  border-bottom: var(--jp-border-width) solid var(--jp-border-color1);
  vertical-align: bottom;
}

.jp-RenderedHTMLCommon td,
.jp-RenderedHTMLCommon th,
.jp-RenderedHTMLCommon tr {
  vertical-align: middle;
  padding: 0.5em;
  line-height: normal;
  white-space: normal;
  max-width: none;
  border: none;
}

.jp-RenderedMarkdown.jp-RenderedHTMLCommon td,
.jp-RenderedMarkdown.jp-RenderedHTMLCommon th {
  max-width: none;
}

:not(.jp-RenderedMarkdown).jp-RenderedHTMLCommon td,
:not(.jp-RenderedMarkdown).jp-RenderedHTMLCommon th,
:not(.jp-RenderedMarkdown).jp-RenderedHTMLCommon tr {
  text-align: right;
}

.jp-RenderedHTMLCommon th {
  font-weight: bold;
}

.jp-RenderedHTMLCommon tbody tr:nth-child(odd) {
  background: var(--jp-layout-color0);
}

.jp-RenderedHTMLCommon tbody tr:nth-child(even) {
  background: var(--jp-rendermime-table-row-background);
}

.jp-RenderedHTMLCommon tbody tr:hover {
  background: var(--jp-rendermime-table-row-hover-background);
}

.jp-RenderedHTMLCommon p {
  text-align: left;
  margin: 0;
  margin-bottom: 1em;
}

.jp-RenderedHTMLCommon img {
  -moz-force-broken-image-icon: 1;
}

/* Restrict to direct children as other images could be nested in other content. */
.jp-RenderedHTMLCommon > img {
  display: block;
  margin-left: 0;
  margin-right: 0;
  margin-bottom: 1em;
}

/* Change color behind transparent images if they need it... */
[data-jp-theme-light='false'] .jp-RenderedImage img.jp-needs-light-background {
  background-color: var(--jp-inverse-layout-color1);
}

[data-jp-theme-light='true'] .jp-RenderedImage img.jp-needs-dark-background {
  background-color: var(--jp-inverse-layout-color1);
}

.jp-RenderedHTMLCommon img,
.jp-RenderedImage img,
.jp-RenderedHTMLCommon svg,
.jp-RenderedSVG svg {
  max-width: 100%;
  height: auto;
}

.jp-RenderedHTMLCommon img.jp-mod-unconfined,
.jp-RenderedImage img.jp-mod-unconfined,
.jp-RenderedHTMLCommon svg.jp-mod-unconfined,
.jp-RenderedSVG svg.jp-mod-unconfined {
  max-width: none;
}

.jp-RenderedHTMLCommon .alert {
  padding: var(--jp-notebook-padding);
  border: var(--jp-border-width) solid transparent;
  border-radius: var(--jp-border-radius);
  margin-bottom: 1em;
}

.jp-RenderedHTMLCommon .alert-info {
  color: var(--jp-info-color0);
  background-color: var(--jp-info-color3);
  border-color: var(--jp-info-color2);
}

.jp-RenderedHTMLCommon .alert-info hr {
  border-color: var(--jp-info-color3);
}

.jp-RenderedHTMLCommon .alert-info > p:last-child,
.jp-RenderedHTMLCommon .alert-info > ul:last-child {
  margin-bottom: 0;
}

.jp-RenderedHTMLCommon .alert-warning {
  color: var(--jp-warn-color0);
  background-color: var(--jp-warn-color3);
  border-color: var(--jp-warn-color2);
}

.jp-RenderedHTMLCommon .alert-warning hr {
  border-color: var(--jp-warn-color3);
}

.jp-RenderedHTMLCommon .alert-warning > p:last-child,
.jp-RenderedHTMLCommon .alert-warning > ul:last-child {
  margin-bottom: 0;
}

.jp-RenderedHTMLCommon .alert-success {
  color: var(--jp-success-color0);
  background-color: var(--jp-success-color3);
  border-color: var(--jp-success-color2);
}

.jp-RenderedHTMLCommon .alert-success hr {
  border-color: var(--jp-success-color3);
}

.jp-RenderedHTMLCommon .alert-success > p:last-child,
.jp-RenderedHTMLCommon .alert-success > ul:last-child {
  margin-bottom: 0;
}

.jp-RenderedHTMLCommon .alert-danger {
  color: var(--jp-error-color0);
  background-color: var(--jp-error-color3);
  border-color: var(--jp-error-color2);
}

.jp-RenderedHTMLCommon .alert-danger hr {
  border-color: var(--jp-error-color3);
}

.jp-RenderedHTMLCommon .alert-danger > p:last-child,
.jp-RenderedHTMLCommon .alert-danger > ul:last-child {
  margin-bottom: 0;
}

.jp-RenderedHTMLCommon blockquote {
  margin: 1em 2em;
  padding: 0 1em;
  border-left: 5px solid var(--jp-border-color2);
}

a.jp-InternalAnchorLink {
  visibility: hidden;
  margin-left: 8px;
  color: var(--md-blue-800);
}

h1:hover .jp-InternalAnchorLink,
h2:hover .jp-InternalAnchorLink,
h3:hover .jp-InternalAnchorLink,
h4:hover .jp-InternalAnchorLink,
h5:hover .jp-InternalAnchorLink,
h6:hover .jp-InternalAnchorLink {
  visibility: visible;
}

.jp-RenderedHTMLCommon kbd {
  background-color: var(--jp-rendermime-table-row-background);
  border: 1px solid var(--jp-border-color0);
  border-bottom-color: var(--jp-border-color2);
  border-radius: 3px;
  box-shadow: inset 0 -1px 0 rgba(0, 0, 0, 0.25);
  display: inline-block;
  font-size: var(--jp-ui-font-size0);
  line-height: 1em;
  padding: 0.2em 0.5em;
}

/* Most direct children of .jp-RenderedHTMLCommon have a margin-bottom of 1.0.
 * At the bottom of cells this is a bit too much as there is also spacing
 * between cells. Going all the way to 0 gets too tight between markdown and
 * code cells.
 */
.jp-RenderedHTMLCommon > *:last-child {
  margin-bottom: 0.5em;
}

/*
 * Copyright (c) Jupyter Development Team.
 * Distributed under the terms of the Modified BSD License.
 */

/*-----------------------------------------------------------------------------
| Copyright (c) Jupyter Development Team.
| Copyright (c) 2014-2017, PhosphorJS Contributors
|
| Distributed under the terms of the BSD 3-Clause License.
|
| The full license is in the file LICENSE, distributed with this software.
|----------------------------------------------------------------------------*/

.lm-cursor-backdrop {
  position: fixed;
  width: 200px;
  height: 200px;
  margin-top: -100px;
  margin-left: -100px;
  will-change: transform;
  z-index: 100;
}

.lm-mod-drag-image {
  will-change: transform;
}

/*
 * Copyright (c) Jupyter Development Team.
 * Distributed under the terms of the Modified BSD License.
 */

.jp-lineFormSearch {
  padding: 4px 12px;
  background-color: var(--jp-layout-color2);
  box-shadow: var(--jp-toolbar-box-shadow);
  z-index: 2;
  font-size: var(--jp-ui-font-size1);
}

.jp-lineFormCaption {
  font-size: var(--jp-ui-font-size0);
  line-height: var(--jp-ui-font-size1);
  margin-top: 4px;
  color: var(--jp-ui-font-color0);
}

.jp-baseLineForm {
  border: none;
  border-radius: 0;
  position: absolute;
  background-size: 16px;
  background-repeat: no-repeat;
  background-position: center;
  outline: none;
}

.jp-lineFormButtonContainer {
  top: 4px;
  right: 8px;
  height: 24px;
  padding: 0 12px;
  width: 12px;
}

.jp-lineFormButtonIcon {
  top: 0;
  right: 0;
  background-color: var(--jp-brand-color1);
  height: 100%;
  width: 100%;
  box-sizing: border-box;
  padding: 4px 6px;
}

.jp-lineFormButton {
  top: 0;
  right: 0;
  background-color: transparent;
  height: 100%;
  width: 100%;
  box-sizing: border-box;
}

.jp-lineFormWrapper {
  overflow: hidden;
  padding: 0 8px;
  border: 1px solid var(--jp-border-color0);
  background-color: var(--jp-input-active-background);
  height: 22px;
}

.jp-lineFormWrapperFocusWithin {
  border: var(--jp-border-width) solid var(--md-blue-500);
  box-shadow: inset 0 0 4px var(--md-blue-300);
}

.jp-lineFormInput {
  background: transparent;
  width: 200px;
  height: 100%;
  border: none;
  outline: none;
  color: var(--jp-ui-font-color0);
  line-height: 28px;
}

/*-----------------------------------------------------------------------------
| Copyright (c) 2014-2016, Jupyter Development Team.
|
| Distributed under the terms of the Modified BSD License.
|----------------------------------------------------------------------------*/

.jp-JSONEditor {
  display: flex;
  flex-direction: column;
  width: 100%;
}

.jp-JSONEditor-host {
  flex: 1 1 auto;
  border: var(--jp-border-width) solid var(--jp-input-border-color);
  border-radius: 0;
  background: var(--jp-layout-color0);
  min-height: 50px;
  padding: 1px;
}

.jp-JSONEditor.jp-mod-error .jp-JSONEditor-host {
  border-color: red;
  outline-color: red;
}

.jp-JSONEditor-header {
  display: flex;
  flex: 1 0 auto;
  padding: 0 0 0 12px;
}

.jp-JSONEditor-header label {
  flex: 0 0 auto;
}

.jp-JSONEditor-commitButton {
  height: 16px;
  width: 16px;
  background-size: 18px;
  background-repeat: no-repeat;
  background-position: center;
}

.jp-JSONEditor-host.jp-mod-focused {
  background-color: var(--jp-input-active-background);
  border: 1px solid var(--jp-input-active-border-color);
  box-shadow: var(--jp-input-box-shadow);
}

.jp-Editor.jp-mod-dropTarget {
  border: var(--jp-border-width) solid var(--jp-input-active-border-color);
  box-shadow: var(--jp-input-box-shadow);
}

/*-----------------------------------------------------------------------------
| Copyright (c) Jupyter Development Team.
| Distributed under the terms of the Modified BSD License.
|----------------------------------------------------------------------------*/
.jp-DocumentSearch-input {
  border: none;
  outline: none;
  color: var(--jp-ui-font-color0);
  font-size: var(--jp-ui-font-size1);
  background-color: var(--jp-layout-color0);
  font-family: var(--jp-ui-font-family);
  padding: 2px 1px;
  resize: none;
}

.jp-DocumentSearch-overlay {
  position: absolute;
  background-color: var(--jp-toolbar-background);
  border-bottom: var(--jp-border-width) solid var(--jp-toolbar-border-color);
  border-left: var(--jp-border-width) solid var(--jp-toolbar-border-color);
  top: 0;
  right: 0;
  z-index: 7;
  min-width: 405px;
  padding: 2px;
  font-size: var(--jp-ui-font-size1);

  --jp-private-document-search-button-height: 20px;
}

.jp-DocumentSearch-overlay button {
  background-color: var(--jp-toolbar-background);
  outline: 0;
}

.jp-DocumentSearch-overlay button:hover {
  background-color: var(--jp-layout-color2);
}

.jp-DocumentSearch-overlay button:active {
  background-color: var(--jp-layout-color3);
}

.jp-DocumentSearch-overlay-row {
  display: flex;
  align-items: center;
  margin-bottom: 2px;
}

.jp-DocumentSearch-button-content {
  display: inline-block;
  cursor: pointer;
  box-sizing: border-box;
  width: 100%;
  height: 100%;
}

.jp-DocumentSearch-button-content svg {
  width: 100%;
  height: 100%;
}

.jp-DocumentSearch-input-wrapper {
  border: var(--jp-border-width) solid var(--jp-border-color0);
  display: flex;
  background-color: var(--jp-layout-color0);
  margin: 2px;
}

.jp-DocumentSearch-input-wrapper:focus-within {
  border-color: var(--jp-cell-editor-active-border-color);
}

.jp-DocumentSearch-toggle-wrapper,
.jp-DocumentSearch-button-wrapper {
  all: initial;
  overflow: hidden;
  display: inline-block;
  border: none;
  box-sizing: border-box;
}

.jp-DocumentSearch-toggle-wrapper {
  width: 14px;
  height: 14px;
}

.jp-DocumentSearch-button-wrapper {
  width: var(--jp-private-document-search-button-height);
  height: var(--jp-private-document-search-button-height);
}

.jp-DocumentSearch-toggle-wrapper:focus,
.jp-DocumentSearch-button-wrapper:focus {
  outline: var(--jp-border-width) solid
    var(--jp-cell-editor-active-border-color);
  outline-offset: -1px;
}

.jp-DocumentSearch-toggle-wrapper,
.jp-DocumentSearch-button-wrapper,
.jp-DocumentSearch-button-content:focus {
  outline: none;
}

.jp-DocumentSearch-toggle-placeholder {
  width: 5px;
}

.jp-DocumentSearch-input-button::before {
  display: block;
  padding-top: 100%;
}

.jp-DocumentSearch-input-button-off {
  opacity: var(--jp-search-toggle-off-opacity);
}

.jp-DocumentSearch-input-button-off:hover {
  opacity: var(--jp-search-toggle-hover-opacity);
}

.jp-DocumentSearch-input-button-on {
  opacity: var(--jp-search-toggle-on-opacity);
}

.jp-DocumentSearch-index-counter {
  padding-left: 10px;
  padding-right: 10px;
  user-select: none;
  min-width: 35px;
  display: inline-block;
}

.jp-DocumentSearch-up-down-wrapper {
  display: inline-block;
  padding-right: 2px;
  margin-left: auto;
  white-space: nowrap;
}

.jp-DocumentSearch-spacer {
  margin-left: auto;
}

.jp-DocumentSearch-up-down-wrapper button {
  outline: 0;
  border: none;
  width: var(--jp-private-document-search-button-height);
  height: var(--jp-private-document-search-button-height);
  vertical-align: middle;
  margin: 1px 5px 2px;
}

.jp-DocumentSearch-up-down-button:hover {
  background-color: var(--jp-layout-color2);
}

.jp-DocumentSearch-up-down-button:active {
  background-color: var(--jp-layout-color3);
}

.jp-DocumentSearch-filter-button {
  border-radius: var(--jp-border-radius);
}

.jp-DocumentSearch-filter-button:hover {
  background-color: var(--jp-layout-color2);
}

.jp-DocumentSearch-filter-button-enabled {
  background-color: var(--jp-layout-color2);
}

.jp-DocumentSearch-filter-button-enabled:hover {
  background-color: var(--jp-layout-color3);
}

.jp-DocumentSearch-search-options {
  padding: 0 8px;
  margin-left: 3px;
  width: 100%;
  display: grid;
  justify-content: start;
  grid-template-columns: 1fr 1fr;
  align-items: center;
  justify-items: stretch;
}

.jp-DocumentSearch-search-filter-disabled {
  color: var(--jp-ui-font-color2);
}

.jp-DocumentSearch-search-filter {
  display: flex;
  align-items: center;
  user-select: none;
}

.jp-DocumentSearch-regex-error {
  color: var(--jp-error-color0);
}

.jp-DocumentSearch-replace-button-wrapper {
  overflow: hidden;
  display: inline-block;
  box-sizing: border-box;
  border: var(--jp-border-width) solid var(--jp-border-color0);
  margin: auto 2px;
  padding: 1px 4px;
  height: calc(var(--jp-private-document-search-button-height) + 2px);
}

.jp-DocumentSearch-replace-button-wrapper:focus {
  border: var(--jp-border-width) solid var(--jp-cell-editor-active-border-color);
}

.jp-DocumentSearch-replace-button {
  display: inline-block;
  text-align: center;
  cursor: pointer;
  box-sizing: border-box;
  color: var(--jp-ui-font-color1);

  /* height - 2 * (padding of wrapper) */
  line-height: calc(var(--jp-private-document-search-button-height) - 2px);
  width: 100%;
  height: 100%;
}

.jp-DocumentSearch-replace-button:focus {
  outline: none;
}

.jp-DocumentSearch-replace-wrapper-class {
  margin-left: 14px;
  display: flex;
}

.jp-DocumentSearch-replace-toggle {
  border: none;
  background-color: var(--jp-toolbar-background);
  border-radius: var(--jp-border-radius);
}

.jp-DocumentSearch-replace-toggle:hover {
  background-color: var(--jp-layout-color2);
}

/*-----------------------------------------------------------------------------
| Copyright (c) Jupyter Development Team.
| Distributed under the terms of the Modified BSD License.
|----------------------------------------------------------------------------*/

.cm-editor {
  line-height: var(--jp-code-line-height);
  font-size: var(--jp-code-font-size);
  font-family: var(--jp-code-font-family);
  border: 0;
  border-radius: 0;
  height: auto;

  /* Changed to auto to autogrow */
}

.cm-editor pre {
  padding: 0 var(--jp-code-padding);
}

.jp-CodeMirrorEditor[data-type='inline'] .cm-dialog {
  background-color: var(--jp-layout-color0);
  color: var(--jp-content-font-color1);
}

.jp-CodeMirrorEditor {
  cursor: text;
}

/* When zoomed out 67% and 33% on a screen of 1440 width x 900 height */
@media screen and (min-width: 2138px) and (max-width: 4319px) {
  .jp-CodeMirrorEditor[data-type='inline'] .cm-cursor {
    border-left: var(--jp-code-cursor-width1) solid
      var(--jp-editor-cursor-color);
  }
}

/* When zoomed out less than 33% */
@media screen and (min-width: 4320px) {
  .jp-CodeMirrorEditor[data-type='inline'] .cm-cursor {
    border-left: var(--jp-code-cursor-width2) solid
      var(--jp-editor-cursor-color);
  }
}

.cm-editor.jp-mod-readOnly .cm-cursor {
  display: none;
}

.jp-CollaboratorCursor {
  border-left: 5px solid transparent;
  border-right: 5px solid transparent;
  border-top: none;
  border-bottom: 3px solid;
  background-clip: content-box;
  margin-left: -5px;
  margin-right: -5px;
}

.cm-searching,
.cm-searching span {
  /* `.cm-searching span`: we need to override syntax highlighting */
  background-color: var(--jp-search-unselected-match-background-color);
  color: var(--jp-search-unselected-match-color);
}

.cm-searching::selection,
.cm-searching span::selection {
  background-color: var(--jp-search-unselected-match-background-color);
  color: var(--jp-search-unselected-match-color);
}

.jp-current-match > .cm-searching,
.jp-current-match > .cm-searching span,
.cm-searching > .jp-current-match,
.cm-searching > .jp-current-match span {
  background-color: var(--jp-search-selected-match-background-color);
  color: var(--jp-search-selected-match-color);
}

.jp-current-match > .cm-searching::selection,
.cm-searching > .jp-current-match::selection,
.jp-current-match > .cm-searching span::selection {
  background-color: var(--jp-search-selected-match-background-color);
  color: var(--jp-search-selected-match-color);
}

.cm-trailingspace {
  background-image: url(data:image/png;base64,iVBORw0KGgoAAAANSUhEUgAAAAgAAAAFCAYAAAB4ka1VAAAAsElEQVQIHQGlAFr/AAAAAAAAAAAAAAAAAAAAAAAAAAAAAAAAAAAAAAAAAAAAAAAAAAAAAAAA7+r3zKmT0/+pk9P/7+r3zAAAAAAAAAAABAAAAAAAAAAA6OPzM+/q9wAAAAAA6OPzMwAAAAAAAAAAAgAAAAAAAAAAGR8NiRQaCgAZIA0AGR8NiQAAAAAAAAAAAAAAAAAAAAAAAAAAAAAAAAAAAAAAAAAAAAAAAAAAAAAAQyoYJ/SY80UAAAAASUVORK5CYII=);
  background-position: center left;
  background-repeat: repeat-x;
}

.jp-CollaboratorCursor-hover {
  position: absolute;
  z-index: 1;
  transform: translateX(-50%);
  color: white;
  border-radius: 3px;
  padding-left: 4px;
  padding-right: 4px;
  padding-top: 1px;
  padding-bottom: 1px;
  text-align: center;
  font-size: var(--jp-ui-font-size1);
  white-space: nowrap;
}

.jp-CodeMirror-ruler {
  border-left: 1px dashed var(--jp-border-color2);
}

/* Styles for shared cursors (remote cursor locations and selected ranges) */
.jp-CodeMirrorEditor .cm-ySelectionCaret {
  position: relative;
  border-left: 1px solid black;
  margin-left: -1px;
  margin-right: -1px;
  box-sizing: border-box;
}

.jp-CodeMirrorEditor .cm-ySelectionCaret > .cm-ySelectionInfo {
  white-space: nowrap;
  position: absolute;
  top: -1.15em;
  padding-bottom: 0.05em;
  left: -1px;
  font-size: 0.95em;
  font-family: var(--jp-ui-font-family);
  font-weight: bold;
  line-height: normal;
  user-select: none;
  color: white;
  padding-left: 2px;
  padding-right: 2px;
  z-index: 101;
  transition: opacity 0.3s ease-in-out;
}

.jp-CodeMirrorEditor .cm-ySelectionInfo {
  transition-delay: 0.7s;
  opacity: 0;
}

.jp-CodeMirrorEditor .cm-ySelectionCaret:hover > .cm-ySelectionInfo {
  opacity: 1;
  transition-delay: 0s;
}

/*-----------------------------------------------------------------------------
| Copyright (c) Jupyter Development Team.
| Distributed under the terms of the Modified BSD License.
|----------------------------------------------------------------------------*/

.jp-MimeDocument {
  outline: none;
}

/*-----------------------------------------------------------------------------
| Copyright (c) Jupyter Development Team.
| Distributed under the terms of the Modified BSD License.
|----------------------------------------------------------------------------*/

/*-----------------------------------------------------------------------------
| Variables
|----------------------------------------------------------------------------*/

:root {
  --jp-private-filebrowser-button-height: 28px;
  --jp-private-filebrowser-button-width: 48px;
}

/*-----------------------------------------------------------------------------
| Copyright (c) Jupyter Development Team.
| Distributed under the terms of the Modified BSD License.
|----------------------------------------------------------------------------*/

.jp-FileBrowser .jp-SidePanel-content {
  display: flex;
  flex-direction: column;
}

.jp-FileBrowser-toolbar.jp-Toolbar {
  flex-wrap: wrap;
  row-gap: 12px;
  border-bottom: none;
  height: auto;
  margin: 8px 12px 0;
  box-shadow: none;
  padding: 0;
  justify-content: flex-start;
}

.jp-FileBrowser-Panel {
  flex: 1 1 auto;
  display: flex;
  flex-direction: column;
}

.jp-BreadCrumbs {
  flex: 0 0 auto;
  margin: 8px 12px;
}

.jp-BreadCrumbs-item {
  margin: 0 2px;
  padding: 0 2px;
  border-radius: var(--jp-border-radius);
  cursor: pointer;
}

.jp-BreadCrumbs-item:hover {
  background-color: var(--jp-layout-color2);
}

.jp-BreadCrumbs-item:first-child {
  margin-left: 0;
}

.jp-BreadCrumbs-item.jp-mod-dropTarget {
  background-color: var(--jp-brand-color2);
  opacity: 0.7;
}

/*-----------------------------------------------------------------------------
| Buttons
|----------------------------------------------------------------------------*/

.jp-FileBrowser-toolbar > .jp-Toolbar-item {
  flex: 0 0 auto;
  padding-left: 0;
  padding-right: 2px;
  align-items: center;
  height: unset;
}

.jp-FileBrowser-toolbar > .jp-Toolbar-item .jp-ToolbarButtonComponent {
  width: 40px;
}

/*-----------------------------------------------------------------------------
| Other styles
|----------------------------------------------------------------------------*/

.jp-FileDialog.jp-mod-conflict input {
  color: var(--jp-error-color1);
}

.jp-FileDialog .jp-new-name-title {
  margin-top: 12px;
}

.jp-LastModified-hidden {
  display: none;
}

.jp-FileSize-hidden {
  display: none;
}

.jp-FileBrowser .lm-AccordionPanel > h3:first-child {
  display: none;
}

/*-----------------------------------------------------------------------------
| DirListing
|----------------------------------------------------------------------------*/

.jp-DirListing {
  flex: 1 1 auto;
  display: flex;
  flex-direction: column;
  outline: 0;
}

.jp-DirListing-header {
  flex: 0 0 auto;
  display: flex;
  flex-direction: row;
  align-items: center;
  overflow: hidden;
  border-top: var(--jp-border-width) solid var(--jp-border-color2);
  border-bottom: var(--jp-border-width) solid var(--jp-border-color1);
  box-shadow: var(--jp-toolbar-box-shadow);
  z-index: 2;
}

.jp-DirListing-headerItem {
  padding: 4px 12px 2px;
  font-weight: 500;
}

.jp-DirListing-headerItem:hover {
  background: var(--jp-layout-color2);
}

.jp-DirListing-headerItem.jp-id-name {
  flex: 1 0 84px;
}

.jp-DirListing-headerItem.jp-id-modified {
  flex: 0 0 112px;
  border-left: var(--jp-border-width) solid var(--jp-border-color2);
  text-align: right;
}

.jp-DirListing-headerItem.jp-id-filesize {
  flex: 0 0 75px;
  border-left: var(--jp-border-width) solid var(--jp-border-color2);
  text-align: right;
}

.jp-id-narrow {
  display: none;
  flex: 0 0 5px;
  padding: 4px;
  border-left: var(--jp-border-width) solid var(--jp-border-color2);
  text-align: right;
  color: var(--jp-border-color2);
}

.jp-DirListing-narrow .jp-id-narrow {
  display: block;
}

.jp-DirListing-narrow .jp-id-modified,
.jp-DirListing-narrow .jp-DirListing-itemModified {
  display: none;
}

.jp-DirListing-headerItem.jp-mod-selected {
  font-weight: 600;
}

/* increase specificity to override bundled default */
.jp-DirListing-content {
  flex: 1 1 auto;
  margin: 0;
  padding: 0;
  list-style-type: none;
  overflow: auto;
  background-color: var(--jp-layout-color1);
}

.jp-DirListing-content mark {
  color: var(--jp-ui-font-color0);
  background-color: transparent;
  font-weight: bold;
}

.jp-DirListing-content .jp-DirListing-item.jp-mod-selected mark {
  color: var(--jp-ui-inverse-font-color0);
}

/* Style the directory listing content when a user drops a file to upload */
.jp-DirListing.jp-mod-native-drop .jp-DirListing-content {
  outline: 5px dashed rgba(128, 128, 128, 0.5);
  outline-offset: -10px;
  cursor: copy;
}

.jp-DirListing-item {
  display: flex;
  flex-direction: row;
  align-items: center;
  padding: 4px 12px;
  -webkit-user-select: none;
  -moz-user-select: none;
  -ms-user-select: none;
  user-select: none;
}

.jp-DirListing-checkboxWrapper {
  /* Increases hit area of checkbox. */
  padding: 4px;
}

.jp-DirListing-header
  .jp-DirListing-checkboxWrapper
  + .jp-DirListing-headerItem {
  padding-left: 4px;
}

.jp-DirListing-content .jp-DirListing-checkboxWrapper {
  position: relative;
  left: -4px;
  margin: -4px 0 -4px -8px;
}

.jp-DirListing-checkboxWrapper.jp-mod-visible {
  visibility: visible;
}

/* For devices that support hovering, hide checkboxes until hovered, selected...
*/
@media (hover: hover) {
  .jp-DirListing-checkboxWrapper {
    visibility: hidden;
  }

  .jp-DirListing-item:hover .jp-DirListing-checkboxWrapper,
  .jp-DirListing-item.jp-mod-selected .jp-DirListing-checkboxWrapper {
    visibility: visible;
  }
}

.jp-DirListing-item[data-is-dot] {
  opacity: 75%;
}

.jp-DirListing-item.jp-mod-selected {
  color: var(--jp-ui-inverse-font-color1);
  background: var(--jp-brand-color1);
}

.jp-DirListing-item.jp-mod-dropTarget {
  background: var(--jp-brand-color3);
}

.jp-DirListing-item:hover:not(.jp-mod-selected) {
  background: var(--jp-layout-color2);
}

.jp-DirListing-itemIcon {
  flex: 0 0 20px;
  margin-right: 4px;
}

.jp-DirListing-itemText {
  flex: 1 0 64px;
  white-space: nowrap;
  overflow: hidden;
  text-overflow: ellipsis;
  user-select: none;
}

.jp-DirListing-itemText:focus {
  outline-width: 2px;
  outline-color: var(--jp-inverse-layout-color1);
  outline-style: solid;
  outline-offset: 1px;
}

.jp-DirListing-item.jp-mod-selected .jp-DirListing-itemText:focus {
  outline-color: var(--jp-layout-color1);
}

.jp-DirListing-itemModified {
  flex: 0 0 125px;
  text-align: right;
}

.jp-DirListing-itemFileSize {
  flex: 0 0 90px;
  text-align: right;
}

.jp-DirListing-editor {
  flex: 1 0 64px;
  outline: none;
  border: none;
  color: var(--jp-ui-font-color1);
  background-color: var(--jp-layout-color1);
}

.jp-DirListing-item.jp-mod-running .jp-DirListing-itemIcon::before {
  color: var(--jp-success-color1);
  content: '\25CF';
  font-size: 8px;
  position: absolute;
  left: -8px;
}

.jp-DirListing-item.jp-mod-running.jp-mod-selected
  .jp-DirListing-itemIcon::before {
  color: var(--jp-ui-inverse-font-color1);
}

.jp-DirListing-item.lm-mod-drag-image,
.jp-DirListing-item.jp-mod-selected.lm-mod-drag-image {
  font-size: var(--jp-ui-font-size1);
  padding-left: 4px;
  margin-left: 4px;
  width: 160px;
  background-color: var(--jp-ui-inverse-font-color2);
  box-shadow: var(--jp-elevation-z2);
  border-radius: 0;
  color: var(--jp-ui-font-color1);
  transform: translateX(-40%) translateY(-58%);
}

.jp-Document {
  min-width: 120px;
  min-height: 120px;
  outline: none;
}

/*-----------------------------------------------------------------------------
| Copyright (c) Jupyter Development Team.
| Distributed under the terms of the Modified BSD License.
|----------------------------------------------------------------------------*/

/*-----------------------------------------------------------------------------
| Main OutputArea
| OutputArea has a list of Outputs
|----------------------------------------------------------------------------*/

.jp-OutputArea {
  overflow-y: auto;
}

.jp-OutputArea-child {
  display: table;
  table-layout: fixed;
  width: 100%;
  overflow: hidden;
}

.jp-OutputPrompt {
  width: var(--jp-cell-prompt-width);
  color: var(--jp-cell-outprompt-font-color);
  font-family: var(--jp-cell-prompt-font-family);
  padding: var(--jp-code-padding);
  letter-spacing: var(--jp-cell-prompt-letter-spacing);
  line-height: var(--jp-code-line-height);
  font-size: var(--jp-code-font-size);
  border: var(--jp-border-width) solid transparent;
  opacity: var(--jp-cell-prompt-opacity);

  /* Right align prompt text, don't wrap to handle large prompt numbers */
  text-align: right;
  white-space: nowrap;
  overflow: hidden;
  text-overflow: ellipsis;

  /* Disable text selection */
  -webkit-user-select: none;
  -moz-user-select: none;
  -ms-user-select: none;
  user-select: none;
}

.jp-OutputArea-prompt {
  display: table-cell;
  vertical-align: top;
}

.jp-OutputArea-output {
  display: table-cell;
  width: 100%;
  height: auto;
  overflow: auto;
  user-select: text;
  -moz-user-select: text;
  -webkit-user-select: text;
  -ms-user-select: text;
}

.jp-OutputArea .jp-RenderedText {
  padding-left: 1ch;
}

/**
 * Prompt overlay.
 */

.jp-OutputArea-promptOverlay {
  position: absolute;
  top: 0;
  width: var(--jp-cell-prompt-width);
  height: 100%;
  opacity: 0.5;
}

.jp-OutputArea-promptOverlay:hover {
  background: var(--jp-layout-color2);
  box-shadow: inset 0 0 1px var(--jp-inverse-layout-color0);
  cursor: zoom-out;
}

.jp-mod-outputsScrolled .jp-OutputArea-promptOverlay:hover {
  cursor: zoom-in;
}

/**
 * Isolated output.
 */
.jp-OutputArea-output.jp-mod-isolated {
  width: 100%;
  display: block;
}

/*
When drag events occur, `lm-mod-override-cursor` is added to the body.
Because iframes steal all cursor events, the following two rules are necessary
to suppress pointer events while resize drags are occurring. There may be a
better solution to this problem.
*/
body.lm-mod-override-cursor .jp-OutputArea-output.jp-mod-isolated {
  position: relative;
}

body.lm-mod-override-cursor .jp-OutputArea-output.jp-mod-isolated::before {
  content: '';
  position: absolute;
  top: 0;
  left: 0;
  right: 0;
  bottom: 0;
  background: transparent;
}

/* pre */

.jp-OutputArea-output pre {
  border: none;
  margin: 0;
  padding: 0;
  overflow-x: auto;
  overflow-y: auto;
  word-break: break-all;
  word-wrap: break-word;
  white-space: pre-wrap;
}

/* tables */

.jp-OutputArea-output.jp-RenderedHTMLCommon table {
  margin-left: 0;
  margin-right: 0;
}

/* description lists */

.jp-OutputArea-output dl,
.jp-OutputArea-output dt,
.jp-OutputArea-output dd {
  display: block;
}

.jp-OutputArea-output dl {
  width: 100%;
  overflow: hidden;
  padding: 0;
  margin: 0;
}

.jp-OutputArea-output dt {
  font-weight: bold;
  float: left;
  width: 20%;
  padding: 0;
  margin: 0;
}

.jp-OutputArea-output dd {
  float: left;
  width: 80%;
  padding: 0;
  margin: 0;
}

.jp-TrimmedOutputs pre {
  background: var(--jp-layout-color3);
  font-size: calc(var(--jp-code-font-size) * 1.4);
  text-align: center;
  text-transform: uppercase;
}

/* Hide the gutter in case of
 *  - nested output areas (e.g. in the case of output widgets)
 *  - mirrored output areas
 */
.jp-OutputArea .jp-OutputArea .jp-OutputArea-prompt {
  display: none;
}

/* Hide empty lines in the output area, for instance due to cleared widgets */
.jp-OutputArea-prompt:empty {
  padding: 0;
  border: 0;
}

/*-----------------------------------------------------------------------------
| executeResult is added to any Output-result for the display of the object
| returned by a cell
|----------------------------------------------------------------------------*/

.jp-OutputArea-output.jp-OutputArea-executeResult {
  margin-left: 0;
  width: 100%;
}

/* Text output with the Out[] prompt needs a top padding to match the
 * alignment of the Out[] prompt itself.
 */
.jp-OutputArea-executeResult .jp-RenderedText.jp-OutputArea-output {
  padding-top: var(--jp-code-padding);
  border-top: var(--jp-border-width) solid transparent;
}

/*-----------------------------------------------------------------------------
| The Stdin output
|----------------------------------------------------------------------------*/

.jp-Stdin-prompt {
  color: var(--jp-content-font-color0);
  padding-right: var(--jp-code-padding);
  vertical-align: baseline;
  flex: 0 0 auto;
}

.jp-Stdin-input {
  font-family: var(--jp-code-font-family);
  font-size: inherit;
  color: inherit;
  background-color: inherit;
  width: 42%;
  min-width: 200px;

  /* make sure input baseline aligns with prompt */
  vertical-align: baseline;

  /* padding + margin = 0.5em between prompt and cursor */
  padding: 0 0.25em;
  margin: 0 0.25em;
  flex: 0 0 70%;
}

.jp-Stdin-input::placeholder {
  opacity: 0;
}

.jp-Stdin-input:focus {
  box-shadow: none;
}

.jp-Stdin-input:focus::placeholder {
  opacity: 1;
}

/*-----------------------------------------------------------------------------
| Output Area View
|----------------------------------------------------------------------------*/

.jp-LinkedOutputView .jp-OutputArea {
  height: 100%;
  display: block;
}

.jp-LinkedOutputView .jp-OutputArea-output:only-child {
  height: 100%;
}

/*-----------------------------------------------------------------------------
| Printing
|----------------------------------------------------------------------------*/

@media print {
  .jp-OutputArea-child {
    break-inside: avoid-page;
  }
}

/*-----------------------------------------------------------------------------
| Mobile
|----------------------------------------------------------------------------*/
@media only screen and (max-width: 760px) {
  .jp-OutputPrompt {
    display: table-row;
    text-align: left;
  }

  .jp-OutputArea-child .jp-OutputArea-output {
    display: table-row;
    margin-left: var(--jp-notebook-padding);
  }
}

/* Trimmed outputs warning */
.jp-TrimmedOutputs > a {
  margin: 10px;
  text-decoration: none;
  cursor: pointer;
}

.jp-TrimmedOutputs > a:hover {
  text-decoration: none;
}

/*-----------------------------------------------------------------------------
| Copyright (c) Jupyter Development Team.
| Distributed under the terms of the Modified BSD License.
|----------------------------------------------------------------------------*/

/*-----------------------------------------------------------------------------
| Table of Contents
|----------------------------------------------------------------------------*/

:root {
  --jp-private-toc-active-width: 4px;
}

.jp-TableOfContents {
  display: flex;
  flex-direction: column;
  background: var(--jp-layout-color1);
  color: var(--jp-ui-font-color1);
  font-size: var(--jp-ui-font-size1);
  height: 100%;
}

.jp-TableOfContents-placeholder {
  text-align: center;
}

.jp-TableOfContents-placeholderContent {
  color: var(--jp-content-font-color2);
  padding: 8px;
}

.jp-TableOfContents-placeholderContent > h3 {
  margin-bottom: var(--jp-content-heading-margin-bottom);
}

.jp-TableOfContents .jp-SidePanel-content {
  overflow-y: auto;
}

.jp-TableOfContents-tree {
  margin: 4px;
}

.jp-TableOfContents ol {
  list-style-type: none;
}

/* stylelint-disable-next-line selector-max-type */
.jp-TableOfContents li > ol {
  /* Align left border with triangle icon center */
  padding-left: 11px;
}

.jp-TableOfContents-content {
  /* left margin for the active heading indicator */
  margin: 0 0 0 var(--jp-private-toc-active-width);
  padding: 0;
  background-color: var(--jp-layout-color1);
}

.jp-tocItem {
  -webkit-user-select: none;
  -moz-user-select: none;
  -ms-user-select: none;
  user-select: none;
}

.jp-tocItem-heading {
  display: flex;
  cursor: pointer;
}

.jp-tocItem-heading:hover {
  background-color: var(--jp-layout-color2);
}

.jp-tocItem-content {
  display: block;
  padding: 4px 0;
  white-space: nowrap;
  text-overflow: ellipsis;
  overflow-x: hidden;
}

.jp-tocItem-collapser {
  height: 20px;
  margin: 2px 2px 0;
  padding: 0;
  background: none;
  border: none;
  cursor: pointer;
}

.jp-tocItem-collapser:hover {
  background-color: var(--jp-layout-color3);
}

/* Active heading indicator */

.jp-tocItem-heading::before {
  content: ' ';
  background: transparent;
  width: var(--jp-private-toc-active-width);
  height: 24px;
  position: absolute;
  left: 0;
  border-radius: var(--jp-border-radius);
}

.jp-tocItem-heading.jp-tocItem-active::before {
  background-color: var(--jp-brand-color1);
}

.jp-tocItem-heading:hover.jp-tocItem-active::before {
  background: var(--jp-brand-color0);
  opacity: 1;
}

/*-----------------------------------------------------------------------------
| Copyright (c) Jupyter Development Team.
| Distributed under the terms of the Modified BSD License.
|----------------------------------------------------------------------------*/

.jp-Collapser {
  flex: 0 0 var(--jp-cell-collapser-width);
  padding: 0;
  margin: 0;
  border: none;
  outline: none;
  background: transparent;
  border-radius: var(--jp-border-radius);
  opacity: 1;
}

.jp-Collapser-child {
  display: block;
  width: 100%;
  box-sizing: border-box;

  /* height: 100% doesn't work because the height of its parent is computed from content */
  position: absolute;
  top: 0;
  bottom: 0;
}

/*-----------------------------------------------------------------------------
| Printing
|----------------------------------------------------------------------------*/

/*
Hiding collapsers in print mode.

Note: input and output wrappers have "display: block" propery in print mode.
*/

@media print {
  .jp-Collapser {
    display: none;
  }
}

/*-----------------------------------------------------------------------------
| Copyright (c) Jupyter Development Team.
| Distributed under the terms of the Modified BSD License.
|----------------------------------------------------------------------------*/

/*-----------------------------------------------------------------------------
| Header/Footer
|----------------------------------------------------------------------------*/

/* Hidden by zero height by default */
.jp-CellHeader,
.jp-CellFooter {
  height: 0;
  width: 100%;
  padding: 0;
  margin: 0;
  border: none;
  outline: none;
  background: transparent;
}

/*-----------------------------------------------------------------------------
| Copyright (c) Jupyter Development Team.
| Distributed under the terms of the Modified BSD License.
|----------------------------------------------------------------------------*/

/*-----------------------------------------------------------------------------
| Input
|----------------------------------------------------------------------------*/

/* All input areas */
.jp-InputArea {
  display: table;
  table-layout: fixed;
  width: 100%;
  overflow: hidden;
}

.jp-InputArea-editor {
  display: table-cell;
  overflow: hidden;
  vertical-align: top;

  /* This is the non-active, default styling */
  border: var(--jp-border-width) solid var(--jp-cell-editor-border-color);
  border-radius: 0;
  background: var(--jp-cell-editor-background);
}

.jp-InputPrompt {
  display: table-cell;
  vertical-align: top;
  width: var(--jp-cell-prompt-width);
  color: var(--jp-cell-inprompt-font-color);
  font-family: var(--jp-cell-prompt-font-family);
  padding: var(--jp-code-padding);
  letter-spacing: var(--jp-cell-prompt-letter-spacing);
  opacity: var(--jp-cell-prompt-opacity);
  line-height: var(--jp-code-line-height);
  font-size: var(--jp-code-font-size);
  border: var(--jp-border-width) solid transparent;

  /* Right align prompt text, don't wrap to handle large prompt numbers */
  text-align: right;
  white-space: nowrap;
  overflow: hidden;
  text-overflow: ellipsis;

  /* Disable text selection */
  -webkit-user-select: none;
  -moz-user-select: none;
  -ms-user-select: none;
  user-select: none;
}

/*-----------------------------------------------------------------------------
| Mobile
|----------------------------------------------------------------------------*/
@media only screen and (max-width: 760px) {
  .jp-InputArea-editor {
    display: table-row;
    margin-left: var(--jp-notebook-padding);
  }

  .jp-InputPrompt {
    display: table-row;
    text-align: left;
  }
}

/*-----------------------------------------------------------------------------
| Copyright (c) Jupyter Development Team.
| Distributed under the terms of the Modified BSD License.
|----------------------------------------------------------------------------*/

/*-----------------------------------------------------------------------------
| Placeholder
|----------------------------------------------------------------------------*/

.jp-Placeholder {
  display: table;
  table-layout: fixed;
  width: 100%;
}

.jp-Placeholder-prompt {
  display: table-cell;
  box-sizing: border-box;
}

.jp-Placeholder-content {
  display: table-cell;
  padding: 4px 6px;
  border: 1px solid transparent;
  border-radius: 0;
  background: none;
  box-sizing: border-box;
  cursor: pointer;
}

.jp-Placeholder-contentContainer {
  display: flex;
}

.jp-Placeholder-content:hover,
.jp-InputPlaceholder > .jp-Placeholder-content:hover {
  border-color: var(--jp-layout-color3);
}

.jp-Placeholder-content .jp-MoreHorizIcon {
  width: 32px;
  height: 16px;
  border: 1px solid transparent;
  border-radius: var(--jp-border-radius);
}

.jp-Placeholder-content .jp-MoreHorizIcon:hover {
  border: 1px solid var(--jp-border-color1);
  box-shadow: 0 0 2px 0 rgba(0, 0, 0, 0.25);
  background-color: var(--jp-layout-color0);
}

.jp-PlaceholderText {
  white-space: nowrap;
  overflow-x: hidden;
  color: var(--jp-inverse-layout-color3);
  font-family: var(--jp-code-font-family);
}

.jp-InputPlaceholder > .jp-Placeholder-content {
  border-color: var(--jp-cell-editor-border-color);
  background: var(--jp-cell-editor-background);
}

/*-----------------------------------------------------------------------------
| Copyright (c) Jupyter Development Team.
| Distributed under the terms of the Modified BSD License.
|----------------------------------------------------------------------------*/

/*-----------------------------------------------------------------------------
| Private CSS variables
|----------------------------------------------------------------------------*/

:root {
  --jp-private-cell-scrolling-output-offset: 5px;
}

/*-----------------------------------------------------------------------------
| Cell
|----------------------------------------------------------------------------*/

.jp-Cell {
  padding: var(--jp-cell-padding);
  margin: 0;
  border: none;
  outline: none;
  background: transparent;
}

/*-----------------------------------------------------------------------------
| Common input/output
|----------------------------------------------------------------------------*/

.jp-Cell-inputWrapper,
.jp-Cell-outputWrapper {
  display: flex;
  flex-direction: row;
  padding: 0;
  margin: 0;

  /* Added to reveal the box-shadow on the input and output collapsers. */
  overflow: visible;
}

/* Only input/output areas inside cells */
.jp-Cell-inputArea,
.jp-Cell-outputArea {
  flex: 1 1 auto;
}

/*-----------------------------------------------------------------------------
| Collapser
|----------------------------------------------------------------------------*/

/* Make the output collapser disappear when there is not output, but do so
 * in a manner that leaves it in the layout and preserves its width.
 */
.jp-Cell.jp-mod-noOutputs .jp-Cell-outputCollapser {
  border: none !important;
  background: transparent !important;
}

.jp-Cell:not(.jp-mod-noOutputs) .jp-Cell-outputCollapser {
  min-height: var(--jp-cell-collapser-min-height);
}

/*-----------------------------------------------------------------------------
| Output
|----------------------------------------------------------------------------*/

/* Put a space between input and output when there IS output */
.jp-Cell:not(.jp-mod-noOutputs) .jp-Cell-outputWrapper {
  margin-top: 5px;
}

.jp-CodeCell.jp-mod-outputsScrolled .jp-Cell-outputArea {
  overflow-y: auto;
  max-height: 24em;
  margin-left: var(--jp-private-cell-scrolling-output-offset);
  resize: vertical;
}

.jp-CodeCell.jp-mod-outputsScrolled .jp-Cell-outputArea[style*='height'] {
  max-height: unset;
}

.jp-CodeCell.jp-mod-outputsScrolled .jp-Cell-outputArea::after {
  content: ' ';
  box-shadow: inset 0 0 6px 2px rgb(0 0 0 / 30%);
  width: 100%;
  height: 100%;
  position: sticky;
  bottom: 0;
  top: 0;
  margin-top: -50%;
  float: left;
  display: block;
  pointer-events: none;
}

.jp-CodeCell.jp-mod-outputsScrolled .jp-OutputArea-child {
  padding-top: 6px;
}

.jp-CodeCell.jp-mod-outputsScrolled .jp-OutputArea-prompt {
  width: calc(
    var(--jp-cell-prompt-width) - var(--jp-private-cell-scrolling-output-offset)
  );
}

.jp-CodeCell.jp-mod-outputsScrolled .jp-OutputArea-promptOverlay {
  left: calc(-1 * var(--jp-private-cell-scrolling-output-offset));
}

/*-----------------------------------------------------------------------------
| CodeCell
|----------------------------------------------------------------------------*/

/*-----------------------------------------------------------------------------
| MarkdownCell
|----------------------------------------------------------------------------*/

.jp-MarkdownOutput {
  display: table-cell;
  width: 100%;
  margin-top: 0;
  margin-bottom: 0;
  padding-left: var(--jp-code-padding);
}

.jp-MarkdownOutput.jp-RenderedHTMLCommon {
  overflow: auto;
}

/* collapseHeadingButton (show always if hiddenCellsButton is _not_ shown) */
.jp-collapseHeadingButton {
  display: flex;
  min-height: var(--jp-cell-collapser-min-height);
  font-size: var(--jp-code-font-size);
  position: absolute;
  background-color: transparent;
  background-size: 25px;
  background-repeat: no-repeat;
  background-position-x: center;
  background-position-y: top;
  background-image: var(--jp-icon-caret-down);
  right: 0;
  top: 0;
  bottom: 0;
}

.jp-collapseHeadingButton.jp-mod-collapsed {
  background-image: var(--jp-icon-caret-right);
}

/*
 set the container font size to match that of content
 so that the nested collapse buttons have the right size
*/
.jp-MarkdownCell .jp-InputPrompt {
  font-size: var(--jp-content-font-size1);
}

/*
  Align collapseHeadingButton with cell top header
  The font sizes are identical to the ones in packages/rendermime/style/base.css
*/
.jp-mod-rendered .jp-collapseHeadingButton[data-heading-level='1'] {
  font-size: var(--jp-content-font-size5);
  background-position-y: calc(0.3 * var(--jp-content-font-size5));
}

.jp-mod-rendered .jp-collapseHeadingButton[data-heading-level='2'] {
  font-size: var(--jp-content-font-size4);
  background-position-y: calc(0.3 * var(--jp-content-font-size4));
}

.jp-mod-rendered .jp-collapseHeadingButton[data-heading-level='3'] {
  font-size: var(--jp-content-font-size3);
  background-position-y: calc(0.3 * var(--jp-content-font-size3));
}

.jp-mod-rendered .jp-collapseHeadingButton[data-heading-level='4'] {
  font-size: var(--jp-content-font-size2);
  background-position-y: calc(0.3 * var(--jp-content-font-size2));
}

.jp-mod-rendered .jp-collapseHeadingButton[data-heading-level='5'] {
  font-size: var(--jp-content-font-size1);
  background-position-y: top;
}

.jp-mod-rendered .jp-collapseHeadingButton[data-heading-level='6'] {
  font-size: var(--jp-content-font-size0);
  background-position-y: top;
}

/* collapseHeadingButton (show only on (hover,active) if hiddenCellsButton is shown) */
.jp-Notebook.jp-mod-showHiddenCellsButton .jp-collapseHeadingButton {
  display: none;
}

.jp-Notebook.jp-mod-showHiddenCellsButton
  :is(.jp-MarkdownCell:hover, .jp-mod-active)
  .jp-collapseHeadingButton {
  display: flex;
}

/* showHiddenCellsButton (only show if jp-mod-showHiddenCellsButton is set, which
is a consequence of the showHiddenCellsButton option in Notebook Settings)*/
.jp-Notebook.jp-mod-showHiddenCellsButton .jp-showHiddenCellsButton {
  margin-left: calc(var(--jp-cell-prompt-width) + 2 * var(--jp-code-padding));
  margin-top: var(--jp-code-padding);
  border: 1px solid var(--jp-border-color2);
  background-color: var(--jp-border-color3) !important;
  color: var(--jp-content-font-color0) !important;
  display: flex;
}

.jp-Notebook.jp-mod-showHiddenCellsButton .jp-showHiddenCellsButton:hover {
  background-color: var(--jp-border-color2) !important;
}

.jp-showHiddenCellsButton {
  display: none;
}

/*-----------------------------------------------------------------------------
| Printing
|----------------------------------------------------------------------------*/

/*
Using block instead of flex to allow the use of the break-inside CSS property for
cell outputs.
*/

@media print {
  .jp-Cell-inputWrapper,
  .jp-Cell-outputWrapper {
    display: block;
  }
}

/*-----------------------------------------------------------------------------
| Copyright (c) Jupyter Development Team.
| Distributed under the terms of the Modified BSD License.
|----------------------------------------------------------------------------*/

/*-----------------------------------------------------------------------------
| Copyright (c) Jupyter Development Team.
| Distributed under the terms of the Modified BSD License.
|----------------------------------------------------------------------------*/

/*-----------------------------------------------------------------------------
| Variables
|----------------------------------------------------------------------------*/

:root {
  --jp-notebook-toolbar-padding: 2px 5px 2px 2px;
}

/*-----------------------------------------------------------------------------

/*-----------------------------------------------------------------------------
| Styles
|----------------------------------------------------------------------------*/

.jp-NotebookPanel-toolbar {
  padding: var(--jp-notebook-toolbar-padding);

  /* disable paint containment from lumino 2.0 default strict CSS containment */
  contain: style size !important;
}

.jp-Toolbar-item.jp-Notebook-toolbarCellType .jp-select-wrapper.jp-mod-focused {
  border: none;
  box-shadow: none;
}

.jp-Notebook-toolbarCellTypeDropdown select {
  height: 24px;
  font-size: var(--jp-ui-font-size1);
  line-height: 14px;
  border-radius: 0;
  display: block;
}

.jp-Notebook-toolbarCellTypeDropdown span {
  top: 5px !important;
}

.jp-Toolbar-responsive-popup {
  position: absolute;
  height: fit-content;
  display: flex;
  flex-direction: row;
  flex-wrap: wrap;
  justify-content: flex-end;
  border-bottom: var(--jp-border-width) solid var(--jp-toolbar-border-color);
  box-shadow: var(--jp-toolbar-box-shadow);
  background: var(--jp-toolbar-background);
  min-height: var(--jp-toolbar-micro-height);
  padding: var(--jp-notebook-toolbar-padding);
  z-index: 1;
  right: 0;
  top: 0;
}

.jp-Toolbar > .jp-Toolbar-responsive-opener {
  margin-left: auto;
}

/*-----------------------------------------------------------------------------
| Copyright (c) Jupyter Development Team.
| Distributed under the terms of the Modified BSD License.
|----------------------------------------------------------------------------*/

/*-----------------------------------------------------------------------------
| Variables
|----------------------------------------------------------------------------*/

/*-----------------------------------------------------------------------------

/*-----------------------------------------------------------------------------
| Styles
|----------------------------------------------------------------------------*/

.jp-Notebook-ExecutionIndicator {
  position: relative;
  display: inline-block;
  height: 100%;
  z-index: 9997;
}

.jp-Notebook-ExecutionIndicator-tooltip {
  visibility: hidden;
  height: auto;
  width: max-content;
  width: -moz-max-content;
  background-color: var(--jp-layout-color2);
  color: var(--jp-ui-font-color1);
  text-align: justify;
  border-radius: 6px;
  padding: 0 5px;
  position: fixed;
  display: table;
}

.jp-Notebook-ExecutionIndicator-tooltip.up {
  transform: translateX(-50%) translateY(-100%) translateY(-32px);
}

.jp-Notebook-ExecutionIndicator-tooltip.down {
  transform: translateX(calc(-100% + 16px)) translateY(5px);
}

.jp-Notebook-ExecutionIndicator-tooltip.hidden {
  display: none;
}

.jp-Notebook-ExecutionIndicator:hover .jp-Notebook-ExecutionIndicator-tooltip {
  visibility: visible;
}

.jp-Notebook-ExecutionIndicator span {
  font-size: var(--jp-ui-font-size1);
  font-family: var(--jp-ui-font-family);
  color: var(--jp-ui-font-color1);
  line-height: 24px;
  display: block;
}

.jp-Notebook-ExecutionIndicator-progress-bar {
  display: flex;
  justify-content: center;
  height: 100%;
}

/*
 * Copyright (c) Jupyter Development Team.
 * Distributed under the terms of the Modified BSD License.
 */

/*
 * Execution indicator
 */
.jp-tocItem-content::after {
  content: '';

  /* Must be identical to form a circle */
  width: 12px;
  height: 12px;
  background: none;
  border: none;
  position: absolute;
  right: 0;
}

.jp-tocItem-content[data-running='0']::after {
  border-radius: 50%;
  border: var(--jp-border-width) solid var(--jp-inverse-layout-color3);
  background: none;
}

.jp-tocItem-content[data-running='1']::after {
  border-radius: 50%;
  border: var(--jp-border-width) solid var(--jp-inverse-layout-color3);
  background-color: var(--jp-inverse-layout-color3);
}

.jp-tocItem-content[data-running='0'],
.jp-tocItem-content[data-running='1'] {
  margin-right: 12px;
}

/*
 * Copyright (c) Jupyter Development Team.
 * Distributed under the terms of the Modified BSD License.
 */

.jp-Notebook-footer {
  height: 27px;
  margin-left: calc(
    var(--jp-cell-prompt-width) + var(--jp-cell-collapser-width) +
      var(--jp-cell-padding)
  );
  width: calc(
    100% -
      (
        var(--jp-cell-prompt-width) + var(--jp-cell-collapser-width) +
          var(--jp-cell-padding) + var(--jp-cell-padding)
      )
  );
  border: var(--jp-border-width) solid var(--jp-cell-editor-border-color);
  color: var(--jp-ui-font-color3);
  margin-top: 6px;
  background: none;
  cursor: pointer;
}

.jp-Notebook-footer:focus {
  border-color: var(--jp-cell-editor-active-border-color);
}

/* For devices that support hovering, hide footer until hover */
@media (hover: hover) {
  .jp-Notebook-footer {
    opacity: 0;
  }

  .jp-Notebook-footer:focus,
  .jp-Notebook-footer:hover {
    opacity: 1;
  }
}

/*-----------------------------------------------------------------------------
| Copyright (c) Jupyter Development Team.
| Distributed under the terms of the Modified BSD License.
|----------------------------------------------------------------------------*/

/*-----------------------------------------------------------------------------
| Imports
|----------------------------------------------------------------------------*/

/*-----------------------------------------------------------------------------
| CSS variables
|----------------------------------------------------------------------------*/

:root {
  --jp-side-by-side-output-size: 1fr;
  --jp-side-by-side-resized-cell: var(--jp-side-by-side-output-size);
  --jp-private-notebook-dragImage-width: 304px;
  --jp-private-notebook-dragImage-height: 36px;
  --jp-private-notebook-selected-color: var(--md-blue-400);
  --jp-private-notebook-active-color: var(--md-green-400);
}

/*-----------------------------------------------------------------------------
| Notebook
|----------------------------------------------------------------------------*/

/* stylelint-disable selector-max-class */

.jp-NotebookPanel {
  display: block;
  height: 100%;
}

.jp-NotebookPanel.jp-Document {
  min-width: 240px;
  min-height: 120px;
}

.jp-Notebook {
  padding: var(--jp-notebook-padding);
  outline: none;
  overflow: auto;
  background: var(--jp-layout-color0);
}

.jp-Notebook.jp-mod-scrollPastEnd::after {
  display: block;
  content: '';
  min-height: var(--jp-notebook-scroll-padding);
}

.jp-MainAreaWidget-ContainStrict .jp-Notebook * {
  contain: strict;
}

.jp-Notebook .jp-Cell {
  overflow: visible;
}

.jp-Notebook .jp-Cell .jp-InputPrompt {
  cursor: move;
}

/*-----------------------------------------------------------------------------
| Notebook state related styling
|
| The notebook and cells each have states, here are the possibilities:
|
| - Notebook
|   - Command
|   - Edit
| - Cell
|   - None
|   - Active (only one can be active)
|   - Selected (the cells actions are applied to)
|   - Multiselected (when multiple selected, the cursor)
|   - No outputs
|----------------------------------------------------------------------------*/

/* Command or edit modes */

.jp-Notebook .jp-Cell:not(.jp-mod-active) .jp-InputPrompt {
  opacity: var(--jp-cell-prompt-not-active-opacity);
  color: var(--jp-cell-prompt-not-active-font-color);
}

.jp-Notebook .jp-Cell:not(.jp-mod-active) .jp-OutputPrompt {
  opacity: var(--jp-cell-prompt-not-active-opacity);
  color: var(--jp-cell-prompt-not-active-font-color);
}

/* cell is active */
.jp-Notebook .jp-Cell.jp-mod-active .jp-Collapser {
  background: var(--jp-brand-color1);
}

/* cell is dirty */
.jp-Notebook .jp-Cell.jp-mod-dirty .jp-InputPrompt {
  color: var(--jp-warn-color1);
}

.jp-Notebook .jp-Cell.jp-mod-dirty .jp-InputPrompt::before {
  color: var(--jp-warn-color1);
  content: '•';
}

.jp-Notebook .jp-Cell.jp-mod-active.jp-mod-dirty .jp-Collapser {
  background: var(--jp-warn-color1);
}

/* collapser is hovered */
.jp-Notebook .jp-Cell .jp-Collapser:hover {
  box-shadow: var(--jp-elevation-z2);
  background: var(--jp-brand-color1);
  opacity: var(--jp-cell-collapser-not-active-hover-opacity);
}

/* cell is active and collapser is hovered */
.jp-Notebook .jp-Cell.jp-mod-active .jp-Collapser:hover {
  background: var(--jp-brand-color0);
  opacity: 1;
}

/* Command mode */

.jp-Notebook.jp-mod-commandMode .jp-Cell.jp-mod-selected {
  background: var(--jp-notebook-multiselected-color);
}

.jp-Notebook.jp-mod-commandMode
  .jp-Cell.jp-mod-active.jp-mod-selected:not(.jp-mod-multiSelected) {
  background: transparent;
}

/* Edit mode */

.jp-Notebook.jp-mod-editMode .jp-Cell.jp-mod-active .jp-InputArea-editor {
  border: var(--jp-border-width) solid var(--jp-cell-editor-active-border-color);
  box-shadow: var(--jp-input-box-shadow);
  background-color: var(--jp-cell-editor-active-background);
}

/*-----------------------------------------------------------------------------
| Notebook drag and drop
|----------------------------------------------------------------------------*/

.jp-Notebook-cell.jp-mod-dropSource {
  opacity: 0.5;
}

.jp-Notebook-cell.jp-mod-dropTarget,
.jp-Notebook.jp-mod-commandMode
  .jp-Notebook-cell.jp-mod-active.jp-mod-selected.jp-mod-dropTarget {
  border-top-color: var(--jp-private-notebook-selected-color);
  border-top-style: solid;
  border-top-width: 2px;
}

.jp-dragImage {
  display: block;
  flex-direction: row;
  width: var(--jp-private-notebook-dragImage-width);
  height: var(--jp-private-notebook-dragImage-height);
  border: var(--jp-border-width) solid var(--jp-cell-editor-border-color);
  background: var(--jp-cell-editor-background);
  overflow: visible;
}

.jp-dragImage-singlePrompt {
  box-shadow: 2px 2px 4px 0 rgba(0, 0, 0, 0.12);
}

.jp-dragImage .jp-dragImage-content {
  flex: 1 1 auto;
  z-index: 2;
  font-size: var(--jp-code-font-size);
  font-family: var(--jp-code-font-family);
  line-height: var(--jp-code-line-height);
  padding: var(--jp-code-padding);
  border: var(--jp-border-width) solid var(--jp-cell-editor-border-color);
  background: var(--jp-cell-editor-background-color);
  color: var(--jp-content-font-color3);
  text-align: left;
  margin: 4px 4px 4px 0;
}

.jp-dragImage .jp-dragImage-prompt {
  flex: 0 0 auto;
  min-width: 36px;
  color: var(--jp-cell-inprompt-font-color);
  padding: var(--jp-code-padding);
  padding-left: 12px;
  font-family: var(--jp-cell-prompt-font-family);
  letter-spacing: var(--jp-cell-prompt-letter-spacing);
  line-height: 1.9;
  font-size: var(--jp-code-font-size);
  border: var(--jp-border-width) solid transparent;
}

.jp-dragImage-multipleBack {
  z-index: -1;
  position: absolute;
  height: 32px;
  width: 300px;
  top: 8px;
  left: 8px;
  background: var(--jp-layout-color2);
  border: var(--jp-border-width) solid var(--jp-input-border-color);
  box-shadow: 2px 2px 4px 0 rgba(0, 0, 0, 0.12);
}

/*-----------------------------------------------------------------------------
| Cell toolbar
|----------------------------------------------------------------------------*/

.jp-NotebookTools {
  display: block;
  min-width: var(--jp-sidebar-min-width);
  color: var(--jp-ui-font-color1);
  background: var(--jp-layout-color1);

  /* This is needed so that all font sizing of children done in ems is
    * relative to this base size */
  font-size: var(--jp-ui-font-size1);
  overflow: auto;
}

.jp-ActiveCellTool {
  padding: 12px 0;
  display: flex;
}

.jp-ActiveCellTool-Content {
  flex: 1 1 auto;
}

.jp-ActiveCellTool .jp-ActiveCellTool-CellContent {
  background: var(--jp-cell-editor-background);
  border: var(--jp-border-width) solid var(--jp-cell-editor-border-color);
  border-radius: 0;
  min-height: 29px;
}

.jp-ActiveCellTool .jp-InputPrompt {
  min-width: calc(var(--jp-cell-prompt-width) * 0.75);
}

.jp-ActiveCellTool-CellContent > pre {
  padding: 5px 4px;
  margin: 0;
  white-space: normal;
}

.jp-MetadataEditorTool {
  flex-direction: column;
  padding: 12px 0;
}

.jp-RankedPanel > :not(:first-child) {
  margin-top: 12px;
}

.jp-KeySelector select.jp-mod-styled {
  font-size: var(--jp-ui-font-size1);
  color: var(--jp-ui-font-color0);
  border: var(--jp-border-width) solid var(--jp-border-color1);
}

.jp-KeySelector label,
.jp-MetadataEditorTool label,
.jp-NumberSetter label {
  line-height: 1.4;
}

.jp-NotebookTools .jp-select-wrapper {
  margin-top: 4px;
  margin-bottom: 0;
}

.jp-NumberSetter input {
  width: 100%;
  margin-top: 4px;
}

.jp-NotebookTools .jp-Collapse {
  margin-top: 16px;
}

/*-----------------------------------------------------------------------------
| Presentation Mode (.jp-mod-presentationMode)
|----------------------------------------------------------------------------*/

.jp-mod-presentationMode .jp-Notebook {
  --jp-content-font-size1: var(--jp-content-presentation-font-size1);
  --jp-code-font-size: var(--jp-code-presentation-font-size);
}

.jp-mod-presentationMode .jp-Notebook .jp-Cell .jp-InputPrompt,
.jp-mod-presentationMode .jp-Notebook .jp-Cell .jp-OutputPrompt {
  flex: 0 0 110px;
}

/*-----------------------------------------------------------------------------
| Side-by-side Mode (.jp-mod-sideBySide)
|----------------------------------------------------------------------------*/
.jp-mod-sideBySide.jp-Notebook .jp-Notebook-cell {
  margin-top: 3em;
  margin-bottom: 3em;
  margin-left: 5%;
  margin-right: 5%;
}

.jp-mod-sideBySide.jp-Notebook .jp-CodeCell {
  display: grid;
  grid-template-columns: minmax(0, 1fr) min-content minmax(
      0,
      var(--jp-side-by-side-output-size)
    );
  grid-template-rows: auto minmax(0, 1fr) auto;
  grid-template-areas:
    'header header header'
    'input handle output'
    'footer footer footer';
}

.jp-mod-sideBySide.jp-Notebook .jp-CodeCell.jp-mod-resizedCell {
  grid-template-columns: minmax(0, 1fr) min-content minmax(
      0,
      var(--jp-side-by-side-resized-cell)
    );
}

.jp-mod-sideBySide.jp-Notebook .jp-CodeCell .jp-CellHeader {
  grid-area: header;
}

.jp-mod-sideBySide.jp-Notebook .jp-CodeCell .jp-Cell-inputWrapper {
  grid-area: input;
}

.jp-mod-sideBySide.jp-Notebook .jp-CodeCell .jp-Cell-outputWrapper {
  /* overwrite the default margin (no vertical separation needed in side by side move */
  margin-top: 0;
  grid-area: output;
}

.jp-mod-sideBySide.jp-Notebook .jp-CodeCell .jp-CellFooter {
  grid-area: footer;
}

.jp-mod-sideBySide.jp-Notebook .jp-CodeCell .jp-CellResizeHandle {
  grid-area: handle;
  user-select: none;
  display: block;
  height: 100%;
  cursor: ew-resize;
  padding: 0 var(--jp-cell-padding);
}

.jp-mod-sideBySide.jp-Notebook .jp-CodeCell .jp-CellResizeHandle::after {
  content: '';
  display: block;
  background: var(--jp-border-color2);
  height: 100%;
  width: 5px;
}

.jp-mod-sideBySide.jp-Notebook
  .jp-CodeCell.jp-mod-resizedCell
  .jp-CellResizeHandle::after {
  background: var(--jp-border-color0);
}

.jp-CellResizeHandle {
  display: none;
}

/*-----------------------------------------------------------------------------
| Placeholder
|----------------------------------------------------------------------------*/

.jp-Cell-Placeholder {
  padding-left: 55px;
}

.jp-Cell-Placeholder-wrapper {
  background: #fff;
  border: 1px solid;
  border-color: #e5e6e9 #dfe0e4 #d0d1d5;
  border-radius: 4px;
  -webkit-border-radius: 4px;
  margin: 10px 15px;
}

.jp-Cell-Placeholder-wrapper-inner {
  padding: 15px;
  position: relative;
}

.jp-Cell-Placeholder-wrapper-body {
  background-repeat: repeat;
  background-size: 50% auto;
}

.jp-Cell-Placeholder-wrapper-body div {
  background: #f6f7f8;
  background-image: -webkit-linear-gradient(
    left,
    #f6f7f8 0%,
    #edeef1 20%,
    #f6f7f8 40%,
    #f6f7f8 100%
  );
  background-repeat: no-repeat;
  background-size: 800px 104px;
  height: 104px;
  position: absolute;
  right: 15px;
  left: 15px;
  top: 15px;
}

div.jp-Cell-Placeholder-h1 {
  top: 20px;
  height: 20px;
  left: 15px;
  width: 150px;
}

div.jp-Cell-Placeholder-h2 {
  left: 15px;
  top: 50px;
  height: 10px;
  width: 100px;
}

div.jp-Cell-Placeholder-content-1,
div.jp-Cell-Placeholder-content-2,
div.jp-Cell-Placeholder-content-3 {
  left: 15px;
  right: 15px;
  height: 10px;
}

div.jp-Cell-Placeholder-content-1 {
  top: 100px;
}

div.jp-Cell-Placeholder-content-2 {
  top: 120px;
}

div.jp-Cell-Placeholder-content-3 {
  top: 140px;
}

</style>
<style type="text/css">
/*-----------------------------------------------------------------------------
| Copyright (c) Jupyter Development Team.
| Distributed under the terms of the Modified BSD License.
|----------------------------------------------------------------------------*/

/*
The following CSS variables define the main, public API for styling JupyterLab.
These variables should be used by all plugins wherever possible. In other
words, plugins should not define custom colors, sizes, etc unless absolutely
necessary. This enables users to change the visual theme of JupyterLab
by changing these variables.

Many variables appear in an ordered sequence (0,1,2,3). These sequences
are designed to work well together, so for example, `--jp-border-color1` should
be used with `--jp-layout-color1`. The numbers have the following meanings:

* 0: super-primary, reserved for special emphasis
* 1: primary, most important under normal situations
* 2: secondary, next most important under normal situations
* 3: tertiary, next most important under normal situations

Throughout JupyterLab, we are mostly following principles from Google's
Material Design when selecting colors. We are not, however, following
all of MD as it is not optimized for dense, information rich UIs.
*/

:root {
  /* Elevation
   *
   * We style box-shadows using Material Design's idea of elevation. These particular numbers are taken from here:
   *
   * https://github.com/material-components/material-components-web
   * https://material-components-web.appspot.com/elevation.html
   */

  --jp-shadow-base-lightness: 0;
  --jp-shadow-umbra-color: rgba(
    var(--jp-shadow-base-lightness),
    var(--jp-shadow-base-lightness),
    var(--jp-shadow-base-lightness),
    0.2
  );
  --jp-shadow-penumbra-color: rgba(
    var(--jp-shadow-base-lightness),
    var(--jp-shadow-base-lightness),
    var(--jp-shadow-base-lightness),
    0.14
  );
  --jp-shadow-ambient-color: rgba(
    var(--jp-shadow-base-lightness),
    var(--jp-shadow-base-lightness),
    var(--jp-shadow-base-lightness),
    0.12
  );
  --jp-elevation-z0: none;
  --jp-elevation-z1: 0 2px 1px -1px var(--jp-shadow-umbra-color),
    0 1px 1px 0 var(--jp-shadow-penumbra-color),
    0 1px 3px 0 var(--jp-shadow-ambient-color);
  --jp-elevation-z2: 0 3px 1px -2px var(--jp-shadow-umbra-color),
    0 2px 2px 0 var(--jp-shadow-penumbra-color),
    0 1px 5px 0 var(--jp-shadow-ambient-color);
  --jp-elevation-z4: 0 2px 4px -1px var(--jp-shadow-umbra-color),
    0 4px 5px 0 var(--jp-shadow-penumbra-color),
    0 1px 10px 0 var(--jp-shadow-ambient-color);
  --jp-elevation-z6: 0 3px 5px -1px var(--jp-shadow-umbra-color),
    0 6px 10px 0 var(--jp-shadow-penumbra-color),
    0 1px 18px 0 var(--jp-shadow-ambient-color);
  --jp-elevation-z8: 0 5px 5px -3px var(--jp-shadow-umbra-color),
    0 8px 10px 1px var(--jp-shadow-penumbra-color),
    0 3px 14px 2px var(--jp-shadow-ambient-color);
  --jp-elevation-z12: 0 7px 8px -4px var(--jp-shadow-umbra-color),
    0 12px 17px 2px var(--jp-shadow-penumbra-color),
    0 5px 22px 4px var(--jp-shadow-ambient-color);
  --jp-elevation-z16: 0 8px 10px -5px var(--jp-shadow-umbra-color),
    0 16px 24px 2px var(--jp-shadow-penumbra-color),
    0 6px 30px 5px var(--jp-shadow-ambient-color);
  --jp-elevation-z20: 0 10px 13px -6px var(--jp-shadow-umbra-color),
    0 20px 31px 3px var(--jp-shadow-penumbra-color),
    0 8px 38px 7px var(--jp-shadow-ambient-color);
  --jp-elevation-z24: 0 11px 15px -7px var(--jp-shadow-umbra-color),
    0 24px 38px 3px var(--jp-shadow-penumbra-color),
    0 9px 46px 8px var(--jp-shadow-ambient-color);

  /* Borders
   *
   * The following variables, specify the visual styling of borders in JupyterLab.
   */

  --jp-border-width: 1px;
  --jp-border-color0: var(--md-grey-400);
  --jp-border-color1: var(--md-grey-400);
  --jp-border-color2: var(--md-grey-300);
  --jp-border-color3: var(--md-grey-200);
  --jp-inverse-border-color: var(--md-grey-600);
  --jp-border-radius: 2px;

  /* UI Fonts
   *
   * The UI font CSS variables are used for the typography all of the JupyterLab
   * user interface elements that are not directly user generated content.
   *
   * The font sizing here is done assuming that the body font size of --jp-ui-font-size1
   * is applied to a parent element. When children elements, such as headings, are sized
   * in em all things will be computed relative to that body size.
   */

  --jp-ui-font-scale-factor: 1.2;
  --jp-ui-font-size0: 0.83333em;
  --jp-ui-font-size1: 13px; /* Base font size */
  --jp-ui-font-size2: 1.2em;
  --jp-ui-font-size3: 1.44em;
  --jp-ui-font-family: system-ui, -apple-system, blinkmacsystemfont, 'Segoe UI',
    helvetica, arial, sans-serif, 'Apple Color Emoji', 'Segoe UI Emoji',
    'Segoe UI Symbol';

  /*
   * Use these font colors against the corresponding main layout colors.
   * In a light theme, these go from dark to light.
   */

  /* Defaults use Material Design specification */
  --jp-ui-font-color0: rgba(0, 0, 0, 1);
  --jp-ui-font-color1: rgba(0, 0, 0, 0.87);
  --jp-ui-font-color2: rgba(0, 0, 0, 0.54);
  --jp-ui-font-color3: rgba(0, 0, 0, 0.38);

  /*
   * Use these against the brand/accent/warn/error colors.
   * These will typically go from light to darker, in both a dark and light theme.
   */

  --jp-ui-inverse-font-color0: rgba(255, 255, 255, 1);
  --jp-ui-inverse-font-color1: rgba(255, 255, 255, 1);
  --jp-ui-inverse-font-color2: rgba(255, 255, 255, 0.7);
  --jp-ui-inverse-font-color3: rgba(255, 255, 255, 0.5);

  /* Content Fonts
   *
   * Content font variables are used for typography of user generated content.
   *
   * The font sizing here is done assuming that the body font size of --jp-content-font-size1
   * is applied to a parent element. When children elements, such as headings, are sized
   * in em all things will be computed relative to that body size.
   */

  --jp-content-line-height: 1.6;
  --jp-content-font-scale-factor: 1.2;
  --jp-content-font-size0: 0.83333em;
  --jp-content-font-size1: 14px; /* Base font size */
  --jp-content-font-size2: 1.2em;
  --jp-content-font-size3: 1.44em;
  --jp-content-font-size4: 1.728em;
  --jp-content-font-size5: 2.0736em;

  /* This gives a magnification of about 125% in presentation mode over normal. */
  --jp-content-presentation-font-size1: 17px;
  --jp-content-heading-line-height: 1;
  --jp-content-heading-margin-top: 1.2em;
  --jp-content-heading-margin-bottom: 0.8em;
  --jp-content-heading-font-weight: 500;

  /* Defaults use Material Design specification */
  --jp-content-font-color0: rgba(0, 0, 0, 1);
  --jp-content-font-color1: rgba(0, 0, 0, 0.87);
  --jp-content-font-color2: rgba(0, 0, 0, 0.54);
  --jp-content-font-color3: rgba(0, 0, 0, 0.38);
  --jp-content-link-color: var(--md-blue-900);
  --jp-content-font-family: system-ui, -apple-system, blinkmacsystemfont,
    'Segoe UI', helvetica, arial, sans-serif, 'Apple Color Emoji',
    'Segoe UI Emoji', 'Segoe UI Symbol';

  /*
   * Code Fonts
   *
   * Code font variables are used for typography of code and other monospaces content.
   */

  --jp-code-font-size: 13px;
  --jp-code-line-height: 1.3077; /* 17px for 13px base */
  --jp-code-padding: 5px; /* 5px for 13px base, codemirror highlighting needs integer px value */
  --jp-code-font-family-default: menlo, consolas, 'DejaVu Sans Mono', monospace;
  --jp-code-font-family: var(--jp-code-font-family-default);

  /* This gives a magnification of about 125% in presentation mode over normal. */
  --jp-code-presentation-font-size: 16px;

  /* may need to tweak cursor width if you change font size */
  --jp-code-cursor-width0: 1.4px;
  --jp-code-cursor-width1: 2px;
  --jp-code-cursor-width2: 4px;

  /* Layout
   *
   * The following are the main layout colors use in JupyterLab. In a light
   * theme these would go from light to dark.
   */

  --jp-layout-color0: white;
  --jp-layout-color1: white;
  --jp-layout-color2: var(--md-grey-200);
  --jp-layout-color3: var(--md-grey-400);
  --jp-layout-color4: var(--md-grey-600);

  /* Inverse Layout
   *
   * The following are the inverse layout colors use in JupyterLab. In a light
   * theme these would go from dark to light.
   */

  --jp-inverse-layout-color0: #111;
  --jp-inverse-layout-color1: var(--md-grey-900);
  --jp-inverse-layout-color2: var(--md-grey-800);
  --jp-inverse-layout-color3: var(--md-grey-700);
  --jp-inverse-layout-color4: var(--md-grey-600);

  /* Brand/accent */

  --jp-brand-color0: var(--md-blue-900);
  --jp-brand-color1: var(--md-blue-700);
  --jp-brand-color2: var(--md-blue-300);
  --jp-brand-color3: var(--md-blue-100);
  --jp-brand-color4: var(--md-blue-50);
  --jp-accent-color0: var(--md-green-900);
  --jp-accent-color1: var(--md-green-700);
  --jp-accent-color2: var(--md-green-300);
  --jp-accent-color3: var(--md-green-100);

  /* State colors (warn, error, success, info) */

  --jp-warn-color0: var(--md-orange-900);
  --jp-warn-color1: var(--md-orange-700);
  --jp-warn-color2: var(--md-orange-300);
  --jp-warn-color3: var(--md-orange-100);
  --jp-error-color0: var(--md-red-900);
  --jp-error-color1: var(--md-red-700);
  --jp-error-color2: var(--md-red-300);
  --jp-error-color3: var(--md-red-100);
  --jp-success-color0: var(--md-green-900);
  --jp-success-color1: var(--md-green-700);
  --jp-success-color2: var(--md-green-300);
  --jp-success-color3: var(--md-green-100);
  --jp-info-color0: var(--md-cyan-900);
  --jp-info-color1: var(--md-cyan-700);
  --jp-info-color2: var(--md-cyan-300);
  --jp-info-color3: var(--md-cyan-100);

  /* Cell specific styles */

  --jp-cell-padding: 5px;
  --jp-cell-collapser-width: 8px;
  --jp-cell-collapser-min-height: 20px;
  --jp-cell-collapser-not-active-hover-opacity: 0.6;
  --jp-cell-editor-background: var(--md-grey-100);
  --jp-cell-editor-border-color: var(--md-grey-300);
  --jp-cell-editor-box-shadow: inset 0 0 2px var(--md-blue-300);
  --jp-cell-editor-active-background: var(--jp-layout-color0);
  --jp-cell-editor-active-border-color: var(--jp-brand-color1);
  --jp-cell-prompt-width: 64px;
  --jp-cell-prompt-font-family: var(--jp-code-font-family-default);
  --jp-cell-prompt-letter-spacing: 0;
  --jp-cell-prompt-opacity: 1;
  --jp-cell-prompt-not-active-opacity: 0.5;
  --jp-cell-prompt-not-active-font-color: var(--md-grey-700);

  /* A custom blend of MD grey and blue 600
   * See https://meyerweb.com/eric/tools/color-blend/#546E7A:1E88E5:5:hex */
  --jp-cell-inprompt-font-color: #307fc1;

  /* A custom blend of MD grey and orange 600
   * https://meyerweb.com/eric/tools/color-blend/#546E7A:F4511E:5:hex */
  --jp-cell-outprompt-font-color: #bf5b3d;

  /* Notebook specific styles */

  --jp-notebook-padding: 10px;
  --jp-notebook-select-background: var(--jp-layout-color1);
  --jp-notebook-multiselected-color: var(--md-blue-50);

  /* The scroll padding is calculated to fill enough space at the bottom of the
  notebook to show one single-line cell (with appropriate padding) at the top
  when the notebook is scrolled all the way to the bottom. We also subtract one
  pixel so that no scrollbar appears if we have just one single-line cell in the
  notebook. This padding is to enable a 'scroll past end' feature in a notebook.
  */
  --jp-notebook-scroll-padding: calc(
    100% - var(--jp-code-font-size) * var(--jp-code-line-height) -
      var(--jp-code-padding) - var(--jp-cell-padding) - 1px
  );

  /* Rendermime styles */

  --jp-rendermime-error-background: #fdd;
  --jp-rendermime-table-row-background: var(--md-grey-100);
  --jp-rendermime-table-row-hover-background: var(--md-light-blue-50);

  /* Dialog specific styles */

  --jp-dialog-background: rgba(0, 0, 0, 0.25);

  /* Console specific styles */

  --jp-console-padding: 10px;

  /* Toolbar specific styles */

  --jp-toolbar-border-color: var(--jp-border-color1);
  --jp-toolbar-micro-height: 8px;
  --jp-toolbar-background: var(--jp-layout-color1);
  --jp-toolbar-box-shadow: 0 0 2px 0 rgba(0, 0, 0, 0.24);
  --jp-toolbar-header-margin: 4px 4px 0 4px;
  --jp-toolbar-active-background: var(--md-grey-300);

  /* Statusbar specific styles */

  --jp-statusbar-height: 24px;

  /* Input field styles */

  --jp-input-box-shadow: inset 0 0 2px var(--md-blue-300);
  --jp-input-active-background: var(--jp-layout-color1);
  --jp-input-hover-background: var(--jp-layout-color1);
  --jp-input-background: var(--md-grey-100);
  --jp-input-border-color: var(--jp-inverse-border-color);
  --jp-input-active-border-color: var(--jp-brand-color1);
  --jp-input-active-box-shadow-color: rgba(19, 124, 189, 0.3);

  /* General editor styles */

  --jp-editor-selected-background: #d9d9d9;
  --jp-editor-selected-focused-background: #d7d4f0;
  --jp-editor-cursor-color: var(--jp-ui-font-color0);

  /* Code mirror specific styles */

  --jp-mirror-editor-keyword-color: #008000;
  --jp-mirror-editor-atom-color: #88f;
  --jp-mirror-editor-number-color: #080;
  --jp-mirror-editor-def-color: #00f;
  --jp-mirror-editor-variable-color: var(--md-grey-900);
  --jp-mirror-editor-variable-2-color: rgb(0, 54, 109);
  --jp-mirror-editor-variable-3-color: #085;
  --jp-mirror-editor-punctuation-color: #05a;
  --jp-mirror-editor-property-color: #05a;
  --jp-mirror-editor-operator-color: #a2f;
  --jp-mirror-editor-comment-color: #408080;
  --jp-mirror-editor-string-color: #ba2121;
  --jp-mirror-editor-string-2-color: #708;
  --jp-mirror-editor-meta-color: #a2f;
  --jp-mirror-editor-qualifier-color: #555;
  --jp-mirror-editor-builtin-color: #008000;
  --jp-mirror-editor-bracket-color: #997;
  --jp-mirror-editor-tag-color: #170;
  --jp-mirror-editor-attribute-color: #00c;
  --jp-mirror-editor-header-color: blue;
  --jp-mirror-editor-quote-color: #090;
  --jp-mirror-editor-link-color: #00c;
  --jp-mirror-editor-error-color: #f00;
  --jp-mirror-editor-hr-color: #999;

  /*
    RTC user specific colors.
    These colors are used for the cursor, username in the editor,
    and the icon of the user.
  */

  --jp-collaborator-color1: #ffad8e;
  --jp-collaborator-color2: #dac83d;
  --jp-collaborator-color3: #72dd76;
  --jp-collaborator-color4: #00e4d0;
  --jp-collaborator-color5: #45d4ff;
  --jp-collaborator-color6: #e2b1ff;
  --jp-collaborator-color7: #ff9de6;

  /* Vega extension styles */

  --jp-vega-background: white;

  /* Sidebar-related styles */

  --jp-sidebar-min-width: 250px;

  /* Search-related styles */

  --jp-search-toggle-off-opacity: 0.5;
  --jp-search-toggle-hover-opacity: 0.8;
  --jp-search-toggle-on-opacity: 1;
  --jp-search-selected-match-background-color: rgb(245, 200, 0);
  --jp-search-selected-match-color: black;
  --jp-search-unselected-match-background-color: var(
    --jp-inverse-layout-color0
  );
  --jp-search-unselected-match-color: var(--jp-ui-inverse-font-color0);

  /* Icon colors that work well with light or dark backgrounds */
  --jp-icon-contrast-color0: var(--md-purple-600);
  --jp-icon-contrast-color1: var(--md-green-600);
  --jp-icon-contrast-color2: var(--md-pink-600);
  --jp-icon-contrast-color3: var(--md-blue-600);

  /* Button colors */
  --jp-accept-color-normal: var(--md-blue-700);
  --jp-accept-color-hover: var(--md-blue-800);
  --jp-accept-color-active: var(--md-blue-900);
  --jp-warn-color-normal: var(--md-red-700);
  --jp-warn-color-hover: var(--md-red-800);
  --jp-warn-color-active: var(--md-red-900);
  --jp-reject-color-normal: var(--md-grey-600);
  --jp-reject-color-hover: var(--md-grey-700);
  --jp-reject-color-active: var(--md-grey-800);

  /* File or activity icons and switch semantic variables */
  --jp-jupyter-icon-color: #f37626;
  --jp-notebook-icon-color: #f37626;
  --jp-json-icon-color: var(--md-orange-700);
  --jp-console-icon-background-color: var(--md-blue-700);
  --jp-console-icon-color: white;
  --jp-terminal-icon-background-color: var(--md-grey-800);
  --jp-terminal-icon-color: var(--md-grey-200);
  --jp-text-editor-icon-color: var(--md-grey-700);
  --jp-inspector-icon-color: var(--md-grey-700);
  --jp-switch-color: var(--md-grey-400);
  --jp-switch-true-position-color: var(--md-orange-900);
}
</style>
<style type="text/css">
/* Force rendering true colors when outputing to pdf */
* {
  -webkit-print-color-adjust: exact;
}

/* Misc */
a.anchor-link {
  display: none;
}

/* Input area styling */
.jp-InputArea {
  overflow: hidden;
}

.jp-InputArea-editor {
  overflow: hidden;
}

.cm-editor.cm-s-jupyter .highlight pre {
/* weird, but --jp-code-padding defined to be 5px but 4px horizontal padding is hardcoded for pre.cm-line */
  padding: var(--jp-code-padding) 4px;
  margin: 0;

  font-family: inherit;
  font-size: inherit;
  line-height: inherit;
  color: inherit;

}

.jp-OutputArea-output pre {
  line-height: inherit;
  font-family: inherit;
}

.jp-RenderedText pre {
  color: var(--jp-content-font-color1);
  font-size: var(--jp-code-font-size);
}

/* Hiding the collapser by default */
.jp-Collapser {
  display: none;
}

@page {
    margin: 0.5in; /* Margin for each printed piece of paper */
}

@media print {
  .jp-Cell-inputWrapper,
  .jp-Cell-outputWrapper {
    display: block;
  }
}
</style>
<!-- Load mathjax -->
<script src="https://cdnjs.cloudflare.com/ajax/libs/mathjax/2.7.7/latest.js?config=TeX-AMS_CHTML-full,Safe"> </script>
<!-- MathJax configuration -->
<script type="text/x-mathjax-config">
    init_mathjax = function() {
        if (window.MathJax) {
        // MathJax loaded
            MathJax.Hub.Config({
                TeX: {
                    equationNumbers: {
                    autoNumber: "AMS",
                    useLabelIds: true
                    }
                },
                tex2jax: {
                    inlineMath: [ ['$','$'], ["\\(","\\)"] ],
                    displayMath: [ ['$$','$$'], ["\\[","\\]"] ],
                    processEscapes: true,
                    processEnvironments: true
                },
                displayAlign: 'center',
                CommonHTML: {
                    linebreaks: {
                    automatic: true
                    }
                }
            });

            MathJax.Hub.Queue(["Typeset", MathJax.Hub]);
        }
    }
    init_mathjax();
    </script>
<!-- End of mathjax configuration --><script type="module">
  document.addEventListener("DOMContentLoaded", async () => {
    const diagrams = document.querySelectorAll(".jp-Mermaid > pre.mermaid");
    // do not load mermaidjs if not needed
    if (!diagrams.length) {
      return;
    }
    const mermaid = (await import("https://cdnjs.cloudflare.com/ajax/libs/mermaid/10.6.0/mermaid.esm.min.mjs")).default;
    const parser = new DOMParser();

    mermaid.initialize({
      maxTextSize: 100000,
      startOnLoad: false,
      fontFamily: window
        .getComputedStyle(document.body)
        .getPropertyValue("--jp-ui-font-family"),
      theme: document.querySelector("body[data-jp-theme-light='true']")
        ? "default"
        : "dark",
    });

    let _nextMermaidId = 0;

    function makeMermaidImage(svg) {
      const img = document.createElement("img");
      const doc = parser.parseFromString(svg, "image/svg+xml");
      const svgEl = doc.querySelector("svg");
      const { maxWidth } = svgEl?.style || {};
      const firstTitle = doc.querySelector("title");
      const firstDesc = doc.querySelector("desc");

      img.setAttribute("src", `data:image/svg+xml,${encodeURIComponent(svg)}`);
      if (maxWidth) {
        img.width = parseInt(maxWidth);
      }
      if (firstTitle) {
        img.setAttribute("alt", firstTitle.textContent);
      }
      if (firstDesc) {
        const caption = document.createElement("figcaption");
        caption.className = "sr-only";
        caption.textContent = firstDesc.textContent;
        return [img, caption];
      }
      return [img];
    }

    async function makeMermaidError(text) {
      let errorMessage = "";
      try {
        await mermaid.parse(text);
      } catch (err) {
        errorMessage = `${err}`;
      }

      const result = document.createElement("details");
      result.className = 'jp-RenderedMermaid-Details';
      const summary = document.createElement("summary");
      summary.className = 'jp-RenderedMermaid-Summary';
      const pre = document.createElement("pre");
      const code = document.createElement("code");
      code.innerText = text;
      pre.appendChild(code);
      summary.appendChild(pre);
      result.appendChild(summary);

      const warning = document.createElement("pre");
      warning.innerText = errorMessage;
      result.appendChild(warning);
      return [result];
    }

    async function renderOneMarmaid(src) {
      const id = `jp-mermaid-${_nextMermaidId++}`;
      const parent = src.parentNode;
      let raw = src.textContent.trim();
      const el = document.createElement("div");
      el.style.visibility = "hidden";
      document.body.appendChild(el);
      let results = null;
      let output = null;
      try {
        const { svg } = await mermaid.render(id, raw, el);
        results = makeMermaidImage(svg);
        output = document.createElement("figure");
        results.map(output.appendChild, output);
      } catch (err) {
        parent.classList.add("jp-mod-warning");
        results = await makeMermaidError(raw);
        output = results[0];
      } finally {
        el.remove();
      }
      parent.classList.add("jp-RenderedMermaid");
      parent.appendChild(output);
    }

    void Promise.all([...diagrams].map(renderOneMarmaid));
  });
</script>
<style>
  .jp-Mermaid:not(.jp-RenderedMermaid) {
    display: none;
  }

  .jp-RenderedMermaid {
    overflow: auto;
    display: flex;
  }

  .jp-RenderedMermaid.jp-mod-warning {
    width: auto;
    padding: 0.5em;
    margin-top: 0.5em;
    border: var(--jp-border-width) solid var(--jp-warn-color2);
    border-radius: var(--jp-border-radius);
    color: var(--jp-ui-font-color1);
    font-size: var(--jp-ui-font-size1);
    white-space: pre-wrap;
    word-wrap: break-word;
  }

  .jp-RenderedMermaid figure {
    margin: 0;
    overflow: auto;
    max-width: 100%;
  }

  .jp-RenderedMermaid img {
    max-width: 100%;
  }

  .jp-RenderedMermaid-Details > pre {
    margin-top: 1em;
  }

  .jp-RenderedMermaid-Summary {
    color: var(--jp-warn-color2);
  }

  .jp-RenderedMermaid:not(.jp-mod-warning) pre {
    display: none;
  }

  .jp-RenderedMermaid-Summary > pre {
    display: inline-block;
    white-space: normal;
  }
</style>
<!-- End of mermaid configuration --></head>
<body class="jp-Notebook" data-jp-theme-light="true" data-jp-theme-name="JupyterLab Light">
<main><div class="jp-Cell jp-CodeCell jp-Notebook-cell jp-mod-noOutputs" id="cell-id=2cc2d9ea-cda4-4388-92ef-8bc4c7ad7561">
<div class="jp-Cell-inputWrapper" tabindex="0">
<div class="jp-Collapser jp-InputCollapser jp-Cell-inputCollapser">
</div>
<div class="jp-InputArea jp-Cell-inputArea">
<div class="jp-InputPrompt jp-InputArea-prompt">In [14]:</div>
<div class="jp-CodeMirrorEditor jp-Editor jp-InputArea-editor" data-type="inline">
<div class="cm-editor cm-s-jupyter">
<div class="highlight hl-ipython3"><pre><span></span><span class="c1">#Import numpy</span>
<span class="kn">import</span> <span class="nn">numpy</span> <span class="k">as</span> <span class="nn">np</span>

<span class="c1">#Seasonsp</span>
<span class="n">Seasons</span> <span class="o">=</span> <span class="p">[</span><span class="s2">"2015"</span><span class="p">,</span><span class="s2">"2016"</span><span class="p">,</span><span class="s2">"2017"</span><span class="p">,</span><span class="s2">"2018"</span><span class="p">,</span><span class="s2">"2019"</span><span class="p">,</span><span class="s2">"2020"</span><span class="p">,</span><span class="s2">"2021"</span><span class="p">,</span><span class="s2">"2022"</span><span class="p">,</span><span class="s2">"2023"</span><span class="p">,</span><span class="s2">"2024"</span><span class="p">]</span>
<span class="n">Sdict</span> <span class="o">=</span> <span class="p">{</span><span class="s2">"2015"</span><span class="p">:</span><span class="mi">0</span><span class="p">,</span><span class="s2">"2016"</span><span class="p">:</span><span class="mi">1</span><span class="p">,</span><span class="s2">"2017"</span><span class="p">:</span><span class="mi">2</span><span class="p">,</span><span class="s2">"2018"</span><span class="p">:</span><span class="mi">3</span><span class="p">,</span><span class="s2">"2019"</span><span class="p">:</span><span class="mi">4</span><span class="p">,</span><span class="s2">"2020"</span><span class="p">:</span><span class="mi">5</span><span class="p">,</span><span class="s2">"2021"</span><span class="p">:</span><span class="mi">6</span><span class="p">,</span><span class="s2">"2022"</span><span class="p">:</span><span class="mi">7</span><span class="p">,</span><span class="s2">"2023"</span><span class="p">:</span><span class="mi">8</span><span class="p">,</span><span class="s2">"2024"</span><span class="p">:</span><span class="mi">9</span><span class="p">}</span>

<span class="c1">#Players</span>
<span class="n">Players</span> <span class="o">=</span> <span class="p">[</span><span class="s2">"Sachin"</span><span class="p">,</span><span class="s2">"Rahul"</span><span class="p">,</span><span class="s2">"Smith"</span><span class="p">,</span><span class="s2">"Sami"</span><span class="p">,</span><span class="s2">"Pollard"</span><span class="p">,</span><span class="s2">"Morris"</span><span class="p">,</span><span class="s2">"Samson"</span><span class="p">,</span><span class="s2">"Dhoni"</span><span class="p">,</span><span class="s2">"Kohli"</span><span class="p">,</span><span class="s2">"Sky"</span><span class="p">]</span>
<span class="n">Pdict</span> <span class="o">=</span> <span class="p">{</span><span class="s2">"Sachin"</span><span class="p">:</span><span class="mi">0</span><span class="p">,</span><span class="s2">"Rahul"</span><span class="p">:</span><span class="mi">1</span><span class="p">,</span><span class="s2">"Smith"</span><span class="p">:</span><span class="mi">2</span><span class="p">,</span><span class="s2">"Sami"</span><span class="p">:</span><span class="mi">3</span><span class="p">,</span><span class="s2">"Pollard"</span><span class="p">:</span><span class="mi">4</span><span class="p">,</span><span class="s2">"Morris"</span><span class="p">:</span><span class="mi">5</span><span class="p">,</span><span class="s2">"Samson"</span><span class="p">:</span><span class="mi">6</span><span class="p">,</span><span class="s2">"Dhoni"</span><span class="p">:</span><span class="mi">7</span><span class="p">,</span><span class="s2">"Kohli"</span><span class="p">:</span><span class="mi">8</span><span class="p">,</span><span class="s2">"Sky"</span><span class="p">:</span><span class="mi">9</span><span class="p">}</span>

<span class="c1">#Salaries</span>
<span class="n">Sachin_Salary</span> <span class="o">=</span> <span class="p">[</span><span class="mi">15946875</span><span class="p">,</span><span class="mi">17718750</span><span class="p">,</span><span class="mi">19490625</span><span class="p">,</span><span class="mi">21262500</span><span class="p">,</span><span class="mi">23034375</span><span class="p">,</span><span class="mi">24806250</span><span class="p">,</span><span class="mi">25244493</span><span class="p">,</span><span class="mi">27849149</span><span class="p">,</span><span class="mi">30453805</span><span class="p">,</span><span class="mi">23500000</span><span class="p">]</span>
<span class="n">Rahul_Salary</span> <span class="o">=</span> <span class="p">[</span><span class="mi">12000000</span><span class="p">,</span><span class="mi">12744189</span><span class="p">,</span><span class="mi">13488377</span><span class="p">,</span><span class="mi">14232567</span><span class="p">,</span><span class="mi">14976754</span><span class="p">,</span><span class="mi">16324500</span><span class="p">,</span><span class="mi">18038573</span><span class="p">,</span><span class="mi">19752645</span><span class="p">,</span><span class="mi">21466718</span><span class="p">,</span><span class="mi">23180790</span><span class="p">]</span>
<span class="n">Smith_Salary</span> <span class="o">=</span> <span class="p">[</span><span class="mi">4621800</span><span class="p">,</span><span class="mi">5828090</span><span class="p">,</span><span class="mi">13041250</span><span class="p">,</span><span class="mi">14410581</span><span class="p">,</span><span class="mi">15779912</span><span class="p">,</span><span class="mi">14500000</span><span class="p">,</span><span class="mi">16022500</span><span class="p">,</span><span class="mi">17545000</span><span class="p">,</span><span class="mi">19067500</span><span class="p">,</span><span class="mi">20644400</span><span class="p">]</span>
<span class="n">Sami_Salary</span> <span class="o">=</span> <span class="p">[</span><span class="mi">3713640</span><span class="p">,</span><span class="mi">4694041</span><span class="p">,</span><span class="mi">13041250</span><span class="p">,</span><span class="mi">14410581</span><span class="p">,</span><span class="mi">15779912</span><span class="p">,</span><span class="mi">17149243</span><span class="p">,</span><span class="mi">18518574</span><span class="p">,</span><span class="mi">19450000</span><span class="p">,</span><span class="mi">22407474</span><span class="p">,</span><span class="mi">22458000</span><span class="p">]</span>
<span class="n">Pollard_Salary</span> <span class="o">=</span> <span class="p">[</span><span class="mi">4493160</span><span class="p">,</span><span class="mi">4806720</span><span class="p">,</span><span class="mi">6061274</span><span class="p">,</span><span class="mi">13758000</span><span class="p">,</span><span class="mi">15202590</span><span class="p">,</span><span class="mi">16647180</span><span class="p">,</span><span class="mi">18091770</span><span class="p">,</span><span class="mi">19536360</span><span class="p">,</span><span class="mi">20513178</span><span class="p">,</span><span class="mi">21436271</span><span class="p">]</span>
<span class="n">Morris_Salary</span> <span class="o">=</span> <span class="p">[</span><span class="mi">3348000</span><span class="p">,</span><span class="mi">4235220</span><span class="p">,</span><span class="mi">12455000</span><span class="p">,</span><span class="mi">14410581</span><span class="p">,</span><span class="mi">15779912</span><span class="p">,</span><span class="mi">14500000</span><span class="p">,</span><span class="mi">16022500</span><span class="p">,</span><span class="mi">17545000</span><span class="p">,</span><span class="mi">19067500</span><span class="p">,</span><span class="mi">20644400</span><span class="p">]</span>
<span class="n">Samson_Salary</span> <span class="o">=</span> <span class="p">[</span><span class="mi">3144240</span><span class="p">,</span><span class="mi">3380160</span><span class="p">,</span><span class="mi">3615960</span><span class="p">,</span><span class="mi">4574189</span><span class="p">,</span><span class="mi">13520500</span><span class="p">,</span><span class="mi">14940153</span><span class="p">,</span><span class="mi">16359805</span><span class="p">,</span><span class="mi">17779458</span><span class="p">,</span><span class="mi">18668431</span><span class="p">,</span><span class="mi">20068563</span><span class="p">]</span>
<span class="n">Dhoni_Salary</span> <span class="o">=</span> <span class="p">[</span><span class="mi">0</span><span class="p">,</span><span class="mi">0</span><span class="p">,</span><span class="mi">4171200</span><span class="p">,</span><span class="mi">4484040</span><span class="p">,</span><span class="mi">4796880</span><span class="p">,</span><span class="mi">6053663</span><span class="p">,</span><span class="mi">15506632</span><span class="p">,</span><span class="mi">16669630</span><span class="p">,</span><span class="mi">17832627</span><span class="p">,</span><span class="mi">18995624</span><span class="p">]</span>
<span class="n">Kohli_Salary</span> <span class="o">=</span> <span class="p">[</span><span class="mi">0</span><span class="p">,</span><span class="mi">0</span><span class="p">,</span><span class="mi">0</span><span class="p">,</span><span class="mi">4822800</span><span class="p">,</span><span class="mi">5184480</span><span class="p">,</span><span class="mi">5546160</span><span class="p">,</span><span class="mi">6993708</span><span class="p">,</span><span class="mi">16402500</span><span class="p">,</span><span class="mi">17632688</span><span class="p">,</span><span class="mi">18862875</span><span class="p">]</span>
<span class="n">Sky_Salary</span> <span class="o">=</span> <span class="p">[</span><span class="mi">3031920</span><span class="p">,</span><span class="mi">3841443</span><span class="p">,</span><span class="mi">13041250</span><span class="p">,</span><span class="mi">14410581</span><span class="p">,</span><span class="mi">15779912</span><span class="p">,</span><span class="mi">14200000</span><span class="p">,</span><span class="mi">15691000</span><span class="p">,</span><span class="mi">17182000</span><span class="p">,</span><span class="mi">18673000</span><span class="p">,</span><span class="mi">15000000</span><span class="p">]</span>
<span class="c1">#Matrix</span>
<span class="n">Salary</span> <span class="o">=</span> <span class="n">np</span><span class="o">.</span><span class="n">array</span><span class="p">([</span><span class="n">Sachin_Salary</span><span class="p">,</span> <span class="n">Rahul_Salary</span><span class="p">,</span> <span class="n">Smith_Salary</span><span class="p">,</span> <span class="n">Sami_Salary</span><span class="p">,</span> <span class="n">Pollard_Salary</span><span class="p">,</span> <span class="n">Morris_Salary</span><span class="p">,</span> <span class="n">Samson_Salary</span><span class="p">,</span> <span class="n">Dhoni_Salary</span><span class="p">,</span> <span class="n">Kohli_Salary</span><span class="p">,</span> <span class="n">Sky_Salary</span><span class="p">])</span>

<span class="c1">#Games</span>
<span class="n">Sachin_G</span> <span class="o">=</span> <span class="p">[</span><span class="mi">80</span><span class="p">,</span><span class="mi">77</span><span class="p">,</span><span class="mi">82</span><span class="p">,</span><span class="mi">82</span><span class="p">,</span><span class="mi">73</span><span class="p">,</span><span class="mi">82</span><span class="p">,</span><span class="mi">58</span><span class="p">,</span><span class="mi">78</span><span class="p">,</span><span class="mi">6</span><span class="p">,</span><span class="mi">35</span><span class="p">]</span>
<span class="n">Rahul_G</span> <span class="o">=</span> <span class="p">[</span><span class="mi">82</span><span class="p">,</span><span class="mi">57</span><span class="p">,</span><span class="mi">82</span><span class="p">,</span><span class="mi">79</span><span class="p">,</span><span class="mi">76</span><span class="p">,</span><span class="mi">72</span><span class="p">,</span><span class="mi">60</span><span class="p">,</span><span class="mi">72</span><span class="p">,</span><span class="mi">79</span><span class="p">,</span><span class="mi">80</span><span class="p">]</span>
<span class="n">Smith_G</span> <span class="o">=</span> <span class="p">[</span><span class="mi">79</span><span class="p">,</span><span class="mi">78</span><span class="p">,</span><span class="mi">75</span><span class="p">,</span><span class="mi">81</span><span class="p">,</span><span class="mi">76</span><span class="p">,</span><span class="mi">79</span><span class="p">,</span><span class="mi">62</span><span class="p">,</span><span class="mi">76</span><span class="p">,</span><span class="mi">77</span><span class="p">,</span><span class="mi">69</span><span class="p">]</span>
<span class="n">Sami_G</span> <span class="o">=</span> <span class="p">[</span><span class="mi">80</span><span class="p">,</span><span class="mi">65</span><span class="p">,</span><span class="mi">77</span><span class="p">,</span><span class="mi">66</span><span class="p">,</span><span class="mi">69</span><span class="p">,</span><span class="mi">77</span><span class="p">,</span><span class="mi">55</span><span class="p">,</span><span class="mi">67</span><span class="p">,</span><span class="mi">77</span><span class="p">,</span><span class="mi">40</span><span class="p">]</span>
<span class="n">Pollard_G</span> <span class="o">=</span> <span class="p">[</span><span class="mi">82</span><span class="p">,</span><span class="mi">82</span><span class="p">,</span><span class="mi">82</span><span class="p">,</span><span class="mi">79</span><span class="p">,</span><span class="mi">82</span><span class="p">,</span><span class="mi">78</span><span class="p">,</span><span class="mi">54</span><span class="p">,</span><span class="mi">76</span><span class="p">,</span><span class="mi">71</span><span class="p">,</span><span class="mi">41</span><span class="p">]</span>
<span class="n">Morris_G</span> <span class="o">=</span> <span class="p">[</span><span class="mi">70</span><span class="p">,</span><span class="mi">69</span><span class="p">,</span><span class="mi">67</span><span class="p">,</span><span class="mi">77</span><span class="p">,</span><span class="mi">70</span><span class="p">,</span><span class="mi">77</span><span class="p">,</span><span class="mi">57</span><span class="p">,</span><span class="mi">74</span><span class="p">,</span><span class="mi">79</span><span class="p">,</span><span class="mi">44</span><span class="p">]</span>
<span class="n">Samson_G</span> <span class="o">=</span> <span class="p">[</span><span class="mi">78</span><span class="p">,</span><span class="mi">64</span><span class="p">,</span><span class="mi">80</span><span class="p">,</span><span class="mi">78</span><span class="p">,</span><span class="mi">45</span><span class="p">,</span><span class="mi">80</span><span class="p">,</span><span class="mi">60</span><span class="p">,</span><span class="mi">70</span><span class="p">,</span><span class="mi">62</span><span class="p">,</span><span class="mi">82</span><span class="p">]</span>
<span class="n">Dhoni_G</span> <span class="o">=</span> <span class="p">[</span><span class="mi">35</span><span class="p">,</span><span class="mi">35</span><span class="p">,</span><span class="mi">80</span><span class="p">,</span><span class="mi">74</span><span class="p">,</span><span class="mi">82</span><span class="p">,</span><span class="mi">78</span><span class="p">,</span><span class="mi">66</span><span class="p">,</span><span class="mi">81</span><span class="p">,</span><span class="mi">81</span><span class="p">,</span><span class="mi">27</span><span class="p">]</span>
<span class="n">Kohli_G</span> <span class="o">=</span> <span class="p">[</span><span class="mi">40</span><span class="p">,</span><span class="mi">40</span><span class="p">,</span><span class="mi">40</span><span class="p">,</span><span class="mi">81</span><span class="p">,</span><span class="mi">78</span><span class="p">,</span><span class="mi">81</span><span class="p">,</span><span class="mi">39</span><span class="p">,</span><span class="mi">0</span><span class="p">,</span><span class="mi">10</span><span class="p">,</span><span class="mi">51</span><span class="p">]</span>
<span class="n">Sky_G</span> <span class="o">=</span> <span class="p">[</span><span class="mi">75</span><span class="p">,</span><span class="mi">51</span><span class="p">,</span><span class="mi">51</span><span class="p">,</span><span class="mi">79</span><span class="p">,</span><span class="mi">77</span><span class="p">,</span><span class="mi">76</span><span class="p">,</span><span class="mi">49</span><span class="p">,</span><span class="mi">69</span><span class="p">,</span><span class="mi">54</span><span class="p">,</span><span class="mi">62</span><span class="p">]</span>
<span class="c1">#Matrix</span>
<span class="n">Games</span> <span class="o">=</span> <span class="n">np</span><span class="o">.</span><span class="n">array</span><span class="p">([</span><span class="n">Sachin_G</span><span class="p">,</span> <span class="n">Rahul_G</span><span class="p">,</span> <span class="n">Smith_G</span><span class="p">,</span> <span class="n">Sami_G</span><span class="p">,</span> <span class="n">Pollard_G</span><span class="p">,</span> <span class="n">Morris_G</span><span class="p">,</span> <span class="n">Samson_G</span><span class="p">,</span> <span class="n">Dhoni_G</span><span class="p">,</span> <span class="n">Kohli_G</span><span class="p">,</span> <span class="n">Sky_G</span><span class="p">])</span>

<span class="c1">#Points</span>
<span class="n">Sachin_PTS</span> <span class="o">=</span> <span class="p">[</span><span class="mi">2832</span><span class="p">,</span><span class="mi">2430</span><span class="p">,</span><span class="mi">2323</span><span class="p">,</span><span class="mi">2201</span><span class="p">,</span><span class="mi">1970</span><span class="p">,</span><span class="mi">2078</span><span class="p">,</span><span class="mi">1616</span><span class="p">,</span><span class="mi">2133</span><span class="p">,</span><span class="mi">83</span><span class="p">,</span><span class="mi">782</span><span class="p">]</span>
<span class="n">Rahul_PTS</span> <span class="o">=</span> <span class="p">[</span><span class="mi">1653</span><span class="p">,</span><span class="mi">1426</span><span class="p">,</span><span class="mi">1779</span><span class="p">,</span><span class="mi">1688</span><span class="p">,</span><span class="mi">1619</span><span class="p">,</span><span class="mi">1312</span><span class="p">,</span><span class="mi">1129</span><span class="p">,</span><span class="mi">1170</span><span class="p">,</span><span class="mi">1245</span><span class="p">,</span><span class="mi">1154</span><span class="p">]</span>
<span class="n">Smith_PTS</span> <span class="o">=</span> <span class="p">[</span><span class="mi">2478</span><span class="p">,</span><span class="mi">2132</span><span class="p">,</span><span class="mi">2250</span><span class="p">,</span><span class="mi">2304</span><span class="p">,</span><span class="mi">2258</span><span class="p">,</span><span class="mi">2111</span><span class="p">,</span><span class="mi">1683</span><span class="p">,</span><span class="mi">2036</span><span class="p">,</span><span class="mi">2089</span><span class="p">,</span><span class="mi">1743</span><span class="p">]</span>
<span class="n">Sami_PTS</span> <span class="o">=</span> <span class="p">[</span><span class="mi">2122</span><span class="p">,</span><span class="mi">1881</span><span class="p">,</span><span class="mi">1978</span><span class="p">,</span><span class="mi">1504</span><span class="p">,</span><span class="mi">1943</span><span class="p">,</span><span class="mi">1970</span><span class="p">,</span><span class="mi">1245</span><span class="p">,</span><span class="mi">1920</span><span class="p">,</span><span class="mi">2112</span><span class="p">,</span><span class="mi">966</span><span class="p">]</span>
<span class="n">Pollard_PTS</span> <span class="o">=</span> <span class="p">[</span><span class="mi">1292</span><span class="p">,</span><span class="mi">1443</span><span class="p">,</span><span class="mi">1695</span><span class="p">,</span><span class="mi">1624</span><span class="p">,</span><span class="mi">1503</span><span class="p">,</span><span class="mi">1784</span><span class="p">,</span><span class="mi">1113</span><span class="p">,</span><span class="mi">1296</span><span class="p">,</span><span class="mi">1297</span><span class="p">,</span><span class="mi">646</span><span class="p">]</span>
<span class="n">Morris_PTS</span> <span class="o">=</span> <span class="p">[</span><span class="mi">1572</span><span class="p">,</span><span class="mi">1561</span><span class="p">,</span><span class="mi">1496</span><span class="p">,</span><span class="mi">1746</span><span class="p">,</span><span class="mi">1678</span><span class="p">,</span><span class="mi">1438</span><span class="p">,</span><span class="mi">1025</span><span class="p">,</span><span class="mi">1232</span><span class="p">,</span><span class="mi">1281</span><span class="p">,</span><span class="mi">928</span><span class="p">]</span>
<span class="n">Samson_PTS</span> <span class="o">=</span> <span class="p">[</span><span class="mi">1258</span><span class="p">,</span><span class="mi">1104</span><span class="p">,</span><span class="mi">1684</span><span class="p">,</span><span class="mi">1781</span><span class="p">,</span><span class="mi">841</span><span class="p">,</span><span class="mi">1268</span><span class="p">,</span><span class="mi">1189</span><span class="p">,</span><span class="mi">1186</span><span class="p">,</span><span class="mi">1185</span><span class="p">,</span><span class="mi">1564</span><span class="p">]</span>
<span class="n">Dhoni_PTS</span> <span class="o">=</span> <span class="p">[</span><span class="mi">903</span><span class="p">,</span><span class="mi">903</span><span class="p">,</span><span class="mi">1624</span><span class="p">,</span><span class="mi">1871</span><span class="p">,</span><span class="mi">2472</span><span class="p">,</span><span class="mi">2161</span><span class="p">,</span><span class="mi">1850</span><span class="p">,</span><span class="mi">2280</span><span class="p">,</span><span class="mi">2593</span><span class="p">,</span><span class="mi">686</span><span class="p">]</span>
<span class="n">Kohli_PTS</span> <span class="o">=</span> <span class="p">[</span><span class="mi">597</span><span class="p">,</span><span class="mi">597</span><span class="p">,</span><span class="mi">597</span><span class="p">,</span><span class="mi">1361</span><span class="p">,</span><span class="mi">1619</span><span class="p">,</span><span class="mi">2026</span><span class="p">,</span><span class="mi">852</span><span class="p">,</span><span class="mi">0</span><span class="p">,</span><span class="mi">159</span><span class="p">,</span><span class="mi">904</span><span class="p">]</span>
<span class="n">Sky_PTS</span> <span class="o">=</span> <span class="p">[</span><span class="mi">2040</span><span class="p">,</span><span class="mi">1397</span><span class="p">,</span><span class="mi">1254</span><span class="p">,</span><span class="mi">2386</span><span class="p">,</span><span class="mi">2045</span><span class="p">,</span><span class="mi">1941</span><span class="p">,</span><span class="mi">1082</span><span class="p">,</span><span class="mi">1463</span><span class="p">,</span><span class="mi">1028</span><span class="p">,</span><span class="mi">1331</span><span class="p">]</span>
<span class="c1">#Matrix</span>
<span class="n">Points</span> <span class="o">=</span> <span class="n">np</span><span class="o">.</span><span class="n">array</span><span class="p">([</span><span class="n">Sachin_PTS</span><span class="p">,</span> <span class="n">Rahul_PTS</span><span class="p">,</span> <span class="n">Smith_PTS</span><span class="p">,</span> <span class="n">Sami_PTS</span><span class="p">,</span> <span class="n">Pollard_PTS</span><span class="p">,</span> <span class="n">Morris_PTS</span><span class="p">,</span> <span class="n">Samson_PTS</span><span class="p">,</span> <span class="n">Dhoni_PTS</span><span class="p">,</span> <span class="n">Kohli_PTS</span><span class="p">,</span> <span class="n">Sky_PTS</span><span class="p">])</span>
</pre></div>
</div>
</div>
</div>
</div>
</div><div class="jp-Cell jp-CodeCell jp-Notebook-cell" id="cell-id=f4221ab7-d778-4976-a03c-02c2febe1ae7">
<div class="jp-Cell-inputWrapper" tabindex="0">
<div class="jp-Collapser jp-InputCollapser jp-Cell-inputCollapser">
</div>
<div class="jp-InputArea jp-Cell-inputArea">
<div class="jp-InputPrompt jp-InputArea-prompt">In [20]:</div>
<div class="jp-CodeMirrorEditor jp-Editor jp-InputArea-editor" data-type="inline">
<div class="cm-editor cm-s-jupyter">
<div class="highlight hl-ipython3"><pre><span></span><span class="n">Salary</span>
</pre></div>
</div>
</div>
</div>
</div>
<div class="jp-Cell-outputWrapper">
<div class="jp-Collapser jp-OutputCollapser jp-Cell-outputCollapser">
</div>
<div class="jp-OutputArea jp-Cell-outputArea">
<div class="jp-OutputArea-child jp-OutputArea-executeResult">
<div class="jp-OutputPrompt jp-OutputArea-prompt">Out[20]:</div>
<div class="jp-RenderedText jp-OutputArea-output jp-OutputArea-executeResult" data-mime-type="text/plain" tabindex="0">
<pre>array([[15946875, 17718750, 19490625, 21262500, 23034375, 24806250,
        25244493, 27849149, 30453805, 23500000],
       [12000000, 12744189, 13488377, 14232567, 14976754, 16324500,
        18038573, 19752645, 21466718, 23180790],
       [ 4621800,  5828090, 13041250, 14410581, 15779912, 14500000,
        16022500, 17545000, 19067500, 20644400],
       [ 3713640,  4694041, 13041250, 14410581, 15779912, 17149243,
        18518574, 19450000, 22407474, 22458000],
       [ 4493160,  4806720,  6061274, 13758000, 15202590, 16647180,
        18091770, 19536360, 20513178, 21436271],
       [ 3348000,  4235220, 12455000, 14410581, 15779912, 14500000,
        16022500, 17545000, 19067500, 20644400],
       [ 3144240,  3380160,  3615960,  4574189, 13520500, 14940153,
        16359805, 17779458, 18668431, 20068563],
       [       0,        0,  4171200,  4484040,  4796880,  6053663,
        15506632, 16669630, 17832627, 18995624],
       [       0,        0,        0,  4822800,  5184480,  5546160,
         6993708, 16402500, 17632688, 18862875],
       [ 3031920,  3841443, 13041250, 14410581, 15779912, 14200000,
        15691000, 17182000, 18673000, 15000000]])</pre>
</div>
</div>
</div>
</div>
</div><div class="jp-Cell jp-CodeCell jp-Notebook-cell" id="cell-id=2f4c10e5-8cd1-48dd-9190-ee128adc3fbc">
<div class="jp-Cell-inputWrapper" tabindex="0">
<div class="jp-Collapser jp-InputCollapser jp-Cell-inputCollapser">
</div>
<div class="jp-InputArea jp-Cell-inputArea">
<div class="jp-InputPrompt jp-InputArea-prompt">In [22]:</div>
<div class="jp-CodeMirrorEditor jp-Editor jp-InputArea-editor" data-type="inline">
<div class="cm-editor cm-s-jupyter">
<div class="highlight hl-ipython3"><pre><span></span><span class="n">Games</span>
</pre></div>
</div>
</div>
</div>
</div>
<div class="jp-Cell-outputWrapper">
<div class="jp-Collapser jp-OutputCollapser jp-Cell-outputCollapser">
</div>
<div class="jp-OutputArea jp-Cell-outputArea">
<div class="jp-OutputArea-child jp-OutputArea-executeResult">
<div class="jp-OutputPrompt jp-OutputArea-prompt">Out[22]:</div>
<div class="jp-RenderedText jp-OutputArea-output jp-OutputArea-executeResult" data-mime-type="text/plain" tabindex="0">
<pre>array([[80, 77, 82, 82, 73, 82, 58, 78,  6, 35],
       [82, 57, 82, 79, 76, 72, 60, 72, 79, 80],
       [79, 78, 75, 81, 76, 79, 62, 76, 77, 69],
       [80, 65, 77, 66, 69, 77, 55, 67, 77, 40],
       [82, 82, 82, 79, 82, 78, 54, 76, 71, 41],
       [70, 69, 67, 77, 70, 77, 57, 74, 79, 44],
       [78, 64, 80, 78, 45, 80, 60, 70, 62, 82],
       [35, 35, 80, 74, 82, 78, 66, 81, 81, 27],
       [40, 40, 40, 81, 78, 81, 39,  0, 10, 51],
       [75, 51, 51, 79, 77, 76, 49, 69, 54, 62]])</pre>
</div>
</div>
</div>
</div>
</div><div class="jp-Cell jp-CodeCell jp-Notebook-cell" id="cell-id=29159f37-cacb-40ab-8631-d3495dba7523">
<div class="jp-Cell-inputWrapper" tabindex="0">
<div class="jp-Collapser jp-InputCollapser jp-Cell-inputCollapser">
</div>
<div class="jp-InputArea jp-Cell-inputArea">
<div class="jp-InputPrompt jp-InputArea-prompt">In [26]:</div>
<div class="jp-CodeMirrorEditor jp-Editor jp-InputArea-editor" data-type="inline">
<div class="cm-editor cm-s-jupyter">
<div class="highlight hl-ipython3"><pre><span></span><span class="n">Games</span><span class="p">[</span><span class="mi">5</span><span class="p">]</span>
</pre></div>
</div>
</div>
</div>
</div>
<div class="jp-Cell-outputWrapper">
<div class="jp-Collapser jp-OutputCollapser jp-Cell-outputCollapser">
</div>
<div class="jp-OutputArea jp-Cell-outputArea">
<div class="jp-OutputArea-child jp-OutputArea-executeResult">
<div class="jp-OutputPrompt jp-OutputArea-prompt">Out[26]:</div>
<div class="jp-RenderedText jp-OutputArea-output jp-OutputArea-executeResult" data-mime-type="text/plain" tabindex="0">
<pre>array([70, 69, 67, 77, 70, 77, 57, 74, 79, 44])</pre>
</div>
</div>
</div>
</div>
</div><div class="jp-Cell jp-CodeCell jp-Notebook-cell" id="cell-id=9bb47ec5-e283-4fb8-8111-6422c5381819">
<div class="jp-Cell-inputWrapper" tabindex="0">
<div class="jp-Collapser jp-InputCollapser jp-Cell-inputCollapser">
</div>
<div class="jp-InputArea jp-Cell-inputArea">
<div class="jp-InputPrompt jp-InputArea-prompt">In [28]:</div>
<div class="jp-CodeMirrorEditor jp-Editor jp-InputArea-editor" data-type="inline">
<div class="cm-editor cm-s-jupyter">
<div class="highlight hl-ipython3"><pre><span></span><span class="n">Games</span><span class="p">[</span><span class="mi">0</span><span class="p">:</span><span class="mi">4</span><span class="p">]</span>
</pre></div>
</div>
</div>
</div>
</div>
<div class="jp-Cell-outputWrapper">
<div class="jp-Collapser jp-OutputCollapser jp-Cell-outputCollapser">
</div>
<div class="jp-OutputArea jp-Cell-outputArea">
<div class="jp-OutputArea-child jp-OutputArea-executeResult">
<div class="jp-OutputPrompt jp-OutputArea-prompt">Out[28]:</div>
<div class="jp-RenderedText jp-OutputArea-output jp-OutputArea-executeResult" data-mime-type="text/plain" tabindex="0">
<pre>array([[80, 77, 82, 82, 73, 82, 58, 78,  6, 35],
       [82, 57, 82, 79, 76, 72, 60, 72, 79, 80],
       [79, 78, 75, 81, 76, 79, 62, 76, 77, 69],
       [80, 65, 77, 66, 69, 77, 55, 67, 77, 40]])</pre>
</div>
</div>
</div>
</div>
</div><div class="jp-Cell jp-CodeCell jp-Notebook-cell" id="cell-id=34b3faa8-38f0-4d81-9df7-f18f01a8cd17">
<div class="jp-Cell-inputWrapper" tabindex="0">
<div class="jp-Collapser jp-InputCollapser jp-Cell-inputCollapser">
</div>
<div class="jp-InputArea jp-Cell-inputArea">
<div class="jp-InputPrompt jp-InputArea-prompt">In [30]:</div>
<div class="jp-CodeMirrorEditor jp-Editor jp-InputArea-editor" data-type="inline">
<div class="cm-editor cm-s-jupyter">
<div class="highlight hl-ipython3"><pre><span></span><span class="n">Games</span><span class="p">[</span><span class="mi">0</span><span class="p">,</span><span class="mi">5</span><span class="p">]</span>
</pre></div>
</div>
</div>
</div>
</div>
<div class="jp-Cell-outputWrapper">
<div class="jp-Collapser jp-OutputCollapser jp-Cell-outputCollapser">
</div>
<div class="jp-OutputArea jp-Cell-outputArea">
<div class="jp-OutputArea-child jp-OutputArea-executeResult">
<div class="jp-OutputPrompt jp-OutputArea-prompt">Out[30]:</div>
<div class="jp-RenderedText jp-OutputArea-output jp-OutputArea-executeResult" data-mime-type="text/plain" tabindex="0">
<pre>82</pre>
</div>
</div>
</div>
</div>
</div><div class="jp-Cell jp-CodeCell jp-Notebook-cell" id="cell-id=669e1c35-9c35-445e-8ce3-6d5534958fb1">
<div class="jp-Cell-inputWrapper" tabindex="0">
<div class="jp-Collapser jp-InputCollapser jp-Cell-inputCollapser">
</div>
<div class="jp-InputArea jp-Cell-inputArea">
<div class="jp-InputPrompt jp-InputArea-prompt">In [32]:</div>
<div class="jp-CodeMirrorEditor jp-Editor jp-InputArea-editor" data-type="inline">
<div class="cm-editor cm-s-jupyter">
<div class="highlight hl-ipython3"><pre><span></span><span class="n">Games</span><span class="p">[</span><span class="mi">1</span><span class="p">:</span><span class="mi">2</span><span class="p">]</span>
</pre></div>
</div>
</div>
</div>
</div>
<div class="jp-Cell-outputWrapper">
<div class="jp-Collapser jp-OutputCollapser jp-Cell-outputCollapser">
</div>
<div class="jp-OutputArea jp-Cell-outputArea">
<div class="jp-OutputArea-child jp-OutputArea-executeResult">
<div class="jp-OutputPrompt jp-OutputArea-prompt">Out[32]:</div>
<div class="jp-RenderedText jp-OutputArea-output jp-OutputArea-executeResult" data-mime-type="text/plain" tabindex="0">
<pre>array([[82, 57, 82, 79, 76, 72, 60, 72, 79, 80]])</pre>
</div>
</div>
</div>
</div>
</div><div class="jp-Cell jp-CodeCell jp-Notebook-cell" id="cell-id=bb522ac2-50df-4c67-9f72-67d05a0a65e6">
<div class="jp-Cell-inputWrapper" tabindex="0">
<div class="jp-Collapser jp-InputCollapser jp-Cell-inputCollapser">
</div>
<div class="jp-InputArea jp-Cell-inputArea">
<div class="jp-InputPrompt jp-InputArea-prompt">In [34]:</div>
<div class="jp-CodeMirrorEditor jp-Editor jp-InputArea-editor" data-type="inline">
<div class="cm-editor cm-s-jupyter">
<div class="highlight hl-ipython3"><pre><span></span><span class="n">Games</span><span class="p">[</span><span class="o">-</span><span class="mi">3</span><span class="p">:</span><span class="o">-</span><span class="mi">1</span><span class="p">]</span>
</pre></div>
</div>
</div>
</div>
</div>
<div class="jp-Cell-outputWrapper">
<div class="jp-Collapser jp-OutputCollapser jp-Cell-outputCollapser">
</div>
<div class="jp-OutputArea jp-Cell-outputArea">
<div class="jp-OutputArea-child jp-OutputArea-executeResult">
<div class="jp-OutputPrompt jp-OutputArea-prompt">Out[34]:</div>
<div class="jp-RenderedText jp-OutputArea-output jp-OutputArea-executeResult" data-mime-type="text/plain" tabindex="0">
<pre>array([[35, 35, 80, 74, 82, 78, 66, 81, 81, 27],
       [40, 40, 40, 81, 78, 81, 39,  0, 10, 51]])</pre>
</div>
</div>
</div>
</div>
</div><div class="jp-Cell jp-CodeCell jp-Notebook-cell" id="cell-id=275fa48f-34f8-4c34-b148-6602f7f4a949">
<div class="jp-Cell-inputWrapper" tabindex="0">
<div class="jp-Collapser jp-InputCollapser jp-Cell-inputCollapser">
</div>
<div class="jp-InputArea jp-Cell-inputArea">
<div class="jp-InputPrompt jp-InputArea-prompt">In [36]:</div>
<div class="jp-CodeMirrorEditor jp-Editor jp-InputArea-editor" data-type="inline">
<div class="cm-editor cm-s-jupyter">
<div class="highlight hl-ipython3"><pre><span></span><span class="n">Games</span><span class="p">[</span><span class="o">-</span><span class="mi">3</span><span class="p">,</span><span class="o">-</span><span class="mi">1</span><span class="p">]</span>
</pre></div>
</div>
</div>
</div>
</div>
<div class="jp-Cell-outputWrapper">
<div class="jp-Collapser jp-OutputCollapser jp-Cell-outputCollapser">
</div>
<div class="jp-OutputArea jp-Cell-outputArea">
<div class="jp-OutputArea-child jp-OutputArea-executeResult">
<div class="jp-OutputPrompt jp-OutputArea-prompt">Out[36]:</div>
<div class="jp-RenderedText jp-OutputArea-output jp-OutputArea-executeResult" data-mime-type="text/plain" tabindex="0">
<pre>27</pre>
</div>
</div>
</div>
</div>
</div><div class="jp-Cell jp-CodeCell jp-Notebook-cell" id="cell-id=396a8422-110b-4595-9f72-4bac7d70db61">
<div class="jp-Cell-inputWrapper" tabindex="0">
<div class="jp-Collapser jp-InputCollapser jp-Cell-inputCollapser">
</div>
<div class="jp-InputArea jp-Cell-inputArea">
<div class="jp-InputPrompt jp-InputArea-prompt">In [24]:</div>
<div class="jp-CodeMirrorEditor jp-Editor jp-InputArea-editor" data-type="inline">
<div class="cm-editor cm-s-jupyter">
<div class="highlight hl-ipython3"><pre><span></span><span class="n">Points</span>
</pre></div>
</div>
</div>
</div>
</div>
<div class="jp-Cell-outputWrapper">
<div class="jp-Collapser jp-OutputCollapser jp-Cell-outputCollapser">
</div>
<div class="jp-OutputArea jp-Cell-outputArea">
<div class="jp-OutputArea-child jp-OutputArea-executeResult">
<div class="jp-OutputPrompt jp-OutputArea-prompt">Out[24]:</div>
<div class="jp-RenderedText jp-OutputArea-output jp-OutputArea-executeResult" data-mime-type="text/plain" tabindex="0">
<pre>array([[2832, 2430, 2323, 2201, 1970, 2078, 1616, 2133,   83,  782],
       [1653, 1426, 1779, 1688, 1619, 1312, 1129, 1170, 1245, 1154],
       [2478, 2132, 2250, 2304, 2258, 2111, 1683, 2036, 2089, 1743],
       [2122, 1881, 1978, 1504, 1943, 1970, 1245, 1920, 2112,  966],
       [1292, 1443, 1695, 1624, 1503, 1784, 1113, 1296, 1297,  646],
       [1572, 1561, 1496, 1746, 1678, 1438, 1025, 1232, 1281,  928],
       [1258, 1104, 1684, 1781,  841, 1268, 1189, 1186, 1185, 1564],
       [ 903,  903, 1624, 1871, 2472, 2161, 1850, 2280, 2593,  686],
       [ 597,  597,  597, 1361, 1619, 2026,  852,    0,  159,  904],
       [2040, 1397, 1254, 2386, 2045, 1941, 1082, 1463, 1028, 1331]])</pre>
</div>
</div>
</div>
</div>
</div><div class="jp-Cell jp-CodeCell jp-Notebook-cell" id="cell-id=1c75f3a5-658a-48e7-819f-a451e6cd2b9f">
<div class="jp-Cell-inputWrapper" tabindex="0">
<div class="jp-Collapser jp-InputCollapser jp-Cell-inputCollapser">
</div>
<div class="jp-InputArea jp-Cell-inputArea">
<div class="jp-InputPrompt jp-InputArea-prompt">In [44]:</div>
<div class="jp-CodeMirrorEditor jp-Editor jp-InputArea-editor" data-type="inline">
<div class="cm-editor cm-s-jupyter">
<div class="highlight hl-ipython3"><pre><span></span><span class="n">Games</span>
</pre></div>
</div>
</div>
</div>
</div>
<div class="jp-Cell-outputWrapper">
<div class="jp-Collapser jp-OutputCollapser jp-Cell-outputCollapser">
</div>
<div class="jp-OutputArea jp-Cell-outputArea">
<div class="jp-OutputArea-child jp-OutputArea-executeResult">
<div class="jp-OutputPrompt jp-OutputArea-prompt">Out[44]:</div>
<div class="jp-RenderedText jp-OutputArea-output jp-OutputArea-executeResult" data-mime-type="text/plain" tabindex="0">
<pre>array([[80, 77, 82, 82, 73, 82, 58, 78,  6, 35],
       [82, 57, 82, 79, 76, 72, 60, 72, 79, 80],
       [79, 78, 75, 81, 76, 79, 62, 76, 77, 69],
       [80, 65, 77, 66, 69, 77, 55, 67, 77, 40],
       [82, 82, 82, 79, 82, 78, 54, 76, 71, 41],
       [70, 69, 67, 77, 70, 77, 57, 74, 79, 44],
       [78, 64, 80, 78, 45, 80, 60, 70, 62, 82],
       [35, 35, 80, 74, 82, 78, 66, 81, 81, 27],
       [40, 40, 40, 81, 78, 81, 39,  0, 10, 51],
       [75, 51, 51, 79, 77, 76, 49, 69, 54, 62]])</pre>
</div>
</div>
</div>
</div>
</div><div class="jp-Cell jp-CodeCell jp-Notebook-cell" id="cell-id=686dfd5f-5ee9-4692-a6ac-186d8b48f851">
<div class="jp-Cell-inputWrapper" tabindex="0">
<div class="jp-Collapser jp-InputCollapser jp-Cell-inputCollapser">
</div>
<div class="jp-InputArea jp-Cell-inputArea">
<div class="jp-InputPrompt jp-InputArea-prompt">In [48]:</div>
<div class="jp-CodeMirrorEditor jp-Editor jp-InputArea-editor" data-type="inline">
<div class="cm-editor cm-s-jupyter">
<div class="highlight hl-ipython3"><pre><span></span><span class="n">Pdict</span>
</pre></div>
</div>
</div>
</div>
</div>
<div class="jp-Cell-outputWrapper">
<div class="jp-Collapser jp-OutputCollapser jp-Cell-outputCollapser">
</div>
<div class="jp-OutputArea jp-Cell-outputArea">
<div class="jp-OutputArea-child jp-OutputArea-executeResult">
<div class="jp-OutputPrompt jp-OutputArea-prompt">Out[48]:</div>
<div class="jp-RenderedText jp-OutputArea-output jp-OutputArea-executeResult" data-mime-type="text/plain" tabindex="0">
<pre>{'Sachin': 0,
 'Rahul': 1,
 'Smith': 2,
 'Sami': 3,
 'Pollard': 4,
 'Morris': 5,
 'Samson': 6,
 'Dhoni': 7,
 'Kohli': 8,
 'Sky': 9}</pre>
</div>
</div>
</div>
</div>
</div><div class="jp-Cell jp-CodeCell jp-Notebook-cell" id="cell-id=45fd3b6a-42a6-4f20-852d-4b145742a101">
<div class="jp-Cell-inputWrapper" tabindex="0">
<div class="jp-Collapser jp-InputCollapser jp-Cell-inputCollapser">
</div>
<div class="jp-InputArea jp-Cell-inputArea">
<div class="jp-InputPrompt jp-InputArea-prompt">In [50]:</div>
<div class="jp-CodeMirrorEditor jp-Editor jp-InputArea-editor" data-type="inline">
<div class="cm-editor cm-s-jupyter">
<div class="highlight hl-ipython3"><pre><span></span><span class="n">Pdict</span><span class="p">[</span><span class="s1">'Sachin'</span><span class="p">]</span>
</pre></div>
</div>
</div>
</div>
</div>
<div class="jp-Cell-outputWrapper">
<div class="jp-Collapser jp-OutputCollapser jp-Cell-outputCollapser">
</div>
<div class="jp-OutputArea jp-Cell-outputArea">
<div class="jp-OutputArea-child jp-OutputArea-executeResult">
<div class="jp-OutputPrompt jp-OutputArea-prompt">Out[50]:</div>
<div class="jp-RenderedText jp-OutputArea-output jp-OutputArea-executeResult" data-mime-type="text/plain" tabindex="0">
<pre>0</pre>
</div>
</div>
</div>
</div>
</div><div class="jp-Cell jp-CodeCell jp-Notebook-cell" id="cell-id=c311678c-aa17-48c1-9646-5472f999d20a">
<div class="jp-Cell-inputWrapper" tabindex="0">
<div class="jp-Collapser jp-InputCollapser jp-Cell-inputCollapser">
</div>
<div class="jp-InputArea jp-Cell-inputArea">
<div class="jp-InputPrompt jp-InputArea-prompt">In [52]:</div>
<div class="jp-CodeMirrorEditor jp-Editor jp-InputArea-editor" data-type="inline">
<div class="cm-editor cm-s-jupyter">
<div class="highlight hl-ipython3"><pre><span></span><span class="n">Games</span><span class="p">[</span><span class="mi">0</span><span class="p">]</span>
</pre></div>
</div>
</div>
</div>
</div>
<div class="jp-Cell-outputWrapper">
<div class="jp-Collapser jp-OutputCollapser jp-Cell-outputCollapser">
</div>
<div class="jp-OutputArea jp-Cell-outputArea">
<div class="jp-OutputArea-child jp-OutputArea-executeResult">
<div class="jp-OutputPrompt jp-OutputArea-prompt">Out[52]:</div>
<div class="jp-RenderedText jp-OutputArea-output jp-OutputArea-executeResult" data-mime-type="text/plain" tabindex="0">
<pre>array([80, 77, 82, 82, 73, 82, 58, 78,  6, 35])</pre>
</div>
</div>
</div>
</div>
</div><div class="jp-Cell jp-CodeCell jp-Notebook-cell" id="cell-id=fc84adb9-c531-4fc9-808f-8dd4709051d7">
<div class="jp-Cell-inputWrapper" tabindex="0">
<div class="jp-Collapser jp-InputCollapser jp-Cell-inputCollapser">
</div>
<div class="jp-InputArea jp-Cell-inputArea">
<div class="jp-InputPrompt jp-InputArea-prompt">In [56]:</div>
<div class="jp-CodeMirrorEditor jp-Editor jp-InputArea-editor" data-type="inline">
<div class="cm-editor cm-s-jupyter">
<div class="highlight hl-ipython3"><pre><span></span><span class="n">Games</span><span class="p">[</span><span class="n">Pdict</span><span class="p">[</span><span class="s1">'Sachin'</span><span class="p">]]</span>
</pre></div>
</div>
</div>
</div>
</div>
<div class="jp-Cell-outputWrapper">
<div class="jp-Collapser jp-OutputCollapser jp-Cell-outputCollapser">
</div>
<div class="jp-OutputArea jp-Cell-outputArea">
<div class="jp-OutputArea-child jp-OutputArea-executeResult">
<div class="jp-OutputPrompt jp-OutputArea-prompt">Out[56]:</div>
<div class="jp-RenderedText jp-OutputArea-output jp-OutputArea-executeResult" data-mime-type="text/plain" tabindex="0">
<pre>array([80, 77, 82, 82, 73, 82, 58, 78,  6, 35])</pre>
</div>
</div>
</div>
</div>
</div><div class="jp-Cell jp-CodeCell jp-Notebook-cell" id="cell-id=6862d13e-38c2-4d1f-953c-6c09e9a17dc8">
<div class="jp-Cell-inputWrapper" tabindex="0">
<div class="jp-Collapser jp-InputCollapser jp-Cell-inputCollapser">
</div>
<div class="jp-InputArea jp-Cell-inputArea">
<div class="jp-InputPrompt jp-InputArea-prompt">In [58]:</div>
<div class="jp-CodeMirrorEditor jp-Editor jp-InputArea-editor" data-type="inline">
<div class="cm-editor cm-s-jupyter">
<div class="highlight hl-ipython3"><pre><span></span><span class="n">Games</span>
</pre></div>
</div>
</div>
</div>
</div>
<div class="jp-Cell-outputWrapper">
<div class="jp-Collapser jp-OutputCollapser jp-Cell-outputCollapser">
</div>
<div class="jp-OutputArea jp-Cell-outputArea">
<div class="jp-OutputArea-child jp-OutputArea-executeResult">
<div class="jp-OutputPrompt jp-OutputArea-prompt">Out[58]:</div>
<div class="jp-RenderedText jp-OutputArea-output jp-OutputArea-executeResult" data-mime-type="text/plain" tabindex="0">
<pre>array([[80, 77, 82, 82, 73, 82, 58, 78,  6, 35],
       [82, 57, 82, 79, 76, 72, 60, 72, 79, 80],
       [79, 78, 75, 81, 76, 79, 62, 76, 77, 69],
       [80, 65, 77, 66, 69, 77, 55, 67, 77, 40],
       [82, 82, 82, 79, 82, 78, 54, 76, 71, 41],
       [70, 69, 67, 77, 70, 77, 57, 74, 79, 44],
       [78, 64, 80, 78, 45, 80, 60, 70, 62, 82],
       [35, 35, 80, 74, 82, 78, 66, 81, 81, 27],
       [40, 40, 40, 81, 78, 81, 39,  0, 10, 51],
       [75, 51, 51, 79, 77, 76, 49, 69, 54, 62]])</pre>
</div>
</div>
</div>
</div>
</div><div class="jp-Cell jp-CodeCell jp-Notebook-cell" id="cell-id=922148c7-2c07-44f4-90b2-de4958f73597">
<div class="jp-Cell-inputWrapper" tabindex="0">
<div class="jp-Collapser jp-InputCollapser jp-Cell-inputCollapser">
</div>
<div class="jp-InputArea jp-Cell-inputArea">
<div class="jp-InputPrompt jp-InputArea-prompt">In [60]:</div>
<div class="jp-CodeMirrorEditor jp-Editor jp-InputArea-editor" data-type="inline">
<div class="cm-editor cm-s-jupyter">
<div class="highlight hl-ipython3"><pre><span></span><span class="n">Pdict</span><span class="p">[</span><span class="s1">'Rahul'</span><span class="p">]</span>
</pre></div>
</div>
</div>
</div>
</div>
<div class="jp-Cell-outputWrapper">
<div class="jp-Collapser jp-OutputCollapser jp-Cell-outputCollapser">
</div>
<div class="jp-OutputArea jp-Cell-outputArea">
<div class="jp-OutputArea-child jp-OutputArea-executeResult">
<div class="jp-OutputPrompt jp-OutputArea-prompt">Out[60]:</div>
<div class="jp-RenderedText jp-OutputArea-output jp-OutputArea-executeResult" data-mime-type="text/plain" tabindex="0">
<pre>1</pre>
</div>
</div>
</div>
</div>
</div><div class="jp-Cell jp-CodeCell jp-Notebook-cell" id="cell-id=345a17a9-cb8c-473e-a483-950911497456">
<div class="jp-Cell-inputWrapper" tabindex="0">
<div class="jp-Collapser jp-InputCollapser jp-Cell-inputCollapser">
</div>
<div class="jp-InputArea jp-Cell-inputArea">
<div class="jp-InputPrompt jp-InputArea-prompt">In [62]:</div>
<div class="jp-CodeMirrorEditor jp-Editor jp-InputArea-editor" data-type="inline">
<div class="cm-editor cm-s-jupyter">
<div class="highlight hl-ipython3"><pre><span></span><span class="n">Points</span>
</pre></div>
</div>
</div>
</div>
</div>
<div class="jp-Cell-outputWrapper">
<div class="jp-Collapser jp-OutputCollapser jp-Cell-outputCollapser">
</div>
<div class="jp-OutputArea jp-Cell-outputArea">
<div class="jp-OutputArea-child jp-OutputArea-executeResult">
<div class="jp-OutputPrompt jp-OutputArea-prompt">Out[62]:</div>
<div class="jp-RenderedText jp-OutputArea-output jp-OutputArea-executeResult" data-mime-type="text/plain" tabindex="0">
<pre>array([[2832, 2430, 2323, 2201, 1970, 2078, 1616, 2133,   83,  782],
       [1653, 1426, 1779, 1688, 1619, 1312, 1129, 1170, 1245, 1154],
       [2478, 2132, 2250, 2304, 2258, 2111, 1683, 2036, 2089, 1743],
       [2122, 1881, 1978, 1504, 1943, 1970, 1245, 1920, 2112,  966],
       [1292, 1443, 1695, 1624, 1503, 1784, 1113, 1296, 1297,  646],
       [1572, 1561, 1496, 1746, 1678, 1438, 1025, 1232, 1281,  928],
       [1258, 1104, 1684, 1781,  841, 1268, 1189, 1186, 1185, 1564],
       [ 903,  903, 1624, 1871, 2472, 2161, 1850, 2280, 2593,  686],
       [ 597,  597,  597, 1361, 1619, 2026,  852,    0,  159,  904],
       [2040, 1397, 1254, 2386, 2045, 1941, 1082, 1463, 1028, 1331]])</pre>
</div>
</div>
</div>
</div>
</div><div class="jp-Cell jp-CodeCell jp-Notebook-cell" id="cell-id=e93bf2ae-daab-40d5-b4c1-64f72be806fb">
<div class="jp-Cell-inputWrapper" tabindex="0">
<div class="jp-Collapser jp-InputCollapser jp-Cell-inputCollapser">
</div>
<div class="jp-InputArea jp-Cell-inputArea">
<div class="jp-InputPrompt jp-InputArea-prompt">In [64]:</div>
<div class="jp-CodeMirrorEditor jp-Editor jp-InputArea-editor" data-type="inline">
<div class="cm-editor cm-s-jupyter">
<div class="highlight hl-ipython3"><pre><span></span><span class="n">Salary</span>
</pre></div>
</div>
</div>
</div>
</div>
<div class="jp-Cell-outputWrapper">
<div class="jp-Collapser jp-OutputCollapser jp-Cell-outputCollapser">
</div>
<div class="jp-OutputArea jp-Cell-outputArea">
<div class="jp-OutputArea-child jp-OutputArea-executeResult">
<div class="jp-OutputPrompt jp-OutputArea-prompt">Out[64]:</div>
<div class="jp-RenderedText jp-OutputArea-output jp-OutputArea-executeResult" data-mime-type="text/plain" tabindex="0">
<pre>array([[15946875, 17718750, 19490625, 21262500, 23034375, 24806250,
        25244493, 27849149, 30453805, 23500000],
       [12000000, 12744189, 13488377, 14232567, 14976754, 16324500,
        18038573, 19752645, 21466718, 23180790],
       [ 4621800,  5828090, 13041250, 14410581, 15779912, 14500000,
        16022500, 17545000, 19067500, 20644400],
       [ 3713640,  4694041, 13041250, 14410581, 15779912, 17149243,
        18518574, 19450000, 22407474, 22458000],
       [ 4493160,  4806720,  6061274, 13758000, 15202590, 16647180,
        18091770, 19536360, 20513178, 21436271],
       [ 3348000,  4235220, 12455000, 14410581, 15779912, 14500000,
        16022500, 17545000, 19067500, 20644400],
       [ 3144240,  3380160,  3615960,  4574189, 13520500, 14940153,
        16359805, 17779458, 18668431, 20068563],
       [       0,        0,  4171200,  4484040,  4796880,  6053663,
        15506632, 16669630, 17832627, 18995624],
       [       0,        0,        0,  4822800,  5184480,  5546160,
         6993708, 16402500, 17632688, 18862875],
       [ 3031920,  3841443, 13041250, 14410581, 15779912, 14200000,
        15691000, 17182000, 18673000, 15000000]])</pre>
</div>
</div>
</div>
</div>
</div><div class="jp-Cell jp-CodeCell jp-Notebook-cell" id="cell-id=47dd9caa-46b8-4771-bfa4-f18d012a76a6">
<div class="jp-Cell-inputWrapper" tabindex="0">
<div class="jp-Collapser jp-InputCollapser jp-Cell-inputCollapser">
</div>
<div class="jp-InputArea jp-Cell-inputArea">
<div class="jp-InputPrompt jp-InputArea-prompt">In [68]:</div>
<div class="jp-CodeMirrorEditor jp-Editor jp-InputArea-editor" data-type="inline">
<div class="cm-editor cm-s-jupyter">
<div class="highlight hl-ipython3"><pre><span></span><span class="n">Salary</span><span class="o">/</span><span class="n">Games</span>
</pre></div>
</div>
</div>
</div>
</div>
<div class="jp-Cell-outputWrapper">
<div class="jp-Collapser jp-OutputCollapser jp-Cell-outputCollapser">
</div>
<div class="jp-OutputArea jp-Cell-outputArea">
<div class="jp-OutputArea-child">
<div class="jp-OutputPrompt jp-OutputArea-prompt"></div>
<div class="jp-RenderedText jp-OutputArea-output" data-mime-type="application/vnd.jupyter.stderr" tabindex="0">
<pre>C:\Users\anand\AppData\Local\Temp\ipykernel_10920\3709746658.py:1: RuntimeWarning: divide by zero encountered in divide
  Salary/Games
</pre>
</div>
</div>
<div class="jp-OutputArea-child jp-OutputArea-executeResult">
<div class="jp-OutputPrompt jp-OutputArea-prompt">Out[68]:</div>
<div class="jp-RenderedText jp-OutputArea-output jp-OutputArea-executeResult" data-mime-type="text/plain" tabindex="0">
<pre>array([[ 199335.9375    ,  230113.63636364,  237690.54878049,
         259298.7804878 ,  315539.38356164,  302515.24390244,
         435249.87931034,  357040.37179487, 5075634.16666667,
         671428.57142857],
       [ 146341.46341463,  223582.26315789,  164492.40243902,
         180159.07594937,  197062.55263158,  226729.16666667,
         300642.88333333,  274342.29166667,  271730.60759494,
         289759.875     ],
       [  58503.79746835,   74719.1025641 ,  173883.33333333,
         177908.40740741,  207630.42105263,  183544.30379747,
         258427.41935484,  230855.26315789,  247629.87012987,
         299194.20289855],
       [  46420.5       ,   72216.01538462,  169366.88311688,
         218342.13636364,  228694.37681159,  222717.44155844,
         336701.34545455,  290298.50746269,  291006.15584416,
         561450.        ],
       [  54794.63414634,   58618.53658537,   73917.97560976,
         174151.89873418,  185397.43902439,  213425.38461538,
         335032.77777778,  257057.36842105,  288918.        ,
         522835.87804878],
       [  47828.57142857,   61380.        ,  185895.52238806,
         187150.4025974 ,  225427.31428571,  188311.68831169,
         281096.49122807,  237094.59459459,  241360.75949367,
         469190.90909091],
       [  40310.76923077,   52815.        ,   45199.5       ,
          58643.44871795,  300455.55555556,  186751.9125    ,
         272663.41666667,  253992.25714286,  301103.72580645,
         244738.57317073],
       [      0.        ,       0.        ,   52140.        ,
          60595.13513514,   58498.53658537,   77611.06410256,
         234948.96969697,  205797.90123457,  220155.88888889,
         703541.62962963],
       [      0.        ,       0.        ,       0.        ,
          59540.74074074,   66467.69230769,   68471.11111111,
         179325.84615385,              inf, 1763268.8       ,
         369860.29411765],
       [  40425.6       ,   75322.41176471,  255710.78431373,
         182412.41772152,  204933.92207792,  186842.10526316,
         320224.48979592,  249014.49275362,  345796.2962963 ,
         241935.48387097]])</pre>
</div>
</div>
</div>
</div>
</div><div class="jp-Cell jp-CodeCell jp-Notebook-cell" id="cell-id=ae28e7cc-2246-4f33-9f67-221a2480a2bf">
<div class="jp-Cell-inputWrapper" tabindex="0">
<div class="jp-Collapser jp-InputCollapser jp-Cell-inputCollapser">
</div>
<div class="jp-InputArea jp-Cell-inputArea">
<div class="jp-InputPrompt jp-InputArea-prompt">In [70]:</div>
<div class="jp-CodeMirrorEditor jp-Editor jp-InputArea-editor" data-type="inline">
<div class="cm-editor cm-s-jupyter">
<div class="highlight hl-ipython3"><pre><span></span><span class="n">np</span><span class="o">.</span><span class="n">round</span><span class="p">(</span><span class="n">Salary</span><span class="o">/</span><span class="n">Games</span><span class="p">)</span>
</pre></div>
</div>
</div>
</div>
</div>
<div class="jp-Cell-outputWrapper">
<div class="jp-Collapser jp-OutputCollapser jp-Cell-outputCollapser">
</div>
<div class="jp-OutputArea jp-Cell-outputArea">
<div class="jp-OutputArea-child">
<div class="jp-OutputPrompt jp-OutputArea-prompt"></div>
<div class="jp-RenderedText jp-OutputArea-output" data-mime-type="application/vnd.jupyter.stderr" tabindex="0">
<pre>C:\Users\anand\AppData\Local\Temp\ipykernel_10920\3232172828.py:1: RuntimeWarning: divide by zero encountered in divide
  np.round(Salary/Games)
</pre>
</div>
</div>
<div class="jp-OutputArea-child jp-OutputArea-executeResult">
<div class="jp-OutputPrompt jp-OutputArea-prompt">Out[70]:</div>
<div class="jp-RenderedText jp-OutputArea-output jp-OutputArea-executeResult" data-mime-type="text/plain" tabindex="0">
<pre>array([[ 199336.,  230114.,  237691.,  259299.,  315539.,  302515.,
         435250.,  357040., 5075634.,  671429.],
       [ 146341.,  223582.,  164492.,  180159.,  197063.,  226729.,
         300643.,  274342.,  271731.,  289760.],
       [  58504.,   74719.,  173883.,  177908.,  207630.,  183544.,
         258427.,  230855.,  247630.,  299194.],
       [  46420.,   72216.,  169367.,  218342.,  228694.,  222717.,
         336701.,  290299.,  291006.,  561450.],
       [  54795.,   58619.,   73918.,  174152.,  185397.,  213425.,
         335033.,  257057.,  288918.,  522836.],
       [  47829.,   61380.,  185896.,  187150.,  225427.,  188312.,
         281096.,  237095.,  241361.,  469191.],
       [  40311.,   52815.,   45200.,   58643.,  300456.,  186752.,
         272663.,  253992.,  301104.,  244739.],
       [      0.,       0.,   52140.,   60595.,   58499.,   77611.,
         234949.,  205798.,  220156.,  703542.],
       [      0.,       0.,       0.,   59541.,   66468.,   68471.,
         179326.,      inf, 1763269.,  369860.],
       [  40426.,   75322.,  255711.,  182412.,  204934.,  186842.,
         320224.,  249014.,  345796.,  241935.]])</pre>
</div>
</div>
</div>
</div>
</div><div class="jp-Cell jp-CodeCell jp-Notebook-cell jp-mod-noOutputs" id="cell-id=acdbf378-e44d-4d68-bd47-0f7aee800466">
<div class="jp-Cell-inputWrapper" tabindex="0">
<div class="jp-Collapser jp-InputCollapser jp-Cell-inputCollapser">
</div>
<div class="jp-InputArea jp-Cell-inputArea">
<div class="jp-InputPrompt jp-InputArea-prompt">In [80]:</div>
<div class="jp-CodeMirrorEditor jp-Editor jp-InputArea-editor" data-type="inline">
<div class="cm-editor cm-s-jupyter">
<div class="highlight hl-ipython3"><pre><span></span><span class="kn">import</span> <span class="nn">warnings</span>
<span class="n">warnings</span><span class="o">.</span><span class="n">filterwarnings</span><span class="p">(</span><span class="s1">'ignore'</span><span class="p">)</span>
</pre></div>
</div>
</div>
</div>
</div>
</div><div class="jp-Cell jp-CodeCell jp-Notebook-cell jp-mod-noOutputs" id="cell-id=5c28367c-b69f-4e90-94bd-d3f6bf2909ad">
<div class="jp-Cell-inputWrapper" tabindex="0">
<div class="jp-Collapser jp-InputCollapser jp-Cell-inputCollapser">
</div>
<div class="jp-InputArea jp-Cell-inputArea">
<div class="jp-InputPrompt jp-InputArea-prompt">In [82]:</div>
<div class="jp-CodeMirrorEditor jp-Editor jp-InputArea-editor" data-type="inline">
<div class="cm-editor cm-s-jupyter">
<div class="highlight hl-ipython3"><pre><span></span><span class="kn">import</span> <span class="nn">matplotlib.pyplot</span> <span class="k">as</span> <span class="nn">plt</span>
</pre></div>
</div>
</div>
</div>
</div>
</div><div class="jp-Cell jp-CodeCell jp-Notebook-cell" id="cell-id=49e85d95-9726-4476-9d99-bc3ba0eebb94">
<div class="jp-Cell-inputWrapper" tabindex="0">
<div class="jp-Collapser jp-InputCollapser jp-Cell-inputCollapser">
</div>
<div class="jp-InputArea jp-Cell-inputArea">
<div class="jp-InputPrompt jp-InputArea-prompt">In [84]:</div>
<div class="jp-CodeMirrorEditor jp-Editor jp-InputArea-editor" data-type="inline">
<div class="cm-editor cm-s-jupyter">
<div class="highlight hl-ipython3"><pre><span></span><span class="o">%</span><span class="k">matplotlib</span> in line
</pre></div>
</div>
</div>
</div>
</div>
<div class="jp-Cell-outputWrapper">
<div class="jp-Collapser jp-OutputCollapser jp-Cell-outputCollapser">
</div>
<div class="jp-OutputArea jp-Cell-outputArea">
<div class="jp-OutputArea-child">
<div class="jp-OutputPrompt jp-OutputArea-prompt"></div>
<div class="jp-RenderedText jp-OutputArea-output" data-mime-type="application/vnd.jupyter.stderr" tabindex="0">
<pre>UsageError: unrecognized arguments: line
</pre>
</div>
</div>
</div>
</div>
</div><div class="jp-Cell jp-CodeCell jp-Notebook-cell" id="cell-id=20941666-0430-43df-ad8f-5f7ebe84ceea">
<div class="jp-Cell-inputWrapper" tabindex="0">
<div class="jp-Collapser jp-InputCollapser jp-Cell-inputCollapser">
</div>
<div class="jp-InputArea jp-Cell-inputArea">
<div class="jp-InputPrompt jp-InputArea-prompt">In [86]:</div>
<div class="jp-CodeMirrorEditor jp-Editor jp-InputArea-editor" data-type="inline">
<div class="cm-editor cm-s-jupyter">
<div class="highlight hl-ipython3"><pre><span></span> <span class="n">Salary</span>
</pre></div>
</div>
</div>
</div>
</div>
<div class="jp-Cell-outputWrapper">
<div class="jp-Collapser jp-OutputCollapser jp-Cell-outputCollapser">
</div>
<div class="jp-OutputArea jp-Cell-outputArea">
<div class="jp-OutputArea-child jp-OutputArea-executeResult">
<div class="jp-OutputPrompt jp-OutputArea-prompt">Out[86]:</div>
<div class="jp-RenderedText jp-OutputArea-output jp-OutputArea-executeResult" data-mime-type="text/plain" tabindex="0">
<pre>array([[15946875, 17718750, 19490625, 21262500, 23034375, 24806250,
        25244493, 27849149, 30453805, 23500000],
       [12000000, 12744189, 13488377, 14232567, 14976754, 16324500,
        18038573, 19752645, 21466718, 23180790],
       [ 4621800,  5828090, 13041250, 14410581, 15779912, 14500000,
        16022500, 17545000, 19067500, 20644400],
       [ 3713640,  4694041, 13041250, 14410581, 15779912, 17149243,
        18518574, 19450000, 22407474, 22458000],
       [ 4493160,  4806720,  6061274, 13758000, 15202590, 16647180,
        18091770, 19536360, 20513178, 21436271],
       [ 3348000,  4235220, 12455000, 14410581, 15779912, 14500000,
        16022500, 17545000, 19067500, 20644400],
       [ 3144240,  3380160,  3615960,  4574189, 13520500, 14940153,
        16359805, 17779458, 18668431, 20068563],
       [       0,        0,  4171200,  4484040,  4796880,  6053663,
        15506632, 16669630, 17832627, 18995624],
       [       0,        0,        0,  4822800,  5184480,  5546160,
         6993708, 16402500, 17632688, 18862875],
       [ 3031920,  3841443, 13041250, 14410581, 15779912, 14200000,
        15691000, 17182000, 18673000, 15000000]])</pre>
</div>
</div>
</div>
</div>
</div><div class="jp-Cell jp-CodeCell jp-Notebook-cell" id="cell-id=3c1aa81e-21ca-49e2-ad05-8323139a2207">
<div class="jp-Cell-inputWrapper" tabindex="0">
<div class="jp-Collapser jp-InputCollapser jp-Cell-inputCollapser">
</div>
<div class="jp-InputArea jp-Cell-inputArea">
<div class="jp-InputPrompt jp-InputArea-prompt">In [88]:</div>
<div class="jp-CodeMirrorEditor jp-Editor jp-InputArea-editor" data-type="inline">
<div class="cm-editor cm-s-jupyter">
<div class="highlight hl-ipython3"><pre><span></span><span class="n">Salary</span><span class="p">[</span><span class="mi">0</span><span class="p">]</span>
</pre></div>
</div>
</div>
</div>
</div>
<div class="jp-Cell-outputWrapper">
<div class="jp-Collapser jp-OutputCollapser jp-Cell-outputCollapser">
</div>
<div class="jp-OutputArea jp-Cell-outputArea">
<div class="jp-OutputArea-child jp-OutputArea-executeResult">
<div class="jp-OutputPrompt jp-OutputArea-prompt">Out[88]:</div>
<div class="jp-RenderedText jp-OutputArea-output jp-OutputArea-executeResult" data-mime-type="text/plain" tabindex="0">
<pre>array([15946875, 17718750, 19490625, 21262500, 23034375, 24806250,
       25244493, 27849149, 30453805, 23500000])</pre>
</div>
</div>
</div>
</div>
</div><div class="jp-Cell jp-CodeCell jp-Notebook-cell" id="cell-id=8e7d86f3-ca05-46a3-ba0e-4203a081c472">
<div class="jp-Cell-inputWrapper" tabindex="0">
<div class="jp-Collapser jp-InputCollapser jp-Cell-inputCollapser">
</div>
<div class="jp-InputArea jp-Cell-inputArea">
<div class="jp-InputPrompt jp-InputArea-prompt">In [96]:</div>
<div class="jp-CodeMirrorEditor jp-Editor jp-InputArea-editor" data-type="inline">
<div class="cm-editor cm-s-jupyter">
<div class="highlight hl-ipython3"><pre><span></span><span class="n">plt</span><span class="o">.</span><span class="n">plot</span><span class="p">(</span><span class="n">Salary</span><span class="p">[</span><span class="mi">0</span><span class="p">],</span><span class="n">color</span><span class="o">=</span><span class="s1">'blue'</span><span class="p">)</span>
</pre></div>
</div>
</div>
</div>
</div>
<div class="jp-Cell-outputWrapper">
<div class="jp-Collapser jp-OutputCollapser jp-Cell-outputCollapser">
</div>
<div class="jp-OutputArea jp-Cell-outputArea">
<div class="jp-OutputArea-child jp-OutputArea-executeResult">
<div class="jp-OutputPrompt jp-OutputArea-prompt">Out[96]:</div>
<div class="jp-RenderedText jp-OutputArea-output jp-OutputArea-executeResult" data-mime-type="text/plain" tabindex="0">
<pre>[&lt;matplotlib.lines.Line2D at 0x159c3d6dac0&gt;]</pre>
</div>
</div>
<div class="jp-OutputArea-child">
<div class="jp-OutputPrompt jp-OutputArea-prompt"></div>
<div class="jp-RenderedImage jp-OutputArea-output" tabindex="0">
<img alt="No description has been provided for this image" class="" src="data:image/png;base64,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"/>
</div>
</div>
</div>
</div>
</div><div class="jp-Cell jp-CodeCell jp-Notebook-cell" id="cell-id=ac66c449-0b2d-4aae-a0eb-709db9562cf5">
<div class="jp-Cell-inputWrapper" tabindex="0">
<div class="jp-Collapser jp-InputCollapser jp-Cell-inputCollapser">
</div>
<div class="jp-InputArea jp-Cell-inputArea">
<div class="jp-InputPrompt jp-InputArea-prompt">In [98]:</div>
<div class="jp-CodeMirrorEditor jp-Editor jp-InputArea-editor" data-type="inline">
<div class="cm-editor cm-s-jupyter">
<div class="highlight hl-ipython3"><pre><span></span><span class="n">plt</span><span class="o">.</span><span class="n">plot</span><span class="p">(</span><span class="n">Salary</span><span class="p">[</span><span class="mi">0</span><span class="p">],</span><span class="n">color</span><span class="o">=</span><span class="s1">'k'</span><span class="p">)</span>
</pre></div>
</div>
</div>
</div>
</div>
<div class="jp-Cell-outputWrapper">
<div class="jp-Collapser jp-OutputCollapser jp-Cell-outputCollapser">
</div>
<div class="jp-OutputArea jp-Cell-outputArea">
<div class="jp-OutputArea-child jp-OutputArea-executeResult">
<div class="jp-OutputPrompt jp-OutputArea-prompt">Out[98]:</div>
<div class="jp-RenderedText jp-OutputArea-output jp-OutputArea-executeResult" data-mime-type="text/plain" tabindex="0">
<pre>[&lt;matplotlib.lines.Line2D at 0x159c3e5e2d0&gt;]</pre>
</div>
</div>
<div class="jp-OutputArea-child">
<div class="jp-OutputPrompt jp-OutputArea-prompt"></div>
<div class="jp-RenderedImage jp-OutputArea-output" tabindex="0">
<img alt="No description has been provided for this image" class="" src="data:image/png;base64,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"/>
</div>
</div>
</div>
</div>
</div><div class="jp-Cell jp-CodeCell jp-Notebook-cell" id="cell-id=20a005c7-a2e2-4e31-a6d4-c1e52156fdf2">
<div class="jp-Cell-inputWrapper" tabindex="0">
<div class="jp-Collapser jp-InputCollapser jp-Cell-inputCollapser">
</div>
<div class="jp-InputArea jp-Cell-inputArea">
<div class="jp-InputPrompt jp-InputArea-prompt">In [102]:</div>
<div class="jp-CodeMirrorEditor jp-Editor jp-InputArea-editor" data-type="inline">
<div class="cm-editor cm-s-jupyter">
<div class="highlight hl-ipython3"><pre><span></span><span class="n">plt</span><span class="o">.</span><span class="n">plot</span><span class="p">(</span><span class="n">Salary</span><span class="p">[</span><span class="mi">0</span><span class="p">],</span><span class="n">ls</span><span class="o">=</span><span class="s1">':'</span><span class="p">,</span><span class="n">color</span><span class="o">=</span><span class="s1">'blue'</span><span class="p">)</span>
</pre></div>
</div>
</div>
</div>
</div>
<div class="jp-Cell-outputWrapper">
<div class="jp-Collapser jp-OutputCollapser jp-Cell-outputCollapser">
</div>
<div class="jp-OutputArea jp-Cell-outputArea">
<div class="jp-OutputArea-child jp-OutputArea-executeResult">
<div class="jp-OutputPrompt jp-OutputArea-prompt">Out[102]:</div>
<div class="jp-RenderedText jp-OutputArea-output jp-OutputArea-executeResult" data-mime-type="text/plain" tabindex="0">
<pre>[&lt;matplotlib.lines.Line2D at 0x159c98ab110&gt;]</pre>
</div>
</div>
<div class="jp-OutputArea-child">
<div class="jp-OutputPrompt jp-OutputArea-prompt"></div>
<div class="jp-RenderedImage jp-OutputArea-output" tabindex="0">
<img alt="No description has been provided for this image" class="" src="data:image/png;base64,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"/>
</div>
</div>
</div>
</div>
</div><div class="jp-Cell jp-CodeCell jp-Notebook-cell" id="cell-id=40368ebb-ba7a-4dfa-a766-65535520c511">
<div class="jp-Cell-inputWrapper" tabindex="0">
<div class="jp-Collapser jp-InputCollapser jp-Cell-inputCollapser">
</div>
<div class="jp-InputArea jp-Cell-inputArea">
<div class="jp-InputPrompt jp-InputArea-prompt">In [106]:</div>
<div class="jp-CodeMirrorEditor jp-Editor jp-InputArea-editor" data-type="inline">
<div class="cm-editor cm-s-jupyter">
<div class="highlight hl-ipython3"><pre><span></span><span class="n">plt</span><span class="o">.</span><span class="n">plot</span><span class="p">(</span><span class="n">Salary</span><span class="p">[</span><span class="mi">0</span><span class="p">],</span><span class="n">ls</span><span class="o">=</span><span class="s1">'--'</span><span class="p">,</span><span class="n">color</span><span class="o">=</span><span class="s1">'green'</span><span class="p">)</span>
</pre></div>
</div>
</div>
</div>
</div>
<div class="jp-Cell-outputWrapper">
<div class="jp-Collapser jp-OutputCollapser jp-Cell-outputCollapser">
</div>
<div class="jp-OutputArea jp-Cell-outputArea">
<div class="jp-OutputArea-child jp-OutputArea-executeResult">
<div class="jp-OutputPrompt jp-OutputArea-prompt">Out[106]:</div>
<div class="jp-RenderedText jp-OutputArea-output jp-OutputArea-executeResult" data-mime-type="text/plain" tabindex="0">
<pre>[&lt;matplotlib.lines.Line2D at 0x159c9ae26c0&gt;]</pre>
</div>
</div>
<div class="jp-OutputArea-child">
<div class="jp-OutputPrompt jp-OutputArea-prompt"></div>
<div class="jp-RenderedImage jp-OutputArea-output" tabindex="0">
<img alt="No description has been provided for this image" class="" src="data:image/png;base64,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"/>
</div>
</div>
</div>
</div>
</div><div class="jp-Cell jp-CodeCell jp-Notebook-cell" id="cell-id=f9b3be32-f451-4e55-b99f-27f5b26f21e3">
<div class="jp-Cell-inputWrapper" tabindex="0">
<div class="jp-Collapser jp-InputCollapser jp-Cell-inputCollapser">
</div>
<div class="jp-InputArea jp-Cell-inputArea">
<div class="jp-InputPrompt jp-InputArea-prompt">In [108]:</div>
<div class="jp-CodeMirrorEditor jp-Editor jp-InputArea-editor" data-type="inline">
<div class="cm-editor cm-s-jupyter">
<div class="highlight hl-ipython3"><pre><span></span><span class="n">plt</span><span class="o">.</span><span class="n">plot</span><span class="p">(</span><span class="n">Salary</span><span class="p">[</span><span class="mi">0</span><span class="p">],</span><span class="n">ls</span><span class="o">=</span><span class="s1">'-.'</span><span class="p">,</span><span class="n">color</span><span class="o">=</span><span class="s1">'green'</span><span class="p">)</span>
</pre></div>
</div>
</div>
</div>
</div>
<div class="jp-Cell-outputWrapper">
<div class="jp-Collapser jp-OutputCollapser jp-Cell-outputCollapser">
</div>
<div class="jp-OutputArea jp-Cell-outputArea">
<div class="jp-OutputArea-child jp-OutputArea-executeResult">
<div class="jp-OutputPrompt jp-OutputArea-prompt">Out[108]:</div>
<div class="jp-RenderedText jp-OutputArea-output jp-OutputArea-executeResult" data-mime-type="text/plain" tabindex="0">
<pre>[&lt;matplotlib.lines.Line2D at 0x159c3bbefc0&gt;]</pre>
</div>
</div>
<div class="jp-OutputArea-child">
<div class="jp-OutputPrompt jp-OutputArea-prompt"></div>
<div class="jp-RenderedImage jp-OutputArea-output" tabindex="0">
<img alt="No description has been provided for this image" class="" src="data:image/png;base64,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"/>
</div>
</div>
</div>
</div>
</div><div class="jp-Cell jp-CodeCell jp-Notebook-cell" id="cell-id=3a9f8a22-d374-4adf-a8ca-7bbb05d016fc">
<div class="jp-Cell-inputWrapper" tabindex="0">
<div class="jp-Collapser jp-InputCollapser jp-Cell-inputCollapser">
</div>
<div class="jp-InputArea jp-Cell-inputArea">
<div class="jp-InputPrompt jp-InputArea-prompt">In [112]:</div>
<div class="jp-CodeMirrorEditor jp-Editor jp-InputArea-editor" data-type="inline">
<div class="cm-editor cm-s-jupyter">
<div class="highlight hl-ipython3"><pre><span></span><span class="n">plt</span><span class="o">.</span><span class="n">plot</span><span class="p">(</span><span class="n">Salary</span><span class="p">[</span><span class="mi">0</span><span class="p">],</span><span class="n">ls</span><span class="o">=</span><span class="s1">'-'</span><span class="p">,</span><span class="n">color</span><span class="o">=</span><span class="s1">'black'</span><span class="p">)</span>
</pre></div>
</div>
</div>
</div>
</div>
<div class="jp-Cell-outputWrapper">
<div class="jp-Collapser jp-OutputCollapser jp-Cell-outputCollapser">
</div>
<div class="jp-OutputArea jp-Cell-outputArea">
<div class="jp-OutputArea-child jp-OutputArea-executeResult">
<div class="jp-OutputPrompt jp-OutputArea-prompt">Out[112]:</div>
<div class="jp-RenderedText jp-OutputArea-output jp-OutputArea-executeResult" data-mime-type="text/plain" tabindex="0">
<pre>[&lt;matplotlib.lines.Line2D at 0x159ca70bfe0&gt;]</pre>
</div>
</div>
<div class="jp-OutputArea-child">
<div class="jp-OutputPrompt jp-OutputArea-prompt"></div>
<div class="jp-RenderedImage jp-OutputArea-output" tabindex="0">
<img alt="No description has been provided for this image" class="" src="data:image/png;base64,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"/>
</div>
</div>
</div>
</div>
</div><div class="jp-Cell jp-CodeCell jp-Notebook-cell jp-mod-noOutputs" id="cell-id=0b38a69e-b924-49e9-88c3-9061401611f2">
<div class="jp-Cell-inputWrapper" tabindex="0">
<div class="jp-Collapser jp-InputCollapser jp-Cell-inputCollapser">
</div>
<div class="jp-InputArea jp-Cell-inputArea">
<div class="jp-InputPrompt jp-InputArea-prompt">In [116]:</div>
<div class="jp-CodeMirrorEditor jp-Editor jp-InputArea-editor" data-type="inline">
<div class="cm-editor cm-s-jupyter">
<div class="highlight hl-ipython3"><pre><span></span><span class="n">plt</span><span class="o">.</span><span class="n">rcParams</span><span class="p">[</span><span class="s1">'figure.figsize'</span><span class="p">]</span><span class="o">=</span><span class="mi">7</span><span class="p">,</span><span class="mi">3</span>
</pre></div>
</div>
</div>
</div>
</div>
</div><div class="jp-Cell jp-CodeCell jp-Notebook-cell" id="cell-id=befcfc54-49f4-4d77-87c5-5ffd5faee51e">
<div class="jp-Cell-inputWrapper" tabindex="0">
<div class="jp-Collapser jp-InputCollapser jp-Cell-inputCollapser">
</div>
<div class="jp-InputArea jp-Cell-inputArea">
<div class="jp-InputPrompt jp-InputArea-prompt">In [120]:</div>
<div class="jp-CodeMirrorEditor jp-Editor jp-InputArea-editor" data-type="inline">
<div class="cm-editor cm-s-jupyter">
<div class="highlight hl-ipython3"><pre><span></span><span class="n">plt</span><span class="o">.</span><span class="n">plot</span><span class="p">(</span><span class="n">Salary</span><span class="p">[</span><span class="mi">0</span><span class="p">],</span><span class="n">c</span><span class="o">=</span><span class="s1">'Blue'</span><span class="p">,</span> <span class="n">ls</span><span class="o">=</span> <span class="s1">'--'</span><span class="p">)</span>
</pre></div>
</div>
</div>
</div>
</div>
<div class="jp-Cell-outputWrapper">
<div class="jp-Collapser jp-OutputCollapser jp-Cell-outputCollapser">
</div>
<div class="jp-OutputArea jp-Cell-outputArea">
<div class="jp-OutputArea-child jp-OutputArea-executeResult">
<div class="jp-OutputPrompt jp-OutputArea-prompt">Out[120]:</div>
<div class="jp-RenderedText jp-OutputArea-output jp-OutputArea-executeResult" data-mime-type="text/plain" tabindex="0">
<pre>[&lt;matplotlib.lines.Line2D at 0x159ca7e3a70&gt;]</pre>
</div>
</div>
<div class="jp-OutputArea-child">
<div class="jp-OutputPrompt jp-OutputArea-prompt"></div>
<div class="jp-RenderedImage jp-OutputArea-output" tabindex="0">
<img alt="No description has been provided for this image" class="" src="data:image/png;base64,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"/>
</div>
</div>
</div>
</div>
</div><div class="jp-Cell jp-CodeCell jp-Notebook-cell" id="cell-id=0b8ae369-64ac-47c6-9ea7-d5899370994a">
<div class="jp-Cell-inputWrapper" tabindex="0">
<div class="jp-Collapser jp-InputCollapser jp-Cell-inputCollapser">
</div>
<div class="jp-InputArea jp-Cell-inputArea">
<div class="jp-InputPrompt jp-InputArea-prompt">In [124]:</div>
<div class="jp-CodeMirrorEditor jp-Editor jp-InputArea-editor" data-type="inline">
<div class="cm-editor cm-s-jupyter">
<div class="highlight hl-ipython3"><pre><span></span><span class="n">plt</span><span class="o">.</span><span class="n">plot</span><span class="p">(</span><span class="n">Salary</span><span class="p">[</span><span class="mi">0</span><span class="p">],</span><span class="n">c</span><span class="o">=</span><span class="s1">'black'</span><span class="p">,</span> <span class="n">ls</span><span class="o">=</span> <span class="s1">'--'</span><span class="p">,</span> <span class="n">marker</span><span class="o">=</span><span class="s1">'o'</span><span class="p">)</span>
</pre></div>
</div>
</div>
</div>
</div>
<div class="jp-Cell-outputWrapper">
<div class="jp-Collapser jp-OutputCollapser jp-Cell-outputCollapser">
</div>
<div class="jp-OutputArea jp-Cell-outputArea">
<div class="jp-OutputArea-child jp-OutputArea-executeResult">
<div class="jp-OutputPrompt jp-OutputArea-prompt">Out[124]:</div>
<div class="jp-RenderedText jp-OutputArea-output jp-OutputArea-executeResult" data-mime-type="text/plain" tabindex="0">
<pre>[&lt;matplotlib.lines.Line2D at 0x159ca27df40&gt;]</pre>
</div>
</div>
<div class="jp-OutputArea-child">
<div class="jp-OutputPrompt jp-OutputArea-prompt"></div>
<div class="jp-RenderedImage jp-OutputArea-output" tabindex="0">
<img alt="No description has been provided for this image" class="" src="data:image/png;base64,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"/>
</div>
</div>
</div>
</div>
</div><div class="jp-Cell jp-CodeCell jp-Notebook-cell" id="cell-id=ccc70e7d-876e-418e-b60f-23a2fe691cf7">
<div class="jp-Cell-inputWrapper" tabindex="0">
<div class="jp-Collapser jp-InputCollapser jp-Cell-inputCollapser">
</div>
<div class="jp-InputArea jp-Cell-inputArea">
<div class="jp-InputPrompt jp-InputArea-prompt">In [128]:</div>
<div class="jp-CodeMirrorEditor jp-Editor jp-InputArea-editor" data-type="inline">
<div class="cm-editor cm-s-jupyter">
<div class="highlight hl-ipython3"><pre><span></span><span class="n">plt</span><span class="o">.</span><span class="n">plot</span><span class="p">(</span><span class="n">Salary</span><span class="p">[</span><span class="mi">0</span><span class="p">],</span><span class="n">c</span><span class="o">=</span><span class="s1">'black'</span><span class="p">,</span> <span class="n">ls</span><span class="o">=</span> <span class="s1">'--'</span><span class="p">,</span> <span class="n">marker</span><span class="o">=</span><span class="s1">'8'</span><span class="p">)</span>
</pre></div>
</div>
</div>
</div>
</div>
<div class="jp-Cell-outputWrapper">
<div class="jp-Collapser jp-OutputCollapser jp-Cell-outputCollapser">
</div>
<div class="jp-OutputArea jp-Cell-outputArea">
<div class="jp-OutputArea-child jp-OutputArea-executeResult">
<div class="jp-OutputPrompt jp-OutputArea-prompt">Out[128]:</div>
<div class="jp-RenderedText jp-OutputArea-output jp-OutputArea-executeResult" data-mime-type="text/plain" tabindex="0">
<pre>[&lt;matplotlib.lines.Line2D at 0x159ca37c2c0&gt;]</pre>
</div>
</div>
<div class="jp-OutputArea-child">
<div class="jp-OutputPrompt jp-OutputArea-prompt"></div>
<div class="jp-RenderedImage jp-OutputArea-output" tabindex="0">
<img alt="No description has been provided for this image" class="" src="data:image/png;base64,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"/>
</div>
</div>
</div>
</div>
</div><div class="jp-Cell jp-CodeCell jp-Notebook-cell" id="cell-id=94554be0-dd8f-4ccf-8853-21f4037523e6">
<div class="jp-Cell-inputWrapper" tabindex="0">
<div class="jp-Collapser jp-InputCollapser jp-Cell-inputCollapser">
</div>
<div class="jp-InputArea jp-Cell-inputArea">
<div class="jp-InputPrompt jp-InputArea-prompt">In [130]:</div>
<div class="jp-CodeMirrorEditor jp-Editor jp-InputArea-editor" data-type="inline">
<div class="cm-editor cm-s-jupyter">
<div class="highlight hl-ipython3"><pre><span></span><span class="n">plt</span><span class="o">.</span><span class="n">plot</span><span class="p">(</span><span class="n">Salary</span><span class="p">[</span><span class="mi">0</span><span class="p">],</span><span class="n">c</span><span class="o">=</span><span class="s1">'black'</span><span class="p">,</span> <span class="n">ls</span><span class="o">=</span> <span class="s1">'--'</span><span class="p">,</span> <span class="n">marker</span><span class="o">=</span><span class="s1">'3'</span><span class="p">)</span>
</pre></div>
</div>
</div>
</div>
</div>
<div class="jp-Cell-outputWrapper">
<div class="jp-Collapser jp-OutputCollapser jp-Cell-outputCollapser">
</div>
<div class="jp-OutputArea jp-Cell-outputArea">
<div class="jp-OutputArea-child jp-OutputArea-executeResult">
<div class="jp-OutputPrompt jp-OutputArea-prompt">Out[130]:</div>
<div class="jp-RenderedText jp-OutputArea-output jp-OutputArea-executeResult" data-mime-type="text/plain" tabindex="0">
<pre>[&lt;matplotlib.lines.Line2D at 0x159ca3f0140&gt;]</pre>
</div>
</div>
<div class="jp-OutputArea-child">
<div class="jp-OutputPrompt jp-OutputArea-prompt"></div>
<div class="jp-RenderedImage jp-OutputArea-output" tabindex="0">
<img alt="No description has been provided for this image" class="" src="data:image/png;base64,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"/>
</div>
</div>
</div>
</div>
</div><div class="jp-Cell jp-CodeCell jp-Notebook-cell" id="cell-id=0ce5a41f-eb02-4d88-b517-52981fb3e66c">
<div class="jp-Cell-inputWrapper" tabindex="0">
<div class="jp-Collapser jp-InputCollapser jp-Cell-inputCollapser">
</div>
<div class="jp-InputArea jp-Cell-inputArea">
<div class="jp-InputPrompt jp-InputArea-prompt">In [138]:</div>
<div class="jp-CodeMirrorEditor jp-Editor jp-InputArea-editor" data-type="inline">
<div class="cm-editor cm-s-jupyter">
<div class="highlight hl-ipython3"><pre><span></span><span class="n">plt</span><span class="o">.</span><span class="n">plot</span><span class="p">(</span><span class="n">Salary</span><span class="p">[</span><span class="mi">0</span><span class="p">],</span><span class="n">c</span><span class="o">=</span><span class="s1">'black'</span><span class="p">,</span> <span class="n">ls</span><span class="o">=</span> <span class="s1">'--'</span><span class="p">,</span> <span class="n">marker</span><span class="o">=</span><span class="s1">'8'</span><span class="p">,</span> <span class="n">ms</span><span class="o">=</span><span class="mi">10</span><span class="p">)</span>
<span class="n">plt</span><span class="o">.</span><span class="n">show</span><span class="p">()</span>
</pre></div>
</div>
</div>
</div>
</div>
<div class="jp-Cell-outputWrapper">
<div class="jp-Collapser jp-OutputCollapser jp-Cell-outputCollapser">
</div>
<div class="jp-OutputArea jp-Cell-outputArea">
<div class="jp-OutputArea-child">
<div class="jp-OutputPrompt jp-OutputArea-prompt"></div>
<div class="jp-RenderedImage jp-OutputArea-output" tabindex="0">
<img alt="No description has been provided for this image" class="" src="data:image/png;base64,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"/>
</div>
</div>
</div>
</div>
</div><div class="jp-Cell jp-CodeCell jp-Notebook-cell" id="cell-id=cf03de86-7334-4e2f-9d52-a94f503acbe1">
<div class="jp-Cell-inputWrapper" tabindex="0">
<div class="jp-Collapser jp-InputCollapser jp-Cell-inputCollapser">
</div>
<div class="jp-InputArea jp-Cell-inputArea">
<div class="jp-InputPrompt jp-InputArea-prompt">In [142]:</div>
<div class="jp-CodeMirrorEditor jp-Editor jp-InputArea-editor" data-type="inline">
<div class="cm-editor cm-s-jupyter">
<div class="highlight hl-ipython3"><pre><span></span><span class="n">Pdict</span>
</pre></div>
</div>
</div>
</div>
</div>
<div class="jp-Cell-outputWrapper">
<div class="jp-Collapser jp-OutputCollapser jp-Cell-outputCollapser">
</div>
<div class="jp-OutputArea jp-Cell-outputArea">
<div class="jp-OutputArea-child jp-OutputArea-executeResult">
<div class="jp-OutputPrompt jp-OutputArea-prompt">Out[142]:</div>
<div class="jp-RenderedText jp-OutputArea-output jp-OutputArea-executeResult" data-mime-type="text/plain" tabindex="0">
<pre>{'Sachin': 0,
 'Rahul': 1,
 'Smith': 2,
 'Sami': 3,
 'Pollard': 4,
 'Morris': 5,
 'Samson': 6,
 'Dhoni': 7,
 'Kohli': 8,
 'Sky': 9}</pre>
</div>
</div>
</div>
</div>
</div><div class="jp-Cell jp-CodeCell jp-Notebook-cell" id="cell-id=5ed7783e-a05f-40e1-8f29-932b1bee20be">
<div class="jp-Cell-inputWrapper" tabindex="0">
<div class="jp-Collapser jp-InputCollapser jp-Cell-inputCollapser">
</div>
<div class="jp-InputArea jp-Cell-inputArea">
<div class="jp-InputPrompt jp-InputArea-prompt">In [144]:</div>
<div class="jp-CodeMirrorEditor jp-Editor jp-InputArea-editor" data-type="inline">
<div class="cm-editor cm-s-jupyter">
<div class="highlight hl-ipython3"><pre><span></span><span class="n">plt</span><span class="o">.</span><span class="n">plot</span><span class="p">(</span><span class="n">Salary</span><span class="p">[</span><span class="mi">0</span><span class="p">],</span><span class="n">c</span><span class="o">=</span><span class="s1">'black'</span><span class="p">,</span> <span class="n">ls</span><span class="o">=</span> <span class="s1">'--'</span><span class="p">,</span> <span class="n">marker</span><span class="o">=</span><span class="s1">'8'</span><span class="p">)</span>
<span class="n">plt</span><span class="o">.</span><span class="n">xticks</span><span class="p">(</span><span class="nb">list</span><span class="p">(</span><span class="nb">range</span><span class="p">(</span><span class="mi">0</span><span class="p">,</span><span class="mi">10</span><span class="p">)),</span><span class="n">Seasons</span><span class="p">)</span>
<span class="n">plt</span><span class="o">.</span><span class="n">show</span>
</pre></div>
</div>
</div>
</div>
</div>
<div class="jp-Cell-outputWrapper">
<div class="jp-Collapser jp-OutputCollapser jp-Cell-outputCollapser">
</div>
<div class="jp-OutputArea jp-Cell-outputArea">
<div class="jp-OutputArea-child jp-OutputArea-executeResult">
<div class="jp-OutputPrompt jp-OutputArea-prompt">Out[144]:</div>
<div class="jp-RenderedText jp-OutputArea-output jp-OutputArea-executeResult" data-mime-type="text/plain" tabindex="0">
<pre>&lt;function matplotlib.pyplot.show(close=None, block=None)&gt;</pre>
</div>
</div>
<div class="jp-OutputArea-child">
<div class="jp-OutputPrompt jp-OutputArea-prompt"></div>
<div class="jp-RenderedImage jp-OutputArea-output" tabindex="0">
<img alt="No description has been provided for this image" class="" src="data:image/png;base64,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"/>
</div>
</div>
</div>
</div>
</div><div class="jp-Cell jp-CodeCell jp-Notebook-cell" id="cell-id=89cf2b60-2a3b-4a42-9233-b5b869efbfb0">
<div class="jp-Cell-inputWrapper" tabindex="0">
<div class="jp-Collapser jp-InputCollapser jp-Cell-inputCollapser">
</div>
<div class="jp-InputArea jp-Cell-inputArea">
<div class="jp-InputPrompt jp-InputArea-prompt">In [148]:</div>
<div class="jp-CodeMirrorEditor jp-Editor jp-InputArea-editor" data-type="inline">
<div class="cm-editor cm-s-jupyter">
<div class="highlight hl-ipython3"><pre><span></span><span class="n">plt</span><span class="o">.</span><span class="n">plot</span><span class="p">(</span><span class="n">Salary</span><span class="p">[</span><span class="mi">0</span><span class="p">],</span><span class="n">c</span><span class="o">=</span><span class="s1">'black'</span><span class="p">,</span> <span class="n">ls</span><span class="o">=</span> <span class="s1">'--'</span><span class="p">,</span> <span class="n">marker</span><span class="o">=</span><span class="s1">'8'</span><span class="p">)</span>
<span class="n">plt</span><span class="o">.</span><span class="n">xticks</span><span class="p">(</span><span class="nb">list</span><span class="p">(</span><span class="nb">range</span><span class="p">(</span><span class="mi">0</span><span class="p">,</span><span class="mi">10</span><span class="p">)),</span><span class="n">Seasons</span><span class="p">,</span><span class="n">rotation</span><span class="o">=</span><span class="s1">'vertical'</span><span class="p">)</span>
<span class="n">plt</span><span class="o">.</span><span class="n">show</span>
</pre></div>
</div>
</div>
</div>
</div>
<div class="jp-Cell-outputWrapper">
<div class="jp-Collapser jp-OutputCollapser jp-Cell-outputCollapser">
</div>
<div class="jp-OutputArea jp-Cell-outputArea">
<div class="jp-OutputArea-child jp-OutputArea-executeResult">
<div class="jp-OutputPrompt jp-OutputArea-prompt">Out[148]:</div>
<div class="jp-RenderedText jp-OutputArea-output jp-OutputArea-executeResult" data-mime-type="text/plain" tabindex="0">
<pre>&lt;function matplotlib.pyplot.show(close=None, block=None)&gt;</pre>
</div>
</div>
<div class="jp-OutputArea-child">
<div class="jp-OutputPrompt jp-OutputArea-prompt"></div>
<div class="jp-RenderedImage jp-OutputArea-output" tabindex="0">
<img alt="No description has been provided for this image" class="" src="data:image/png;base64,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"/>
</div>
</div>
</div>
</div>
</div><div class="jp-Cell jp-CodeCell jp-Notebook-cell" id="cell-id=8170a7a5-6dfe-4bc0-b6b8-49a0671a0826">
<div class="jp-Cell-inputWrapper" tabindex="0">
<div class="jp-Collapser jp-InputCollapser jp-Cell-inputCollapser">
</div>
<div class="jp-InputArea jp-Cell-inputArea">
<div class="jp-InputPrompt jp-InputArea-prompt">In [188]:</div>
<div class="jp-CodeMirrorEditor jp-Editor jp-InputArea-editor" data-type="inline">
<div class="cm-editor cm-s-jupyter">
<div class="highlight hl-ipython3"><pre><span></span><span class="n">plt</span><span class="o">.</span><span class="n">plot</span><span class="p">(</span><span class="n">Salary</span><span class="p">[</span><span class="mi">0</span><span class="p">],</span><span class="n">c</span><span class="o">=</span><span class="s1">'black'</span><span class="p">,</span> <span class="n">ls</span><span class="o">=</span> <span class="s1">'--'</span><span class="p">,</span> <span class="n">marker</span><span class="o">=</span><span class="s1">'8'</span><span class="p">,</span><span class="n">label</span><span class="o">=</span><span class="n">Players</span><span class="p">[</span><span class="mi">0</span><span class="p">])</span>
<span class="n">plt</span><span class="o">.</span><span class="n">plot</span><span class="p">(</span><span class="n">Salary</span><span class="p">[</span><span class="mi">1</span><span class="p">],</span><span class="n">c</span><span class="o">=</span><span class="s1">'green'</span><span class="p">,</span> <span class="n">ls</span><span class="o">=</span> <span class="s1">'-'</span><span class="p">,</span> <span class="n">marker</span><span class="o">=</span><span class="s1">'4'</span><span class="p">,</span><span class="n">label</span><span class="o">=</span><span class="n">Players</span><span class="p">[</span><span class="mi">1</span><span class="p">])</span>
<span class="n">plt</span><span class="o">.</span><span class="n">plot</span><span class="p">(</span><span class="n">Salary</span><span class="p">[</span><span class="mi">2</span><span class="p">],</span><span class="n">c</span><span class="o">=</span><span class="s1">'blue'</span><span class="p">,</span> <span class="n">ls</span><span class="o">=</span> <span class="s1">'-'</span><span class="p">,</span> <span class="n">marker</span><span class="o">=</span><span class="s1">'8'</span><span class="p">,</span><span class="n">label</span><span class="o">=</span><span class="n">Players</span><span class="p">[</span><span class="mi">2</span><span class="p">])</span>

<span class="n">plt</span><span class="o">.</span><span class="n">legend</span><span class="p">()</span>
<span class="n">plt</span><span class="o">.</span><span class="n">xticks</span><span class="p">(</span><span class="nb">list</span><span class="p">(</span><span class="nb">range</span><span class="p">(</span><span class="mi">0</span><span class="p">,</span><span class="mi">10</span><span class="p">)),</span><span class="n">Seasons</span><span class="p">,</span> <span class="n">rotation</span><span class="o">=</span><span class="s1">'horizontal'</span><span class="p">)</span>
<span class="n">plt</span><span class="o">.</span><span class="n">show</span>
</pre></div>
</div>
</div>
</div>
</div>
<div class="jp-Cell-outputWrapper">
<div class="jp-Collapser jp-OutputCollapser jp-Cell-outputCollapser">
</div>
<div class="jp-OutputArea jp-Cell-outputArea">
<div class="jp-OutputArea-child jp-OutputArea-executeResult">
<div class="jp-OutputPrompt jp-OutputArea-prompt">Out[188]:</div>
<div class="jp-RenderedText jp-OutputArea-output jp-OutputArea-executeResult" data-mime-type="text/plain" tabindex="0">
<pre>&lt;function matplotlib.pyplot.show(close=None, block=None)&gt;</pre>
</div>
</div>
<div class="jp-OutputArea-child">
<div class="jp-OutputPrompt jp-OutputArea-prompt"></div>
<div class="jp-RenderedImage jp-OutputArea-output" tabindex="0">
<img alt="No description has been provided for this image" class="" src="data:image/png;base64,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"/>
</div>
</div>
</div>
</div>
</div><div class="jp-Cell jp-CodeCell jp-Notebook-cell" id="cell-id=0aaa09f8-fdb1-4ce9-8e52-a6bfc3d8f503">
<div class="jp-Cell-inputWrapper" tabindex="0">
<div class="jp-Collapser jp-InputCollapser jp-Cell-inputCollapser">
</div>
<div class="jp-InputArea jp-Cell-inputArea">
<div class="jp-InputPrompt jp-InputArea-prompt">In [192]:</div>
<div class="jp-CodeMirrorEditor jp-Editor jp-InputArea-editor" data-type="inline">
<div class="cm-editor cm-s-jupyter">
<div class="highlight hl-ipython3"><pre><span></span><span class="n">plt</span><span class="o">.</span><span class="n">plot</span><span class="p">(</span><span class="n">Salary</span><span class="p">[</span><span class="mi">0</span><span class="p">],</span><span class="n">c</span><span class="o">=</span><span class="s1">'black'</span><span class="p">,</span> <span class="n">ls</span><span class="o">=</span> <span class="s1">'--'</span><span class="p">,</span> <span class="n">marker</span><span class="o">=</span><span class="s1">'8'</span><span class="p">,</span><span class="n">label</span><span class="o">=</span><span class="n">Players</span><span class="p">[</span><span class="mi">0</span><span class="p">])</span>
<span class="n">plt</span><span class="o">.</span><span class="n">plot</span><span class="p">(</span><span class="n">Salary</span><span class="p">[</span><span class="mi">1</span><span class="p">],</span><span class="n">c</span><span class="o">=</span><span class="s1">'green'</span><span class="p">,</span> <span class="n">ls</span><span class="o">=</span> <span class="s1">'-'</span><span class="p">,</span> <span class="n">marker</span><span class="o">=</span><span class="s1">'4'</span><span class="p">,</span><span class="n">label</span><span class="o">=</span><span class="n">Players</span><span class="p">[</span><span class="mi">1</span><span class="p">])</span>
<span class="n">plt</span><span class="o">.</span><span class="n">plot</span><span class="p">(</span><span class="n">Salary</span><span class="p">[</span><span class="mi">2</span><span class="p">],</span><span class="n">c</span><span class="o">=</span><span class="s1">'blue'</span><span class="p">,</span> <span class="n">ls</span><span class="o">=</span> <span class="s1">'-'</span><span class="p">,</span> <span class="n">marker</span><span class="o">=</span><span class="s1">'8'</span><span class="p">,</span><span class="n">label</span><span class="o">=</span><span class="n">Players</span><span class="p">[</span><span class="mi">2</span><span class="p">])</span>
<span class="n">plt</span><span class="o">.</span><span class="n">plot</span><span class="p">(</span><span class="n">Salary</span><span class="p">[</span><span class="mi">3</span><span class="p">],</span><span class="n">c</span><span class="o">=</span><span class="s1">'magenta'</span><span class="p">,</span> <span class="n">ls</span><span class="o">=</span> <span class="s1">'-'</span><span class="p">,</span> <span class="n">marker</span><span class="o">=</span><span class="s1">'8'</span><span class="p">,</span><span class="n">label</span><span class="o">=</span><span class="n">Players</span><span class="p">[</span><span class="mi">3</span><span class="p">])</span>
<span class="n">plt</span><span class="o">.</span><span class="n">plot</span><span class="p">(</span><span class="n">Salary</span><span class="p">[</span><span class="mi">4</span><span class="p">],</span><span class="n">c</span><span class="o">=</span><span class="s1">'yellow'</span><span class="p">,</span> <span class="n">ls</span><span class="o">=</span> <span class="s1">'-'</span><span class="p">,</span> <span class="n">marker</span><span class="o">=</span><span class="s1">'8'</span><span class="p">,</span><span class="n">label</span><span class="o">=</span><span class="n">Players</span><span class="p">[</span><span class="mi">4</span><span class="p">])</span>
<span class="n">plt</span><span class="o">.</span><span class="n">plot</span><span class="p">(</span><span class="n">Salary</span><span class="p">[</span><span class="mi">5</span><span class="p">],</span><span class="n">c</span><span class="o">=</span><span class="s1">'white'</span><span class="p">,</span> <span class="n">ls</span><span class="o">=</span> <span class="s1">'-'</span><span class="p">,</span> <span class="n">marker</span><span class="o">=</span><span class="s1">'8'</span><span class="p">,</span><span class="n">label</span><span class="o">=</span><span class="n">Players</span><span class="p">[</span><span class="mi">5</span><span class="p">])</span>

<span class="n">plt</span><span class="o">.</span><span class="n">legend</span><span class="p">()</span>
<span class="n">plt</span><span class="o">.</span><span class="n">xticks</span><span class="p">(</span><span class="nb">list</span><span class="p">(</span><span class="nb">range</span><span class="p">(</span><span class="mi">0</span><span class="p">,</span><span class="mi">10</span><span class="p">)),</span><span class="n">Seasons</span><span class="p">,</span> <span class="n">rotation</span><span class="o">=</span><span class="s1">'horizontal'</span><span class="p">)</span>
<span class="n">plt</span><span class="o">.</span><span class="n">show</span>
</pre></div>
</div>
</div>
</div>
</div>
<div class="jp-Cell-outputWrapper">
<div class="jp-Collapser jp-OutputCollapser jp-Cell-outputCollapser">
</div>
<div class="jp-OutputArea jp-Cell-outputArea">
<div class="jp-OutputArea-child jp-OutputArea-executeResult">
<div class="jp-OutputPrompt jp-OutputArea-prompt">Out[192]:</div>
<div class="jp-RenderedText jp-OutputArea-output jp-OutputArea-executeResult" data-mime-type="text/plain" tabindex="0">
<pre>&lt;function matplotlib.pyplot.show(close=None, block=None)&gt;</pre>
</div>
</div>
<div class="jp-OutputArea-child">
<div class="jp-OutputPrompt jp-OutputArea-prompt"></div>
<div class="jp-RenderedImage jp-OutputArea-output" tabindex="0">
<img alt="No description has been provided for this image" class="" src="data:image/png;base64,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"/>
</div>
</div>
</div>
</div>
</div><div class="jp-Cell jp-CodeCell jp-Notebook-cell jp-mod-noOutputs" id="cell-id=d7172b00-a717-4dc5-bae6-00910234163b">
<div class="jp-Cell-inputWrapper" tabindex="0">
<div class="jp-Collapser jp-InputCollapser jp-Cell-inputCollapser">
</div>
<div class="jp-InputArea jp-Cell-inputArea">
<div class="jp-InputPrompt jp-InputArea-prompt">In [ ]:</div>
<div class="jp-CodeMirrorEditor jp-Editor jp-InputArea-editor" data-type="inline">
<div class="cm-editor cm-s-jupyter">
<div class="highlight hl-ipython3"><pre><span></span> 
</pre></div>
</div>
</div>
</div>
</div>
</div>
</main>
</body>
</html>
